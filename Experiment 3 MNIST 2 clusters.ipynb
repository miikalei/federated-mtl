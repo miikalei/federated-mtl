{
 "cells": [
  {
   "cell_type": "code",
   "execution_count": 1,
   "metadata": {},
   "outputs": [],
   "source": [
    "# Import MNIST dataset\n",
    "# Generate empirical graph with 2 clusters\n",
    "# For n in [2,4,10,20,40,100,200]\n",
    "# Divide the data\n",
    "# Modify the data in the second cluster\n",
    "# Initialize commonly the models\n",
    "# Run our algorithm\n",
    "# First centralized, then noncentralized (the same thing for us?)\n",
    "# Compare the result with global single converer (with wall time the same)"
   ]
  },
  {
   "cell_type": "code",
   "execution_count": 2,
   "metadata": {},
   "outputs": [],
   "source": [
    "import torch\n",
    "import torch.nn as nn\n",
    "import torch.nn.functional as F\n",
    "import torch.optim as optim\n",
    "import torchvision\n",
    "import matplotlib.pyplot as plt\n",
    "import numpy as np\n",
    "from itertools import cycle\n",
    "import random\n",
    "%config InlineBackend.figure_format = 'retina'\n",
    "DEVICE = \"cuda\" # or \"cpu\"\n",
    "from tqdm.notebook import tqdm"
   ]
  },
  {
   "cell_type": "markdown",
   "metadata": {},
   "source": [
    "# Load and normalize the MNIST data"
   ]
  },
  {
   "cell_type": "code",
   "execution_count": 3,
   "metadata": {},
   "outputs": [
    {
     "name": "stdout",
     "output_type": "stream",
     "text": [
      "Mean pixel is 0.13066047430038452  and std is 0.30810782313346863\n"
     ]
    }
   ],
   "source": [
    "#Download the datasets\n",
    "dataset_train = torchvision.datasets.MNIST('../data', train=True, download=True,transform=torchvision.transforms.ToTensor())\n",
    "dataset_test = torchvision.datasets.MNIST('../data', train=False, download=True,transform=torchvision.transforms.ToTensor())\n",
    "# For normalization, get mean and std of the training dataset\n",
    "train_loader = torch.utils.data.DataLoader(dataset_train, batch_size=len(dataset_train))\n",
    "data = next(iter(train_loader))[0]\n",
    "mean, std = data.mean().item(), data.std().item()\n",
    "print(\"Mean pixel is\",mean,\" and std is\",std)\n",
    "\n",
    "# Now we can load the dataset with normalizing transformation\n",
    "transform = torchvision.transforms.Compose([\n",
    "    torchvision.transforms.ToTensor(),\n",
    "    torchvision.transforms.Normalize((mean,),(std,))\n",
    "])\n",
    "dataset_train.transform = transform\n",
    "dataset_test.transform = transform"
   ]
  },
  {
   "cell_type": "code",
   "execution_count": 4,
   "metadata": {},
   "outputs": [
    {
     "data": {
      "image/png": "[encoded data removed]",
      "text/plain": [
       "<Figure size 432x288 with 1 Axes>"
      ]
     },
     "metadata": {
      "image/png": {
       "height": 248,
       "width": 251
      },
      "needs_background": "light"
     },
     "output_type": "display_data"
    }
   ],
   "source": [
    "def showimg(tensor):\n",
    "    plt.imshow(tensor.reshape(28,28))\n",
    "showimg(dataset_train[3][0]); # plt.imshow does a min-max normalization, so it always looks the same"
   ]
  },
  {
   "cell_type": "markdown",
   "metadata": {},
   "source": [
    "# Generate the empirical graph with 2 clusters using the stochastic graph model"
   ]
  },
  {
   "cell_type": "code",
   "execution_count": 5,
   "metadata": {},
   "outputs": [
    {
     "name": "stdout",
     "output_type": "stream",
     "text": [
      "[[0. 3. 0. 0. 0. 0.]\n",
      " [3. 0. 3. 0. 0. 1.]\n",
      " [0. 3. 0. 0. 1. 1.]\n",
      " [0. 0. 0. 0. 3. 0.]\n",
      " [0. 0. 1. 3. 0. 3.]\n",
      " [0. 1. 1. 0. 3. 0.]]\n"
     ]
    }
   ],
   "source": [
    "from graspologic.simulations import sbm\n",
    "\n",
    "# Return the adjacency matrix (as numpy.ndarray), where elements are the link strengths\n",
    "def getAfromSBM(n1=5, n2=5, p_in=0.5, p_out=0.1, mu_in=8, mu_out=2):\n",
    "    n = [n1,n2]\n",
    "    p = [[p_in, p_out], [p_out, p_in]]\n",
    "    wt = [[np.random.normal,np.random.normal], [np.random.normal, np.random.normal]]\n",
    "    wtargs = [[dict(loc=mu_in, scale=0), dict(loc=mu_out, scale=0)],\n",
    "              [dict(loc=mu_out,scale=0), dict(loc=mu_in,  scale=0)]]\n",
    "    A = sbm(n=n, p=p, wt=wt, wtargs=wtargs)\n",
    "    return A\n",
    "\n",
    "# For example\n",
    "print(getAfromSBM(3,3,0.5,0.3,3,1))\n",
    "# Note: A is always symmetric, has no self-loops"
   ]
  },
  {
   "cell_type": "markdown",
   "metadata": {},
   "source": [
    "# Define the model and divide + transform the MNIST data"
   ]
  },
  {
   "cell_type": "code",
   "execution_count": 6,
   "metadata": {},
   "outputs": [],
   "source": [
    "class Net(nn.Module):\n",
    "    def __init__(self):\n",
    "        super(Net, self).__init__()\n",
    "        self.conv1 = nn.Conv2d(1, 32, 3, 1)\n",
    "        self.conv2 = nn.Conv2d(32, 64, 3, 1)\n",
    "        self.dropout1 = nn.Dropout(0.25)\n",
    "        self.dropout2 = nn.Dropout(0.5)\n",
    "        self.fc1 = nn.Linear(9216, 128)\n",
    "        self.fc2 = nn.Linear(128, 10)\n",
    "\n",
    "    def forward(self, x):\n",
    "        x = self.conv1(x)\n",
    "        x = F.relu(x)\n",
    "        x = self.conv2(x)\n",
    "        x = F.relu(x)\n",
    "        x = F.max_pool2d(x, 2)\n",
    "        x = self.dropout1(x)\n",
    "        x = torch.flatten(x, 1)\n",
    "        x = self.fc1(x)\n",
    "        x = F.relu(x)\n",
    "        x = self.dropout2(x)\n",
    "        x = self.fc2(x)\n",
    "        output = F.log_softmax(x, dim=1)\n",
    "        return output"
   ]
  },
  {
   "cell_type": "code",
   "execution_count": 7,
   "metadata": {},
   "outputs": [],
   "source": [
    "# Custom class to apply the transformation only to the other half\n",
    "class MapDataset(torch.utils.data.Dataset):\n",
    "    \"\"\"\n",
    "    Given a dataset, creates a dataset which applies a mapping function\n",
    "    to its items (lazily, only when an item is called).\n",
    "    \n",
    "    Note that the data is not cloned/copied from the initial dataset\"\"\"\n",
    "    def __init__(self, dataset, map_fn):\n",
    "        self.dataset = dataset\n",
    "        self.map = map_fn\n",
    "    \n",
    "    def __getitem__(self, index):\n",
    "        # Apply the given function (self.map) only to the feature, not the label\n",
    "        return (self.map(self.dataset[index][0]), self.dataset[index][1])\n",
    "    \n",
    "    def __len__(self):\n",
    "        return len(self.dataset)\n",
    "    \n",
    "def sizes(num,div):\n",
    "    return [num // div + (1 if x < num % div else 0) for x in range(div)]\n",
    "\n",
    "def rotation_transform(img):\n",
    "    return torch.rot90(img,1,[-1,-2])\n",
    "\n",
    "def initialize_learners(n_learners=10,n_training_data=60000):\n",
    "    #n_learners = 10 # learners in the first cluster are 0,1,2,3,4; in the second cluster 5,6,7,8,9\n",
    "    n1 = n_learners // 2\n",
    "    n2 = n_learners - n1\n",
    "    n1_list = range(n1)\n",
    "    n2_list = range(n1,n2)\n",
    "    # divide the data evenly to n_learners, apply rotation_transform to the second half of datasets\n",
    "    dataset_sizes = sizes(n_training_data, n_learners) + [60000 - n_training_data]\n",
    "    datasets = torch.utils.data.random_split(dataset_train,dataset_sizes)[:-1] # drop the last one, holding the unused data\n",
    "    datasets = [dataset if n in n1_list else MapDataset(dataset, rotation_transform) for (n,dataset) in enumerate(datasets)]\n",
    "    dataloaders = [torch.utils.data.DataLoader(datasets[i], batch_size = 256) for i in range(n_learners)]\n",
    "    testloader = torch.utils.data.DataLoader(dataset_test, batch_size = 256)\n",
    "\n",
    "    # Initialize the models\n",
    "    models = [Net().to(DEVICE) for i in range(n_learners)]\n",
    "    # Copy the initialization from model 0 to all others\n",
    "    for i in range(1,n_learners):\n",
    "        models[i].load_state_dict(models[0].state_dict())\n",
    "    return dataloaders, testloader, models\n",
    "\n",
    "def L2(local, neighbor):\n",
    "    return torch.norm(local - neighbor)\n",
    "\n",
    "def L2_squared(local, neighbor):\n",
    "    #return torch.norm(local - neighbor).pow(2)\n",
    "    return (local - neighbor).pow(2).sum()\n",
    "\n",
    "def pi_1(tensor):\n",
    "    mask = torch.cat([torch.ones(18816,device=DEVICE),torch.zeros(1181066,device=DEVICE)])\n",
    "    return tensor * mask\n",
    "\n",
    "def pi_2(tensor):\n",
    "    mask = torch.cat([torch.zeros(18816,device=DEVICE),torch.ones(1181066,device=DEVICE)])\n",
    "    return tensor * mask\n",
    "\n",
    "def L2_early(local,neighbor):\n",
    "    return torch.norm(pi_1(local)-pi_1(neighbor))\n",
    "\n",
    "def L2_early_squared(local,neighbor):\n",
    "    return torch.norm(pi_1(local)-pi_1(neighbor)).pow(2)"
   ]
  },
  {
   "cell_type": "markdown",
   "metadata": {},
   "source": [
    "# Define the local learning step and testing procedure"
   ]
  },
  {
   "cell_type": "code",
   "execution_count": 8,
   "metadata": {},
   "outputs": [],
   "source": [
    "# Takes a single optimizer step. Note that the optimizer state is updated.\n",
    "def train_single_step(model, dataiter, optimizer, neighbor_thetas, neighbor_weights, lambd=0, g=L2_squared):\n",
    "    model.train() # Change into training mode (matters for dropout, at least)\n",
    "    data, target = next(dataiter)\n",
    "    data, target = data.to(DEVICE), target.to(DEVICE)\n",
    "    optimizer.zero_grad()\n",
    "    # First, compute the local loss\n",
    "    output = model(data)\n",
    "    loss = F.nll_loss(output, target)\n",
    "    # Then add the parameter differences\n",
    "    local_theta = torch.nn.utils.parameters_to_vector(model.parameters())\n",
    "    for i in range(len(neighbor_thetas)):\n",
    "        loss += lambd * neighbor_weights[i] * g(local_theta, neighbor_thetas[i])\n",
    "    loss.backward()\n",
    "    optimizer.step()\n",
    "    return loss.item()"
   ]
  },
  {
   "cell_type": "code",
   "execution_count": 9,
   "metadata": {},
   "outputs": [],
   "source": [
    "def test(model, testloader, verbose=True):\n",
    "    model.eval() #Change to evalution mode\n",
    "    test_loss = 0\n",
    "    correct = 0\n",
    "    with torch.no_grad():\n",
    "        for data, target in testloader:\n",
    "            data, target = data.to(DEVICE), target.to(DEVICE)\n",
    "            output=model(data)\n",
    "            test_loss += F.nll_loss(output, target, reduction='sum').item() # sum of the batch loss\n",
    "            pred = output.argmax(dim=1, keepdim=True)\n",
    "            correct += pred.eq(target.view_as(pred)).sum().item() # Number of correct guesses\n",
    "    test_loss /= len(testloader.dataset) # Mean loss (divided by the size of the whole test set)\n",
    "    \n",
    "    if verbose: print('\\nTest set: Average loss: {:.4f}, Accuracy: {}/{} ({:.0f}%)\\n'.format(\n",
    "        test_loss, correct, len(testloader.dataset), 100. * correct / len(testloader.dataset)))\n",
    "    # Return both loss value and test accuracy\n",
    "    return test_loss, correct / len(testloader.dataset)"
   ]
  },
  {
   "cell_type": "code",
   "execution_count": 10,
   "metadata": {},
   "outputs": [],
   "source": [
    "def compute_L(models, dataloaders, A, lambd=0, g=L2_squared):\n",
    "    L_loss = 0\n",
    "    L_reg = 0\n",
    "    with torch.no_grad():\n",
    "        for i in range(len(models)):\n",
    "            models[i].eval()\n",
    "            loss, _ = test(models[i], dataloaders[i], verbose=False)\n",
    "            L_loss += loss\n",
    "            neighbor_indices = np.nonzero(A[i])[0]\n",
    "            local_theta = torch.nn.utils.parameters_to_vector(models[i].parameters())\n",
    "            for index in neighbor_indices:\n",
    "                neighbor_theta = torch.nn.utils.parameters_to_vector(models[index].parameters()).detach()\n",
    "                L_reg += 0.5 * lambd * A[i][index] * g(local_theta, neighbor_theta).item()\n",
    "                # 0.5 because each edge is counted twice this way\n",
    "    return L_loss, L_reg\n",
    "\n",
    "def print_memory():\n",
    "    print(\"Total:\",torch.cuda.get_device_properties(0).total_memory)\n",
    "    print(\"Allocated:\",torch.cuda.memory_allocated(0))\n",
    "    print(\"Reserved:\",torch.cuda.memory_allocated(0))"
   ]
  },
  {
   "cell_type": "markdown",
   "metadata": {},
   "source": [
    "# Define the optimization algorithm"
   ]
  },
  {
   "cell_type": "code",
   "execution_count": 11,
   "metadata": {
    "scrolled": true
   },
   "outputs": [],
   "source": [
    "def run_experiment(n_learners=10, n_iterations=10000, lambd=0.1, last_only=False, compute_L_flag=False,\n",
    "                   p_in=1, p_out=1, verbose=False, g=L2_squared, n_training_data=60000):\n",
    "    n1 = n_learners // 2\n",
    "    n2 = n_learners - n1\n",
    "    # Create a 2-cluster graph with all edges having weight 1\n",
    "    A = getAfromSBM(n1, n2, p_in=p_in, p_out=p_out, mu_in=1, mu_out=1)\n",
    "    \n",
    "    dataloaders, testloader, models = initialize_learners(n_learners, n_training_data)\n",
    "    \n",
    "    # Create optimizers to hold the state of one model\n",
    "    optimizers = [torch.optim.Adam(models[i].parameters()) for i in range(n_learners)]\n",
    "    \n",
    "    # Load batches infinitely in the same cycle (could update to resample a new loader after one epoch, but this is ok.)\n",
    "    dataiters = [cycle(dataloader) for dataloader in dataloaders]\n",
    "    \n",
    "    results = []\n",
    "    for i in tqdm(range(n_iterations)):\n",
    "        # Choose a random learner (single one for now)\n",
    "        k = random.randrange(n_learners)\n",
    "        # Work out all the neighbors and the model states of the neighbors\n",
    "        neighbor_indices = np.nonzero(A[k])[0]\n",
    "        neighbor_weights = A[k][neighbor_indices]\n",
    "        neighbor_thetas = []\n",
    "        for index in neighbor_indices:\n",
    "            neighbor_thetas.append(torch.nn.utils.parameters_to_vector(models[index].parameters()).detach())\n",
    "\n",
    "        # Take the local step (except the first time)\n",
    "        if i!= 0: train_single_step(models[k], dataiters[k], optimizers[k], neighbor_thetas, neighbor_weights, lambd,g=g)\n",
    "\n",
    "        # At some timepoints, calculate losses and accuracies and add to results\n",
    "        # If last_only is True, then only do this at the last timestep.\n",
    "        if ((not last_only) and i % 100 == 0) or (last_only and i == n_iterations-1):\n",
    "            if verbose: print(\"Iteration\",i,\":\")\n",
    "            train_loss, train_accuracy = test(models[0], dataloaders[0])\n",
    "            test_loss, test_accuracy = test(models[0], testloader)\n",
    "            if compute_L_flag:\n",
    "                L_loss, L_reg = compute_L(models, dataloaders, A, lambd, g=g)\n",
    "            else:\n",
    "                L_loss, L_reg = 0, 0\n",
    "            results.append((train_loss, train_accuracy, test_loss, test_accuracy,L_loss, L_reg))\n",
    "    return results"
   ]
  },
  {
   "cell_type": "markdown",
   "metadata": {},
   "source": [
    "# Run the experiment n=2 with lambda=1"
   ]
  },
  {
   "cell_type": "code",
   "execution_count": 31,
   "metadata": {
    "scrolled": true
   },
   "outputs": [
    {
     "data": {
      "application/vnd.jupyter.widget-view+json": {
       "model_id": "8f39ccfad4b54c7589f2e56ae27d4559",
       "version_major": 2,
       "version_minor": 0
      },
      "text/plain": [
       "HBox(children=(HTML(value=''), FloatProgress(value=0.0, max=10000.0), HTML(value='')))"
      ]
     },
     "metadata": {},
     "output_type": "display_data"
    },
    {
     "name": "stdout",
     "output_type": "stream",
     "text": [
      "\n",
      "Test set: Average loss: 2.3067, Accuracy: 3680/30000 (12%)\n",
      "\n",
      "\n",
      "Test set: Average loss: 2.3062, Accuracy: 1200/10000 (12%)\n",
      "\n",
      "\n",
      "Test set: Average loss: 0.3404, Accuracy: 26961/30000 (90%)\n",
      "\n",
      "\n",
      "Test set: Average loss: 0.3198, Accuracy: 9054/10000 (91%)\n",
      "\n",
      "\n",
      "Test set: Average loss: 0.1758, Accuracy: 28457/30000 (95%)\n",
      "\n",
      "\n",
      "Test set: Average loss: 0.1715, Accuracy: 9502/10000 (95%)\n",
      "\n",
      "\n",
      "Test set: Average loss: 0.1294, Accuracy: 28875/30000 (96%)\n",
      "\n",
      "\n",
      "Test set: Average loss: 0.1299, Accuracy: 9623/10000 (96%)\n",
      "\n",
      "\n",
      "Test set: Average loss: 0.0958, Accuracy: 29163/30000 (97%)\n",
      "\n",
      "\n",
      "Test set: Average loss: 0.1025, Accuracy: 9677/10000 (97%)\n",
      "\n",
      "\n",
      "Test set: Average loss: 0.0782, Accuracy: 29290/30000 (98%)\n",
      "\n",
      "\n",
      "Test set: Average loss: 0.0841, Accuracy: 9727/10000 (97%)\n",
      "\n",
      "\n",
      "Test set: Average loss: 0.0672, Accuracy: 29373/30000 (98%)\n",
      "\n",
      "\n",
      "Test set: Average loss: 0.0766, Accuracy: 9742/10000 (97%)\n",
      "\n",
      "\n",
      "Test set: Average loss: 0.0604, Accuracy: 29454/30000 (98%)\n",
      "\n",
      "\n",
      "Test set: Average loss: 0.0693, Accuracy: 9773/10000 (98%)\n",
      "\n",
      "\n",
      "Test set: Average loss: 0.0557, Accuracy: 29483/30000 (98%)\n",
      "\n",
      "\n",
      "Test set: Average loss: 0.0663, Accuracy: 9787/10000 (98%)\n",
      "\n",
      "\n",
      "Test set: Average loss: 0.0510, Accuracy: 29524/30000 (98%)\n",
      "\n",
      "\n",
      "Test set: Average loss: 0.0588, Accuracy: 9799/10000 (98%)\n",
      "\n",
      "\n",
      "Test set: Average loss: 0.0480, Accuracy: 29553/30000 (99%)\n",
      "\n",
      "\n",
      "Test set: Average loss: 0.0596, Accuracy: 9804/10000 (98%)\n",
      "\n",
      "\n",
      "Test set: Average loss: 0.0448, Accuracy: 29612/30000 (99%)\n",
      "\n",
      "\n",
      "Test set: Average loss: 0.0573, Accuracy: 9802/10000 (98%)\n",
      "\n",
      "\n",
      "Test set: Average loss: 0.0405, Accuracy: 29637/30000 (99%)\n",
      "\n",
      "\n",
      "Test set: Average loss: 0.0550, Accuracy: 9808/10000 (98%)\n",
      "\n",
      "\n",
      "Test set: Average loss: 0.0342, Accuracy: 29694/30000 (99%)\n",
      "\n",
      "\n",
      "Test set: Average loss: 0.0504, Accuracy: 9831/10000 (98%)\n",
      "\n",
      "\n",
      "Test set: Average loss: 0.0359, Accuracy: 29672/30000 (99%)\n",
      "\n",
      "\n",
      "Test set: Average loss: 0.0492, Accuracy: 9844/10000 (98%)\n",
      "\n",
      "\n",
      "Test set: Average loss: 0.0372, Accuracy: 29693/30000 (99%)\n",
      "\n",
      "\n",
      "Test set: Average loss: 0.0533, Accuracy: 9821/10000 (98%)\n",
      "\n",
      "\n",
      "Test set: Average loss: 0.0316, Accuracy: 29722/30000 (99%)\n",
      "\n",
      "\n",
      "Test set: Average loss: 0.0508, Accuracy: 9828/10000 (98%)\n",
      "\n",
      "\n",
      "Test set: Average loss: 0.0310, Accuracy: 29717/30000 (99%)\n",
      "\n",
      "\n",
      "Test set: Average loss: 0.0524, Accuracy: 9826/10000 (98%)\n",
      "\n",
      "\n",
      "Test set: Average loss: 0.0290, Accuracy: 29757/30000 (99%)\n",
      "\n",
      "\n",
      "Test set: Average loss: 0.0470, Accuracy: 9838/10000 (98%)\n",
      "\n",
      "\n",
      "Test set: Average loss: 0.0245, Accuracy: 29790/30000 (99%)\n",
      "\n",
      "\n",
      "Test set: Average loss: 0.0416, Accuracy: 9860/10000 (99%)\n",
      "\n",
      "\n",
      "Test set: Average loss: 0.0237, Accuracy: 29805/30000 (99%)\n",
      "\n",
      "\n",
      "Test set: Average loss: 0.0446, Accuracy: 9846/10000 (98%)\n",
      "\n",
      "\n",
      "Test set: Average loss: 0.0216, Accuracy: 29832/30000 (99%)\n",
      "\n",
      "\n",
      "Test set: Average loss: 0.0425, Accuracy: 9851/10000 (99%)\n",
      "\n",
      "\n",
      "Test set: Average loss: 0.0214, Accuracy: 29831/30000 (99%)\n",
      "\n",
      "\n",
      "Test set: Average loss: 0.0422, Accuracy: 9852/10000 (99%)\n",
      "\n",
      "\n",
      "Test set: Average loss: 0.0206, Accuracy: 29829/30000 (99%)\n",
      "\n",
      "\n",
      "Test set: Average loss: 0.0436, Accuracy: 9850/10000 (98%)\n",
      "\n",
      "\n",
      "Test set: Average loss: 0.0197, Accuracy: 29848/30000 (99%)\n",
      "\n",
      "\n",
      "Test set: Average loss: 0.0407, Accuracy: 9862/10000 (99%)\n",
      "\n",
      "\n",
      "Test set: Average loss: 0.0207, Accuracy: 29822/30000 (99%)\n",
      "\n",
      "\n",
      "Test set: Average loss: 0.0468, Accuracy: 9839/10000 (98%)\n",
      "\n",
      "\n",
      "Test set: Average loss: 0.0185, Accuracy: 29843/30000 (99%)\n",
      "\n",
      "\n",
      "Test set: Average loss: 0.0422, Accuracy: 9857/10000 (99%)\n",
      "\n",
      "\n",
      "Test set: Average loss: 0.0175, Accuracy: 29851/30000 (100%)\n",
      "\n",
      "\n",
      "Test set: Average loss: 0.0441, Accuracy: 9859/10000 (99%)\n",
      "\n",
      "\n",
      "Test set: Average loss: 0.0153, Accuracy: 29870/30000 (100%)\n",
      "\n",
      "\n",
      "Test set: Average loss: 0.0415, Accuracy: 9862/10000 (99%)\n",
      "\n",
      "\n",
      "Test set: Average loss: 0.0161, Accuracy: 29860/30000 (100%)\n",
      "\n",
      "\n",
      "Test set: Average loss: 0.0445, Accuracy: 9850/10000 (98%)\n",
      "\n",
      "\n",
      "Test set: Average loss: 0.0166, Accuracy: 29852/30000 (100%)\n",
      "\n",
      "\n",
      "Test set: Average loss: 0.0449, Accuracy: 9851/10000 (99%)\n",
      "\n",
      "\n",
      "Test set: Average loss: 0.0144, Accuracy: 29873/30000 (100%)\n",
      "\n",
      "\n",
      "Test set: Average loss: 0.0413, Accuracy: 9863/10000 (99%)\n",
      "\n",
      "\n",
      "Test set: Average loss: 0.0136, Accuracy: 29888/30000 (100%)\n",
      "\n",
      "\n",
      "Test set: Average loss: 0.0409, Accuracy: 9865/10000 (99%)\n",
      "\n",
      "\n",
      "Test set: Average loss: 0.0131, Accuracy: 29902/30000 (100%)\n",
      "\n",
      "\n",
      "Test set: Average loss: 0.0386, Accuracy: 9876/10000 (99%)\n",
      "\n",
      "\n",
      "Test set: Average loss: 0.0130, Accuracy: 29894/30000 (100%)\n",
      "\n",
      "\n",
      "Test set: Average loss: 0.0394, Accuracy: 9873/10000 (99%)\n",
      "\n",
      "\n",
      "Test set: Average loss: 0.0157, Accuracy: 29868/30000 (100%)\n",
      "\n",
      "\n",
      "Test set: Average loss: 0.0416, Accuracy: 9861/10000 (99%)\n",
      "\n",
      "\n",
      "Test set: Average loss: 0.0140, Accuracy: 29888/30000 (100%)\n",
      "\n",
      "\n",
      "Test set: Average loss: 0.0421, Accuracy: 9860/10000 (99%)\n",
      "\n",
      "\n",
      "Test set: Average loss: 0.0123, Accuracy: 29904/30000 (100%)\n",
      "\n",
      "\n",
      "Test set: Average loss: 0.0391, Accuracy: 9871/10000 (99%)\n",
      "\n",
      "\n",
      "Test set: Average loss: 0.0139, Accuracy: 29880/30000 (100%)\n",
      "\n",
      "\n",
      "Test set: Average loss: 0.0405, Accuracy: 9867/10000 (99%)\n",
      "\n",
      "\n",
      "Test set: Average loss: 0.0116, Accuracy: 29908/30000 (100%)\n",
      "\n",
      "\n",
      "Test set: Average loss: 0.0405, Accuracy: 9865/10000 (99%)\n",
      "\n",
      "\n",
      "Test set: Average loss: 0.0121, Accuracy: 29912/30000 (100%)\n",
      "\n",
      "\n",
      "Test set: Average loss: 0.0401, Accuracy: 9868/10000 (99%)\n",
      "\n",
      "\n",
      "Test set: Average loss: 0.0104, Accuracy: 29907/30000 (100%)\n",
      "\n",
      "\n",
      "Test set: Average loss: 0.0357, Accuracy: 9882/10000 (99%)\n",
      "\n",
      "\n",
      "Test set: Average loss: 0.0123, Accuracy: 29887/30000 (100%)\n",
      "\n",
      "\n",
      "Test set: Average loss: 0.0390, Accuracy: 9873/10000 (99%)\n",
      "\n",
      "\n",
      "Test set: Average loss: 0.0102, Accuracy: 29912/30000 (100%)\n",
      "\n",
      "\n",
      "Test set: Average loss: 0.0401, Accuracy: 9872/10000 (99%)\n",
      "\n",
      "\n",
      "Test set: Average loss: 0.0127, Accuracy: 29900/30000 (100%)\n",
      "\n",
      "\n",
      "Test set: Average loss: 0.0406, Accuracy: 9857/10000 (99%)\n",
      "\n",
      "\n",
      "Test set: Average loss: 0.0102, Accuracy: 29920/30000 (100%)\n",
      "\n",
      "\n",
      "Test set: Average loss: 0.0403, Accuracy: 9868/10000 (99%)\n",
      "\n",
      "\n",
      "Test set: Average loss: 0.0114, Accuracy: 29903/30000 (100%)\n",
      "\n",
      "\n",
      "Test set: Average loss: 0.0422, Accuracy: 9869/10000 (99%)\n",
      "\n",
      "\n",
      "Test set: Average loss: 0.0095, Accuracy: 29926/30000 (100%)\n",
      "\n",
      "\n",
      "Test set: Average loss: 0.0365, Accuracy: 9870/10000 (99%)\n",
      "\n",
      "\n",
      "Test set: Average loss: 0.0097, Accuracy: 29924/30000 (100%)\n",
      "\n",
      "\n",
      "Test set: Average loss: 0.0391, Accuracy: 9864/10000 (99%)\n",
      "\n",
      "\n",
      "Test set: Average loss: 0.0088, Accuracy: 29933/30000 (100%)\n",
      "\n",
      "\n",
      "Test set: Average loss: 0.0361, Accuracy: 9878/10000 (99%)\n",
      "\n",
      "\n",
      "Test set: Average loss: 0.0086, Accuracy: 29926/30000 (100%)\n",
      "\n",
      "\n",
      "Test set: Average loss: 0.0379, Accuracy: 9880/10000 (99%)\n",
      "\n",
      "\n",
      "Test set: Average loss: 0.0090, Accuracy: 29927/30000 (100%)\n",
      "\n",
      "\n",
      "Test set: Average loss: 0.0389, Accuracy: 9868/10000 (99%)\n",
      "\n",
      "\n",
      "Test set: Average loss: 0.0078, Accuracy: 29940/30000 (100%)\n",
      "\n",
      "\n",
      "Test set: Average loss: 0.0363, Accuracy: 9879/10000 (99%)\n",
      "\n",
      "\n",
      "Test set: Average loss: 0.0076, Accuracy: 29941/30000 (100%)\n",
      "\n",
      "\n",
      "Test set: Average loss: 0.0367, Accuracy: 9888/10000 (99%)\n",
      "\n",
      "\n",
      "Test set: Average loss: 0.0075, Accuracy: 29941/30000 (100%)\n",
      "\n",
      "\n",
      "Test set: Average loss: 0.0398, Accuracy: 9869/10000 (99%)\n",
      "\n",
      "\n",
      "Test set: Average loss: 0.0073, Accuracy: 29940/30000 (100%)\n",
      "\n",
      "\n",
      "Test set: Average loss: 0.0386, Accuracy: 9873/10000 (99%)\n",
      "\n",
      "\n",
      "Test set: Average loss: 0.0069, Accuracy: 29938/30000 (100%)\n",
      "\n",
      "\n",
      "Test set: Average loss: 0.0365, Accuracy: 9870/10000 (99%)\n",
      "\n",
      "\n",
      "Test set: Average loss: 0.0079, Accuracy: 29927/30000 (100%)\n",
      "\n",
      "\n",
      "Test set: Average loss: 0.0393, Accuracy: 9868/10000 (99%)\n",
      "\n",
      "\n",
      "Test set: Average loss: 0.0069, Accuracy: 29940/30000 (100%)\n",
      "\n",
      "\n",
      "Test set: Average loss: 0.0367, Accuracy: 9878/10000 (99%)\n",
      "\n",
      "\n",
      "Test set: Average loss: 0.0073, Accuracy: 29936/30000 (100%)\n",
      "\n",
      "\n",
      "Test set: Average loss: 0.0381, Accuracy: 9877/10000 (99%)\n",
      "\n",
      "\n",
      "Test set: Average loss: 0.0061, Accuracy: 29950/30000 (100%)\n",
      "\n",
      "\n",
      "Test set: Average loss: 0.0329, Accuracy: 9886/10000 (99%)\n",
      "\n",
      "\n",
      "Test set: Average loss: 0.0058, Accuracy: 29953/30000 (100%)\n",
      "\n",
      "\n",
      "Test set: Average loss: 0.0349, Accuracy: 9888/10000 (99%)\n",
      "\n",
      "\n",
      "Test set: Average loss: 0.0057, Accuracy: 29951/30000 (100%)\n",
      "\n",
      "\n",
      "Test set: Average loss: 0.0365, Accuracy: 9885/10000 (99%)\n",
      "\n",
      "\n",
      "Test set: Average loss: 0.0054, Accuracy: 29964/30000 (100%)\n",
      "\n",
      "\n",
      "Test set: Average loss: 0.0384, Accuracy: 9875/10000 (99%)\n",
      "\n",
      "\n",
      "Test set: Average loss: 0.0051, Accuracy: 29964/30000 (100%)\n",
      "\n",
      "\n",
      "Test set: Average loss: 0.0392, Accuracy: 9885/10000 (99%)\n",
      "\n",
      "\n",
      "Test set: Average loss: 0.0071, Accuracy: 29933/30000 (100%)\n",
      "\n",
      "\n",
      "Test set: Average loss: 0.0405, Accuracy: 9868/10000 (99%)\n",
      "\n",
      "\n",
      "Test set: Average loss: 0.0067, Accuracy: 29940/30000 (100%)\n",
      "\n"
     ]
    },
    {
     "name": "stdout",
     "output_type": "stream",
     "text": [
      "\n",
      "Test set: Average loss: 0.0360, Accuracy: 9875/10000 (99%)\n",
      "\n",
      "\n",
      "Test set: Average loss: 0.0069, Accuracy: 29937/30000 (100%)\n",
      "\n",
      "\n",
      "Test set: Average loss: 0.0379, Accuracy: 9882/10000 (99%)\n",
      "\n",
      "\n",
      "Test set: Average loss: 0.0044, Accuracy: 29969/30000 (100%)\n",
      "\n",
      "\n",
      "Test set: Average loss: 0.0339, Accuracy: 9889/10000 (99%)\n",
      "\n",
      "\n",
      "Test set: Average loss: 0.0050, Accuracy: 29958/30000 (100%)\n",
      "\n",
      "\n",
      "Test set: Average loss: 0.0360, Accuracy: 9883/10000 (99%)\n",
      "\n",
      "\n",
      "Test set: Average loss: 0.0044, Accuracy: 29972/30000 (100%)\n",
      "\n",
      "\n",
      "Test set: Average loss: 0.0367, Accuracy: 9881/10000 (99%)\n",
      "\n",
      "\n",
      "Test set: Average loss: 0.0042, Accuracy: 29974/30000 (100%)\n",
      "\n",
      "\n",
      "Test set: Average loss: 0.0375, Accuracy: 9881/10000 (99%)\n",
      "\n",
      "\n",
      "Test set: Average loss: 0.0043, Accuracy: 29970/30000 (100%)\n",
      "\n",
      "\n",
      "Test set: Average loss: 0.0383, Accuracy: 9873/10000 (99%)\n",
      "\n",
      "\n",
      "Test set: Average loss: 0.0039, Accuracy: 29970/30000 (100%)\n",
      "\n",
      "\n",
      "Test set: Average loss: 0.0369, Accuracy: 9886/10000 (99%)\n",
      "\n",
      "\n",
      "Test set: Average loss: 0.0044, Accuracy: 29962/30000 (100%)\n",
      "\n",
      "\n",
      "Test set: Average loss: 0.0381, Accuracy: 9893/10000 (99%)\n",
      "\n",
      "\n",
      "Test set: Average loss: 0.0052, Accuracy: 29962/30000 (100%)\n",
      "\n",
      "\n",
      "Test set: Average loss: 0.0397, Accuracy: 9874/10000 (99%)\n",
      "\n",
      "\n",
      "Test set: Average loss: 0.0056, Accuracy: 29953/30000 (100%)\n",
      "\n",
      "\n",
      "Test set: Average loss: 0.0423, Accuracy: 9870/10000 (99%)\n",
      "\n",
      "\n",
      "Test set: Average loss: 0.0060, Accuracy: 29952/30000 (100%)\n",
      "\n",
      "\n",
      "Test set: Average loss: 0.0377, Accuracy: 9875/10000 (99%)\n",
      "\n",
      "\n",
      "Test set: Average loss: 0.0056, Accuracy: 29952/30000 (100%)\n",
      "\n",
      "\n",
      "Test set: Average loss: 0.0393, Accuracy: 9873/10000 (99%)\n",
      "\n",
      "\n",
      "Test set: Average loss: 0.0041, Accuracy: 29972/30000 (100%)\n",
      "\n",
      "\n",
      "Test set: Average loss: 0.0392, Accuracy: 9872/10000 (99%)\n",
      "\n",
      "\n",
      "Test set: Average loss: 0.0055, Accuracy: 29954/30000 (100%)\n",
      "\n",
      "\n",
      "Test set: Average loss: 0.0389, Accuracy: 9880/10000 (99%)\n",
      "\n",
      "\n",
      "Test set: Average loss: 0.0047, Accuracy: 29962/30000 (100%)\n",
      "\n",
      "\n",
      "Test set: Average loss: 0.0368, Accuracy: 9882/10000 (99%)\n",
      "\n",
      "\n",
      "Test set: Average loss: 0.0038, Accuracy: 29972/30000 (100%)\n",
      "\n",
      "\n",
      "Test set: Average loss: 0.0345, Accuracy: 9886/10000 (99%)\n",
      "\n",
      "\n",
      "Test set: Average loss: 0.0047, Accuracy: 29959/30000 (100%)\n",
      "\n",
      "\n",
      "Test set: Average loss: 0.0398, Accuracy: 9882/10000 (99%)\n",
      "\n",
      "\n",
      "Test set: Average loss: 0.0042, Accuracy: 29970/30000 (100%)\n",
      "\n",
      "\n",
      "Test set: Average loss: 0.0363, Accuracy: 9888/10000 (99%)\n",
      "\n",
      "\n",
      "Test set: Average loss: 0.0043, Accuracy: 29967/30000 (100%)\n",
      "\n",
      "\n",
      "Test set: Average loss: 0.0379, Accuracy: 9882/10000 (99%)\n",
      "\n",
      "\n",
      "Test set: Average loss: 0.0034, Accuracy: 29972/30000 (100%)\n",
      "\n",
      "\n",
      "Test set: Average loss: 0.0379, Accuracy: 9889/10000 (99%)\n",
      "\n",
      "\n",
      "Test set: Average loss: 0.0031, Accuracy: 29978/30000 (100%)\n",
      "\n",
      "\n",
      "Test set: Average loss: 0.0381, Accuracy: 9883/10000 (99%)\n",
      "\n",
      "\n",
      "Test set: Average loss: 0.0028, Accuracy: 29977/30000 (100%)\n",
      "\n",
      "\n",
      "Test set: Average loss: 0.0405, Accuracy: 9880/10000 (99%)\n",
      "\n",
      "\n",
      "Test set: Average loss: 0.0077, Accuracy: 29935/30000 (100%)\n",
      "\n",
      "\n",
      "Test set: Average loss: 0.0529, Accuracy: 9847/10000 (98%)\n",
      "\n",
      "\n",
      "Test set: Average loss: 0.0060, Accuracy: 29954/30000 (100%)\n",
      "\n",
      "\n",
      "Test set: Average loss: 0.0409, Accuracy: 9869/10000 (99%)\n",
      "\n",
      "\n",
      "Test set: Average loss: 0.0047, Accuracy: 29964/30000 (100%)\n",
      "\n",
      "\n",
      "Test set: Average loss: 0.0383, Accuracy: 9880/10000 (99%)\n",
      "\n",
      "\n",
      "Test set: Average loss: 0.0042, Accuracy: 29960/30000 (100%)\n",
      "\n",
      "\n",
      "Test set: Average loss: 0.0417, Accuracy: 9875/10000 (99%)\n",
      "\n",
      "\n",
      "Test set: Average loss: 0.0051, Accuracy: 29958/30000 (100%)\n",
      "\n",
      "\n",
      "Test set: Average loss: 0.0405, Accuracy: 9873/10000 (99%)\n",
      "\n",
      "\n",
      "Test set: Average loss: 0.0075, Accuracy: 29935/30000 (100%)\n",
      "\n",
      "\n",
      "Test set: Average loss: 0.0431, Accuracy: 9868/10000 (99%)\n",
      "\n",
      "\n",
      "Test set: Average loss: 0.0056, Accuracy: 29952/30000 (100%)\n",
      "\n",
      "\n",
      "Test set: Average loss: 0.0385, Accuracy: 9878/10000 (99%)\n",
      "\n",
      "\n",
      "Test set: Average loss: 0.0054, Accuracy: 29964/30000 (100%)\n",
      "\n",
      "\n",
      "Test set: Average loss: 0.0382, Accuracy: 9870/10000 (99%)\n",
      "\n",
      "\n",
      "Test set: Average loss: 0.0044, Accuracy: 29967/30000 (100%)\n",
      "\n",
      "\n",
      "Test set: Average loss: 0.0357, Accuracy: 9885/10000 (99%)\n",
      "\n",
      "\n",
      "Test set: Average loss: 0.0038, Accuracy: 29971/30000 (100%)\n",
      "\n",
      "\n",
      "Test set: Average loss: 0.0378, Accuracy: 9874/10000 (99%)\n",
      "\n",
      "\n",
      "Test set: Average loss: 0.0036, Accuracy: 29972/30000 (100%)\n",
      "\n",
      "\n",
      "Test set: Average loss: 0.0377, Accuracy: 9891/10000 (99%)\n",
      "\n",
      "\n"
     ]
    }
   ],
   "source": [
    "results = run_experiment(2,10000,1, compute_L_flag=True)\n",
    "train_losses = list(zip(*results))[0]\n",
    "train_accuracies = list(zip(*results))[1]\n",
    "test_losses = list(zip(*results))[2]\n",
    "test_accuracies = list(zip(*results))[3]\n",
    "L_losses = list(zip(*results))[4]\n",
    "L_regs = list(zip(*results))[5]"
   ]
  },
  {
   "cell_type": "code",
   "execution_count": 32,
   "metadata": {},
   "outputs": [
    {
     "data": {
      "text/plain": [
       "<matplotlib.legend.Legend at 0x169ad3f20a0>"
      ]
     },
     "execution_count": 32,
     "metadata": {},
     "output_type": "execute_result"
    },
    {
     "data": {
      "image/png": "[encoded data removed]",
      "text/plain": [
       "<Figure size 432x288 with 1 Axes>"
      ]
     },
     "metadata": {
      "image/png": {
       "height": 277,
       "width": 389
      },
      "needs_background": "light"
     },
     "output_type": "display_data"
    },
    {
     "data": {
      "image/png": "[encoded data removed]",
      "text/plain": [
       "<Figure size 432x288 with 1 Axes>"
      ]
     },
     "metadata": {
      "image/png": {
       "height": 277,
       "width": 389
      },
      "needs_background": "light"
     },
     "output_type": "display_data"
    },
    {
     "name": "stderr",
     "output_type": "stream",
     "text": [
      "Substituting symbol L from STIXNonUnicode\n",
      "Substituting symbol L from STIXNonUnicode\n"
     ]
    },
    {
     "data": {
      "image/png": "[encoded data removed]",
      "text/plain": [
       "<Figure size 432x288 with 1 Axes>"
      ]
     },
     "metadata": {
      "image/png": {
       "height": 277,
       "width": 380
      },
      "needs_background": "light"
     },
     "output_type": "display_data"
    }
   ],
   "source": [
    "plt.figure()\n",
    "plt.plot(range(0,100*len(train_losses),100),train_losses,label=\"Train set\")\n",
    "plt.plot(range(0,100*len(train_losses),100),test_losses,label=\"Test set\")\n",
    "plt.title(\"Single learner performance during training\")\n",
    "plt.xlabel(\"Iteration number\")\n",
    "plt.ylabel(\"Loss\")\n",
    "plt.legend()\n",
    "\n",
    "plt.figure()\n",
    "plt.plot(range(0,100*len(train_losses),100),train_accuracies,label=\"Train set\")\n",
    "plt.plot(range(0,100*len(train_losses),100),test_accuracies,label=\"Test set\")\n",
    "plt.title(\"Single learner performance during training\")\n",
    "plt.xlabel(\"Iteration number\")\n",
    "plt.ylabel(\"Accuracy\")\n",
    "plt.legend()\n",
    "\n",
    "plt.figure()\n",
    "plt.stackplot(range(0,100*len(train_losses),100), L_losses, L_regs, labels=[\"Local losses\", \"Edge regularization\"])\n",
    "plt.title(\"Global loss during training\")\n",
    "plt.ylabel(r\"Global loss $\\mathcal{L}(\\theta)$\")\n",
    "plt.xlabel(\"Iteration number\")\n",
    "plt.legend()"
   ]
  },
  {
   "cell_type": "markdown",
   "metadata": {
    "scrolled": true
   },
   "source": [
    "# Run the experiment with varying lambda"
   ]
  },
  {
   "cell_type": "code",
   "execution_count": 33,
   "metadata": {
    "scrolled": true
   },
   "outputs": [
    {
     "data": {
      "application/vnd.jupyter.widget-view+json": {
       "model_id": "a68e753fcd2b441891046e433bace752",
       "version_major": 2,
       "version_minor": 0
      },
      "text/plain": [
       "HBox(children=(HTML(value=''), FloatProgress(value=0.0, max=30.0), HTML(value='')))"
      ]
     },
     "metadata": {},
     "output_type": "display_data"
    },
    {
     "data": {
      "application/vnd.jupyter.widget-view+json": {
       "model_id": "9a8e4faeaf274927adc0e52556170790",
       "version_major": 2,
       "version_minor": 0
      },
      "text/plain": [
       "HBox(children=(HTML(value=''), FloatProgress(value=0.0, max=10000.0), HTML(value='')))"
      ]
     },
     "metadata": {},
     "output_type": "display_data"
    },
    {
     "name": "stdout",
     "output_type": "stream",
     "text": [
      "\n",
      "Test set: Average loss: 0.0007, Accuracy: 29994/30000 (100%)\n",
      "\n",
      "\n",
      "Test set: Average loss: 0.0371, Accuracy: 9910/10000 (99%)\n",
      "\n",
      "\n"
     ]
    },
    {
     "data": {
      "application/vnd.jupyter.widget-view+json": {
       "model_id": "cff73b74002743b9aa6cded9a3f27054",
       "version_major": 2,
       "version_minor": 0
      },
      "text/plain": [
       "HBox(children=(HTML(value=''), FloatProgress(value=0.0, max=10000.0), HTML(value='')))"
      ]
     },
     "metadata": {},
     "output_type": "display_data"
    },
    {
     "name": "stdout",
     "output_type": "stream",
     "text": [
      "\n",
      "Test set: Average loss: 0.0006, Accuracy: 29997/30000 (100%)\n",
      "\n",
      "\n",
      "Test set: Average loss: 0.0464, Accuracy: 9900/10000 (99%)\n",
      "\n",
      "\n"
     ]
    },
    {
     "data": {
      "application/vnd.jupyter.widget-view+json": {
       "model_id": "7493b41957e64ee1a555b6ffcf3863bc",
       "version_major": 2,
       "version_minor": 0
      },
      "text/plain": [
       "HBox(children=(HTML(value=''), FloatProgress(value=0.0, max=10000.0), HTML(value='')))"
      ]
     },
     "metadata": {},
     "output_type": "display_data"
    },
    {
     "name": "stdout",
     "output_type": "stream",
     "text": [
      "\n",
      "Test set: Average loss: 0.0013, Accuracy: 29988/30000 (100%)\n",
      "\n",
      "\n",
      "Test set: Average loss: 0.0475, Accuracy: 9883/10000 (99%)\n",
      "\n",
      "\n"
     ]
    },
    {
     "data": {
      "application/vnd.jupyter.widget-view+json": {
       "model_id": "9748a86c68374b3aa67686abcceaf054",
       "version_major": 2,
       "version_minor": 0
      },
      "text/plain": [
       "HBox(children=(HTML(value=''), FloatProgress(value=0.0, max=10000.0), HTML(value='')))"
      ]
     },
     "metadata": {},
     "output_type": "display_data"
    },
    {
     "name": "stdout",
     "output_type": "stream",
     "text": [
      "\n",
      "Test set: Average loss: 0.0006, Accuracy: 29995/30000 (100%)\n",
      "\n",
      "\n",
      "Test set: Average loss: 0.0500, Accuracy: 9894/10000 (99%)\n",
      "\n",
      "\n"
     ]
    },
    {
     "data": {
      "application/vnd.jupyter.widget-view+json": {
       "model_id": "f0a44714a28f444188abba17cf6fc325",
       "version_major": 2,
       "version_minor": 0
      },
      "text/plain": [
       "HBox(children=(HTML(value=''), FloatProgress(value=0.0, max=10000.0), HTML(value='')))"
      ]
     },
     "metadata": {},
     "output_type": "display_data"
    },
    {
     "name": "stdout",
     "output_type": "stream",
     "text": [
      "\n",
      "Test set: Average loss: 0.0006, Accuracy: 29997/30000 (100%)\n",
      "\n",
      "\n",
      "Test set: Average loss: 0.0405, Accuracy: 9897/10000 (99%)\n",
      "\n",
      "\n"
     ]
    },
    {
     "data": {
      "application/vnd.jupyter.widget-view+json": {
       "model_id": "c2bc86037b9b4563be7fcb1ff4b50bf7",
       "version_major": 2,
       "version_minor": 0
      },
      "text/plain": [
       "HBox(children=(HTML(value=''), FloatProgress(value=0.0, max=10000.0), HTML(value='')))"
      ]
     },
     "metadata": {},
     "output_type": "display_data"
    },
    {
     "name": "stdout",
     "output_type": "stream",
     "text": [
      "\n",
      "Test set: Average loss: 0.0005, Accuracy: 29996/30000 (100%)\n",
      "\n",
      "\n",
      "Test set: Average loss: 0.0438, Accuracy: 9896/10000 (99%)\n",
      "\n",
      "\n"
     ]
    },
    {
     "data": {
      "application/vnd.jupyter.widget-view+json": {
       "model_id": "4fd47b55340d45f0aaa31fe01997aee5",
       "version_major": 2,
       "version_minor": 0
      },
      "text/plain": [
       "HBox(children=(HTML(value=''), FloatProgress(value=0.0, max=10000.0), HTML(value='')))"
      ]
     },
     "metadata": {},
     "output_type": "display_data"
    },
    {
     "name": "stdout",
     "output_type": "stream",
     "text": [
      "\n",
      "Test set: Average loss: 0.0011, Accuracy: 29991/30000 (100%)\n",
      "\n",
      "\n",
      "Test set: Average loss: 0.0456, Accuracy: 9872/10000 (99%)\n",
      "\n",
      "\n"
     ]
    },
    {
     "data": {
      "application/vnd.jupyter.widget-view+json": {
       "model_id": "c5690a53d1c345e7a07538db1d699164",
       "version_major": 2,
       "version_minor": 0
      },
      "text/plain": [
       "HBox(children=(HTML(value=''), FloatProgress(value=0.0, max=10000.0), HTML(value='')))"
      ]
     },
     "metadata": {},
     "output_type": "display_data"
    },
    {
     "name": "stdout",
     "output_type": "stream",
     "text": [
      "\n",
      "Test set: Average loss: 0.0009, Accuracy: 29991/30000 (100%)\n",
      "\n",
      "\n",
      "Test set: Average loss: 0.0417, Accuracy: 9895/10000 (99%)\n",
      "\n",
      "\n"
     ]
    },
    {
     "data": {
      "application/vnd.jupyter.widget-view+json": {
       "model_id": "e0366020d00f4c3084c729b9ab7b3605",
       "version_major": 2,
       "version_minor": 0
      },
      "text/plain": [
       "HBox(children=(HTML(value=''), FloatProgress(value=0.0, max=10000.0), HTML(value='')))"
      ]
     },
     "metadata": {},
     "output_type": "display_data"
    },
    {
     "name": "stdout",
     "output_type": "stream",
     "text": [
      "\n",
      "Test set: Average loss: 0.0006, Accuracy: 29995/30000 (100%)\n",
      "\n",
      "\n",
      "Test set: Average loss: 0.0381, Accuracy: 9904/10000 (99%)\n",
      "\n",
      "\n"
     ]
    },
    {
     "data": {
      "application/vnd.jupyter.widget-view+json": {
       "model_id": "b393d4a155e64ca2ae8089fd38ef73d4",
       "version_major": 2,
       "version_minor": 0
      },
      "text/plain": [
       "HBox(children=(HTML(value=''), FloatProgress(value=0.0, max=10000.0), HTML(value='')))"
      ]
     },
     "metadata": {},
     "output_type": "display_data"
    },
    {
     "name": "stdout",
     "output_type": "stream",
     "text": [
      "\n",
      "Test set: Average loss: 0.0009, Accuracy: 29994/30000 (100%)\n",
      "\n",
      "\n",
      "Test set: Average loss: 0.0404, Accuracy: 9899/10000 (99%)\n",
      "\n",
      "\n"
     ]
    },
    {
     "data": {
      "application/vnd.jupyter.widget-view+json": {
       "model_id": "4f2e4464ff644bf4bb5c701f1437a2e4",
       "version_major": 2,
       "version_minor": 0
      },
      "text/plain": [
       "HBox(children=(HTML(value=''), FloatProgress(value=0.0, max=10000.0), HTML(value='')))"
      ]
     },
     "metadata": {},
     "output_type": "display_data"
    },
    {
     "name": "stdout",
     "output_type": "stream",
     "text": [
      "\n",
      "Test set: Average loss: 0.0013, Accuracy: 29987/30000 (100%)\n",
      "\n",
      "\n",
      "Test set: Average loss: 0.0426, Accuracy: 9892/10000 (99%)\n",
      "\n",
      "\n"
     ]
    },
    {
     "data": {
      "application/vnd.jupyter.widget-view+json": {
       "model_id": "110ad9a29df64264990b5fcce8eb53e8",
       "version_major": 2,
       "version_minor": 0
      },
      "text/plain": [
       "HBox(children=(HTML(value=''), FloatProgress(value=0.0, max=10000.0), HTML(value='')))"
      ]
     },
     "metadata": {},
     "output_type": "display_data"
    },
    {
     "name": "stdout",
     "output_type": "stream",
     "text": [
      "\n",
      "Test set: Average loss: 0.0028, Accuracy: 29980/30000 (100%)\n",
      "\n",
      "\n",
      "Test set: Average loss: 0.0344, Accuracy: 9896/10000 (99%)\n",
      "\n",
      "\n"
     ]
    },
    {
     "data": {
      "application/vnd.jupyter.widget-view+json": {
       "model_id": "6ee0f67588eb453c8861f37a1688e407",
       "version_major": 2,
       "version_minor": 0
      },
      "text/plain": [
       "HBox(children=(HTML(value=''), FloatProgress(value=0.0, max=10000.0), HTML(value='')))"
      ]
     },
     "metadata": {},
     "output_type": "display_data"
    },
    {
     "name": "stdout",
     "output_type": "stream",
     "text": [
      "\n",
      "Test set: Average loss: 0.0033, Accuracy: 29976/30000 (100%)\n",
      "\n",
      "\n",
      "Test set: Average loss: 0.0389, Accuracy: 9884/10000 (99%)\n",
      "\n",
      "\n"
     ]
    },
    {
     "data": {
      "application/vnd.jupyter.widget-view+json": {
       "model_id": "5631ee2f3bde4b20aac82cf74a649fc8",
       "version_major": 2,
       "version_minor": 0
      },
      "text/plain": [
       "HBox(children=(HTML(value=''), FloatProgress(value=0.0, max=10000.0), HTML(value='')))"
      ]
     },
     "metadata": {},
     "output_type": "display_data"
    },
    {
     "name": "stdout",
     "output_type": "stream",
     "text": [
      "\n",
      "Test set: Average loss: 0.0058, Accuracy: 29944/30000 (100%)\n",
      "\n",
      "\n",
      "Test set: Average loss: 0.0359, Accuracy: 9888/10000 (99%)\n",
      "\n",
      "\n"
     ]
    },
    {
     "data": {
      "application/vnd.jupyter.widget-view+json": {
       "model_id": "af3909e0fbe742959bdb0d1816d2ef02",
       "version_major": 2,
       "version_minor": 0
      },
      "text/plain": [
       "HBox(children=(HTML(value=''), FloatProgress(value=0.0, max=10000.0), HTML(value='')))"
      ]
     },
     "metadata": {},
     "output_type": "display_data"
    },
    {
     "name": "stdout",
     "output_type": "stream",
     "text": [
      "\n",
      "Test set: Average loss: 0.0082, Accuracy: 29930/30000 (100%)\n",
      "\n",
      "\n",
      "Test set: Average loss: 0.0346, Accuracy: 9882/10000 (99%)\n",
      "\n",
      "\n"
     ]
    },
    {
     "data": {
      "application/vnd.jupyter.widget-view+json": {
       "model_id": "cbb9e417bf834b6b9553dbacf3548613",
       "version_major": 2,
       "version_minor": 0
      },
      "text/plain": [
       "HBox(children=(HTML(value=''), FloatProgress(value=0.0, max=10000.0), HTML(value='')))"
      ]
     },
     "metadata": {},
     "output_type": "display_data"
    },
    {
     "name": "stdout",
     "output_type": "stream",
     "text": [
      "\n",
      "Test set: Average loss: 0.0175, Accuracy: 29844/30000 (99%)\n",
      "\n",
      "\n",
      "Test set: Average loss: 0.0408, Accuracy: 9860/10000 (99%)\n",
      "\n",
      "\n"
     ]
    },
    {
     "data": {
      "application/vnd.jupyter.widget-view+json": {
       "model_id": "319546712d0340d699f844ffae5dac1f",
       "version_major": 2,
       "version_minor": 0
      },
      "text/plain": [
       "HBox(children=(HTML(value=''), FloatProgress(value=0.0, max=10000.0), HTML(value='')))"
      ]
     },
     "metadata": {},
     "output_type": "display_data"
    },
    {
     "name": "stdout",
     "output_type": "stream",
     "text": [
      "\n",
      "Test set: Average loss: 0.0185, Accuracy: 29821/30000 (99%)\n",
      "\n",
      "\n",
      "Test set: Average loss: 0.0405, Accuracy: 9870/10000 (99%)\n",
      "\n",
      "\n"
     ]
    },
    {
     "data": {
      "application/vnd.jupyter.widget-view+json": {
       "model_id": "f67fb3610b224897bc7a3251cf242b97",
       "version_major": 2,
       "version_minor": 0
      },
      "text/plain": [
       "HBox(children=(HTML(value=''), FloatProgress(value=0.0, max=10000.0), HTML(value='')))"
      ]
     },
     "metadata": {},
     "output_type": "display_data"
    },
    {
     "name": "stdout",
     "output_type": "stream",
     "text": [
      "\n",
      "Test set: Average loss: 0.0325, Accuracy: 29710/30000 (99%)\n",
      "\n",
      "\n",
      "Test set: Average loss: 0.0456, Accuracy: 9855/10000 (99%)\n",
      "\n",
      "\n"
     ]
    },
    {
     "data": {
      "application/vnd.jupyter.widget-view+json": {
       "model_id": "dc75ad903e5e45c9a60d6b8b9515f00e",
       "version_major": 2,
       "version_minor": 0
      },
      "text/plain": [
       "HBox(children=(HTML(value=''), FloatProgress(value=0.0, max=10000.0), HTML(value='')))"
      ]
     },
     "metadata": {},
     "output_type": "display_data"
    },
    {
     "name": "stdout",
     "output_type": "stream",
     "text": [
      "\n",
      "Test set: Average loss: 0.0808, Accuracy: 29316/30000 (98%)\n",
      "\n",
      "\n",
      "Test set: Average loss: 0.0890, Accuracy: 9732/10000 (97%)\n",
      "\n",
      "\n"
     ]
    },
    {
     "data": {
      "application/vnd.jupyter.widget-view+json": {
       "model_id": "a9952eac4999491ea96112ce15a441fc",
       "version_major": 2,
       "version_minor": 0
      },
      "text/plain": [
       "HBox(children=(HTML(value=''), FloatProgress(value=0.0, max=10000.0), HTML(value='')))"
      ]
     },
     "metadata": {},
     "output_type": "display_data"
    },
    {
     "name": "stdout",
     "output_type": "stream",
     "text": [
      "\n",
      "Test set: Average loss: 0.0406, Accuracy: 29629/30000 (99%)\n",
      "\n",
      "\n",
      "Test set: Average loss: 0.0536, Accuracy: 9814/10000 (98%)\n",
      "\n",
      "\n"
     ]
    },
    {
     "data": {
      "application/vnd.jupyter.widget-view+json": {
       "model_id": "caa98a526d0a40168d27f42a63fa686a",
       "version_major": 2,
       "version_minor": 0
      },
      "text/plain": [
       "HBox(children=(HTML(value=''), FloatProgress(value=0.0, max=10000.0), HTML(value='')))"
      ]
     },
     "metadata": {},
     "output_type": "display_data"
    },
    {
     "name": "stdout",
     "output_type": "stream",
     "text": [
      "\n",
      "Test set: Average loss: 0.0627, Accuracy: 29430/30000 (98%)\n",
      "\n",
      "\n",
      "Test set: Average loss: 0.0652, Accuracy: 9788/10000 (98%)\n",
      "\n",
      "\n"
     ]
    },
    {
     "data": {
      "application/vnd.jupyter.widget-view+json": {
       "model_id": "2051b7150a114fa29028ab97dffaa7f9",
       "version_major": 2,
       "version_minor": 0
      },
      "text/plain": [
       "HBox(children=(HTML(value=''), FloatProgress(value=0.0, max=10000.0), HTML(value='')))"
      ]
     },
     "metadata": {},
     "output_type": "display_data"
    },
    {
     "name": "stdout",
     "output_type": "stream",
     "text": [
      "\n",
      "Test set: Average loss: 0.0688, Accuracy: 29389/30000 (98%)\n",
      "\n",
      "\n",
      "Test set: Average loss: 0.0741, Accuracy: 9770/10000 (98%)\n",
      "\n",
      "\n"
     ]
    },
    {
     "data": {
      "application/vnd.jupyter.widget-view+json": {
       "model_id": "3d458f3906054d89a33a866369061eff",
       "version_major": 2,
       "version_minor": 0
      },
      "text/plain": [
       "HBox(children=(HTML(value=''), FloatProgress(value=0.0, max=10000.0), HTML(value='')))"
      ]
     },
     "metadata": {},
     "output_type": "display_data"
    },
    {
     "name": "stdout",
     "output_type": "stream",
     "text": [
      "\n",
      "Test set: Average loss: 0.0955, Accuracy: 29153/30000 (97%)\n",
      "\n",
      "\n",
      "Test set: Average loss: 0.0980, Accuracy: 9683/10000 (97%)\n",
      "\n",
      "\n"
     ]
    },
    {
     "data": {
      "application/vnd.jupyter.widget-view+json": {
       "model_id": "02aa10cc3f9d42d8aa03ad292db95976",
       "version_major": 2,
       "version_minor": 0
      },
      "text/plain": [
       "HBox(children=(HTML(value=''), FloatProgress(value=0.0, max=10000.0), HTML(value='')))"
      ]
     },
     "metadata": {},
     "output_type": "display_data"
    },
    {
     "name": "stdout",
     "output_type": "stream",
     "text": [
      "\n",
      "Test set: Average loss: 0.2172, Accuracy: 28285/30000 (94%)\n",
      "\n",
      "\n",
      "Test set: Average loss: 0.2160, Accuracy: 9412/10000 (94%)\n",
      "\n",
      "\n"
     ]
    },
    {
     "data": {
      "application/vnd.jupyter.widget-view+json": {
       "model_id": "80fe80e81a4d41d2bec9fb5f37331395",
       "version_major": 2,
       "version_minor": 0
      },
      "text/plain": [
       "HBox(children=(HTML(value=''), FloatProgress(value=0.0, max=10000.0), HTML(value='')))"
      ]
     },
     "metadata": {},
     "output_type": "display_data"
    },
    {
     "name": "stdout",
     "output_type": "stream",
     "text": [
      "\n",
      "Test set: Average loss: 0.0993, Accuracy: 29098/30000 (97%)\n",
      "\n",
      "\n",
      "Test set: Average loss: 0.0987, Accuracy: 9689/10000 (97%)\n",
      "\n",
      "\n"
     ]
    },
    {
     "data": {
      "application/vnd.jupyter.widget-view+json": {
       "model_id": "875a5af9eda04e498c4ac9835fe47768",
       "version_major": 2,
       "version_minor": 0
      },
      "text/plain": [
       "HBox(children=(HTML(value=''), FloatProgress(value=0.0, max=10000.0), HTML(value='')))"
      ]
     },
     "metadata": {},
     "output_type": "display_data"
    },
    {
     "name": "stdout",
     "output_type": "stream",
     "text": [
      "\n",
      "Test set: Average loss: 0.2770, Accuracy: 27582/30000 (92%)\n",
      "\n",
      "\n",
      "Test set: Average loss: 0.2653, Accuracy: 9260/10000 (93%)\n",
      "\n",
      "\n"
     ]
    },
    {
     "data": {
      "application/vnd.jupyter.widget-view+json": {
       "model_id": "91f25e742ac2482d8cd6e23f52446001",
       "version_major": 2,
       "version_minor": 0
      },
      "text/plain": [
       "HBox(children=(HTML(value=''), FloatProgress(value=0.0, max=10000.0), HTML(value='')))"
      ]
     },
     "metadata": {},
     "output_type": "display_data"
    },
    {
     "name": "stdout",
     "output_type": "stream",
     "text": [
      "\n",
      "Test set: Average loss: 0.3634, Accuracy: 27033/30000 (90%)\n",
      "\n",
      "\n",
      "Test set: Average loss: 0.3466, Accuracy: 9050/10000 (90%)\n",
      "\n",
      "\n"
     ]
    },
    {
     "data": {
      "application/vnd.jupyter.widget-view+json": {
       "model_id": "ebd72ca201884fc0a988e6e8d34363d0",
       "version_major": 2,
       "version_minor": 0
      },
      "text/plain": [
       "HBox(children=(HTML(value=''), FloatProgress(value=0.0, max=10000.0), HTML(value='')))"
      ]
     },
     "metadata": {},
     "output_type": "display_data"
    },
    {
     "name": "stdout",
     "output_type": "stream",
     "text": [
      "\n",
      "Test set: Average loss: 0.5387, Accuracy: 25549/30000 (85%)\n",
      "\n",
      "\n",
      "Test set: Average loss: 0.5068, Accuracy: 8628/10000 (86%)\n",
      "\n",
      "\n"
     ]
    },
    {
     "data": {
      "application/vnd.jupyter.widget-view+json": {
       "model_id": "24352692c0bb4bad94571a1a13070648",
       "version_major": 2,
       "version_minor": 0
      },
      "text/plain": [
       "HBox(children=(HTML(value=''), FloatProgress(value=0.0, max=10000.0), HTML(value='')))"
      ]
     },
     "metadata": {},
     "output_type": "display_data"
    },
    {
     "name": "stdout",
     "output_type": "stream",
     "text": [
      "\n",
      "Test set: Average loss: 0.5525, Accuracy: 25458/30000 (85%)\n",
      "\n",
      "\n",
      "Test set: Average loss: 0.5355, Accuracy: 8547/10000 (85%)\n",
      "\n",
      "\n"
     ]
    },
    {
     "data": {
      "application/vnd.jupyter.widget-view+json": {
       "model_id": "2a4fd7a611b94c52b6c3d1abfe11d6af",
       "version_major": 2,
       "version_minor": 0
      },
      "text/plain": [
       "HBox(children=(HTML(value=''), FloatProgress(value=0.0, max=10000.0), HTML(value='')))"
      ]
     },
     "metadata": {},
     "output_type": "display_data"
    },
    {
     "name": "stdout",
     "output_type": "stream",
     "text": [
      "\n",
      "Test set: Average loss: 0.3033, Accuracy: 27451/30000 (92%)\n",
      "\n",
      "\n",
      "Test set: Average loss: 0.2889, Accuracy: 9186/10000 (92%)\n",
      "\n",
      "\n",
      "\n"
     ]
    }
   ],
   "source": [
    "lambdas = np.logspace(-2,3,30) # From 0.001 to 100\n",
    "results = []\n",
    "for lambd in tqdm(lambdas):\n",
    "    subresults = run_experiment(2, 10000, lambd, True)\n",
    "    train_loss = list(zip(*subresults))[0][-1]\n",
    "    train_accuracy = list(zip(*subresults))[1][-1]\n",
    "    test_loss = list(zip(*subresults))[2][-1]\n",
    "    test_accuracy = list(zip(*subresults))[3][-1]\n",
    "    results.append((train_loss,train_accuracy,test_loss,test_accuracy))"
   ]
  },
  {
   "cell_type": "code",
   "execution_count": 34,
   "metadata": {},
   "outputs": [],
   "source": [
    "train_losses = list(zip(*results))[0]\n",
    "train_accuracies = list(zip(*results))[1]\n",
    "test_losses = list(zip(*results))[2]\n",
    "test_accuracies = list(zip(*results))[3]"
   ]
  },
  {
   "cell_type": "code",
   "execution_count": 35,
   "metadata": {},
   "outputs": [
    {
     "name": "stdout",
     "output_type": "stream",
     "text": [
      "The first accuracy is 0.991\n",
      "The best accuracy is 0.991 , achieved by lambda= 0.01\n"
     ]
    },
    {
     "data": {
      "image/png": "[encoded data removed]",
      "text/plain": [
       "<Figure size 432x288 with 1 Axes>"
      ]
     },
     "metadata": {
      "image/png": {
       "height": 278,
       "width": 385
      },
      "needs_background": "light"
     },
     "output_type": "display_data"
    },
    {
     "data": {
      "image/png": "[encoded data removed]",
      "text/plain": [
       "<Figure size 432x288 with 1 Axes>"
      ]
     },
     "metadata": {
      "image/png": {
       "height": 278,
       "width": 391
      },
      "needs_background": "light"
     },
     "output_type": "display_data"
    }
   ],
   "source": [
    "# 50 learners learning with ADAM and L2 norm for 5000 steps. The end state for a single learner.\n",
    "\n",
    "plt.figure()\n",
    "plt.plot(lambdas,train_losses, label=\"Training set\")\n",
    "plt.plot(lambdas,test_losses, label=\"Test set\")\n",
    "plt.legend()\n",
    "plt.xscale('log')\n",
    "plt.title(\"Loss of a single learner\")\n",
    "plt.ylabel(\"Loss\")\n",
    "plt.xlabel(r\"$\\lambda$\")\n",
    "plt.figure()\n",
    "plt.plot(lambdas,train_accuracies, label=\"Training set\")\n",
    "plt.plot(lambdas,test_accuracies, label=\"Test set\")\n",
    "plt.legend()\n",
    "plt.xscale('log')\n",
    "plt.title(\"Accuracy of a single learner\")\n",
    "plt.ylabel(\"Accuracy\")\n",
    "plt.xlabel(r\"$\\lambda$\");\n",
    "print(\"The first accuracy is\",test_accuracies[0])\n",
    "print(\"The best accuracy is\",np.max(test_accuracies),\", achieved by lambda=\",lambdas[np.argmax(test_accuracies)])"
   ]
  },
  {
   "cell_type": "markdown",
   "metadata": {},
   "source": [
    "# Instead of full average, only share earlier layers"
   ]
  },
  {
   "cell_type": "code",
   "execution_count": 35,
   "metadata": {
    "scrolled": true
   },
   "outputs": [
    {
     "data": {
      "application/vnd.jupyter.widget-view+json": {
       "model_id": "55d52d9d88bb4fd6b66607d2601d0ab8",
       "version_major": 2,
       "version_minor": 0
      },
      "text/plain": [
       "HBox(children=(HTML(value=''), FloatProgress(value=0.0, max=30.0), HTML(value='')))"
      ]
     },
     "metadata": {},
     "output_type": "display_data"
    },
    {
     "data": {
      "application/vnd.jupyter.widget-view+json": {
       "model_id": "053b27831cd346878d5da646ecc72e53",
       "version_major": 2,
       "version_minor": 0
      },
      "text/plain": [
       "HBox(children=(HTML(value=''), FloatProgress(value=0.0, max=10000.0), HTML(value='')))"
      ]
     },
     "metadata": {},
     "output_type": "display_data"
    },
    {
     "name": "stdout",
     "output_type": "stream",
     "text": [
      "\n",
      "Test set: Average loss: 0.0002, Accuracy: 29999/30000 (100%)\n",
      "\n",
      "\n",
      "Test set: Average loss: 0.0547, Accuracy: 9902/10000 (99%)\n",
      "\n",
      "\n"
     ]
    },
    {
     "data": {
      "application/vnd.jupyter.widget-view+json": {
       "model_id": "addfae0ce99e49419c4515ee66d85f5b",
       "version_major": 2,
       "version_minor": 0
      },
      "text/plain": [
       "HBox(children=(HTML(value=''), FloatProgress(value=0.0, max=10000.0), HTML(value='')))"
      ]
     },
     "metadata": {},
     "output_type": "display_data"
    },
    {
     "name": "stdout",
     "output_type": "stream",
     "text": [
      "\n",
      "Test set: Average loss: 0.0002, Accuracy: 29999/30000 (100%)\n",
      "\n",
      "\n",
      "Test set: Average loss: 0.0409, Accuracy: 9904/10000 (99%)\n",
      "\n",
      "\n"
     ]
    },
    {
     "data": {
      "application/vnd.jupyter.widget-view+json": {
       "model_id": "6c9b608c9e4640cba99fd9fc365652c3",
       "version_major": 2,
       "version_minor": 0
      },
      "text/plain": [
       "HBox(children=(HTML(value=''), FloatProgress(value=0.0, max=10000.0), HTML(value='')))"
      ]
     },
     "metadata": {},
     "output_type": "display_data"
    },
    {
     "name": "stdout",
     "output_type": "stream",
     "text": [
      "\n",
      "Test set: Average loss: 0.0003, Accuracy: 29998/30000 (100%)\n",
      "\n",
      "\n",
      "Test set: Average loss: 0.0437, Accuracy: 9921/10000 (99%)\n",
      "\n",
      "\n"
     ]
    },
    {
     "data": {
      "application/vnd.jupyter.widget-view+json": {
       "model_id": "822c64591ffa4394bd2823c18319e758",
       "version_major": 2,
       "version_minor": 0
      },
      "text/plain": [
       "HBox(children=(HTML(value=''), FloatProgress(value=0.0, max=10000.0), HTML(value='')))"
      ]
     },
     "metadata": {},
     "output_type": "display_data"
    },
    {
     "name": "stdout",
     "output_type": "stream",
     "text": [
      "\n",
      "Test set: Average loss: 0.0002, Accuracy: 29999/30000 (100%)\n",
      "\n",
      "\n",
      "Test set: Average loss: 0.0414, Accuracy: 9916/10000 (99%)\n",
      "\n",
      "\n"
     ]
    },
    {
     "data": {
      "application/vnd.jupyter.widget-view+json": {
       "model_id": "6ec52bc82e834fe59a689526e4eb9455",
       "version_major": 2,
       "version_minor": 0
      },
      "text/plain": [
       "HBox(children=(HTML(value=''), FloatProgress(value=0.0, max=10000.0), HTML(value='')))"
      ]
     },
     "metadata": {},
     "output_type": "display_data"
    },
    {
     "name": "stdout",
     "output_type": "stream",
     "text": [
      "\n",
      "Test set: Average loss: 0.0002, Accuracy: 30000/30000 (100%)\n",
      "\n",
      "\n",
      "Test set: Average loss: 0.0517, Accuracy: 9899/10000 (99%)\n",
      "\n",
      "\n"
     ]
    },
    {
     "data": {
      "application/vnd.jupyter.widget-view+json": {
       "model_id": "8234404d71b74e08a70582ab3dadef7c",
       "version_major": 2,
       "version_minor": 0
      },
      "text/plain": [
       "HBox(children=(HTML(value=''), FloatProgress(value=0.0, max=10000.0), HTML(value='')))"
      ]
     },
     "metadata": {},
     "output_type": "display_data"
    },
    {
     "name": "stdout",
     "output_type": "stream",
     "text": [
      "\n",
      "Test set: Average loss: 0.0003, Accuracy: 29999/30000 (100%)\n",
      "\n",
      "\n",
      "Test set: Average loss: 0.0395, Accuracy: 9908/10000 (99%)\n",
      "\n",
      "\n"
     ]
    },
    {
     "data": {
      "application/vnd.jupyter.widget-view+json": {
       "model_id": "52fbc0ddc1b74515aed1bb8bc4b7d3ca",
       "version_major": 2,
       "version_minor": 0
      },
      "text/plain": [
       "HBox(children=(HTML(value=''), FloatProgress(value=0.0, max=10000.0), HTML(value='')))"
      ]
     },
     "metadata": {},
     "output_type": "display_data"
    },
    {
     "name": "stdout",
     "output_type": "stream",
     "text": [
      "\n",
      "Test set: Average loss: 0.0003, Accuracy: 29999/30000 (100%)\n",
      "\n",
      "\n",
      "Test set: Average loss: 0.0423, Accuracy: 9911/10000 (99%)\n",
      "\n",
      "\n"
     ]
    },
    {
     "data": {
      "application/vnd.jupyter.widget-view+json": {
       "model_id": "7620cc41dc7542518fe2fbc57b24fc48",
       "version_major": 2,
       "version_minor": 0
      },
      "text/plain": [
       "HBox(children=(HTML(value=''), FloatProgress(value=0.0, max=10000.0), HTML(value='')))"
      ]
     },
     "metadata": {},
     "output_type": "display_data"
    },
    {
     "name": "stdout",
     "output_type": "stream",
     "text": [
      "\n",
      "Test set: Average loss: 0.0004, Accuracy: 29998/30000 (100%)\n",
      "\n",
      "\n",
      "Test set: Average loss: 0.0456, Accuracy: 9911/10000 (99%)\n",
      "\n",
      "\n"
     ]
    },
    {
     "data": {
      "application/vnd.jupyter.widget-view+json": {
       "model_id": "4f40a2a87c314245a0821848ef02818d",
       "version_major": 2,
       "version_minor": 0
      },
      "text/plain": [
       "HBox(children=(HTML(value=''), FloatProgress(value=0.0, max=10000.0), HTML(value='')))"
      ]
     },
     "metadata": {},
     "output_type": "display_data"
    },
    {
     "name": "stdout",
     "output_type": "stream",
     "text": [
      "\n",
      "Test set: Average loss: 0.0004, Accuracy: 29997/30000 (100%)\n",
      "\n",
      "\n",
      "Test set: Average loss: 0.0539, Accuracy: 9893/10000 (99%)\n",
      "\n",
      "\n"
     ]
    },
    {
     "data": {
      "application/vnd.jupyter.widget-view+json": {
       "model_id": "7df7dcda4a5a4d3583e4f4f132452325",
       "version_major": 2,
       "version_minor": 0
      },
      "text/plain": [
       "HBox(children=(HTML(value=''), FloatProgress(value=0.0, max=10000.0), HTML(value='')))"
      ]
     },
     "metadata": {},
     "output_type": "display_data"
    },
    {
     "name": "stdout",
     "output_type": "stream",
     "text": [
      "\n",
      "Test set: Average loss: 0.0004, Accuracy: 29996/30000 (100%)\n",
      "\n",
      "\n",
      "Test set: Average loss: 0.0460, Accuracy: 9897/10000 (99%)\n",
      "\n",
      "\n"
     ]
    },
    {
     "data": {
      "application/vnd.jupyter.widget-view+json": {
       "model_id": "2ab9a6a296654229938a4cc9a11d0fc8",
       "version_major": 2,
       "version_minor": 0
      },
      "text/plain": [
       "HBox(children=(HTML(value=''), FloatProgress(value=0.0, max=10000.0), HTML(value='')))"
      ]
     },
     "metadata": {},
     "output_type": "display_data"
    },
    {
     "name": "stdout",
     "output_type": "stream",
     "text": [
      "\n",
      "Test set: Average loss: 0.0007, Accuracy: 29995/30000 (100%)\n",
      "\n",
      "\n",
      "Test set: Average loss: 0.0572, Accuracy: 9893/10000 (99%)\n",
      "\n",
      "\n"
     ]
    },
    {
     "data": {
      "application/vnd.jupyter.widget-view+json": {
       "model_id": "dcda1f346b5449f2873ebcca6c378531",
       "version_major": 2,
       "version_minor": 0
      },
      "text/plain": [
       "HBox(children=(HTML(value=''), FloatProgress(value=0.0, max=10000.0), HTML(value='')))"
      ]
     },
     "metadata": {},
     "output_type": "display_data"
    },
    {
     "name": "stdout",
     "output_type": "stream",
     "text": [
      "\n",
      "Test set: Average loss: 0.0009, Accuracy: 29994/30000 (100%)\n",
      "\n",
      "\n",
      "Test set: Average loss: 0.0501, Accuracy: 9893/10000 (99%)\n",
      "\n",
      "\n"
     ]
    },
    {
     "data": {
      "application/vnd.jupyter.widget-view+json": {
       "model_id": "9f9a484d25834c45aed2d6a7b59d8cf4",
       "version_major": 2,
       "version_minor": 0
      },
      "text/plain": [
       "HBox(children=(HTML(value=''), FloatProgress(value=0.0, max=10000.0), HTML(value='')))"
      ]
     },
     "metadata": {},
     "output_type": "display_data"
    },
    {
     "name": "stdout",
     "output_type": "stream",
     "text": [
      "\n",
      "Test set: Average loss: 0.0006, Accuracy: 29996/30000 (100%)\n",
      "\n",
      "\n",
      "Test set: Average loss: 0.0460, Accuracy: 9897/10000 (99%)\n",
      "\n",
      "\n"
     ]
    },
    {
     "data": {
      "application/vnd.jupyter.widget-view+json": {
       "model_id": "89efacf625664bedb8a8907cfa369cbf",
       "version_major": 2,
       "version_minor": 0
      },
      "text/plain": [
       "HBox(children=(HTML(value=''), FloatProgress(value=0.0, max=10000.0), HTML(value='')))"
      ]
     },
     "metadata": {},
     "output_type": "display_data"
    },
    {
     "name": "stdout",
     "output_type": "stream",
     "text": [
      "\n",
      "Test set: Average loss: 0.0025, Accuracy: 29977/30000 (100%)\n",
      "\n",
      "\n",
      "Test set: Average loss: 0.0436, Accuracy: 9889/10000 (99%)\n",
      "\n",
      "\n"
     ]
    },
    {
     "data": {
      "application/vnd.jupyter.widget-view+json": {
       "model_id": "6dee9f3be18947659a5601db7fd8bb6a",
       "version_major": 2,
       "version_minor": 0
      },
      "text/plain": [
       "HBox(children=(HTML(value=''), FloatProgress(value=0.0, max=10000.0), HTML(value='')))"
      ]
     },
     "metadata": {},
     "output_type": "display_data"
    },
    {
     "name": "stdout",
     "output_type": "stream",
     "text": [
      "\n",
      "Test set: Average loss: 0.0022, Accuracy: 29981/30000 (100%)\n",
      "\n",
      "\n",
      "Test set: Average loss: 0.0446, Accuracy: 9885/10000 (99%)\n",
      "\n",
      "\n"
     ]
    },
    {
     "data": {
      "application/vnd.jupyter.widget-view+json": {
       "model_id": "82e986ad5efd414296235a56815eba69",
       "version_major": 2,
       "version_minor": 0
      },
      "text/plain": [
       "HBox(children=(HTML(value=''), FloatProgress(value=0.0, max=10000.0), HTML(value='')))"
      ]
     },
     "metadata": {},
     "output_type": "display_data"
    },
    {
     "name": "stdout",
     "output_type": "stream",
     "text": [
      "\n",
      "Test set: Average loss: 0.0052, Accuracy: 29956/30000 (100%)\n",
      "\n",
      "\n",
      "Test set: Average loss: 0.0452, Accuracy: 9885/10000 (99%)\n",
      "\n",
      "\n"
     ]
    },
    {
     "data": {
      "application/vnd.jupyter.widget-view+json": {
       "model_id": "2888e40969f241959f4db62a57531b70",
       "version_major": 2,
       "version_minor": 0
      },
      "text/plain": [
       "HBox(children=(HTML(value=''), FloatProgress(value=0.0, max=10000.0), HTML(value='')))"
      ]
     },
     "metadata": {},
     "output_type": "display_data"
    },
    {
     "name": "stdout",
     "output_type": "stream",
     "text": [
      "\n",
      "Test set: Average loss: 0.0036, Accuracy: 29969/30000 (100%)\n",
      "\n",
      "\n",
      "Test set: Average loss: 0.0480, Accuracy: 9884/10000 (99%)\n",
      "\n",
      "\n"
     ]
    },
    {
     "data": {
      "application/vnd.jupyter.widget-view+json": {
       "model_id": "9130634fab4e4dd7aff3ae4bb16b02eb",
       "version_major": 2,
       "version_minor": 0
      },
      "text/plain": [
       "HBox(children=(HTML(value=''), FloatProgress(value=0.0, max=10000.0), HTML(value='')))"
      ]
     },
     "metadata": {},
     "output_type": "display_data"
    },
    {
     "name": "stdout",
     "output_type": "stream",
     "text": [
      "\n",
      "Test set: Average loss: 0.0035, Accuracy: 29971/30000 (100%)\n",
      "\n",
      "\n",
      "Test set: Average loss: 0.0452, Accuracy: 9879/10000 (99%)\n",
      "\n",
      "\n"
     ]
    },
    {
     "data": {
      "application/vnd.jupyter.widget-view+json": {
       "model_id": "9b4bed04084d42c38cbdac3dae2faeb6",
       "version_major": 2,
       "version_minor": 0
      },
      "text/plain": [
       "HBox(children=(HTML(value=''), FloatProgress(value=0.0, max=10000.0), HTML(value='')))"
      ]
     },
     "metadata": {},
     "output_type": "display_data"
    },
    {
     "name": "stdout",
     "output_type": "stream",
     "text": [
      "\n",
      "Test set: Average loss: 0.0051, Accuracy: 29951/30000 (100%)\n",
      "\n",
      "\n",
      "Test set: Average loss: 0.0405, Accuracy: 9880/10000 (99%)\n",
      "\n",
      "\n"
     ]
    },
    {
     "data": {
      "application/vnd.jupyter.widget-view+json": {
       "model_id": "9852de4f941d4e1a923fc2e7825746cb",
       "version_major": 2,
       "version_minor": 0
      },
      "text/plain": [
       "HBox(children=(HTML(value=''), FloatProgress(value=0.0, max=10000.0), HTML(value='')))"
      ]
     },
     "metadata": {},
     "output_type": "display_data"
    },
    {
     "name": "stdout",
     "output_type": "stream",
     "text": [
      "\n",
      "Test set: Average loss: 0.0330, Accuracy: 29670/30000 (99%)\n",
      "\n",
      "\n",
      "Test set: Average loss: 0.0687, Accuracy: 9785/10000 (98%)\n",
      "\n",
      "\n"
     ]
    },
    {
     "data": {
      "application/vnd.jupyter.widget-view+json": {
       "model_id": "80847ff2df2e4456a612362a1e1275a5",
       "version_major": 2,
       "version_minor": 0
      },
      "text/plain": [
       "HBox(children=(HTML(value=''), FloatProgress(value=0.0, max=10000.0), HTML(value='')))"
      ]
     },
     "metadata": {},
     "output_type": "display_data"
    },
    {
     "name": "stdout",
     "output_type": "stream",
     "text": [
      "\n",
      "Test set: Average loss: 0.0235, Accuracy: 29776/30000 (99%)\n",
      "\n",
      "\n",
      "Test set: Average loss: 0.0605, Accuracy: 9822/10000 (98%)\n",
      "\n",
      "\n"
     ]
    },
    {
     "data": {
      "application/vnd.jupyter.widget-view+json": {
       "model_id": "56f87c83b63b4b37b48f15c52e01af2c",
       "version_major": 2,
       "version_minor": 0
      },
      "text/plain": [
       "HBox(children=(HTML(value=''), FloatProgress(value=0.0, max=10000.0), HTML(value='')))"
      ]
     },
     "metadata": {},
     "output_type": "display_data"
    },
    {
     "name": "stdout",
     "output_type": "stream",
     "text": [
      "\n",
      "Test set: Average loss: 0.0728, Accuracy: 29294/30000 (98%)\n",
      "\n",
      "\n",
      "Test set: Average loss: 0.0980, Accuracy: 9706/10000 (97%)\n",
      "\n",
      "\n"
     ]
    },
    {
     "data": {
      "application/vnd.jupyter.widget-view+json": {
       "model_id": "0635a9c25e604c46913c2fcb8f326add",
       "version_major": 2,
       "version_minor": 0
      },
      "text/plain": [
       "HBox(children=(HTML(value=''), FloatProgress(value=0.0, max=10000.0), HTML(value='')))"
      ]
     },
     "metadata": {},
     "output_type": "display_data"
    },
    {
     "name": "stdout",
     "output_type": "stream",
     "text": [
      "\n",
      "Test set: Average loss: 0.0676, Accuracy: 29360/30000 (98%)\n",
      "\n",
      "\n",
      "Test set: Average loss: 0.0922, Accuracy: 9728/10000 (97%)\n",
      "\n",
      "\n"
     ]
    },
    {
     "data": {
      "application/vnd.jupyter.widget-view+json": {
       "model_id": "b54756cd02cb4799915c968470aec732",
       "version_major": 2,
       "version_minor": 0
      },
      "text/plain": [
       "HBox(children=(HTML(value=''), FloatProgress(value=0.0, max=10000.0), HTML(value='')))"
      ]
     },
     "metadata": {},
     "output_type": "display_data"
    },
    {
     "name": "stdout",
     "output_type": "stream",
     "text": [
      "\n",
      "Test set: Average loss: 0.0276, Accuracy: 29724/30000 (99%)\n",
      "\n",
      "\n",
      "Test set: Average loss: 0.0642, Accuracy: 9817/10000 (98%)\n",
      "\n",
      "\n"
     ]
    },
    {
     "data": {
      "application/vnd.jupyter.widget-view+json": {
       "model_id": "28d9a33f14b24029906134c65151f77d",
       "version_major": 2,
       "version_minor": 0
      },
      "text/plain": [
       "HBox(children=(HTML(value=''), FloatProgress(value=0.0, max=10000.0), HTML(value='')))"
      ]
     },
     "metadata": {},
     "output_type": "display_data"
    },
    {
     "name": "stdout",
     "output_type": "stream",
     "text": [
      "\n",
      "Test set: Average loss: 0.0364, Accuracy: 29652/30000 (99%)\n",
      "\n",
      "\n",
      "Test set: Average loss: 0.0764, Accuracy: 9766/10000 (98%)\n",
      "\n",
      "\n"
     ]
    },
    {
     "data": {
      "application/vnd.jupyter.widget-view+json": {
       "model_id": "45d1ebd87f974ba9bb3fd6c6a60473e2",
       "version_major": 2,
       "version_minor": 0
      },
      "text/plain": [
       "HBox(children=(HTML(value=''), FloatProgress(value=0.0, max=10000.0), HTML(value='')))"
      ]
     },
     "metadata": {},
     "output_type": "display_data"
    },
    {
     "name": "stdout",
     "output_type": "stream",
     "text": [
      "\n",
      "Test set: Average loss: 0.0267, Accuracy: 29730/30000 (99%)\n",
      "\n",
      "\n",
      "Test set: Average loss: 0.0672, Accuracy: 9797/10000 (98%)\n",
      "\n",
      "\n"
     ]
    },
    {
     "data": {
      "application/vnd.jupyter.widget-view+json": {
       "model_id": "4a1eb8397a72417eac374c111fef8eb2",
       "version_major": 2,
       "version_minor": 0
      },
      "text/plain": [
       "HBox(children=(HTML(value=''), FloatProgress(value=0.0, max=10000.0), HTML(value='')))"
      ]
     },
     "metadata": {},
     "output_type": "display_data"
    },
    {
     "name": "stdout",
     "output_type": "stream",
     "text": [
      "\n",
      "Test set: Average loss: 0.0961, Accuracy: 29071/30000 (97%)\n",
      "\n",
      "\n",
      "Test set: Average loss: 0.1288, Accuracy: 9623/10000 (96%)\n",
      "\n",
      "\n"
     ]
    },
    {
     "data": {
      "application/vnd.jupyter.widget-view+json": {
       "model_id": "1a4a3e4ff9f14bc3ad8d2f9a76ddc3b1",
       "version_major": 2,
       "version_minor": 0
      },
      "text/plain": [
       "HBox(children=(HTML(value=''), FloatProgress(value=0.0, max=10000.0), HTML(value='')))"
      ]
     },
     "metadata": {},
     "output_type": "display_data"
    },
    {
     "name": "stdout",
     "output_type": "stream",
     "text": [
      "\n",
      "Test set: Average loss: 0.1259, Accuracy: 28817/30000 (96%)\n",
      "\n",
      "\n",
      "Test set: Average loss: 0.1562, Accuracy: 9527/10000 (95%)\n",
      "\n",
      "\n"
     ]
    },
    {
     "data": {
      "application/vnd.jupyter.widget-view+json": {
       "model_id": "99f547523106432db9d26c206e41c2f1",
       "version_major": 2,
       "version_minor": 0
      },
      "text/plain": [
       "HBox(children=(HTML(value=''), FloatProgress(value=0.0, max=10000.0), HTML(value='')))"
      ]
     },
     "metadata": {},
     "output_type": "display_data"
    },
    {
     "name": "stdout",
     "output_type": "stream",
     "text": [
      "\n",
      "Test set: Average loss: 0.0787, Accuracy: 29293/30000 (98%)\n",
      "\n",
      "\n",
      "Test set: Average loss: 0.1024, Accuracy: 9693/10000 (97%)\n",
      "\n",
      "\n"
     ]
    },
    {
     "data": {
      "application/vnd.jupyter.widget-view+json": {
       "model_id": "126333f2537445d18ef4e9bc13b7076e",
       "version_major": 2,
       "version_minor": 0
      },
      "text/plain": [
       "HBox(children=(HTML(value=''), FloatProgress(value=0.0, max=10000.0), HTML(value='')))"
      ]
     },
     "metadata": {},
     "output_type": "display_data"
    },
    {
     "name": "stdout",
     "output_type": "stream",
     "text": [
      "\n",
      "Test set: Average loss: 0.0317, Accuracy: 29699/30000 (99%)\n",
      "\n",
      "\n",
      "Test set: Average loss: 0.0663, Accuracy: 9787/10000 (98%)\n",
      "\n",
      "\n",
      "\n"
     ]
    }
   ],
   "source": [
    "lambdas = np.logspace(-1,5,30) # From 0.001 to 100\n",
    "results = []\n",
    "for lambd in tqdm(lambdas):\n",
    "    subresults = run_experiment(n_learners=2, n_iterations=10000, lambd=lambd, last_only=True, g=L2_early_squared)\n",
    "    train_loss = list(zip(*subresults))[0][-1]\n",
    "    train_accuracy = list(zip(*subresults))[1][-1]\n",
    "    test_loss = list(zip(*subresults))[2][-1]\n",
    "    test_accuracy = list(zip(*subresults))[3][-1]\n",
    "    results.append((train_loss,train_accuracy,test_loss,test_accuracy))"
   ]
  },
  {
   "cell_type": "code",
   "execution_count": 17,
   "metadata": {},
   "outputs": [],
   "source": [
    "train_losses = list(zip(*results))[0]\n",
    "train_accuracies = list(zip(*results))[1]\n",
    "test_losses = list(zip(*results))[2]\n",
    "test_accuracies = list(zip(*results))[3]"
   ]
  },
  {
   "cell_type": "code",
   "execution_count": 18,
   "metadata": {},
   "outputs": [
    {
     "name": "stdout",
     "output_type": "stream",
     "text": [
      "The first accuracy is 0.9897\n",
      "The best accuracy is 0.9905 , achieved by lambda= 0.2592943797404667\n"
     ]
    },
    {
     "data": {
      "image/png": "[encoded data removed]",
      "text/plain": [
       "<Figure size 432x288 with 1 Axes>"
      ]
     },
     "metadata": {
      "image/png": {
       "height": 278,
       "width": 391
      },
      "needs_background": "light"
     },
     "output_type": "display_data"
    },
    {
     "data": {
      "image/png": "[encoded data removed]",
      "text/plain": [
       "<Figure size 432x288 with 1 Axes>"
      ]
     },
     "metadata": {
      "image/png": {
       "height": 278,
       "width": 398
      },
      "needs_background": "light"
     },
     "output_type": "display_data"
    }
   ],
   "source": [
    "# 50 learners learning with ADAM and L2 norm for 5000 steps. The end state for a single learner.\n",
    "\n",
    "plt.figure()\n",
    "plt.plot(lambdas,train_losses, label=\"Training set\")\n",
    "plt.plot(lambdas,test_losses, label=\"Test set\")\n",
    "plt.legend()\n",
    "plt.xscale('log')\n",
    "plt.title(\"Loss of a single learner\")\n",
    "plt.ylabel(\"Loss\")\n",
    "plt.xlabel(r\"$\\lambda$\")\n",
    "plt.figure()\n",
    "plt.plot(lambdas,train_accuracies, label=\"Training set\")\n",
    "plt.plot(lambdas,test_accuracies, label=\"Test set\")\n",
    "plt.legend()\n",
    "plt.xscale('log')\n",
    "plt.title(\"Accuracy of a single learner\")\n",
    "plt.ylabel(\"Accuracy\")\n",
    "plt.xlabel(r\"$\\lambda$\");\n",
    "print(\"The first accuracy is\",test_accuracies[0])\n",
    "print(\"The best accuracy is\",np.max(test_accuracies),\", achieved by lambda=\",lambdas[np.argmax(test_accuracies)])"
   ]
  },
  {
   "cell_type": "markdown",
   "metadata": {},
   "source": [
    "# 2 learners, with less data available and early sharing only"
   ]
  },
  {
   "cell_type": "code",
   "execution_count": 19,
   "metadata": {
    "scrolled": true
   },
   "outputs": [
    {
     "data": {
      "application/vnd.jupyter.widget-view+json": {
       "model_id": "825c037c648a4278b9e38d1fde9eae66",
       "version_major": 2,
       "version_minor": 0
      },
      "text/plain": [
       "HBox(children=(HTML(value=''), FloatProgress(value=0.0, max=30.0), HTML(value='')))"
      ]
     },
     "metadata": {},
     "output_type": "display_data"
    },
    {
     "data": {
      "application/vnd.jupyter.widget-view+json": {
       "model_id": "44046462158f4b8bad25d7a133df4ebe",
       "version_major": 2,
       "version_minor": 0
      },
      "text/plain": [
       "HBox(children=(HTML(value=''), FloatProgress(value=0.0, max=10000.0), HTML(value='')))"
      ]
     },
     "metadata": {},
     "output_type": "display_data"
    },
    {
     "name": "stdout",
     "output_type": "stream",
     "text": [
      "\n",
      "Test set: Average loss: 0.0000, Accuracy: 500/500 (100%)\n",
      "\n",
      "\n",
      "Test set: Average loss: 0.5532, Accuracy: 9418/10000 (94%)\n",
      "\n",
      "\n"
     ]
    },
    {
     "data": {
      "application/vnd.jupyter.widget-view+json": {
       "model_id": "fbf765e670d54ff4b3336891af8b15a0",
       "version_major": 2,
       "version_minor": 0
      },
      "text/plain": [
       "HBox(children=(HTML(value=''), FloatProgress(value=0.0, max=10000.0), HTML(value='')))"
      ]
     },
     "metadata": {},
     "output_type": "display_data"
    },
    {
     "name": "stdout",
     "output_type": "stream",
     "text": [
      "\n",
      "Test set: Average loss: 0.0000, Accuracy: 500/500 (100%)\n",
      "\n",
      "\n",
      "Test set: Average loss: 0.4980, Accuracy: 9483/10000 (95%)\n",
      "\n",
      "\n"
     ]
    },
    {
     "data": {
      "application/vnd.jupyter.widget-view+json": {
       "model_id": "68936e7077a6440ba5d098ac98bdf647",
       "version_major": 2,
       "version_minor": 0
      },
      "text/plain": [
       "HBox(children=(HTML(value=''), FloatProgress(value=0.0, max=10000.0), HTML(value='')))"
      ]
     },
     "metadata": {},
     "output_type": "display_data"
    },
    {
     "name": "stdout",
     "output_type": "stream",
     "text": [
      "\n",
      "Test set: Average loss: 0.0000, Accuracy: 500/500 (100%)\n",
      "\n",
      "\n",
      "Test set: Average loss: 0.6153, Accuracy: 9474/10000 (95%)\n",
      "\n",
      "\n"
     ]
    },
    {
     "data": {
      "application/vnd.jupyter.widget-view+json": {
       "model_id": "3efd955b77a74d43869289d9daea6cdc",
       "version_major": 2,
       "version_minor": 0
      },
      "text/plain": [
       "HBox(children=(HTML(value=''), FloatProgress(value=0.0, max=10000.0), HTML(value='')))"
      ]
     },
     "metadata": {},
     "output_type": "display_data"
    },
    {
     "name": "stdout",
     "output_type": "stream",
     "text": [
      "\n",
      "Test set: Average loss: 0.0000, Accuracy: 500/500 (100%)\n",
      "\n",
      "\n",
      "Test set: Average loss: 0.7651, Accuracy: 9381/10000 (94%)\n",
      "\n",
      "\n"
     ]
    },
    {
     "data": {
      "application/vnd.jupyter.widget-view+json": {
       "model_id": "35dfd78983c54b629b825e50bb79cdaa",
       "version_major": 2,
       "version_minor": 0
      },
      "text/plain": [
       "HBox(children=(HTML(value=''), FloatProgress(value=0.0, max=10000.0), HTML(value='')))"
      ]
     },
     "metadata": {},
     "output_type": "display_data"
    },
    {
     "name": "stdout",
     "output_type": "stream",
     "text": [
      "\n",
      "Test set: Average loss: 0.0000, Accuracy: 500/500 (100%)\n",
      "\n",
      "\n",
      "Test set: Average loss: 0.6095, Accuracy: 9435/10000 (94%)\n",
      "\n",
      "\n"
     ]
    },
    {
     "data": {
      "application/vnd.jupyter.widget-view+json": {
       "model_id": "43fd0b9bddb04b6fa2010a330e35f354",
       "version_major": 2,
       "version_minor": 0
      },
      "text/plain": [
       "HBox(children=(HTML(value=''), FloatProgress(value=0.0, max=10000.0), HTML(value='')))"
      ]
     },
     "metadata": {},
     "output_type": "display_data"
    },
    {
     "name": "stdout",
     "output_type": "stream",
     "text": [
      "\n",
      "Test set: Average loss: 0.0000, Accuracy: 500/500 (100%)\n",
      "\n",
      "\n",
      "Test set: Average loss: 0.5643, Accuracy: 9470/10000 (95%)\n",
      "\n",
      "\n"
     ]
    },
    {
     "data": {
      "application/vnd.jupyter.widget-view+json": {
       "model_id": "75f20dbd62f240599d77d0817c83cc3a",
       "version_major": 2,
       "version_minor": 0
      },
      "text/plain": [
       "HBox(children=(HTML(value=''), FloatProgress(value=0.0, max=10000.0), HTML(value='')))"
      ]
     },
     "metadata": {},
     "output_type": "display_data"
    },
    {
     "name": "stdout",
     "output_type": "stream",
     "text": [
      "\n",
      "Test set: Average loss: 0.0000, Accuracy: 500/500 (100%)\n",
      "\n",
      "\n",
      "Test set: Average loss: 0.6108, Accuracy: 9392/10000 (94%)\n",
      "\n",
      "\n"
     ]
    },
    {
     "data": {
      "application/vnd.jupyter.widget-view+json": {
       "model_id": "84380165d18d4222848a62a59d46f670",
       "version_major": 2,
       "version_minor": 0
      },
      "text/plain": [
       "HBox(children=(HTML(value=''), FloatProgress(value=0.0, max=10000.0), HTML(value='')))"
      ]
     },
     "metadata": {},
     "output_type": "display_data"
    },
    {
     "name": "stdout",
     "output_type": "stream",
     "text": [
      "\n",
      "Test set: Average loss: 0.0000, Accuracy: 500/500 (100%)\n",
      "\n",
      "\n",
      "Test set: Average loss: 0.7074, Accuracy: 9357/10000 (94%)\n",
      "\n",
      "\n"
     ]
    },
    {
     "data": {
      "application/vnd.jupyter.widget-view+json": {
       "model_id": "64a3da8caf2742798d4fc9b6d818634b",
       "version_major": 2,
       "version_minor": 0
      },
      "text/plain": [
       "HBox(children=(HTML(value=''), FloatProgress(value=0.0, max=10000.0), HTML(value='')))"
      ]
     },
     "metadata": {},
     "output_type": "display_data"
    },
    {
     "name": "stdout",
     "output_type": "stream",
     "text": [
      "\n",
      "Test set: Average loss: 0.0000, Accuracy: 500/500 (100%)\n",
      "\n",
      "\n",
      "Test set: Average loss: 0.6329, Accuracy: 9377/10000 (94%)\n",
      "\n",
      "\n"
     ]
    },
    {
     "data": {
      "application/vnd.jupyter.widget-view+json": {
       "model_id": "afbd96e086134096a28dccf5812547fc",
       "version_major": 2,
       "version_minor": 0
      },
      "text/plain": [
       "HBox(children=(HTML(value=''), FloatProgress(value=0.0, max=10000.0), HTML(value='')))"
      ]
     },
     "metadata": {},
     "output_type": "display_data"
    },
    {
     "name": "stdout",
     "output_type": "stream",
     "text": [
      "\n",
      "Test set: Average loss: 0.0000, Accuracy: 500/500 (100%)\n",
      "\n",
      "\n",
      "Test set: Average loss: 0.7767, Accuracy: 9309/10000 (93%)\n",
      "\n",
      "\n"
     ]
    },
    {
     "data": {
      "application/vnd.jupyter.widget-view+json": {
       "model_id": "e197da00f2a243f094ad92f46fd4a2e2",
       "version_major": 2,
       "version_minor": 0
      },
      "text/plain": [
       "HBox(children=(HTML(value=''), FloatProgress(value=0.0, max=10000.0), HTML(value='')))"
      ]
     },
     "metadata": {},
     "output_type": "display_data"
    },
    {
     "name": "stdout",
     "output_type": "stream",
     "text": [
      "\n",
      "Test set: Average loss: 0.0000, Accuracy: 500/500 (100%)\n",
      "\n",
      "\n",
      "Test set: Average loss: 0.6660, Accuracy: 9427/10000 (94%)\n",
      "\n",
      "\n"
     ]
    },
    {
     "data": {
      "application/vnd.jupyter.widget-view+json": {
       "model_id": "358322928bdc4960be1f17386af50f59",
       "version_major": 2,
       "version_minor": 0
      },
      "text/plain": [
       "HBox(children=(HTML(value=''), FloatProgress(value=0.0, max=10000.0), HTML(value='')))"
      ]
     },
     "metadata": {},
     "output_type": "display_data"
    },
    {
     "name": "stdout",
     "output_type": "stream",
     "text": [
      "\n",
      "Test set: Average loss: 0.0000, Accuracy: 500/500 (100%)\n",
      "\n",
      "\n",
      "Test set: Average loss: 1.0746, Accuracy: 9032/10000 (90%)\n",
      "\n",
      "\n"
     ]
    },
    {
     "data": {
      "application/vnd.jupyter.widget-view+json": {
       "model_id": "c5796b554ba14c0eb391b6d5fcf17ad9",
       "version_major": 2,
       "version_minor": 0
      },
      "text/plain": [
       "HBox(children=(HTML(value=''), FloatProgress(value=0.0, max=10000.0), HTML(value='')))"
      ]
     },
     "metadata": {},
     "output_type": "display_data"
    },
    {
     "name": "stdout",
     "output_type": "stream",
     "text": [
      "\n",
      "Test set: Average loss: 0.0000, Accuracy: 500/500 (100%)\n",
      "\n",
      "\n",
      "Test set: Average loss: 0.7561, Accuracy: 9355/10000 (94%)\n",
      "\n",
      "\n"
     ]
    },
    {
     "data": {
      "application/vnd.jupyter.widget-view+json": {
       "model_id": "1c9d739798de40f9b89257de602cc147",
       "version_major": 2,
       "version_minor": 0
      },
      "text/plain": [
       "HBox(children=(HTML(value=''), FloatProgress(value=0.0, max=10000.0), HTML(value='')))"
      ]
     },
     "metadata": {},
     "output_type": "display_data"
    },
    {
     "name": "stdout",
     "output_type": "stream",
     "text": [
      "\n",
      "Test set: Average loss: 0.0000, Accuracy: 500/500 (100%)\n",
      "\n",
      "\n",
      "Test set: Average loss: 0.8660, Accuracy: 9255/10000 (93%)\n",
      "\n",
      "\n"
     ]
    },
    {
     "data": {
      "application/vnd.jupyter.widget-view+json": {
       "model_id": "3d113a68b3fa465ca07f6b12bd34a531",
       "version_major": 2,
       "version_minor": 0
      },
      "text/plain": [
       "HBox(children=(HTML(value=''), FloatProgress(value=0.0, max=10000.0), HTML(value='')))"
      ]
     },
     "metadata": {},
     "output_type": "display_data"
    },
    {
     "name": "stdout",
     "output_type": "stream",
     "text": [
      "\n",
      "Test set: Average loss: 0.0000, Accuracy: 500/500 (100%)\n",
      "\n",
      "\n",
      "Test set: Average loss: 1.0451, Accuracy: 9153/10000 (92%)\n",
      "\n",
      "\n"
     ]
    },
    {
     "data": {
      "application/vnd.jupyter.widget-view+json": {
       "model_id": "f51b0af8865d4919bd8e01a96b8535bb",
       "version_major": 2,
       "version_minor": 0
      },
      "text/plain": [
       "HBox(children=(HTML(value=''), FloatProgress(value=0.0, max=10000.0), HTML(value='')))"
      ]
     },
     "metadata": {},
     "output_type": "display_data"
    },
    {
     "name": "stdout",
     "output_type": "stream",
     "text": [
      "\n",
      "Test set: Average loss: 0.0000, Accuracy: 500/500 (100%)\n",
      "\n",
      "\n",
      "Test set: Average loss: 1.0511, Accuracy: 9227/10000 (92%)\n",
      "\n",
      "\n"
     ]
    },
    {
     "data": {
      "application/vnd.jupyter.widget-view+json": {
       "model_id": "76de7dc481594b88bf93a094b8c22877",
       "version_major": 2,
       "version_minor": 0
      },
      "text/plain": [
       "HBox(children=(HTML(value=''), FloatProgress(value=0.0, max=10000.0), HTML(value='')))"
      ]
     },
     "metadata": {},
     "output_type": "display_data"
    },
    {
     "name": "stdout",
     "output_type": "stream",
     "text": [
      "\n",
      "Test set: Average loss: 0.0000, Accuracy: 500/500 (100%)\n",
      "\n",
      "\n",
      "Test set: Average loss: 0.7104, Accuracy: 9171/10000 (92%)\n",
      "\n",
      "\n"
     ]
    },
    {
     "data": {
      "application/vnd.jupyter.widget-view+json": {
       "model_id": "ba328fdf88fa438285befdca1e69cc92",
       "version_major": 2,
       "version_minor": 0
      },
      "text/plain": [
       "HBox(children=(HTML(value=''), FloatProgress(value=0.0, max=10000.0), HTML(value='')))"
      ]
     },
     "metadata": {},
     "output_type": "display_data"
    },
    {
     "name": "stdout",
     "output_type": "stream",
     "text": [
      "\n",
      "Test set: Average loss: 0.0000, Accuracy: 500/500 (100%)\n",
      "\n",
      "\n",
      "Test set: Average loss: 0.9511, Accuracy: 9212/10000 (92%)\n",
      "\n",
      "\n"
     ]
    },
    {
     "data": {
      "application/vnd.jupyter.widget-view+json": {
       "model_id": "ba86faa1ae9c4575a8dca7ea1e0c6812",
       "version_major": 2,
       "version_minor": 0
      },
      "text/plain": [
       "HBox(children=(HTML(value=''), FloatProgress(value=0.0, max=10000.0), HTML(value='')))"
      ]
     },
     "metadata": {},
     "output_type": "display_data"
    },
    {
     "name": "stdout",
     "output_type": "stream",
     "text": [
      "\n",
      "Test set: Average loss: 0.0000, Accuracy: 500/500 (100%)\n",
      "\n",
      "\n",
      "Test set: Average loss: 1.1083, Accuracy: 9053/10000 (91%)\n",
      "\n",
      "\n"
     ]
    },
    {
     "data": {
      "application/vnd.jupyter.widget-view+json": {
       "model_id": "b38f8508ef1043cc84edd5735a55fbc4",
       "version_major": 2,
       "version_minor": 0
      },
      "text/plain": [
       "HBox(children=(HTML(value=''), FloatProgress(value=0.0, max=10000.0), HTML(value='')))"
      ]
     },
     "metadata": {},
     "output_type": "display_data"
    },
    {
     "name": "stdout",
     "output_type": "stream",
     "text": [
      "\n",
      "Test set: Average loss: 0.0000, Accuracy: 500/500 (100%)\n",
      "\n",
      "\n",
      "Test set: Average loss: 0.7397, Accuracy: 9192/10000 (92%)\n",
      "\n",
      "\n"
     ]
    },
    {
     "data": {
      "application/vnd.jupyter.widget-view+json": {
       "model_id": "8c2a01d449c646bdabab0cf8be4000ca",
       "version_major": 2,
       "version_minor": 0
      },
      "text/plain": [
       "HBox(children=(HTML(value=''), FloatProgress(value=0.0, max=10000.0), HTML(value='')))"
      ]
     },
     "metadata": {},
     "output_type": "display_data"
    },
    {
     "name": "stdout",
     "output_type": "stream",
     "text": [
      "\n",
      "Test set: Average loss: 0.0000, Accuracy: 500/500 (100%)\n",
      "\n",
      "\n",
      "Test set: Average loss: 1.4686, Accuracy: 8919/10000 (89%)\n",
      "\n",
      "\n"
     ]
    },
    {
     "data": {
      "application/vnd.jupyter.widget-view+json": {
       "model_id": "e7db631320734ef6878af6ecb8368ac6",
       "version_major": 2,
       "version_minor": 0
      },
      "text/plain": [
       "HBox(children=(HTML(value=''), FloatProgress(value=0.0, max=10000.0), HTML(value='')))"
      ]
     },
     "metadata": {},
     "output_type": "display_data"
    },
    {
     "name": "stdout",
     "output_type": "stream",
     "text": [
      "\n",
      "Test set: Average loss: 0.0000, Accuracy: 500/500 (100%)\n",
      "\n",
      "\n",
      "Test set: Average loss: 1.2224, Accuracy: 8795/10000 (88%)\n",
      "\n",
      "\n"
     ]
    },
    {
     "data": {
      "application/vnd.jupyter.widget-view+json": {
       "model_id": "87d904a8c83d436dbc499d3ca8140a21",
       "version_major": 2,
       "version_minor": 0
      },
      "text/plain": [
       "HBox(children=(HTML(value=''), FloatProgress(value=0.0, max=10000.0), HTML(value='')))"
      ]
     },
     "metadata": {},
     "output_type": "display_data"
    },
    {
     "name": "stdout",
     "output_type": "stream",
     "text": [
      "\n",
      "Test set: Average loss: 0.0000, Accuracy: 500/500 (100%)\n",
      "\n",
      "\n",
      "Test set: Average loss: 0.7953, Accuracy: 9153/10000 (92%)\n",
      "\n",
      "\n"
     ]
    },
    {
     "data": {
      "application/vnd.jupyter.widget-view+json": {
       "model_id": "4b6ea58a0cd24a97b45f46ef3c90f3ae",
       "version_major": 2,
       "version_minor": 0
      },
      "text/plain": [
       "HBox(children=(HTML(value=''), FloatProgress(value=0.0, max=10000.0), HTML(value='')))"
      ]
     },
     "metadata": {},
     "output_type": "display_data"
    },
    {
     "name": "stdout",
     "output_type": "stream",
     "text": [
      "\n",
      "Test set: Average loss: 0.0000, Accuracy: 500/500 (100%)\n",
      "\n",
      "\n",
      "Test set: Average loss: 1.2174, Accuracy: 9097/10000 (91%)\n",
      "\n",
      "\n"
     ]
    },
    {
     "data": {
      "application/vnd.jupyter.widget-view+json": {
       "model_id": "637c37be79cc4a898a9d82517f76759d",
       "version_major": 2,
       "version_minor": 0
      },
      "text/plain": [
       "HBox(children=(HTML(value=''), FloatProgress(value=0.0, max=10000.0), HTML(value='')))"
      ]
     },
     "metadata": {},
     "output_type": "display_data"
    },
    {
     "name": "stdout",
     "output_type": "stream",
     "text": [
      "\n",
      "Test set: Average loss: 0.0000, Accuracy: 500/500 (100%)\n",
      "\n",
      "\n",
      "Test set: Average loss: 1.3305, Accuracy: 9017/10000 (90%)\n",
      "\n",
      "\n"
     ]
    },
    {
     "data": {
      "application/vnd.jupyter.widget-view+json": {
       "model_id": "495577d2a3544f71beaeab13a70d57f2",
       "version_major": 2,
       "version_minor": 0
      },
      "text/plain": [
       "HBox(children=(HTML(value=''), FloatProgress(value=0.0, max=10000.0), HTML(value='')))"
      ]
     },
     "metadata": {},
     "output_type": "display_data"
    },
    {
     "name": "stdout",
     "output_type": "stream",
     "text": [
      "\n",
      "Test set: Average loss: 0.0000, Accuracy: 500/500 (100%)\n",
      "\n",
      "\n",
      "Test set: Average loss: 1.2140, Accuracy: 9039/10000 (90%)\n",
      "\n",
      "\n"
     ]
    },
    {
     "data": {
      "application/vnd.jupyter.widget-view+json": {
       "model_id": "ebb747219bf44a76830aa2a38d0a110d",
       "version_major": 2,
       "version_minor": 0
      },
      "text/plain": [
       "HBox(children=(HTML(value=''), FloatProgress(value=0.0, max=10000.0), HTML(value='')))"
      ]
     },
     "metadata": {},
     "output_type": "display_data"
    },
    {
     "name": "stdout",
     "output_type": "stream",
     "text": [
      "\n",
      "Test set: Average loss: 0.0000, Accuracy: 500/500 (100%)\n",
      "\n",
      "\n",
      "Test set: Average loss: 1.2565, Accuracy: 8942/10000 (89%)\n",
      "\n",
      "\n"
     ]
    },
    {
     "data": {
      "application/vnd.jupyter.widget-view+json": {
       "model_id": "3addee10535c48418e0691d7afed14cb",
       "version_major": 2,
       "version_minor": 0
      },
      "text/plain": [
       "HBox(children=(HTML(value=''), FloatProgress(value=0.0, max=10000.0), HTML(value='')))"
      ]
     },
     "metadata": {},
     "output_type": "display_data"
    },
    {
     "name": "stdout",
     "output_type": "stream",
     "text": [
      "\n",
      "Test set: Average loss: 0.0000, Accuracy: 500/500 (100%)\n",
      "\n",
      "\n",
      "Test set: Average loss: 1.1201, Accuracy: 9150/10000 (92%)\n",
      "\n",
      "\n"
     ]
    },
    {
     "data": {
      "application/vnd.jupyter.widget-view+json": {
       "model_id": "b3b038f4a75a4d098a6cb168de2d01dd",
       "version_major": 2,
       "version_minor": 0
      },
      "text/plain": [
       "HBox(children=(HTML(value=''), FloatProgress(value=0.0, max=10000.0), HTML(value='')))"
      ]
     },
     "metadata": {},
     "output_type": "display_data"
    },
    {
     "name": "stdout",
     "output_type": "stream",
     "text": [
      "\n",
      "Test set: Average loss: 0.0000, Accuracy: 500/500 (100%)\n",
      "\n",
      "\n",
      "Test set: Average loss: 1.0182, Accuracy: 9115/10000 (91%)\n",
      "\n",
      "\n"
     ]
    },
    {
     "data": {
      "application/vnd.jupyter.widget-view+json": {
       "model_id": "2ebc575b19f1450b84f13a7900cdfc69",
       "version_major": 2,
       "version_minor": 0
      },
      "text/plain": [
       "HBox(children=(HTML(value=''), FloatProgress(value=0.0, max=10000.0), HTML(value='')))"
      ]
     },
     "metadata": {},
     "output_type": "display_data"
    },
    {
     "name": "stdout",
     "output_type": "stream",
     "text": [
      "\n",
      "Test set: Average loss: 0.0000, Accuracy: 500/500 (100%)\n",
      "\n",
      "\n",
      "Test set: Average loss: 1.1760, Accuracy: 9096/10000 (91%)\n",
      "\n",
      "\n",
      "\n"
     ]
    }
   ],
   "source": [
    "lambdas = np.logspace(-2,4,30) # From 0.001 to 100\n",
    "results = []\n",
    "for lambd in tqdm(lambdas):\n",
    "    subresults = run_experiment(n_learners=2, n_iterations=10000, lambd=lambd, last_only=True, g=L2_early_squared, n_training_data=1000)\n",
    "    train_loss = list(zip(*subresults))[0][-1]\n",
    "    train_accuracy = list(zip(*subresults))[1][-1]\n",
    "    test_loss = list(zip(*subresults))[2][-1]\n",
    "    test_accuracy = list(zip(*subresults))[3][-1]\n",
    "    results.append((train_loss,train_accuracy,test_loss,test_accuracy))"
   ]
  },
  {
   "cell_type": "code",
   "execution_count": 20,
   "metadata": {},
   "outputs": [],
   "source": [
    "train_losses = list(zip(*results))[0]\n",
    "train_accuracies = list(zip(*results))[1]\n",
    "test_losses = list(zip(*results))[2]\n",
    "test_accuracies = list(zip(*results))[3]"
   ]
  },
  {
   "cell_type": "code",
   "execution_count": 21,
   "metadata": {},
   "outputs": [
    {
     "name": "stdout",
     "output_type": "stream",
     "text": [
      "The first accuracy is 0.9418\n",
      "The best accuracy is 0.9483 , achieved by lambda= 0.01610262027560939\n"
     ]
    },
    {
     "data": {
      "image/png": "[encoded data removed]",
      "text/plain": [
       "<Figure size 432x288 with 1 Axes>"
      ]
     },
     "metadata": {
      "image/png": {
       "height": 278,
       "width": 385
      },
      "needs_background": "light"
     },
     "output_type": "display_data"
    },
    {
     "data": {
      "image/png": "[encoded data removed]",
      "text/plain": [
       "<Figure size 432x288 with 1 Axes>"
      ]
     },
     "metadata": {
      "image/png": {
       "height": 278,
       "width": 391
      },
      "needs_background": "light"
     },
     "output_type": "display_data"
    }
   ],
   "source": [
    "# 2 learners learning with ADAM and L2 norm for 10000 steps. The data in use is 1000 images for both.\n",
    "\n",
    "plt.figure()\n",
    "plt.plot(lambdas,train_losses, label=\"Training set\")\n",
    "plt.plot(lambdas,test_losses, label=\"Test set\")\n",
    "plt.legend()\n",
    "plt.xscale('log')\n",
    "plt.title(\"Loss of a single learner\")\n",
    "plt.ylabel(\"Loss\")\n",
    "plt.xlabel(r\"$\\lambda$\")\n",
    "plt.figure()\n",
    "plt.plot(lambdas,train_accuracies, label=\"Training set\")\n",
    "plt.plot(lambdas,test_accuracies, label=\"Test set\")\n",
    "plt.legend()\n",
    "plt.xscale('log')\n",
    "plt.title(\"Accuracy of a single learner\")\n",
    "plt.ylabel(\"Accuracy\")\n",
    "plt.xlabel(r\"$\\lambda$\");\n",
    "print(\"The first accuracy is\",test_accuracies[0])\n",
    "print(\"The best accuracy is\",np.max(test_accuracies),\", achieved by lambda=\",lambdas[np.argmax(test_accuracies)])"
   ]
  },
  {
   "cell_type": "markdown",
   "metadata": {},
   "source": [
    "# Sharing of all but the last layer, less data"
   ]
  },
  {
   "cell_type": "code",
   "execution_count": 12,
   "metadata": {},
   "outputs": [],
   "source": [
    "def pi_3(tensor):\n",
    "    mask = torch.cat([torch.ones(1198592,device=DEVICE),torch.zeros(1290,device=DEVICE)])\n",
    "    return tensor * mask\n",
    "\n",
    "# Squared euclidian distance of all but the last layer\n",
    "def L2_semiearly_squared(local,neighbor):\n",
    "    return torch.norm(pi_3(local)-pi_3(neighbor)).pow(2)"
   ]
  },
  {
   "cell_type": "code",
   "execution_count": 14,
   "metadata": {},
   "outputs": [
    {
     "data": {
      "application/vnd.jupyter.widget-view+json": {
       "model_id": "890762cf457a429da4ba8f1e3d36f1a2",
       "version_major": 2,
       "version_minor": 0
      },
      "text/plain": [
       "HBox(children=(HTML(value=''), FloatProgress(value=0.0, max=30.0), HTML(value='')))"
      ]
     },
     "metadata": {},
     "output_type": "display_data"
    },
    {
     "data": {
      "application/vnd.jupyter.widget-view+json": {
       "model_id": "62e97225b01344c482ef93f0a49ed22d",
       "version_major": 2,
       "version_minor": 0
      },
      "text/plain": [
       "HBox(children=(HTML(value=''), FloatProgress(value=0.0, max=3000.0), HTML(value='')))"
      ]
     },
     "metadata": {},
     "output_type": "display_data"
    },
    {
     "name": "stdout",
     "output_type": "stream",
     "text": [
      "\n",
      "Test set: Average loss: 0.0000, Accuracy: 500/500 (100%)\n",
      "\n",
      "\n",
      "Test set: Average loss: 0.4273, Accuracy: 9372/10000 (94%)\n",
      "\n",
      "\n"
     ]
    },
    {
     "data": {
      "application/vnd.jupyter.widget-view+json": {
       "model_id": "9213871a44084ed09cfe5cc9f043f621",
       "version_major": 2,
       "version_minor": 0
      },
      "text/plain": [
       "HBox(children=(HTML(value=''), FloatProgress(value=0.0, max=3000.0), HTML(value='')))"
      ]
     },
     "metadata": {},
     "output_type": "display_data"
    },
    {
     "name": "stdout",
     "output_type": "stream",
     "text": [
      "\n",
      "Test set: Average loss: 0.0000, Accuracy: 500/500 (100%)\n",
      "\n",
      "\n",
      "Test set: Average loss: 0.5603, Accuracy: 9257/10000 (93%)\n",
      "\n",
      "\n"
     ]
    },
    {
     "data": {
      "application/vnd.jupyter.widget-view+json": {
       "model_id": "41dd3644f3044e61af2bbcdfd5504672",
       "version_major": 2,
       "version_minor": 0
      },
      "text/plain": [
       "HBox(children=(HTML(value=''), FloatProgress(value=0.0, max=3000.0), HTML(value='')))"
      ]
     },
     "metadata": {},
     "output_type": "display_data"
    },
    {
     "name": "stdout",
     "output_type": "stream",
     "text": [
      "\n",
      "Test set: Average loss: 0.0000, Accuracy: 500/500 (100%)\n",
      "\n",
      "\n",
      "Test set: Average loss: 0.4170, Accuracy: 9378/10000 (94%)\n",
      "\n",
      "\n"
     ]
    },
    {
     "data": {
      "application/vnd.jupyter.widget-view+json": {
       "model_id": "24357207014d41d1a42d242692d5525d",
       "version_major": 2,
       "version_minor": 0
      },
      "text/plain": [
       "HBox(children=(HTML(value=''), FloatProgress(value=0.0, max=3000.0), HTML(value='')))"
      ]
     },
     "metadata": {},
     "output_type": "display_data"
    },
    {
     "name": "stdout",
     "output_type": "stream",
     "text": [
      "\n",
      "Test set: Average loss: 0.0000, Accuracy: 500/500 (100%)\n",
      "\n",
      "\n",
      "Test set: Average loss: 0.4524, Accuracy: 9332/10000 (93%)\n",
      "\n",
      "\n"
     ]
    },
    {
     "data": {
      "application/vnd.jupyter.widget-view+json": {
       "model_id": "8f3142ddd1d248dfad7f7468ffd68ab1",
       "version_major": 2,
       "version_minor": 0
      },
      "text/plain": [
       "HBox(children=(HTML(value=''), FloatProgress(value=0.0, max=3000.0), HTML(value='')))"
      ]
     },
     "metadata": {},
     "output_type": "display_data"
    },
    {
     "name": "stdout",
     "output_type": "stream",
     "text": [
      "\n",
      "Test set: Average loss: 0.0000, Accuracy: 500/500 (100%)\n",
      "\n",
      "\n",
      "Test set: Average loss: 0.4808, Accuracy: 9312/10000 (93%)\n",
      "\n",
      "\n"
     ]
    },
    {
     "data": {
      "application/vnd.jupyter.widget-view+json": {
       "model_id": "9cf5cdaed09f4cff861cdd9aa3c00372",
       "version_major": 2,
       "version_minor": 0
      },
      "text/plain": [
       "HBox(children=(HTML(value=''), FloatProgress(value=0.0, max=3000.0), HTML(value='')))"
      ]
     },
     "metadata": {},
     "output_type": "display_data"
    },
    {
     "name": "stdout",
     "output_type": "stream",
     "text": [
      "\n",
      "Test set: Average loss: 0.0000, Accuracy: 500/500 (100%)\n",
      "\n",
      "\n",
      "Test set: Average loss: 0.4970, Accuracy: 9311/10000 (93%)\n",
      "\n",
      "\n"
     ]
    },
    {
     "data": {
      "application/vnd.jupyter.widget-view+json": {
       "model_id": "ce55d87aac9247aaa71fe69e6267f0ef",
       "version_major": 2,
       "version_minor": 0
      },
      "text/plain": [
       "HBox(children=(HTML(value=''), FloatProgress(value=0.0, max=3000.0), HTML(value='')))"
      ]
     },
     "metadata": {},
     "output_type": "display_data"
    },
    {
     "name": "stdout",
     "output_type": "stream",
     "text": [
      "\n",
      "Test set: Average loss: 0.0000, Accuracy: 500/500 (100%)\n",
      "\n",
      "\n",
      "Test set: Average loss: 0.5374, Accuracy: 9278/10000 (93%)\n",
      "\n",
      "\n"
     ]
    },
    {
     "data": {
      "application/vnd.jupyter.widget-view+json": {
       "model_id": "70e0a1a412094e7c883b6be3b514c323",
       "version_major": 2,
       "version_minor": 0
      },
      "text/plain": [
       "HBox(children=(HTML(value=''), FloatProgress(value=0.0, max=3000.0), HTML(value='')))"
      ]
     },
     "metadata": {},
     "output_type": "display_data"
    },
    {
     "name": "stdout",
     "output_type": "stream",
     "text": [
      "\n",
      "Test set: Average loss: 0.0000, Accuracy: 500/500 (100%)\n",
      "\n",
      "\n",
      "Test set: Average loss: 0.4200, Accuracy: 9437/10000 (94%)\n",
      "\n",
      "\n"
     ]
    },
    {
     "data": {
      "application/vnd.jupyter.widget-view+json": {
       "model_id": "3ff3e4df93424481bd2327f22fadfe47",
       "version_major": 2,
       "version_minor": 0
      },
      "text/plain": [
       "HBox(children=(HTML(value=''), FloatProgress(value=0.0, max=3000.0), HTML(value='')))"
      ]
     },
     "metadata": {},
     "output_type": "display_data"
    },
    {
     "name": "stdout",
     "output_type": "stream",
     "text": [
      "\n",
      "Test set: Average loss: 0.0000, Accuracy: 500/500 (100%)\n",
      "\n",
      "\n",
      "Test set: Average loss: 0.4985, Accuracy: 9287/10000 (93%)\n",
      "\n",
      "\n"
     ]
    },
    {
     "data": {
      "application/vnd.jupyter.widget-view+json": {
       "model_id": "1a983180adf04c899a06d423d9cdbdd9",
       "version_major": 2,
       "version_minor": 0
      },
      "text/plain": [
       "HBox(children=(HTML(value=''), FloatProgress(value=0.0, max=3000.0), HTML(value='')))"
      ]
     },
     "metadata": {},
     "output_type": "display_data"
    },
    {
     "name": "stdout",
     "output_type": "stream",
     "text": [
      "\n",
      "Test set: Average loss: 0.0000, Accuracy: 500/500 (100%)\n",
      "\n",
      "\n",
      "Test set: Average loss: 0.4181, Accuracy: 9363/10000 (94%)\n",
      "\n",
      "\n"
     ]
    },
    {
     "data": {
      "application/vnd.jupyter.widget-view+json": {
       "model_id": "abe57b50780345408de5357b4f83bdce",
       "version_major": 2,
       "version_minor": 0
      },
      "text/plain": [
       "HBox(children=(HTML(value=''), FloatProgress(value=0.0, max=3000.0), HTML(value='')))"
      ]
     },
     "metadata": {},
     "output_type": "display_data"
    },
    {
     "name": "stdout",
     "output_type": "stream",
     "text": [
      "\n",
      "Test set: Average loss: 0.0000, Accuracy: 500/500 (100%)\n",
      "\n",
      "\n",
      "Test set: Average loss: 0.4928, Accuracy: 9301/10000 (93%)\n",
      "\n",
      "\n"
     ]
    },
    {
     "data": {
      "application/vnd.jupyter.widget-view+json": {
       "model_id": "5c0d4db855c04a7aba506966cd83cac2",
       "version_major": 2,
       "version_minor": 0
      },
      "text/plain": [
       "HBox(children=(HTML(value=''), FloatProgress(value=0.0, max=3000.0), HTML(value='')))"
      ]
     },
     "metadata": {},
     "output_type": "display_data"
    },
    {
     "name": "stdout",
     "output_type": "stream",
     "text": [
      "\n",
      "Test set: Average loss: 0.0001, Accuracy: 500/500 (100%)\n",
      "\n",
      "\n",
      "Test set: Average loss: 0.4785, Accuracy: 9208/10000 (92%)\n",
      "\n",
      "\n"
     ]
    },
    {
     "data": {
      "application/vnd.jupyter.widget-view+json": {
       "model_id": "7f2ec29200e445c195bb5a7b291f8953",
       "version_major": 2,
       "version_minor": 0
      },
      "text/plain": [
       "HBox(children=(HTML(value=''), FloatProgress(value=0.0, max=3000.0), HTML(value='')))"
      ]
     },
     "metadata": {},
     "output_type": "display_data"
    },
    {
     "name": "stdout",
     "output_type": "stream",
     "text": [
      "\n",
      "Test set: Average loss: 0.0000, Accuracy: 500/500 (100%)\n",
      "\n",
      "\n",
      "Test set: Average loss: 0.4752, Accuracy: 9294/10000 (93%)\n",
      "\n",
      "\n"
     ]
    },
    {
     "data": {
      "application/vnd.jupyter.widget-view+json": {
       "model_id": "28416176a15f4bbdb94cfe56b84c6838",
       "version_major": 2,
       "version_minor": 0
      },
      "text/plain": [
       "HBox(children=(HTML(value=''), FloatProgress(value=0.0, max=3000.0), HTML(value='')))"
      ]
     },
     "metadata": {},
     "output_type": "display_data"
    },
    {
     "name": "stdout",
     "output_type": "stream",
     "text": [
      "\n",
      "Test set: Average loss: 0.0000, Accuracy: 500/500 (100%)\n",
      "\n",
      "\n",
      "Test set: Average loss: 0.4350, Accuracy: 9290/10000 (93%)\n",
      "\n",
      "\n"
     ]
    },
    {
     "data": {
      "application/vnd.jupyter.widget-view+json": {
       "model_id": "e64d5b23f67e47f2909d253d8d030298",
       "version_major": 2,
       "version_minor": 0
      },
      "text/plain": [
       "HBox(children=(HTML(value=''), FloatProgress(value=0.0, max=3000.0), HTML(value='')))"
      ]
     },
     "metadata": {},
     "output_type": "display_data"
    },
    {
     "name": "stdout",
     "output_type": "stream",
     "text": [
      "\n",
      "Test set: Average loss: 0.0000, Accuracy: 500/500 (100%)\n",
      "\n",
      "\n",
      "Test set: Average loss: 0.3978, Accuracy: 9274/10000 (93%)\n",
      "\n",
      "\n"
     ]
    },
    {
     "data": {
      "application/vnd.jupyter.widget-view+json": {
       "model_id": "213ac38cef9d485cb7f5d0fcebe9204f",
       "version_major": 2,
       "version_minor": 0
      },
      "text/plain": [
       "HBox(children=(HTML(value=''), FloatProgress(value=0.0, max=3000.0), HTML(value='')))"
      ]
     },
     "metadata": {},
     "output_type": "display_data"
    },
    {
     "name": "stdout",
     "output_type": "stream",
     "text": [
      "\n",
      "Test set: Average loss: 0.0023, Accuracy: 500/500 (100%)\n",
      "\n",
      "\n",
      "Test set: Average loss: 0.4041, Accuracy: 9150/10000 (92%)\n",
      "\n",
      "\n"
     ]
    },
    {
     "data": {
      "application/vnd.jupyter.widget-view+json": {
       "model_id": "10e9fc78ab2f466f967e57144326df56",
       "version_major": 2,
       "version_minor": 0
      },
      "text/plain": [
       "HBox(children=(HTML(value=''), FloatProgress(value=0.0, max=3000.0), HTML(value='')))"
      ]
     },
     "metadata": {},
     "output_type": "display_data"
    },
    {
     "name": "stdout",
     "output_type": "stream",
     "text": [
      "\n",
      "Test set: Average loss: 0.0017, Accuracy: 500/500 (100%)\n",
      "\n",
      "\n",
      "Test set: Average loss: 0.3702, Accuracy: 9234/10000 (92%)\n",
      "\n",
      "\n"
     ]
    },
    {
     "data": {
      "application/vnd.jupyter.widget-view+json": {
       "model_id": "34a9ba50280848289acc1a5497b87067",
       "version_major": 2,
       "version_minor": 0
      },
      "text/plain": [
       "HBox(children=(HTML(value=''), FloatProgress(value=0.0, max=3000.0), HTML(value='')))"
      ]
     },
     "metadata": {},
     "output_type": "display_data"
    },
    {
     "name": "stdout",
     "output_type": "stream",
     "text": [
      "\n",
      "Test set: Average loss: 0.0028, Accuracy: 500/500 (100%)\n",
      "\n",
      "\n",
      "Test set: Average loss: 0.3906, Accuracy: 9124/10000 (91%)\n",
      "\n",
      "\n"
     ]
    },
    {
     "data": {
      "application/vnd.jupyter.widget-view+json": {
       "model_id": "8fdb362922f04ef1ab09815dfa33f505",
       "version_major": 2,
       "version_minor": 0
      },
      "text/plain": [
       "HBox(children=(HTML(value=''), FloatProgress(value=0.0, max=3000.0), HTML(value='')))"
      ]
     },
     "metadata": {},
     "output_type": "display_data"
    },
    {
     "name": "stdout",
     "output_type": "stream",
     "text": [
      "\n",
      "Test set: Average loss: 0.0042, Accuracy: 500/500 (100%)\n",
      "\n",
      "\n",
      "Test set: Average loss: 0.3245, Accuracy: 9153/10000 (92%)\n",
      "\n",
      "\n"
     ]
    },
    {
     "data": {
      "application/vnd.jupyter.widget-view+json": {
       "model_id": "f160810a12e340bab28f9e60a14c75c9",
       "version_major": 2,
       "version_minor": 0
      },
      "text/plain": [
       "HBox(children=(HTML(value=''), FloatProgress(value=0.0, max=3000.0), HTML(value='')))"
      ]
     },
     "metadata": {},
     "output_type": "display_data"
    },
    {
     "name": "stdout",
     "output_type": "stream",
     "text": [
      "\n",
      "Test set: Average loss: 0.0266, Accuracy: 499/500 (100%)\n",
      "\n",
      "\n",
      "Test set: Average loss: 0.3453, Accuracy: 9044/10000 (90%)\n",
      "\n",
      "\n"
     ]
    },
    {
     "data": {
      "application/vnd.jupyter.widget-view+json": {
       "model_id": "b2901085bda344d2a51e3f60f08a515e",
       "version_major": 2,
       "version_minor": 0
      },
      "text/plain": [
       "HBox(children=(HTML(value=''), FloatProgress(value=0.0, max=3000.0), HTML(value='')))"
      ]
     },
     "metadata": {},
     "output_type": "display_data"
    },
    {
     "name": "stdout",
     "output_type": "stream",
     "text": [
      "\n",
      "Test set: Average loss: 0.0620, Accuracy: 498/500 (100%)\n",
      "\n",
      "\n",
      "Test set: Average loss: 0.4123, Accuracy: 8819/10000 (88%)\n",
      "\n",
      "\n"
     ]
    },
    {
     "data": {
      "application/vnd.jupyter.widget-view+json": {
       "model_id": "8f84cb665505441b847750a761aa22e2",
       "version_major": 2,
       "version_minor": 0
      },
      "text/plain": [
       "HBox(children=(HTML(value=''), FloatProgress(value=0.0, max=3000.0), HTML(value='')))"
      ]
     },
     "metadata": {},
     "output_type": "display_data"
    },
    {
     "name": "stdout",
     "output_type": "stream",
     "text": [
      "\n",
      "Test set: Average loss: 0.2413, Accuracy: 467/500 (93%)\n",
      "\n",
      "\n",
      "Test set: Average loss: 0.4693, Accuracy: 8619/10000 (86%)\n",
      "\n",
      "\n"
     ]
    },
    {
     "data": {
      "application/vnd.jupyter.widget-view+json": {
       "model_id": "3fb32d7e500c41ad9eb0c37fbae7ce41",
       "version_major": 2,
       "version_minor": 0
      },
      "text/plain": [
       "HBox(children=(HTML(value=''), FloatProgress(value=0.0, max=3000.0), HTML(value='')))"
      ]
     },
     "metadata": {},
     "output_type": "display_data"
    },
    {
     "name": "stdout",
     "output_type": "stream",
     "text": [
      "\n",
      "Test set: Average loss: 0.1475, Accuracy: 478/500 (96%)\n",
      "\n",
      "\n",
      "Test set: Average loss: 0.3942, Accuracy: 8824/10000 (88%)\n",
      "\n",
      "\n"
     ]
    },
    {
     "data": {
      "application/vnd.jupyter.widget-view+json": {
       "model_id": "782dc2ca26324252864b97bd090bbe87",
       "version_major": 2,
       "version_minor": 0
      },
      "text/plain": [
       "HBox(children=(HTML(value=''), FloatProgress(value=0.0, max=3000.0), HTML(value='')))"
      ]
     },
     "metadata": {},
     "output_type": "display_data"
    },
    {
     "name": "stdout",
     "output_type": "stream",
     "text": [
      "\n",
      "Test set: Average loss: 0.2473, Accuracy: 466/500 (93%)\n",
      "\n",
      "\n",
      "Test set: Average loss: 0.4716, Accuracy: 8531/10000 (85%)\n",
      "\n",
      "\n"
     ]
    },
    {
     "data": {
      "application/vnd.jupyter.widget-view+json": {
       "model_id": "1052b943b8fe4572a05d4c12d2d5c159",
       "version_major": 2,
       "version_minor": 0
      },
      "text/plain": [
       "HBox(children=(HTML(value=''), FloatProgress(value=0.0, max=3000.0), HTML(value='')))"
      ]
     },
     "metadata": {},
     "output_type": "display_data"
    },
    {
     "name": "stdout",
     "output_type": "stream",
     "text": [
      "\n",
      "Test set: Average loss: 0.2259, Accuracy: 467/500 (93%)\n",
      "\n",
      "\n",
      "Test set: Average loss: 0.4113, Accuracy: 8783/10000 (88%)\n",
      "\n",
      "\n"
     ]
    },
    {
     "data": {
      "application/vnd.jupyter.widget-view+json": {
       "model_id": "bd3c2a4d1c7d4798ab2d21348bcffcc0",
       "version_major": 2,
       "version_minor": 0
      },
      "text/plain": [
       "HBox(children=(HTML(value=''), FloatProgress(value=0.0, max=3000.0), HTML(value='')))"
      ]
     },
     "metadata": {},
     "output_type": "display_data"
    },
    {
     "name": "stdout",
     "output_type": "stream",
     "text": [
      "\n",
      "Test set: Average loss: 0.2710, Accuracy: 469/500 (94%)\n",
      "\n",
      "\n",
      "Test set: Average loss: 0.5144, Accuracy: 8501/10000 (85%)\n",
      "\n",
      "\n"
     ]
    },
    {
     "data": {
      "application/vnd.jupyter.widget-view+json": {
       "model_id": "3b28c9ddf1e345d8b50613d35c7c85bf",
       "version_major": 2,
       "version_minor": 0
      },
      "text/plain": [
       "HBox(children=(HTML(value=''), FloatProgress(value=0.0, max=3000.0), HTML(value='')))"
      ]
     },
     "metadata": {},
     "output_type": "display_data"
    },
    {
     "name": "stdout",
     "output_type": "stream",
     "text": [
      "\n",
      "Test set: Average loss: 0.4183, Accuracy: 448/500 (90%)\n",
      "\n",
      "\n",
      "Test set: Average loss: 0.5927, Accuracy: 8298/10000 (83%)\n",
      "\n",
      "\n"
     ]
    },
    {
     "data": {
      "application/vnd.jupyter.widget-view+json": {
       "model_id": "e7c97bddbd2c499aa9b71ac91f9d2e30",
       "version_major": 2,
       "version_minor": 0
      },
      "text/plain": [
       "HBox(children=(HTML(value=''), FloatProgress(value=0.0, max=3000.0), HTML(value='')))"
      ]
     },
     "metadata": {},
     "output_type": "display_data"
    },
    {
     "name": "stdout",
     "output_type": "stream",
     "text": [
      "\n",
      "Test set: Average loss: 0.5950, Accuracy: 421/500 (84%)\n",
      "\n",
      "\n",
      "Test set: Average loss: 0.7197, Accuracy: 7914/10000 (79%)\n",
      "\n",
      "\n"
     ]
    },
    {
     "data": {
      "application/vnd.jupyter.widget-view+json": {
       "model_id": "3a9d9341e3334bcd8edadb1cd725dcf7",
       "version_major": 2,
       "version_minor": 0
      },
      "text/plain": [
       "HBox(children=(HTML(value=''), FloatProgress(value=0.0, max=3000.0), HTML(value='')))"
      ]
     },
     "metadata": {},
     "output_type": "display_data"
    },
    {
     "name": "stdout",
     "output_type": "stream",
     "text": [
      "\n",
      "Test set: Average loss: 0.5161, Accuracy: 417/500 (83%)\n",
      "\n",
      "\n",
      "Test set: Average loss: 0.6325, Accuracy: 8147/10000 (81%)\n",
      "\n",
      "\n"
     ]
    },
    {
     "data": {
      "application/vnd.jupyter.widget-view+json": {
       "model_id": "50744e2fe67d4627b810407281149a53",
       "version_major": 2,
       "version_minor": 0
      },
      "text/plain": [
       "HBox(children=(HTML(value=''), FloatProgress(value=0.0, max=3000.0), HTML(value='')))"
      ]
     },
     "metadata": {},
     "output_type": "display_data"
    },
    {
     "name": "stdout",
     "output_type": "stream",
     "text": [
      "\n",
      "Test set: Average loss: 1.5053, Accuracy: 314/500 (63%)\n",
      "\n",
      "\n",
      "Test set: Average loss: 1.5908, Accuracy: 5820/10000 (58%)\n",
      "\n",
      "\n",
      "\n"
     ]
    }
   ],
   "source": [
    "lambdas = np.logspace(-2,4,30) # From 0.001 to 100\n",
    "results = []\n",
    "for lambd in tqdm(lambdas):\n",
    "    subresults = run_experiment(n_learners=2, n_iterations=3000, lambd=lambd, last_only=True, g=L2_semiearly_squared, n_training_data=1000)\n",
    "    train_loss = list(zip(*subresults))[0][-1]\n",
    "    train_accuracy = list(zip(*subresults))[1][-1]\n",
    "    test_loss = list(zip(*subresults))[2][-1]\n",
    "    test_accuracy = list(zip(*subresults))[3][-1]\n",
    "    results.append((train_loss,train_accuracy,test_loss,test_accuracy))"
   ]
  },
  {
   "cell_type": "code",
   "execution_count": 15,
   "metadata": {},
   "outputs": [],
   "source": [
    "train_losses = list(zip(*results))[0]\n",
    "train_accuracies = list(zip(*results))[1]\n",
    "test_losses = list(zip(*results))[2]\n",
    "test_accuracies = list(zip(*results))[3]"
   ]
  },
  {
   "cell_type": "code",
   "execution_count": 16,
   "metadata": {},
   "outputs": [
    {
     "name": "stdout",
     "output_type": "stream",
     "text": [
      "The first accuracy is 0.9372\n",
      "The best accuracy is 0.9437 , achieved by lambda= 0.2807216203941177\n"
     ]
    },
    {
     "data": {
      "image/png": "[encoded data removed]",
      "text/plain": [
       "<Figure size 432x288 with 1 Axes>"
      ]
     },
     "metadata": {
      "image/png": {
       "height": 278,
       "width": 385
      },
      "needs_background": "light"
     },
     "output_type": "display_data"
    },
    {
     "data": {
      "image/png": "[encoded data removed]",
      "text/plain": [
       "<Figure size 432x288 with 1 Axes>"
      ]
     },
     "metadata": {
      "image/png": {
       "height": 278,
       "width": 385
      },
      "needs_background": "light"
     },
     "output_type": "display_data"
    }
   ],
   "source": [
    "# 2 learners learning with ADAM and L2_squared_semiearly norm for 3000 steps. The data in use is 1000 images for both.\n",
    "\n",
    "plt.figure()\n",
    "plt.plot(lambdas,train_losses, label=\"Training set\")\n",
    "plt.plot(lambdas,test_losses, label=\"Test set\")\n",
    "plt.legend()\n",
    "plt.xscale('log')\n",
    "plt.title(\"Loss of a single learner\")\n",
    "plt.ylabel(\"Loss\")\n",
    "plt.xlabel(r\"$\\lambda$\")\n",
    "plt.figure()\n",
    "plt.plot(lambdas,train_accuracies, label=\"Training set\")\n",
    "plt.plot(lambdas,test_accuracies, label=\"Test set\")\n",
    "plt.legend()\n",
    "plt.xscale('log')\n",
    "plt.title(\"Accuracy of a single learner\")\n",
    "plt.ylabel(\"Accuracy\")\n",
    "plt.xlabel(r\"$\\lambda$\");\n",
    "print(\"The first accuracy is\",test_accuracies[0])\n",
    "print(\"The best accuracy is\",np.max(test_accuracies),\", achieved by lambda=\",lambdas[np.argmax(test_accuracies)])"
   ]
  },
  {
   "cell_type": "markdown",
   "metadata": {},
   "source": [
    "# Run the same thing with 2 clusters"
   ]
  },
  {
   "cell_type": "code",
   "execution_count": 14,
   "metadata": {},
   "outputs": [
    {
     "data": {
      "application/vnd.jupyter.widget-view+json": {
       "model_id": "c45cc011e39540db8c0c6fd22b5e41d2",
       "version_major": 2,
       "version_minor": 0
      },
      "text/plain": [
       "HBox(children=(HTML(value=''), FloatProgress(value=0.0, max=30.0), HTML(value='')))"
      ]
     },
     "metadata": {},
     "output_type": "display_data"
    },
    {
     "data": {
      "application/vnd.jupyter.widget-view+json": {
       "model_id": "f12bbb52657c4129bc1bb3f940322bda",
       "version_major": 2,
       "version_minor": 0
      },
      "text/plain": [
       "HBox(children=(HTML(value=''), FloatProgress(value=0.0, max=10000.0), HTML(value='')))"
      ]
     },
     "metadata": {},
     "output_type": "display_data"
    },
    {
     "name": "stdout",
     "output_type": "stream",
     "text": [
      "\n",
      "Test set: Average loss: 0.0007, Accuracy: 1000/1000 (100%)\n",
      "\n",
      "\n",
      "Test set: Average loss: 0.2053, Accuracy: 9504/10000 (95%)\n",
      "\n",
      "\n"
     ]
    },
    {
     "data": {
      "application/vnd.jupyter.widget-view+json": {
       "model_id": "243757f39742480899a72922540498e1",
       "version_major": 2,
       "version_minor": 0
      },
      "text/plain": [
       "HBox(children=(HTML(value=''), FloatProgress(value=0.0, max=10000.0), HTML(value='')))"
      ]
     },
     "metadata": {},
     "output_type": "display_data"
    },
    {
     "name": "stdout",
     "output_type": "stream",
     "text": [
      "\n",
      "Test set: Average loss: 0.0008, Accuracy: 1000/1000 (100%)\n",
      "\n",
      "\n",
      "Test set: Average loss: 0.2188, Accuracy: 9493/10000 (95%)\n",
      "\n",
      "\n"
     ]
    },
    {
     "data": {
      "application/vnd.jupyter.widget-view+json": {
       "model_id": "cc0d7f2f645f4052a4805b2912883c8e",
       "version_major": 2,
       "version_minor": 0
      },
      "text/plain": [
       "HBox(children=(HTML(value=''), FloatProgress(value=0.0, max=10000.0), HTML(value='')))"
      ]
     },
     "metadata": {},
     "output_type": "display_data"
    },
    {
     "name": "stdout",
     "output_type": "stream",
     "text": [
      "\n",
      "Test set: Average loss: 0.0009, Accuracy: 1000/1000 (100%)\n",
      "\n",
      "\n",
      "Test set: Average loss: 0.2161, Accuracy: 9500/10000 (95%)\n",
      "\n",
      "\n"
     ]
    },
    {
     "data": {
      "application/vnd.jupyter.widget-view+json": {
       "model_id": "37c09f7b85284e8bae5d976dc002d755",
       "version_major": 2,
       "version_minor": 0
      },
      "text/plain": [
       "HBox(children=(HTML(value=''), FloatProgress(value=0.0, max=10000.0), HTML(value='')))"
      ]
     },
     "metadata": {},
     "output_type": "display_data"
    },
    {
     "name": "stdout",
     "output_type": "stream",
     "text": [
      "\n",
      "Test set: Average loss: 0.0004, Accuracy: 1000/1000 (100%)\n",
      "\n",
      "\n",
      "Test set: Average loss: 0.2813, Accuracy: 9411/10000 (94%)\n",
      "\n",
      "\n"
     ]
    },
    {
     "data": {
      "application/vnd.jupyter.widget-view+json": {
       "model_id": "073099b171ce439ca158953c821b6574",
       "version_major": 2,
       "version_minor": 0
      },
      "text/plain": [
       "HBox(children=(HTML(value=''), FloatProgress(value=0.0, max=10000.0), HTML(value='')))"
      ]
     },
     "metadata": {},
     "output_type": "display_data"
    },
    {
     "name": "stdout",
     "output_type": "stream",
     "text": [
      "\n",
      "Test set: Average loss: 0.0004, Accuracy: 1000/1000 (100%)\n",
      "\n",
      "\n",
      "Test set: Average loss: 0.2544, Accuracy: 9434/10000 (94%)\n",
      "\n",
      "\n"
     ]
    },
    {
     "data": {
      "application/vnd.jupyter.widget-view+json": {
       "model_id": "ea6f7bb1fc664dc7926f610ece28c79c",
       "version_major": 2,
       "version_minor": 0
      },
      "text/plain": [
       "HBox(children=(HTML(value=''), FloatProgress(value=0.0, max=10000.0), HTML(value='')))"
      ]
     },
     "metadata": {},
     "output_type": "display_data"
    },
    {
     "name": "stdout",
     "output_type": "stream",
     "text": [
      "\n",
      "Test set: Average loss: 0.0007, Accuracy: 1000/1000 (100%)\n",
      "\n",
      "\n",
      "Test set: Average loss: 0.2467, Accuracy: 9445/10000 (94%)\n",
      "\n",
      "\n"
     ]
    },
    {
     "data": {
      "application/vnd.jupyter.widget-view+json": {
       "model_id": "6a9baadea9054f9188b34fe70c99e0ef",
       "version_major": 2,
       "version_minor": 0
      },
      "text/plain": [
       "HBox(children=(HTML(value=''), FloatProgress(value=0.0, max=10000.0), HTML(value='')))"
      ]
     },
     "metadata": {},
     "output_type": "display_data"
    },
    {
     "name": "stdout",
     "output_type": "stream",
     "text": [
      "\n",
      "Test set: Average loss: 0.0017, Accuracy: 1000/1000 (100%)\n",
      "\n",
      "\n",
      "Test set: Average loss: 0.2161, Accuracy: 9455/10000 (95%)\n",
      "\n",
      "\n"
     ]
    },
    {
     "data": {
      "application/vnd.jupyter.widget-view+json": {
       "model_id": "c0bb7bcbe3564ebb887802ddce1f6e37",
       "version_major": 2,
       "version_minor": 0
      },
      "text/plain": [
       "HBox(children=(HTML(value=''), FloatProgress(value=0.0, max=10000.0), HTML(value='')))"
      ]
     },
     "metadata": {},
     "output_type": "display_data"
    },
    {
     "name": "stdout",
     "output_type": "stream",
     "text": [
      "\n",
      "Test set: Average loss: 0.0008, Accuracy: 1000/1000 (100%)\n",
      "\n",
      "\n",
      "Test set: Average loss: 0.2283, Accuracy: 9462/10000 (95%)\n",
      "\n",
      "\n"
     ]
    },
    {
     "data": {
      "application/vnd.jupyter.widget-view+json": {
       "model_id": "bce71603b65c46be8cb8cf573fc0c08e",
       "version_major": 2,
       "version_minor": 0
      },
      "text/plain": [
       "HBox(children=(HTML(value=''), FloatProgress(value=0.0, max=10000.0), HTML(value='')))"
      ]
     },
     "metadata": {},
     "output_type": "display_data"
    },
    {
     "name": "stdout",
     "output_type": "stream",
     "text": [
      "\n",
      "Test set: Average loss: 0.0015, Accuracy: 1000/1000 (100%)\n",
      "\n",
      "\n",
      "Test set: Average loss: 0.2145, Accuracy: 9487/10000 (95%)\n",
      "\n",
      "\n"
     ]
    },
    {
     "data": {
      "application/vnd.jupyter.widget-view+json": {
       "model_id": "2eaf98b4f24f4b5da0821bd1a4bfa11b",
       "version_major": 2,
       "version_minor": 0
      },
      "text/plain": [
       "HBox(children=(HTML(value=''), FloatProgress(value=0.0, max=10000.0), HTML(value='')))"
      ]
     },
     "metadata": {},
     "output_type": "display_data"
    },
    {
     "name": "stdout",
     "output_type": "stream",
     "text": [
      "\n",
      "Test set: Average loss: 0.0015, Accuracy: 1000/1000 (100%)\n",
      "\n",
      "\n",
      "Test set: Average loss: 0.2694, Accuracy: 9367/10000 (94%)\n",
      "\n",
      "\n"
     ]
    },
    {
     "data": {
      "application/vnd.jupyter.widget-view+json": {
       "model_id": "82ad407876cf42cb9c8b64c009aa7a46",
       "version_major": 2,
       "version_minor": 0
      },
      "text/plain": [
       "HBox(children=(HTML(value=''), FloatProgress(value=0.0, max=10000.0), HTML(value='')))"
      ]
     },
     "metadata": {},
     "output_type": "display_data"
    },
    {
     "name": "stdout",
     "output_type": "stream",
     "text": [
      "\n",
      "Test set: Average loss: 0.0024, Accuracy: 1000/1000 (100%)\n",
      "\n",
      "\n",
      "Test set: Average loss: 0.2425, Accuracy: 9385/10000 (94%)\n",
      "\n",
      "\n"
     ]
    },
    {
     "data": {
      "application/vnd.jupyter.widget-view+json": {
       "model_id": "7300b72bc7c940548ac1f83c9e4b8614",
       "version_major": 2,
       "version_minor": 0
      },
      "text/plain": [
       "HBox(children=(HTML(value=''), FloatProgress(value=0.0, max=10000.0), HTML(value='')))"
      ]
     },
     "metadata": {},
     "output_type": "display_data"
    },
    {
     "name": "stdout",
     "output_type": "stream",
     "text": [
      "\n",
      "Test set: Average loss: 0.0042, Accuracy: 1000/1000 (100%)\n",
      "\n",
      "\n",
      "Test set: Average loss: 0.2538, Accuracy: 9355/10000 (94%)\n",
      "\n",
      "\n"
     ]
    },
    {
     "data": {
      "application/vnd.jupyter.widget-view+json": {
       "model_id": "6065df32626b4112a474acaa24850a60",
       "version_major": 2,
       "version_minor": 0
      },
      "text/plain": [
       "HBox(children=(HTML(value=''), FloatProgress(value=0.0, max=10000.0), HTML(value='')))"
      ]
     },
     "metadata": {},
     "output_type": "display_data"
    },
    {
     "name": "stdout",
     "output_type": "stream",
     "text": [
      "\n",
      "Test set: Average loss: 0.0103, Accuracy: 999/1000 (100%)\n",
      "\n",
      "\n",
      "Test set: Average loss: 0.2345, Accuracy: 9366/10000 (94%)\n",
      "\n",
      "\n"
     ]
    },
    {
     "data": {
      "application/vnd.jupyter.widget-view+json": {
       "model_id": "f898406c2aed4c3fb1caf1bf75a3673e",
       "version_major": 2,
       "version_minor": 0
      },
      "text/plain": [
       "HBox(children=(HTML(value=''), FloatProgress(value=0.0, max=10000.0), HTML(value='')))"
      ]
     },
     "metadata": {},
     "output_type": "display_data"
    },
    {
     "name": "stdout",
     "output_type": "stream",
     "text": [
      "\n",
      "Test set: Average loss: 0.0077, Accuracy: 1000/1000 (100%)\n",
      "\n",
      "\n",
      "Test set: Average loss: 0.2135, Accuracy: 9422/10000 (94%)\n",
      "\n",
      "\n"
     ]
    },
    {
     "data": {
      "application/vnd.jupyter.widget-view+json": {
       "model_id": "f166a4612d7a49e5866476ad2e7d9f84",
       "version_major": 2,
       "version_minor": 0
      },
      "text/plain": [
       "HBox(children=(HTML(value=''), FloatProgress(value=0.0, max=10000.0), HTML(value='')))"
      ]
     },
     "metadata": {},
     "output_type": "display_data"
    },
    {
     "name": "stdout",
     "output_type": "stream",
     "text": [
      "\n",
      "Test set: Average loss: 0.0098, Accuracy: 1000/1000 (100%)\n",
      "\n",
      "\n",
      "Test set: Average loss: 0.2628, Accuracy: 9286/10000 (93%)\n",
      "\n",
      "\n"
     ]
    },
    {
     "data": {
      "application/vnd.jupyter.widget-view+json": {
       "model_id": "7cddaf996f56483b89db2825d0e8b736",
       "version_major": 2,
       "version_minor": 0
      },
      "text/plain": [
       "HBox(children=(HTML(value=''), FloatProgress(value=0.0, max=10000.0), HTML(value='')))"
      ]
     },
     "metadata": {},
     "output_type": "display_data"
    },
    {
     "name": "stdout",
     "output_type": "stream",
     "text": [
      "\n",
      "Test set: Average loss: 0.0099, Accuracy: 1000/1000 (100%)\n",
      "\n",
      "\n",
      "Test set: Average loss: 0.2510, Accuracy: 9318/10000 (93%)\n",
      "\n",
      "\n"
     ]
    },
    {
     "data": {
      "application/vnd.jupyter.widget-view+json": {
       "model_id": "93872a6845384c2aace2b7ff1a4f8bb9",
       "version_major": 2,
       "version_minor": 0
      },
      "text/plain": [
       "HBox(children=(HTML(value=''), FloatProgress(value=0.0, max=10000.0), HTML(value='')))"
      ]
     },
     "metadata": {},
     "output_type": "display_data"
    },
    {
     "name": "stdout",
     "output_type": "stream",
     "text": [
      "\n",
      "Test set: Average loss: 0.0103, Accuracy: 1000/1000 (100%)\n",
      "\n",
      "\n",
      "Test set: Average loss: 0.2457, Accuracy: 9294/10000 (93%)\n",
      "\n",
      "\n"
     ]
    },
    {
     "data": {
      "application/vnd.jupyter.widget-view+json": {
       "model_id": "79fdd0a6b6cf4047a00facfe915fa644",
       "version_major": 2,
       "version_minor": 0
      },
      "text/plain": [
       "HBox(children=(HTML(value=''), FloatProgress(value=0.0, max=10000.0), HTML(value='')))"
      ]
     },
     "metadata": {},
     "output_type": "display_data"
    },
    {
     "name": "stdout",
     "output_type": "stream",
     "text": [
      "\n",
      "Test set: Average loss: 0.0093, Accuracy: 1000/1000 (100%)\n",
      "\n",
      "\n",
      "Test set: Average loss: 0.2483, Accuracy: 9294/10000 (93%)\n",
      "\n",
      "\n"
     ]
    },
    {
     "data": {
      "application/vnd.jupyter.widget-view+json": {
       "model_id": "dce0ca3e6f874e978c902258d6aab542",
       "version_major": 2,
       "version_minor": 0
      },
      "text/plain": [
       "HBox(children=(HTML(value=''), FloatProgress(value=0.0, max=10000.0), HTML(value='')))"
      ]
     },
     "metadata": {},
     "output_type": "display_data"
    },
    {
     "name": "stdout",
     "output_type": "stream",
     "text": [
      "\n",
      "Test set: Average loss: 0.0096, Accuracy: 1000/1000 (100%)\n",
      "\n",
      "\n",
      "Test set: Average loss: 0.2378, Accuracy: 9301/10000 (93%)\n",
      "\n",
      "\n"
     ]
    },
    {
     "data": {
      "application/vnd.jupyter.widget-view+json": {
       "model_id": "39e03e8fa1ff4e9abd76553ff1ea5dad",
       "version_major": 2,
       "version_minor": 0
      },
      "text/plain": [
       "HBox(children=(HTML(value=''), FloatProgress(value=0.0, max=10000.0), HTML(value='')))"
      ]
     },
     "metadata": {},
     "output_type": "display_data"
    },
    {
     "name": "stdout",
     "output_type": "stream",
     "text": [
      "\n",
      "Test set: Average loss: 0.0190, Accuracy: 998/1000 (100%)\n",
      "\n",
      "\n",
      "Test set: Average loss: 0.2478, Accuracy: 9247/10000 (92%)\n",
      "\n",
      "\n"
     ]
    },
    {
     "data": {
      "application/vnd.jupyter.widget-view+json": {
       "model_id": "b89cc6ba7ff749cda1cec43e05221d45",
       "version_major": 2,
       "version_minor": 0
      },
      "text/plain": [
       "HBox(children=(HTML(value=''), FloatProgress(value=0.0, max=10000.0), HTML(value='')))"
      ]
     },
     "metadata": {},
     "output_type": "display_data"
    },
    {
     "name": "stdout",
     "output_type": "stream",
     "text": [
      "\n",
      "Test set: Average loss: 0.0107, Accuracy: 1000/1000 (100%)\n",
      "\n",
      "\n",
      "Test set: Average loss: 0.2689, Accuracy: 9266/10000 (93%)\n",
      "\n",
      "\n"
     ]
    },
    {
     "data": {
      "application/vnd.jupyter.widget-view+json": {
       "model_id": "5256d964c8694b859c15dbb4e828d027",
       "version_major": 2,
       "version_minor": 0
      },
      "text/plain": [
       "HBox(children=(HTML(value=''), FloatProgress(value=0.0, max=10000.0), HTML(value='')))"
      ]
     },
     "metadata": {},
     "output_type": "display_data"
    },
    {
     "name": "stdout",
     "output_type": "stream",
     "text": [
      "\n",
      "Test set: Average loss: 0.0288, Accuracy: 998/1000 (100%)\n",
      "\n",
      "\n",
      "Test set: Average loss: 0.2457, Accuracy: 9283/10000 (93%)\n",
      "\n",
      "\n"
     ]
    },
    {
     "data": {
      "application/vnd.jupyter.widget-view+json": {
       "model_id": "7805f4ddfbda4effb3cb76036e8fae43",
       "version_major": 2,
       "version_minor": 0
      },
      "text/plain": [
       "HBox(children=(HTML(value=''), FloatProgress(value=0.0, max=10000.0), HTML(value='')))"
      ]
     },
     "metadata": {},
     "output_type": "display_data"
    },
    {
     "name": "stdout",
     "output_type": "stream",
     "text": [
      "\n",
      "Test set: Average loss: 0.0210, Accuracy: 1000/1000 (100%)\n",
      "\n",
      "\n",
      "Test set: Average loss: 0.2315, Accuracy: 9331/10000 (93%)\n",
      "\n",
      "\n"
     ]
    },
    {
     "data": {
      "application/vnd.jupyter.widget-view+json": {
       "model_id": "4c0db0cd3be24fdb89b0e20c38a07dc4",
       "version_major": 2,
       "version_minor": 0
      },
      "text/plain": [
       "HBox(children=(HTML(value=''), FloatProgress(value=0.0, max=10000.0), HTML(value='')))"
      ]
     },
     "metadata": {},
     "output_type": "display_data"
    },
    {
     "name": "stdout",
     "output_type": "stream",
     "text": [
      "\n",
      "Test set: Average loss: 0.0197, Accuracy: 999/1000 (100%)\n",
      "\n",
      "\n",
      "Test set: Average loss: 0.2486, Accuracy: 9289/10000 (93%)\n",
      "\n",
      "\n"
     ]
    },
    {
     "data": {
      "application/vnd.jupyter.widget-view+json": {
       "model_id": "dec38e240ea5478ea64145336c2d5dcb",
       "version_major": 2,
       "version_minor": 0
      },
      "text/plain": [
       "HBox(children=(HTML(value=''), FloatProgress(value=0.0, max=10000.0), HTML(value='')))"
      ]
     },
     "metadata": {},
     "output_type": "display_data"
    },
    {
     "name": "stdout",
     "output_type": "stream",
     "text": [
      "\n",
      "Test set: Average loss: 0.0178, Accuracy: 1000/1000 (100%)\n",
      "\n",
      "\n",
      "Test set: Average loss: 0.2248, Accuracy: 9330/10000 (93%)\n",
      "\n",
      "\n"
     ]
    },
    {
     "data": {
      "application/vnd.jupyter.widget-view+json": {
       "model_id": "12fd6c47816f45fa9b40469f0402eb7f",
       "version_major": 2,
       "version_minor": 0
      },
      "text/plain": [
       "HBox(children=(HTML(value=''), FloatProgress(value=0.0, max=10000.0), HTML(value='')))"
      ]
     },
     "metadata": {},
     "output_type": "display_data"
    },
    {
     "name": "stdout",
     "output_type": "stream",
     "text": [
      "\n",
      "Test set: Average loss: 0.0349, Accuracy: 997/1000 (100%)\n",
      "\n",
      "\n",
      "Test set: Average loss: 0.2150, Accuracy: 9351/10000 (94%)\n",
      "\n",
      "\n"
     ]
    },
    {
     "data": {
      "application/vnd.jupyter.widget-view+json": {
       "model_id": "bb57d8e227fc4aaea64b5396cc545cdb",
       "version_major": 2,
       "version_minor": 0
      },
      "text/plain": [
       "HBox(children=(HTML(value=''), FloatProgress(value=0.0, max=10000.0), HTML(value='')))"
      ]
     },
     "metadata": {},
     "output_type": "display_data"
    },
    {
     "name": "stdout",
     "output_type": "stream",
     "text": [
      "\n",
      "Test set: Average loss: 0.0213, Accuracy: 1000/1000 (100%)\n",
      "\n",
      "\n",
      "Test set: Average loss: 0.2251, Accuracy: 9315/10000 (93%)\n",
      "\n",
      "\n"
     ]
    },
    {
     "data": {
      "application/vnd.jupyter.widget-view+json": {
       "model_id": "1f88b8b84d0e4f25a513d599afa56a95",
       "version_major": 2,
       "version_minor": 0
      },
      "text/plain": [
       "HBox(children=(HTML(value=''), FloatProgress(value=0.0, max=10000.0), HTML(value='')))"
      ]
     },
     "metadata": {},
     "output_type": "display_data"
    },
    {
     "name": "stdout",
     "output_type": "stream",
     "text": [
      "\n",
      "Test set: Average loss: 0.0382, Accuracy: 996/1000 (100%)\n",
      "\n",
      "\n",
      "Test set: Average loss: 0.2458, Accuracy: 9263/10000 (93%)\n",
      "\n",
      "\n"
     ]
    },
    {
     "data": {
      "application/vnd.jupyter.widget-view+json": {
       "model_id": "ccb93646f2804c35b823343bcf762a73",
       "version_major": 2,
       "version_minor": 0
      },
      "text/plain": [
       "HBox(children=(HTML(value=''), FloatProgress(value=0.0, max=10000.0), HTML(value='')))"
      ]
     },
     "metadata": {},
     "output_type": "display_data"
    },
    {
     "name": "stdout",
     "output_type": "stream",
     "text": [
      "\n",
      "Test set: Average loss: 0.0334, Accuracy: 998/1000 (100%)\n",
      "\n",
      "\n",
      "Test set: Average loss: 0.2443, Accuracy: 9286/10000 (93%)\n",
      "\n",
      "\n"
     ]
    },
    {
     "data": {
      "application/vnd.jupyter.widget-view+json": {
       "model_id": "7e3d5a6a4e614adf883109dfc64d5152",
       "version_major": 2,
       "version_minor": 0
      },
      "text/plain": [
       "HBox(children=(HTML(value=''), FloatProgress(value=0.0, max=10000.0), HTML(value='')))"
      ]
     },
     "metadata": {},
     "output_type": "display_data"
    },
    {
     "name": "stdout",
     "output_type": "stream",
     "text": [
      "\n",
      "Test set: Average loss: 0.0204, Accuracy: 999/1000 (100%)\n",
      "\n",
      "\n",
      "Test set: Average loss: 0.2638, Accuracy: 9228/10000 (92%)\n",
      "\n",
      "\n",
      "\n"
     ]
    }
   ],
   "source": [
    "lambdas = np.logspace(-3,3,30) # From 0.001 to 100\n",
    "results = []\n",
    "for lambd in tqdm(lambdas):\n",
    "    subresults = run_experiment(n_learners=60, n_iterations=10000, lambd=lambd, last_only=True, g=L2_early, p_in=0.5, p_out=0.1)\n",
    "    train_loss = list(zip(*subresults))[0][-1]\n",
    "    train_accuracy = list(zip(*subresults))[1][-1]\n",
    "    test_loss = list(zip(*subresults))[2][-1]\n",
    "    test_accuracy = list(zip(*subresults))[3][-1]\n",
    "    results.append((train_loss,train_accuracy,test_loss,test_accuracy))"
   ]
  },
  {
   "cell_type": "code",
   "execution_count": 15,
   "metadata": {},
   "outputs": [],
   "source": [
    "train_losses = list(zip(*results))[0]\n",
    "train_accuracies = list(zip(*results))[1]\n",
    "test_losses = list(zip(*results))[2]\n",
    "test_accuracies = list(zip(*results))[3]"
   ]
  },
  {
   "cell_type": "code",
   "execution_count": 16,
   "metadata": {},
   "outputs": [
    {
     "name": "stdout",
     "output_type": "stream",
     "text": [
      "The first accuracy is 0.9504\n",
      "The best accuracy is 0.9504 , achieved by lambda= 0.001\n"
     ]
    },
    {
     "data": {
      "image/png": "[encoded data removed]",
      "text/plain": [
       "<Figure size 432x288 with 1 Axes>"
      ]
     },
     "metadata": {
      "image/png": {
       "height": 278,
       "width": 391
      },
      "needs_background": "light"
     },
     "output_type": "display_data"
    },
    {
     "data": {
      "image/png": "[encoded data removed]",
      "text/plain": [
       "<Figure size 432x288 with 1 Axes>"
      ]
     },
     "metadata": {
      "image/png": {
       "height": 278,
       "width": 391
      },
      "needs_background": "light"
     },
     "output_type": "display_data"
    }
   ],
   "source": [
    "# 2 learners learning with ADAM and L2 norm for 10000 steps. The data in use is 1000 images for both.\n",
    "\n",
    "plt.figure()\n",
    "plt.plot(lambdas,train_losses, label=\"Training set\")\n",
    "plt.plot(lambdas,test_losses, label=\"Test set\")\n",
    "plt.legend()\n",
    "plt.xscale('log')\n",
    "plt.title(\"Loss of a single learner\")\n",
    "plt.ylabel(\"Loss\")\n",
    "plt.xlabel(r\"$\\lambda$\")\n",
    "plt.figure()\n",
    "plt.plot(lambdas,train_accuracies, label=\"Training set\")\n",
    "plt.plot(lambdas,test_accuracies, label=\"Test set\")\n",
    "plt.legend()\n",
    "plt.xscale('log')\n",
    "plt.title(\"Accuracy of a single learner\")\n",
    "plt.ylabel(\"Accuracy\")\n",
    "plt.xlabel(r\"$\\lambda$\");\n",
    "print(\"The first accuracy is\",test_accuracies[0])\n",
    "print(\"The best accuracy is\",np.max(test_accuracies),\", achieved by lambda=\",lambdas[np.argmax(test_accuracies)])"
   ]
  },
  {
   "cell_type": "code",
   "execution_count": null,
   "metadata": {},
   "outputs": [],
   "source": []
  }
 ],
 "metadata": {
  "kernelspec": {
   "display_name": "Python 3",
   "language": "python",
   "name": "python3"
  },
  "language_info": {
   "codemirror_mode": {
    "name": "ipython",
    "version": 3
   },
   "file_extension": ".py",
   "mimetype": "text/x-python",
   "name": "python",
   "nbconvert_exporter": "python",
   "pygments_lexer": "ipython3",
   "version": "3.8.5"
  }
 },
 "nbformat": 4,
 "nbformat_minor": 4
}
