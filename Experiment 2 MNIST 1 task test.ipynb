{
 "cells": [
  {
   "cell_type": "code",
   "execution_count": 1,
   "metadata": {},
   "outputs": [],
   "source": [
    "# Import MNIST dataset\n",
    "# Generate empirical graph with 1 cluster\n",
    "# For n in [2,4,10,20,40,100,200] or similar...\n",
    "#   Divide the data\n",
    "#   Initialize commonly the models\n",
    "#   Run our algorithm\n",
    "# First centralized, then noncentralized (the same thing for us?)\n",
    "# Compare the result with global single converer (with wall time the same)\n",
    "\n",
    "# Training loss / test loss for every lambda = 0,0.1,1,10...\n",
    "\n",
    "# Take a single lambda and vary the connection probability p"
   ]
  },
  {
   "cell_type": "code",
   "execution_count": 2,
   "metadata": {},
   "outputs": [],
   "source": [
    "import torch\n",
    "import torch.nn as nn\n",
    "import torch.nn.functional as F\n",
    "import torch.optim as optim\n",
    "import torchvision\n",
    "import matplotlib.pyplot as plt\n",
    "import numpy as np\n",
    "import random\n",
    "from graspologic.simulations import sbm\n",
    "from itertools import cycle\n",
    "%config InlineBackend.figure_format = 'retina'\n",
    "DEVICE = \"cuda\" # or \"cpu\"\n",
    "from tqdm.notebook import tqdm"
   ]
  },
  {
   "cell_type": "markdown",
   "metadata": {},
   "source": [
    "# Load and normalize MNIST data"
   ]
  },
  {
   "cell_type": "code",
   "execution_count": 3,
   "metadata": {},
   "outputs": [
    {
     "name": "stdout",
     "output_type": "stream",
     "text": [
      "Mean pixel is 0.13066047430038452  and std is 0.30810782313346863\n"
     ]
    }
   ],
   "source": [
    "#Download the datasets\n",
    "dataset_train = torchvision.datasets.MNIST('../data', train=True, download=True,transform=torchvision.transforms.ToTensor())\n",
    "dataset_test = torchvision.datasets.MNIST('../data', train=False, download=True,transform=torchvision.transforms.ToTensor())\n",
    "# For normalization, get mean and std of the training dataset\n",
    "train_loader = torch.utils.data.DataLoader(dataset_train, batch_size=len(dataset_train))\n",
    "data = next(iter(train_loader))[0]\n",
    "mean, std = data.mean().item(), data.std().item()\n",
    "print(\"Mean pixel is\",mean,\" and std is\",std)\n",
    "\n",
    "# Now we can load the dataset with normalizing transformation\n",
    "transform = torchvision.transforms.Compose([\n",
    "    torchvision.transforms.ToTensor(),\n",
    "    torchvision.transforms.Normalize((mean,),(std,))\n",
    "])\n",
    "dataset_train.transform = transform\n",
    "dataset_test.transform = transform"
   ]
  },
  {
   "cell_type": "code",
   "execution_count": 4,
   "metadata": {},
   "outputs": [
    {
     "name": "stdout",
     "output_type": "stream",
     "text": [
      "6\n"
     ]
    },
    {
     "data": {
      "image/png": "[encoded data removed]",
      "text/plain": [
       "<Figure size 432x288 with 1 Axes>"
      ]
     },
     "metadata": {
      "image/png": {
       "height": 248,
       "width": 251
      },
      "needs_background": "light"
     },
     "output_type": "display_data"
    }
   ],
   "source": [
    "def showimg(tensor):\n",
    "    plt.imshow(tensor.reshape(28,28))\n",
    "showimg(dataset_train[13][0]); # plt.imshow does a min-max normalization, so it always looks the same\n",
    "print(dataset_train[13][1])"
   ]
  },
  {
   "cell_type": "markdown",
   "metadata": {},
   "source": [
    "# Generating the empirical graph"
   ]
  },
  {
   "cell_type": "code",
   "execution_count": 5,
   "metadata": {},
   "outputs": [],
   "source": [
    "# Return the adjacency matrix (as numpy.ndarray), where elements are the link strengths\n",
    "def getAfromSBM(n=10, p=0.5, mu=1):\n",
    "    n = [n]\n",
    "    p = [[p]]\n",
    "    wt = [[np.random.normal]]\n",
    "    wtargs = [[dict(loc=mu, scale=0)]] # scale=1 would be gaussian\n",
    "    A = sbm(n=n, p=p, wt=wt, wtargs=wtargs)\n",
    "    return A\n",
    "\n",
    "A = getAfromSBM()"
   ]
  },
  {
   "cell_type": "markdown",
   "metadata": {},
   "source": [
    "# Define the model and data setup"
   ]
  },
  {
   "cell_type": "code",
   "execution_count": 6,
   "metadata": {},
   "outputs": [],
   "source": [
    "class Net(nn.Module):\n",
    "    def __init__(self):\n",
    "        super(Net, self).__init__()\n",
    "        self.conv1 = nn.Conv2d(1, 32, 3, 1)\n",
    "        self.conv2 = nn.Conv2d(32, 64, 3, 1)\n",
    "        self.dropout1 = nn.Dropout(0.25)\n",
    "        self.dropout2 = nn.Dropout(0.5)\n",
    "        self.fc1 = nn.Linear(9216, 128)\n",
    "        self.fc2 = nn.Linear(128, 10)\n",
    "\n",
    "    def forward(self, x):\n",
    "        x = self.conv1(x)\n",
    "        x = F.relu(x)\n",
    "        x = self.conv2(x)\n",
    "        x = F.relu(x)\n",
    "        x = F.max_pool2d(x, 2)\n",
    "        x = self.dropout1(x)\n",
    "        x = torch.flatten(x, 1)\n",
    "        x = self.fc1(x)\n",
    "        x = F.relu(x)\n",
    "        x = self.dropout2(x)\n",
    "        x = self.fc2(x)\n",
    "        output = F.log_softmax(x, dim=1)\n",
    "        return output"
   ]
  },
  {
   "cell_type": "code",
   "execution_count": 7,
   "metadata": {},
   "outputs": [],
   "source": [
    "def sizes(num,div):\n",
    "    return [num // div + (1 if x < num % div else 0) for x in range(div)]\n",
    "\n",
    "def initialize_learners(n_learners=10):\n",
    "    # divide the data evenly to n_learners\n",
    "    dataset_sizes = sizes(60000, n_learners)\n",
    "    datasets = torch.utils.data.random_split(dataset_train,dataset_sizes)\n",
    "    dataloaders = [torch.utils.data.DataLoader(datasets[i], batch_size = 256) for i in range(n_learners)]\n",
    "    testloader = torch.utils.data.DataLoader(dataset_test, batch_size = 256)\n",
    "\n",
    "    # Initialize the models\n",
    "    models = [Net().to(DEVICE) for i in range(n_learners)]\n",
    "    \n",
    "    # Copy the initialization from model 1 to all others\n",
    "    # NOTE: THIS CAUSES HARD-TO-TRACK BUGS! THE PARAMETERS ARE REF-SHARED\n",
    "    #init_theta1 = torch.nn.utils.parameters_to_vector(models[0].parameters()).detach()\n",
    "    #for i in range(1,n_learners):\n",
    "    #    torch.nn.utils.vector_to_parameters(init_theta1, models[i].parameters())\n",
    "        \n",
    "    # Version 2 for initialization\n",
    "    for i in range(1,n_learners):\n",
    "        models[i].load_state_dict(models[0].state_dict())\n",
    "        \n",
    "    return dataloaders, testloader, models\n",
    "\n",
    "def L2(local, neighbor):\n",
    "    return torch.norm(local - neighbor)\n",
    "\n",
    "def L2_squared(local, neighbor):\n",
    "    #return torch.norm(local - neighbor).pow(2)\n",
    "    return (local - neighbor).pow(2).sum()"
   ]
  },
  {
   "cell_type": "markdown",
   "metadata": {},
   "source": [
    "# Define the local training step and the testing procedure"
   ]
  },
  {
   "cell_type": "code",
   "execution_count": 8,
   "metadata": {},
   "outputs": [],
   "source": [
    "# Takes a single optimizer step. Note that the optimizer state is updated.\n",
    "def train_single_step(model, dataiter, optimizer, neighbor_thetas, neighbor_weights, lambd=0, g=L2_squared):\n",
    "    model.train() # Change into training mode (matters for dropout, at least)\n",
    "    data, target = next(dataiter)\n",
    "    data, target = data.to(DEVICE), target.to(DEVICE)\n",
    "    optimizer.zero_grad()\n",
    "    # First, compute the local loss\n",
    "    output = model(data)\n",
    "    loss = F.nll_loss(output, target)\n",
    "    # Then add the parameter differences\n",
    "    local_theta = torch.nn.utils.parameters_to_vector(model.parameters())\n",
    "    for i in range(len(neighbor_thetas)):\n",
    "        loss += lambd * neighbor_weights[i] * g(local_theta,neighbor_thetas[i])\n",
    "    loss.backward()\n",
    "    optimizer.step()\n",
    "    optimizer.zero_grad()\n",
    "    return loss.item()"
   ]
  },
  {
   "cell_type": "code",
   "execution_count": 9,
   "metadata": {},
   "outputs": [],
   "source": [
    "def test(model, testloader, verbose=True):\n",
    "    model.eval() #Change to evalution mode\n",
    "    test_loss = 0\n",
    "    correct = 0\n",
    "    with torch.no_grad():\n",
    "        for data, target in testloader:\n",
    "            data, target = data.to(DEVICE), target.to(DEVICE)\n",
    "            output=model(data)\n",
    "            test_loss += F.nll_loss(output, target, reduction='sum').item() # sum of the batch loss\n",
    "            pred = output.argmax(dim=1, keepdim=True)\n",
    "            correct += pred.eq(target.view_as(pred)).sum().item() # Number of correct guesses\n",
    "    test_loss /= len(testloader.dataset) # Mean loss (divided by the size of the whole test set)\n",
    "    \n",
    "    if verbose:\n",
    "        print('\\nTest set: Average loss: {:.4f}, Accuracy: {}/{} ({:.0f}%)\\n'.format(\n",
    "            test_loss, correct, len(testloader.dataset), 100. * correct / len(testloader.dataset)))\n",
    "    # Return both loss value and test accuracy\n",
    "    return test_loss, correct / len(testloader.dataset)"
   ]
  },
  {
   "cell_type": "code",
   "execution_count": 10,
   "metadata": {},
   "outputs": [],
   "source": [
    "def compute_L(models, dataloaders, testloader, A, lambd=0, g=L2_squared):\n",
    "    L_loss = 0\n",
    "    L_reg = 0\n",
    "    with torch.no_grad():\n",
    "        for i in range(len(models)):\n",
    "            models[i].eval()\n",
    "            loss, _ = test(models[i], dataloaders[i], verbose=False)\n",
    "            L_loss += loss\n",
    "            neighbor_indices = np.nonzero(A[i])[0]\n",
    "            local_theta = torch.nn.utils.parameters_to_vector(models[i].parameters())\n",
    "            for index in neighbor_indices:\n",
    "                neighbor_theta = torch.nn.utils.parameters_to_vector(models[index].parameters()).detach()\n",
    "                L_reg += 0.5 * lambd * A[i][index] * g(local_theta, neighbor_theta).item()\n",
    "                # 0.5 because each edge is counted twice this way\n",
    "    return L_loss, L_reg\n",
    "\n",
    "def print_memory():\n",
    "    print(\"Total:\",torch.cuda.get_device_properties(0).total_memory)\n",
    "    print(\"Allocated:\",torch.cuda.memory_allocated(0))\n",
    "    print(\"Reserved:\",torch.cuda.memory_allocated(0))"
   ]
  },
  {
   "cell_type": "markdown",
   "metadata": {},
   "source": [
    "# Define the optimization algorithm"
   ]
  },
  {
   "cell_type": "code",
   "execution_count": 11,
   "metadata": {},
   "outputs": [],
   "source": [
    "def run_experiment(n_learners=100, n_iterations=1000,lambd=0,last_only=False, compute_L_flag=False, verbose=False, p=0.5, g=L2_squared):\n",
    "    \n",
    "    A = getAfromSBM(n_learners, p, 1)\n",
    "    dataloaders, testloader, models = initialize_learners(n_learners)\n",
    "    \n",
    "    # Create optimizers to hold the state of one model\n",
    "    optimizers = [torch.optim.Adam(models[i].parameters()) for i in range(n_learners)]\n",
    "    # note that the optimizers only start holding memory-heavy state after the first step. This is \n",
    "    # why it looks like a memory leak during the training (when k is chosen randomly)\n",
    "    \n",
    "    # Load batches infinitely in the same cycle (could update to resample a new loader after one epoch, but this is ok.)\n",
    "    dataiters = [cycle(dataloader) for dataloader in dataloaders]\n",
    "    \n",
    "    results = []\n",
    "    k = 0\n",
    "    for i in tqdm(range(n_iterations+1)):\n",
    "        # Choose a random learner (single one for now)\n",
    "        k = random.randrange(n_learners)\n",
    "        # Work out all the neighbors and the model states of the neighbors\n",
    "        neighbor_indices = np.nonzero(A[k])[0]\n",
    "        neighbor_weights = A[k][neighbor_indices]\n",
    "        neighbor_thetas = []\n",
    "        for index in neighbor_indices:\n",
    "            # Transform the models[index] parameters into a plain vector. Note that we detach them here: this way\n",
    "            # no gradient is sent to neighbor thetas.\n",
    "            neighbor_thetas.append(torch.nn.utils.parameters_to_vector(models[index].parameters()).detach())\n",
    "\n",
    "        # Take the local step except on the very first one (to have correct amount of timepoints)\n",
    "        if i != 0: train_single_step(models[k], dataiters[k], optimizers[k], neighbor_thetas, neighbor_weights, lambd, g=g)\n",
    "\n",
    "        # At some timepoints, calculate losses and accuracies and add to results\n",
    "        # If last_only is True, then only do this at the last timestep.\n",
    "        if ((not last_only) and i % 100 == 0) or (last_only and i == n_iterations-1):\n",
    "            if verbose: print(\"Iteration\",i,\":\")\n",
    "            train_loss, train_accuracy = test(models[0], dataloaders[0])\n",
    "            test_loss, test_accuracy = test(models[0], testloader)\n",
    "            if compute_L_flag:\n",
    "                L_loss, L_reg = compute_L(models, dataloaders, testloader, A, lambd, g=g)\n",
    "            else:\n",
    "                L_loss, L_reg = 0, 0\n",
    "            results.append((train_loss, train_accuracy, test_loss, test_accuracy,L_loss, L_reg))\n",
    "    return results"
   ]
  },
  {
   "cell_type": "markdown",
   "metadata": {},
   "source": [
    "# Run the optimization with lambda=1, see if local loss, test loss, and whole L converge"
   ]
  },
  {
   "cell_type": "code",
   "execution_count": 19,
   "metadata": {
    "scrolled": true
   },
   "outputs": [
    {
     "data": {
      "application/vnd.jupyter.widget-view+json": {
       "model_id": "89e83994cb374ad4baa9d8c4afe45e43",
       "version_major": 2,
       "version_minor": 0
      },
      "text/plain": [
       "HBox(children=(HTML(value=''), FloatProgress(value=0.0, max=10001.0), HTML(value='')))"
      ]
     },
     "metadata": {},
     "output_type": "display_data"
    },
    {
     "name": "stdout",
     "output_type": "stream",
     "text": [
      "Iteration 0 :\n",
      "\n",
      "Test set: Average loss: 2.3021, Accuracy: 94/1000 (9%)\n",
      "\n",
      "\n",
      "Test set: Average loss: 2.3033, Accuracy: 1018/10000 (10%)\n",
      "\n",
      "Iteration 100 :\n",
      "\n",
      "Test set: Average loss: 2.0916, Accuracy: 292/1000 (29%)\n",
      "\n",
      "\n",
      "Test set: Average loss: 2.0882, Accuracy: 3054/10000 (31%)\n",
      "\n",
      "Iteration 200 :\n",
      "\n",
      "Test set: Average loss: 2.1435, Accuracy: 653/1000 (65%)\n",
      "\n",
      "\n",
      "Test set: Average loss: 2.1398, Accuracy: 6520/10000 (65%)\n",
      "\n",
      "Iteration 300 :\n",
      "\n",
      "Test set: Average loss: 2.1168, Accuracy: 640/1000 (64%)\n",
      "\n",
      "\n",
      "Test set: Average loss: 2.1119, Accuracy: 6499/10000 (65%)\n",
      "\n",
      "Iteration 400 :\n",
      "\n",
      "Test set: Average loss: 1.9946, Accuracy: 674/1000 (67%)\n",
      "\n",
      "\n",
      "Test set: Average loss: 1.9863, Accuracy: 6909/10000 (69%)\n",
      "\n",
      "Iteration 500 :\n",
      "\n",
      "Test set: Average loss: 1.8217, Accuracy: 674/1000 (67%)\n",
      "\n",
      "\n",
      "Test set: Average loss: 1.8084, Accuracy: 6978/10000 (70%)\n",
      "\n",
      "Iteration 600 :\n",
      "\n",
      "Test set: Average loss: 1.4597, Accuracy: 716/1000 (72%)\n",
      "\n",
      "\n",
      "Test set: Average loss: 1.4339, Accuracy: 7380/10000 (74%)\n",
      "\n",
      "Iteration 700 :\n",
      "\n",
      "Test set: Average loss: 1.2808, Accuracy: 751/1000 (75%)\n",
      "\n",
      "\n",
      "Test set: Average loss: 1.2485, Accuracy: 7772/10000 (78%)\n",
      "\n",
      "Iteration 800 :\n",
      "\n",
      "Test set: Average loss: 1.2808, Accuracy: 751/1000 (75%)\n",
      "\n",
      "\n",
      "Test set: Average loss: 1.2485, Accuracy: 7772/10000 (78%)\n",
      "\n",
      "Iteration 900 :\n",
      "\n",
      "Test set: Average loss: 1.2143, Accuracy: 753/1000 (75%)\n",
      "\n",
      "\n",
      "Test set: Average loss: 1.1783, Accuracy: 7818/10000 (78%)\n",
      "\n",
      "Iteration 1000 :\n",
      "\n",
      "Test set: Average loss: 1.0208, Accuracy: 772/1000 (77%)\n",
      "\n",
      "\n",
      "Test set: Average loss: 0.9782, Accuracy: 7957/10000 (80%)\n",
      "\n",
      "Iteration 1100 :\n",
      "\n",
      "Test set: Average loss: 0.9019, Accuracy: 782/1000 (78%)\n",
      "\n",
      "\n",
      "Test set: Average loss: 0.8551, Accuracy: 8066/10000 (81%)\n",
      "\n",
      "Iteration 1200 :\n",
      "\n",
      "Test set: Average loss: 0.8153, Accuracy: 789/1000 (79%)\n",
      "\n",
      "\n",
      "Test set: Average loss: 0.7639, Accuracy: 8161/10000 (82%)\n",
      "\n",
      "Iteration 1300 :\n",
      "\n",
      "Test set: Average loss: 0.7534, Accuracy: 804/1000 (80%)\n",
      "\n",
      "\n",
      "Test set: Average loss: 0.6988, Accuracy: 8237/10000 (82%)\n",
      "\n",
      "Iteration 1400 :\n",
      "\n",
      "Test set: Average loss: 0.7393, Accuracy: 809/1000 (81%)\n",
      "\n",
      "\n",
      "Test set: Average loss: 0.6872, Accuracy: 8326/10000 (83%)\n",
      "\n",
      "Iteration 1500 :\n",
      "\n",
      "Test set: Average loss: 0.7393, Accuracy: 809/1000 (81%)\n",
      "\n",
      "\n",
      "Test set: Average loss: 0.6872, Accuracy: 8326/10000 (83%)\n",
      "\n",
      "Iteration 1600 :\n",
      "\n",
      "Test set: Average loss: 0.7395, Accuracy: 809/1000 (81%)\n",
      "\n",
      "\n",
      "Test set: Average loss: 0.6888, Accuracy: 8355/10000 (84%)\n",
      "\n",
      "Iteration 1700 :\n",
      "\n",
      "Test set: Average loss: 0.6631, Accuracy: 825/1000 (82%)\n",
      "\n",
      "\n",
      "Test set: Average loss: 0.6116, Accuracy: 8529/10000 (85%)\n",
      "\n",
      "Iteration 1800 :\n",
      "\n",
      "Test set: Average loss: 0.6631, Accuracy: 825/1000 (82%)\n",
      "\n",
      "\n",
      "Test set: Average loss: 0.6116, Accuracy: 8529/10000 (85%)\n",
      "\n",
      "Iteration 1900 :\n",
      "\n",
      "Test set: Average loss: 0.6631, Accuracy: 825/1000 (82%)\n",
      "\n",
      "\n",
      "Test set: Average loss: 0.6116, Accuracy: 8529/10000 (85%)\n",
      "\n",
      "Iteration 2000 :\n",
      "\n",
      "Test set: Average loss: 0.6631, Accuracy: 825/1000 (82%)\n",
      "\n",
      "\n",
      "Test set: Average loss: 0.6116, Accuracy: 8529/10000 (85%)\n",
      "\n",
      "Iteration 2100 :\n",
      "\n",
      "Test set: Average loss: 0.5203, Accuracy: 846/1000 (85%)\n",
      "\n",
      "\n",
      "Test set: Average loss: 0.4695, Accuracy: 8749/10000 (87%)\n",
      "\n",
      "Iteration 2200 :\n",
      "\n",
      "Test set: Average loss: 0.4962, Accuracy: 851/1000 (85%)\n",
      "\n",
      "\n",
      "Test set: Average loss: 0.4445, Accuracy: 8749/10000 (87%)\n",
      "\n",
      "Iteration 2300 :\n",
      "\n",
      "Test set: Average loss: 0.4959, Accuracy: 849/1000 (85%)\n",
      "\n",
      "\n",
      "Test set: Average loss: 0.4438, Accuracy: 8752/10000 (88%)\n",
      "\n",
      "Iteration 2400 :\n",
      "\n",
      "Test set: Average loss: 0.4996, Accuracy: 850/1000 (85%)\n",
      "\n",
      "\n",
      "Test set: Average loss: 0.4463, Accuracy: 8743/10000 (87%)\n",
      "\n",
      "Iteration 2500 :\n",
      "\n",
      "Test set: Average loss: 0.4905, Accuracy: 854/1000 (85%)\n",
      "\n",
      "\n",
      "Test set: Average loss: 0.4404, Accuracy: 8811/10000 (88%)\n",
      "\n",
      "Iteration 2600 :\n",
      "\n",
      "Test set: Average loss: 0.4796, Accuracy: 864/1000 (86%)\n",
      "\n",
      "\n",
      "Test set: Average loss: 0.4321, Accuracy: 8853/10000 (89%)\n",
      "\n",
      "Iteration 2700 :\n",
      "\n",
      "Test set: Average loss: 0.4504, Accuracy: 870/1000 (87%)\n",
      "\n",
      "\n",
      "Test set: Average loss: 0.4027, Accuracy: 8915/10000 (89%)\n",
      "\n",
      "Iteration 2800 :\n",
      "\n",
      "Test set: Average loss: 0.4494, Accuracy: 869/1000 (87%)\n",
      "\n",
      "\n",
      "Test set: Average loss: 0.4004, Accuracy: 8901/10000 (89%)\n",
      "\n",
      "Iteration 2900 :\n",
      "\n",
      "Test set: Average loss: 0.4479, Accuracy: 870/1000 (87%)\n",
      "\n",
      "\n",
      "Test set: Average loss: 0.3984, Accuracy: 8907/10000 (89%)\n",
      "\n",
      "Iteration 3000 :\n",
      "\n",
      "Test set: Average loss: 0.4396, Accuracy: 878/1000 (88%)\n",
      "\n",
      "\n",
      "Test set: Average loss: 0.3944, Accuracy: 8935/10000 (89%)\n",
      "\n",
      "Iteration 3100 :\n",
      "\n",
      "Test set: Average loss: 0.4294, Accuracy: 880/1000 (88%)\n",
      "\n",
      "\n",
      "Test set: Average loss: 0.3856, Accuracy: 8956/10000 (90%)\n",
      "\n",
      "Iteration 3200 :\n",
      "\n",
      "Test set: Average loss: 0.4247, Accuracy: 882/1000 (88%)\n",
      "\n",
      "\n",
      "Test set: Average loss: 0.3806, Accuracy: 8975/10000 (90%)\n",
      "\n",
      "Iteration 3300 :\n",
      "\n",
      "Test set: Average loss: 0.4099, Accuracy: 888/1000 (89%)\n",
      "\n",
      "\n",
      "Test set: Average loss: 0.3673, Accuracy: 9003/10000 (90%)\n",
      "\n",
      "Iteration 3400 :\n",
      "\n",
      "Test set: Average loss: 0.4061, Accuracy: 891/1000 (89%)\n",
      "\n",
      "\n",
      "Test set: Average loss: 0.3646, Accuracy: 9012/10000 (90%)\n",
      "\n",
      "Iteration 3500 :\n",
      "\n",
      "Test set: Average loss: 0.3952, Accuracy: 891/1000 (89%)\n",
      "\n",
      "\n",
      "Test set: Average loss: 0.3541, Accuracy: 9057/10000 (91%)\n",
      "\n",
      "Iteration 3600 :\n",
      "\n",
      "Test set: Average loss: 0.3914, Accuracy: 888/1000 (89%)\n",
      "\n",
      "\n",
      "Test set: Average loss: 0.3485, Accuracy: 9050/10000 (90%)\n",
      "\n",
      "Iteration 3700 :\n",
      "\n",
      "Test set: Average loss: 0.3881, Accuracy: 894/1000 (89%)\n",
      "\n",
      "\n",
      "Test set: Average loss: 0.3441, Accuracy: 9051/10000 (91%)\n",
      "\n",
      "Iteration 3800 :\n",
      "\n",
      "Test set: Average loss: 0.3818, Accuracy: 897/1000 (90%)\n",
      "\n",
      "\n",
      "Test set: Average loss: 0.3380, Accuracy: 9066/10000 (91%)\n",
      "\n",
      "Iteration 3900 :\n",
      "\n",
      "Test set: Average loss: 0.3684, Accuracy: 903/1000 (90%)\n",
      "\n",
      "\n",
      "Test set: Average loss: 0.3271, Accuracy: 9116/10000 (91%)\n",
      "\n",
      "Iteration 4000 :\n",
      "\n",
      "Test set: Average loss: 0.3651, Accuracy: 904/1000 (90%)\n",
      "\n",
      "\n",
      "Test set: Average loss: 0.3250, Accuracy: 9113/10000 (91%)\n",
      "\n",
      "Iteration 4100 :\n",
      "\n",
      "Test set: Average loss: 0.3626, Accuracy: 903/1000 (90%)\n",
      "\n",
      "\n",
      "Test set: Average loss: 0.3226, Accuracy: 9101/10000 (91%)\n",
      "\n",
      "Iteration 4200 :\n",
      "\n",
      "Test set: Average loss: 0.3598, Accuracy: 904/1000 (90%)\n",
      "\n",
      "\n",
      "Test set: Average loss: 0.3186, Accuracy: 9129/10000 (91%)\n",
      "\n",
      "Iteration 4300 :\n",
      "\n",
      "Test set: Average loss: 0.3571, Accuracy: 903/1000 (90%)\n",
      "\n",
      "\n",
      "Test set: Average loss: 0.3150, Accuracy: 9125/10000 (91%)\n",
      "\n",
      "Iteration 4400 :\n",
      "\n",
      "Test set: Average loss: 0.3465, Accuracy: 904/1000 (90%)\n",
      "\n",
      "\n",
      "Test set: Average loss: 0.3067, Accuracy: 9136/10000 (91%)\n",
      "\n",
      "Iteration 4500 :\n",
      "\n",
      "Test set: Average loss: 0.3459, Accuracy: 912/1000 (91%)\n",
      "\n",
      "\n",
      "Test set: Average loss: 0.3054, Accuracy: 9150/10000 (92%)\n",
      "\n",
      "Iteration 4600 :\n",
      "\n",
      "Test set: Average loss: 0.3399, Accuracy: 910/1000 (91%)\n",
      "\n",
      "\n",
      "Test set: Average loss: 0.2990, Accuracy: 9170/10000 (92%)\n",
      "\n",
      "Iteration 4700 :\n",
      "\n",
      "Test set: Average loss: 0.3312, Accuracy: 911/1000 (91%)\n",
      "\n",
      "\n",
      "Test set: Average loss: 0.2912, Accuracy: 9183/10000 (92%)\n",
      "\n",
      "Iteration 4800 :\n",
      "\n",
      "Test set: Average loss: 0.3254, Accuracy: 912/1000 (91%)\n",
      "\n",
      "\n",
      "Test set: Average loss: 0.2872, Accuracy: 9176/10000 (92%)\n",
      "\n",
      "Iteration 4900 :\n",
      "\n",
      "Test set: Average loss: 0.3227, Accuracy: 916/1000 (92%)\n",
      "\n",
      "\n",
      "Test set: Average loss: 0.2838, Accuracy: 9200/10000 (92%)\n",
      "\n",
      "Iteration 5000 :\n",
      "\n",
      "Test set: Average loss: 0.3206, Accuracy: 916/1000 (92%)\n",
      "\n",
      "\n",
      "Test set: Average loss: 0.2816, Accuracy: 9214/10000 (92%)\n",
      "\n",
      "Iteration 5100 :\n",
      "\n",
      "Test set: Average loss: 0.3180, Accuracy: 912/1000 (91%)\n",
      "\n",
      "\n",
      "Test set: Average loss: 0.2787, Accuracy: 9210/10000 (92%)\n",
      "\n",
      "Iteration 5200 :\n",
      "\n",
      "Test set: Average loss: 0.3141, Accuracy: 910/1000 (91%)\n",
      "\n",
      "\n",
      "Test set: Average loss: 0.2754, Accuracy: 9216/10000 (92%)\n",
      "\n",
      "Iteration 5300 :\n",
      "\n",
      "Test set: Average loss: 0.3053, Accuracy: 917/1000 (92%)\n",
      "\n",
      "\n",
      "Test set: Average loss: 0.2688, Accuracy: 9235/10000 (92%)\n",
      "\n",
      "Iteration 5400 :\n",
      "\n",
      "Test set: Average loss: 0.3032, Accuracy: 915/1000 (92%)\n",
      "\n",
      "\n",
      "Test set: Average loss: 0.2671, Accuracy: 9246/10000 (92%)\n",
      "\n",
      "Iteration 5500 :\n",
      "\n",
      "Test set: Average loss: 0.2989, Accuracy: 917/1000 (92%)\n",
      "\n",
      "\n",
      "Test set: Average loss: 0.2627, Accuracy: 9248/10000 (92%)\n",
      "\n",
      "Iteration 5600 :\n",
      "\n",
      "Test set: Average loss: 0.2970, Accuracy: 918/1000 (92%)\n",
      "\n",
      "\n",
      "Test set: Average loss: 0.2603, Accuracy: 9256/10000 (93%)\n",
      "\n",
      "Iteration 5700 :\n",
      "\n",
      "Test set: Average loss: 0.2912, Accuracy: 925/1000 (92%)\n",
      "\n",
      "\n",
      "Test set: Average loss: 0.2540, Accuracy: 9275/10000 (93%)\n",
      "\n",
      "Iteration 5800 :\n",
      "\n",
      "Test set: Average loss: 0.2896, Accuracy: 921/1000 (92%)\n",
      "\n",
      "\n",
      "Test set: Average loss: 0.2530, Accuracy: 9283/10000 (93%)\n",
      "\n",
      "Iteration 5900 :\n",
      "\n",
      "Test set: Average loss: 0.2857, Accuracy: 921/1000 (92%)\n",
      "\n",
      "\n",
      "Test set: Average loss: 0.2497, Accuracy: 9283/10000 (93%)\n",
      "\n"
     ]
    },
    {
     "name": "stdout",
     "output_type": "stream",
     "text": [
      "Iteration 6000 :\n",
      "\n",
      "Test set: Average loss: 0.2857, Accuracy: 921/1000 (92%)\n",
      "\n",
      "\n",
      "Test set: Average loss: 0.2497, Accuracy: 9283/10000 (93%)\n",
      "\n",
      "Iteration 6100 :\n",
      "\n",
      "Test set: Average loss: 0.2801, Accuracy: 921/1000 (92%)\n",
      "\n",
      "\n",
      "Test set: Average loss: 0.2450, Accuracy: 9293/10000 (93%)\n",
      "\n",
      "Iteration 6200 :\n",
      "\n",
      "Test set: Average loss: 0.2801, Accuracy: 921/1000 (92%)\n",
      "\n",
      "\n",
      "Test set: Average loss: 0.2450, Accuracy: 9293/10000 (93%)\n",
      "\n",
      "Iteration 6300 :\n",
      "\n",
      "Test set: Average loss: 0.2690, Accuracy: 928/1000 (93%)\n",
      "\n",
      "\n",
      "Test set: Average loss: 0.2352, Accuracy: 9315/10000 (93%)\n",
      "\n",
      "Iteration 6400 :\n",
      "\n",
      "Test set: Average loss: 0.2636, Accuracy: 929/1000 (93%)\n",
      "\n",
      "\n",
      "Test set: Average loss: 0.2303, Accuracy: 9337/10000 (93%)\n",
      "\n",
      "Iteration 6500 :\n",
      "\n",
      "Test set: Average loss: 0.2636, Accuracy: 929/1000 (93%)\n",
      "\n",
      "\n",
      "Test set: Average loss: 0.2303, Accuracy: 9337/10000 (93%)\n",
      "\n",
      "Iteration 6600 :\n",
      "\n",
      "Test set: Average loss: 0.2599, Accuracy: 931/1000 (93%)\n",
      "\n",
      "\n",
      "Test set: Average loss: 0.2270, Accuracy: 9345/10000 (93%)\n",
      "\n",
      "Iteration 6700 :\n",
      "\n",
      "Test set: Average loss: 0.2573, Accuracy: 933/1000 (93%)\n",
      "\n",
      "\n",
      "Test set: Average loss: 0.2240, Accuracy: 9357/10000 (94%)\n",
      "\n",
      "Iteration 6800 :\n",
      "\n",
      "Test set: Average loss: 0.2573, Accuracy: 933/1000 (93%)\n",
      "\n",
      "\n",
      "Test set: Average loss: 0.2240, Accuracy: 9357/10000 (94%)\n",
      "\n",
      "Iteration 6900 :\n",
      "\n",
      "Test set: Average loss: 0.2573, Accuracy: 933/1000 (93%)\n",
      "\n",
      "\n",
      "Test set: Average loss: 0.2240, Accuracy: 9357/10000 (94%)\n",
      "\n",
      "Iteration 7000 :\n",
      "\n",
      "Test set: Average loss: 0.2512, Accuracy: 932/1000 (93%)\n",
      "\n",
      "\n",
      "Test set: Average loss: 0.2171, Accuracy: 9372/10000 (94%)\n",
      "\n",
      "Iteration 7100 :\n",
      "\n",
      "Test set: Average loss: 0.2512, Accuracy: 932/1000 (93%)\n",
      "\n",
      "\n",
      "Test set: Average loss: 0.2171, Accuracy: 9372/10000 (94%)\n",
      "\n",
      "Iteration 7200 :\n",
      "\n",
      "Test set: Average loss: 0.2404, Accuracy: 936/1000 (94%)\n",
      "\n",
      "\n",
      "Test set: Average loss: 0.2085, Accuracy: 9391/10000 (94%)\n",
      "\n",
      "Iteration 7300 :\n",
      "\n",
      "Test set: Average loss: 0.2424, Accuracy: 938/1000 (94%)\n",
      "\n",
      "\n",
      "Test set: Average loss: 0.2121, Accuracy: 9369/10000 (94%)\n",
      "\n",
      "Iteration 7400 :\n",
      "\n",
      "Test set: Average loss: 0.2424, Accuracy: 933/1000 (93%)\n",
      "\n",
      "\n",
      "Test set: Average loss: 0.2107, Accuracy: 9380/10000 (94%)\n",
      "\n",
      "Iteration 7500 :\n",
      "\n",
      "Test set: Average loss: 0.2341, Accuracy: 938/1000 (94%)\n",
      "\n",
      "\n",
      "Test set: Average loss: 0.2050, Accuracy: 9389/10000 (94%)\n",
      "\n",
      "Iteration 7600 :\n",
      "\n",
      "Test set: Average loss: 0.2342, Accuracy: 940/1000 (94%)\n",
      "\n",
      "\n",
      "Test set: Average loss: 0.2057, Accuracy: 9397/10000 (94%)\n",
      "\n",
      "Iteration 7700 :\n",
      "\n",
      "Test set: Average loss: 0.2346, Accuracy: 940/1000 (94%)\n",
      "\n",
      "\n",
      "Test set: Average loss: 0.2054, Accuracy: 9396/10000 (94%)\n",
      "\n",
      "Iteration 7800 :\n",
      "\n",
      "Test set: Average loss: 0.2339, Accuracy: 939/1000 (94%)\n",
      "\n",
      "\n",
      "Test set: Average loss: 0.2049, Accuracy: 9395/10000 (94%)\n",
      "\n",
      "Iteration 7900 :\n",
      "\n",
      "Test set: Average loss: 0.2339, Accuracy: 939/1000 (94%)\n",
      "\n",
      "\n",
      "Test set: Average loss: 0.2049, Accuracy: 9395/10000 (94%)\n",
      "\n",
      "Iteration 8000 :\n",
      "\n",
      "Test set: Average loss: 0.2269, Accuracy: 937/1000 (94%)\n",
      "\n",
      "\n",
      "Test set: Average loss: 0.1991, Accuracy: 9399/10000 (94%)\n",
      "\n",
      "Iteration 8100 :\n",
      "\n",
      "Test set: Average loss: 0.2240, Accuracy: 938/1000 (94%)\n",
      "\n",
      "\n",
      "Test set: Average loss: 0.1953, Accuracy: 9417/10000 (94%)\n",
      "\n",
      "Iteration 8200 :\n",
      "\n",
      "Test set: Average loss: 0.2245, Accuracy: 940/1000 (94%)\n",
      "\n",
      "\n",
      "Test set: Average loss: 0.1953, Accuracy: 9418/10000 (94%)\n",
      "\n",
      "Iteration 8300 :\n",
      "\n",
      "Test set: Average loss: 0.2250, Accuracy: 942/1000 (94%)\n",
      "\n",
      "\n",
      "Test set: Average loss: 0.1967, Accuracy: 9422/10000 (94%)\n",
      "\n",
      "Iteration 8400 :\n",
      "\n",
      "Test set: Average loss: 0.2219, Accuracy: 939/1000 (94%)\n",
      "\n",
      "\n",
      "Test set: Average loss: 0.1955, Accuracy: 9423/10000 (94%)\n",
      "\n",
      "Iteration 8500 :\n",
      "\n",
      "Test set: Average loss: 0.2219, Accuracy: 939/1000 (94%)\n",
      "\n",
      "\n",
      "Test set: Average loss: 0.1955, Accuracy: 9423/10000 (94%)\n",
      "\n",
      "Iteration 8600 :\n",
      "\n",
      "Test set: Average loss: 0.2185, Accuracy: 944/1000 (94%)\n",
      "\n",
      "\n",
      "Test set: Average loss: 0.1890, Accuracy: 9449/10000 (94%)\n",
      "\n",
      "Iteration 8700 :\n",
      "\n",
      "Test set: Average loss: 0.2169, Accuracy: 944/1000 (94%)\n",
      "\n",
      "\n",
      "Test set: Average loss: 0.1899, Accuracy: 9438/10000 (94%)\n",
      "\n",
      "Iteration 8800 :\n",
      "\n",
      "Test set: Average loss: 0.2165, Accuracy: 942/1000 (94%)\n",
      "\n",
      "\n",
      "Test set: Average loss: 0.1897, Accuracy: 9443/10000 (94%)\n",
      "\n",
      "Iteration 8900 :\n",
      "\n",
      "Test set: Average loss: 0.2141, Accuracy: 941/1000 (94%)\n",
      "\n",
      "\n",
      "Test set: Average loss: 0.1870, Accuracy: 9436/10000 (94%)\n",
      "\n",
      "Iteration 9000 :\n",
      "\n",
      "Test set: Average loss: 0.2136, Accuracy: 942/1000 (94%)\n",
      "\n",
      "\n",
      "Test set: Average loss: 0.1868, Accuracy: 9456/10000 (95%)\n",
      "\n",
      "Iteration 9100 :\n",
      "\n",
      "Test set: Average loss: 0.2123, Accuracy: 941/1000 (94%)\n",
      "\n",
      "\n",
      "Test set: Average loss: 0.1859, Accuracy: 9448/10000 (94%)\n",
      "\n",
      "Iteration 9200 :\n",
      "\n",
      "Test set: Average loss: 0.2091, Accuracy: 942/1000 (94%)\n",
      "\n",
      "\n",
      "Test set: Average loss: 0.1831, Accuracy: 9453/10000 (95%)\n",
      "\n",
      "Iteration 9300 :\n",
      "\n",
      "Test set: Average loss: 0.2086, Accuracy: 942/1000 (94%)\n",
      "\n",
      "\n",
      "Test set: Average loss: 0.1824, Accuracy: 9452/10000 (95%)\n",
      "\n",
      "Iteration 9400 :\n",
      "\n",
      "Test set: Average loss: 0.2069, Accuracy: 942/1000 (94%)\n",
      "\n",
      "\n",
      "Test set: Average loss: 0.1806, Accuracy: 9485/10000 (95%)\n",
      "\n",
      "Iteration 9500 :\n",
      "\n",
      "Test set: Average loss: 0.2056, Accuracy: 943/1000 (94%)\n",
      "\n",
      "\n",
      "Test set: Average loss: 0.1788, Accuracy: 9484/10000 (95%)\n",
      "\n",
      "Iteration 9600 :\n",
      "\n",
      "Test set: Average loss: 0.2050, Accuracy: 947/1000 (95%)\n",
      "\n",
      "\n",
      "Test set: Average loss: 0.1787, Accuracy: 9481/10000 (95%)\n",
      "\n",
      "Iteration 9700 :\n",
      "\n",
      "Test set: Average loss: 0.2050, Accuracy: 947/1000 (95%)\n",
      "\n",
      "\n",
      "Test set: Average loss: 0.1787, Accuracy: 9481/10000 (95%)\n",
      "\n",
      "Iteration 9800 :\n",
      "\n",
      "Test set: Average loss: 0.2020, Accuracy: 946/1000 (95%)\n",
      "\n",
      "\n",
      "Test set: Average loss: 0.1785, Accuracy: 9476/10000 (95%)\n",
      "\n",
      "Iteration 9900 :\n",
      "\n",
      "Test set: Average loss: 0.2020, Accuracy: 946/1000 (95%)\n",
      "\n",
      "\n",
      "Test set: Average loss: 0.1785, Accuracy: 9476/10000 (95%)\n",
      "\n",
      "Iteration 10000 :\n",
      "\n",
      "Test set: Average loss: 0.2020, Accuracy: 946/1000 (95%)\n",
      "\n",
      "\n",
      "Test set: Average loss: 0.1785, Accuracy: 9476/10000 (95%)\n",
      "\n",
      "\n"
     ]
    }
   ],
   "source": [
    "results = run_experiment(60, 10000, 1, last_only=False, compute_L_flag=True, verbose=True)\n",
    "train_losses = list(zip(*results))[0]\n",
    "train_accuracies = list(zip(*results))[1]\n",
    "test_losses = list(zip(*results))[2]\n",
    "test_accuracies = list(zip(*results))[3]\n",
    "L_losses = list(zip(*results))[4]\n",
    "L_regs = list(zip(*results))[5]"
   ]
  },
  {
   "cell_type": "code",
   "execution_count": 20,
   "metadata": {},
   "outputs": [
    {
     "data": {
      "text/plain": [
       "<matplotlib.legend.Legend at 0x27b89e52a90>"
      ]
     },
     "execution_count": 20,
     "metadata": {},
     "output_type": "execute_result"
    },
    {
     "data": {
      "image/png": "[encoded data removed]",
      "text/plain": [
       "<Figure size 432x288 with 1 Axes>"
      ]
     },
     "metadata": {
      "image/png": {
       "height": 277,
       "width": 386
      },
      "needs_background": "light"
     },
     "output_type": "display_data"
    },
    {
     "data": {
      "image/png": "[encoded data removed]",
      "text/plain": [
       "<Figure size 432x288 with 1 Axes>"
      ]
     },
     "metadata": {
      "image/png": {
       "height": 277,
       "width": 386
      },
      "needs_background": "light"
     },
     "output_type": "display_data"
    },
    {
     "name": "stderr",
     "output_type": "stream",
     "text": [
      "Substituting symbol L from STIXNonUnicode\n",
      "Substituting symbol L from STIXNonUnicode\n"
     ]
    },
    {
     "data": {
      "image/png": "[encoded data removed]",
      "text/plain": [
       "<Figure size 432x288 with 1 Axes>"
      ]
     },
     "metadata": {
      "image/png": {
       "height": 277,
       "width": 390
      },
      "needs_background": "light"
     },
     "output_type": "display_data"
    }
   ],
   "source": [
    "plt.figure()\n",
    "plt.plot(range(0,100*len(train_losses),100),train_losses,label=\"Train set\")\n",
    "plt.plot(range(0,100*len(train_losses),100),test_losses,label=\"Test set\")\n",
    "plt.title(\"Single learner performance during training\")\n",
    "plt.xlabel(\"Iteration number\")\n",
    "plt.ylabel(\"Loss\")\n",
    "plt.legend()\n",
    "\n",
    "plt.figure()\n",
    "plt.plot(range(0,100*len(train_losses),100),train_accuracies,label=\"Train set\")\n",
    "plt.plot(range(0,100*len(train_losses),100),test_accuracies,label=\"Test set\")\n",
    "plt.title(\"Single learner performance during training\")\n",
    "plt.xlabel(\"Iteration number\")\n",
    "plt.ylabel(\"Accuracy\")\n",
    "plt.legend()\n",
    "\n",
    "plt.figure()\n",
    "plt.stackplot(range(0,100*len(train_losses),100), L_losses, L_regs, labels=[\"Local losses\", \"Edge regularization\"])\n",
    "plt.title(\"Global loss during training\")\n",
    "plt.ylabel(r\"Global loss $\\mathcal{L}(\\theta)$\")\n",
    "plt.xlabel(\"Iteration number\")\n",
    "plt.legend()"
   ]
  },
  {
   "cell_type": "markdown",
   "metadata": {},
   "source": [
    "# Vary the lambda"
   ]
  },
  {
   "cell_type": "code",
   "execution_count": 19,
   "metadata": {},
   "outputs": [],
   "source": [
    "# Run for different choices of lambd\n",
    "lambdas = np.logspace(-5,1,30) # From 0.001 to 100"
   ]
  },
  {
   "cell_type": "code",
   "execution_count": 20,
   "metadata": {
    "scrolled": true
   },
   "outputs": [
    {
     "data": {
      "application/vnd.jupyter.widget-view+json": {
       "model_id": "81af548dbf634a3599dcc7b0c7c7d6df",
       "version_major": 2,
       "version_minor": 0
      },
      "text/plain": [
       "HBox(children=(HTML(value=''), FloatProgress(value=0.0, max=30.0), HTML(value='')))"
      ]
     },
     "metadata": {},
     "output_type": "display_data"
    },
    {
     "name": "stdout",
     "output_type": "stream",
     "text": [
      "Starting the run with lambda= 1e-05\n"
     ]
    },
    {
     "data": {
      "application/vnd.jupyter.widget-view+json": {
       "model_id": "9408246f42d548348b0f66aa3506ce65",
       "version_major": 2,
       "version_minor": 0
      },
      "text/plain": [
       "HBox(children=(HTML(value=''), FloatProgress(value=0.0, max=5001.0), HTML(value='')))"
      ]
     },
     "metadata": {},
     "output_type": "display_data"
    },
    {
     "name": "stdout",
     "output_type": "stream",
     "text": [
      "\n",
      "Test set: Average loss: 0.0110, Accuracy: 1000/1000 (100%)\n",
      "\n",
      "\n",
      "Test set: Average loss: 0.1908, Accuracy: 9473/10000 (95%)\n",
      "\n",
      "\n",
      "Starting the run with lambda= 1.610262027560939e-05\n"
     ]
    },
    {
     "data": {
      "application/vnd.jupyter.widget-view+json": {
       "model_id": "3837d9e0240c4f8e9acbc6a3660a87e5",
       "version_major": 2,
       "version_minor": 0
      },
      "text/plain": [
       "HBox(children=(HTML(value=''), FloatProgress(value=0.0, max=5001.0), HTML(value='')))"
      ]
     },
     "metadata": {},
     "output_type": "display_data"
    },
    {
     "name": "stdout",
     "output_type": "stream",
     "text": [
      "\n",
      "Test set: Average loss: 0.0057, Accuracy: 999/1000 (100%)\n",
      "\n",
      "\n",
      "Test set: Average loss: 0.2258, Accuracy: 9427/10000 (94%)\n",
      "\n",
      "\n",
      "Starting the run with lambda= 2.592943797404667e-05\n"
     ]
    },
    {
     "data": {
      "application/vnd.jupyter.widget-view+json": {
       "model_id": "2aba6c0ddac042718a49b50edd319b3e",
       "version_major": 2,
       "version_minor": 0
      },
      "text/plain": [
       "HBox(children=(HTML(value=''), FloatProgress(value=0.0, max=5001.0), HTML(value='')))"
      ]
     },
     "metadata": {},
     "output_type": "display_data"
    },
    {
     "name": "stdout",
     "output_type": "stream",
     "text": [
      "\n",
      "Test set: Average loss: 0.0079, Accuracy: 998/1000 (100%)\n",
      "\n",
      "\n",
      "Test set: Average loss: 0.2094, Accuracy: 9455/10000 (95%)\n",
      "\n",
      "\n",
      "Starting the run with lambda= 4.1753189365604006e-05\n"
     ]
    },
    {
     "data": {
      "application/vnd.jupyter.widget-view+json": {
       "model_id": "53d83abb7e994ecc8adcdee2334d5c33",
       "version_major": 2,
       "version_minor": 0
      },
      "text/plain": [
       "HBox(children=(HTML(value=''), FloatProgress(value=0.0, max=5001.0), HTML(value='')))"
      ]
     },
     "metadata": {},
     "output_type": "display_data"
    },
    {
     "name": "stdout",
     "output_type": "stream",
     "text": [
      "\n",
      "Test set: Average loss: 0.0059, Accuracy: 999/1000 (100%)\n",
      "\n",
      "\n",
      "Test set: Average loss: 0.2242, Accuracy: 9464/10000 (95%)\n",
      "\n",
      "\n",
      "Starting the run with lambda= 6.723357536499335e-05\n"
     ]
    },
    {
     "data": {
      "application/vnd.jupyter.widget-view+json": {
       "model_id": "8af25e53094c42b9bc79d16cb969042a",
       "version_major": 2,
       "version_minor": 0
      },
      "text/plain": [
       "HBox(children=(HTML(value=''), FloatProgress(value=0.0, max=5001.0), HTML(value='')))"
      ]
     },
     "metadata": {},
     "output_type": "display_data"
    },
    {
     "name": "stdout",
     "output_type": "stream",
     "text": [
      "\n",
      "Test set: Average loss: 0.0118, Accuracy: 999/1000 (100%)\n",
      "\n",
      "\n",
      "Test set: Average loss: 0.1891, Accuracy: 9459/10000 (95%)\n",
      "\n",
      "\n",
      "Starting the run with lambda= 0.00010826367338740541\n"
     ]
    },
    {
     "data": {
      "application/vnd.jupyter.widget-view+json": {
       "model_id": "de5534776eec4599a1fe981f0f607913",
       "version_major": 2,
       "version_minor": 0
      },
      "text/plain": [
       "HBox(children=(HTML(value=''), FloatProgress(value=0.0, max=5001.0), HTML(value='')))"
      ]
     },
     "metadata": {},
     "output_type": "display_data"
    },
    {
     "name": "stdout",
     "output_type": "stream",
     "text": [
      "\n",
      "Test set: Average loss: 0.0060, Accuracy: 1000/1000 (100%)\n",
      "\n",
      "\n",
      "Test set: Average loss: 0.1880, Accuracy: 9492/10000 (95%)\n",
      "\n",
      "\n",
      "Starting the run with lambda= 0.00017433288221999874\n"
     ]
    },
    {
     "data": {
      "application/vnd.jupyter.widget-view+json": {
       "model_id": "e2aea8df243c46699e6e51af11d9aad4",
       "version_major": 2,
       "version_minor": 0
      },
      "text/plain": [
       "HBox(children=(HTML(value=''), FloatProgress(value=0.0, max=5001.0), HTML(value='')))"
      ]
     },
     "metadata": {},
     "output_type": "display_data"
    },
    {
     "name": "stdout",
     "output_type": "stream",
     "text": [
      "\n",
      "Test set: Average loss: 0.0091, Accuracy: 1000/1000 (100%)\n",
      "\n",
      "\n",
      "Test set: Average loss: 0.1820, Accuracy: 9501/10000 (95%)\n",
      "\n",
      "\n",
      "Starting the run with lambda= 0.0002807216203941176\n"
     ]
    },
    {
     "data": {
      "application/vnd.jupyter.widget-view+json": {
       "model_id": "3c12f1ca87534e1999f8bd79efbab747",
       "version_major": 2,
       "version_minor": 0
      },
      "text/plain": [
       "HBox(children=(HTML(value=''), FloatProgress(value=0.0, max=5001.0), HTML(value='')))"
      ]
     },
     "metadata": {},
     "output_type": "display_data"
    },
    {
     "name": "stdout",
     "output_type": "stream",
     "text": [
      "\n",
      "Test set: Average loss: 0.0095, Accuracy: 999/1000 (100%)\n",
      "\n",
      "\n",
      "Test set: Average loss: 0.1725, Accuracy: 9541/10000 (95%)\n",
      "\n",
      "\n",
      "Starting the run with lambda= 0.00045203536563602405\n"
     ]
    },
    {
     "data": {
      "application/vnd.jupyter.widget-view+json": {
       "model_id": "ab4d8942280342cda3236edffa6af147",
       "version_major": 2,
       "version_minor": 0
      },
      "text/plain": [
       "HBox(children=(HTML(value=''), FloatProgress(value=0.0, max=5001.0), HTML(value='')))"
      ]
     },
     "metadata": {},
     "output_type": "display_data"
    },
    {
     "name": "stdout",
     "output_type": "stream",
     "text": [
      "\n",
      "Test set: Average loss: 0.0133, Accuracy: 998/1000 (100%)\n",
      "\n",
      "\n",
      "Test set: Average loss: 0.1680, Accuracy: 9563/10000 (96%)\n",
      "\n",
      "\n",
      "Starting the run with lambda= 0.0007278953843983146\n"
     ]
    },
    {
     "data": {
      "application/vnd.jupyter.widget-view+json": {
       "model_id": "d17c0803286b49298e2a28eca67c3e00",
       "version_major": 2,
       "version_minor": 0
      },
      "text/plain": [
       "HBox(children=(HTML(value=''), FloatProgress(value=0.0, max=5001.0), HTML(value='')))"
      ]
     },
     "metadata": {},
     "output_type": "display_data"
    },
    {
     "name": "stdout",
     "output_type": "stream",
     "text": [
      "\n",
      "Test set: Average loss: 0.0290, Accuracy: 993/1000 (99%)\n",
      "\n",
      "\n",
      "Test set: Average loss: 0.1257, Accuracy: 9637/10000 (96%)\n",
      "\n",
      "\n",
      "Starting the run with lambda= 0.0011721022975334804\n"
     ]
    },
    {
     "data": {
      "application/vnd.jupyter.widget-view+json": {
       "model_id": "cfa4178422e74028a8dd5b577dc353e8",
       "version_major": 2,
       "version_minor": 0
      },
      "text/plain": [
       "HBox(children=(HTML(value=''), FloatProgress(value=0.0, max=5001.0), HTML(value='')))"
      ]
     },
     "metadata": {},
     "output_type": "display_data"
    },
    {
     "name": "stdout",
     "output_type": "stream",
     "text": [
      "\n",
      "Test set: Average loss: 0.0245, Accuracy: 998/1000 (100%)\n",
      "\n",
      "\n",
      "Test set: Average loss: 0.1294, Accuracy: 9598/10000 (96%)\n",
      "\n",
      "\n",
      "Starting the run with lambda= 0.0018873918221350976\n"
     ]
    },
    {
     "data": {
      "application/vnd.jupyter.widget-view+json": {
       "model_id": "30ec00c81315470db03c030f4edacb06",
       "version_major": 2,
       "version_minor": 0
      },
      "text/plain": [
       "HBox(children=(HTML(value=''), FloatProgress(value=0.0, max=5001.0), HTML(value='')))"
      ]
     },
     "metadata": {},
     "output_type": "display_data"
    },
    {
     "name": "stdout",
     "output_type": "stream",
     "text": [
      "\n",
      "Test set: Average loss: 0.0302, Accuracy: 992/1000 (99%)\n",
      "\n",
      "\n",
      "Test set: Average loss: 0.1313, Accuracy: 9599/10000 (96%)\n",
      "\n",
      "\n",
      "Starting the run with lambda= 0.0030391953823131978\n"
     ]
    },
    {
     "data": {
      "application/vnd.jupyter.widget-view+json": {
       "model_id": "4722bffaa1794a5dbe119918e2319126",
       "version_major": 2,
       "version_minor": 0
      },
      "text/plain": [
       "HBox(children=(HTML(value=''), FloatProgress(value=0.0, max=5001.0), HTML(value='')))"
      ]
     },
     "metadata": {},
     "output_type": "display_data"
    },
    {
     "name": "stdout",
     "output_type": "stream",
     "text": [
      "\n",
      "Test set: Average loss: 0.0388, Accuracy: 992/1000 (99%)\n",
      "\n",
      "\n",
      "Test set: Average loss: 0.1027, Accuracy: 9685/10000 (97%)\n",
      "\n",
      "\n",
      "Starting the run with lambda= 0.004893900918477494\n"
     ]
    },
    {
     "data": {
      "application/vnd.jupyter.widget-view+json": {
       "model_id": "8e3c279777d14b2f9a0a872f38805b22",
       "version_major": 2,
       "version_minor": 0
      },
      "text/plain": [
       "HBox(children=(HTML(value=''), FloatProgress(value=0.0, max=5001.0), HTML(value='')))"
      ]
     },
     "metadata": {},
     "output_type": "display_data"
    },
    {
     "name": "stdout",
     "output_type": "stream",
     "text": [
      "\n",
      "Test set: Average loss: 0.0523, Accuracy: 986/1000 (99%)\n",
      "\n",
      "\n",
      "Test set: Average loss: 0.0962, Accuracy: 9702/10000 (97%)\n",
      "\n",
      "\n",
      "Starting the run with lambda= 0.007880462815669913\n"
     ]
    },
    {
     "data": {
      "application/vnd.jupyter.widget-view+json": {
       "model_id": "344a3c26fd8a4c0bafeb3d781b81d7de",
       "version_major": 2,
       "version_minor": 0
      },
      "text/plain": [
       "HBox(children=(HTML(value=''), FloatProgress(value=0.0, max=5001.0), HTML(value='')))"
      ]
     },
     "metadata": {},
     "output_type": "display_data"
    },
    {
     "name": "stdout",
     "output_type": "stream",
     "text": [
      "\n",
      "Test set: Average loss: 0.0620, Accuracy: 983/1000 (98%)\n",
      "\n",
      "\n",
      "Test set: Average loss: 0.0986, Accuracy: 9692/10000 (97%)\n",
      "\n",
      "\n",
      "Starting the run with lambda= 0.01268961003167922\n"
     ]
    },
    {
     "data": {
      "application/vnd.jupyter.widget-view+json": {
       "model_id": "b041428c9a054359958ac7d41387811f",
       "version_major": 2,
       "version_minor": 0
      },
      "text/plain": [
       "HBox(children=(HTML(value=''), FloatProgress(value=0.0, max=5001.0), HTML(value='')))"
      ]
     },
     "metadata": {},
     "output_type": "display_data"
    },
    {
     "name": "stdout",
     "output_type": "stream",
     "text": [
      "\n",
      "Test set: Average loss: 0.0757, Accuracy: 979/1000 (98%)\n",
      "\n",
      "\n",
      "Test set: Average loss: 0.0975, Accuracy: 9695/10000 (97%)\n",
      "\n",
      "\n",
      "Starting the run with lambda= 0.020433597178569417\n"
     ]
    },
    {
     "data": {
      "application/vnd.jupyter.widget-view+json": {
       "model_id": "3e575963924f4c98bd07371cadfc0d8a",
       "version_major": 2,
       "version_minor": 0
      },
      "text/plain": [
       "HBox(children=(HTML(value=''), FloatProgress(value=0.0, max=5001.0), HTML(value='')))"
      ]
     },
     "metadata": {},
     "output_type": "display_data"
    },
    {
     "name": "stdout",
     "output_type": "stream",
     "text": [
      "\n",
      "Test set: Average loss: 0.0623, Accuracy: 983/1000 (98%)\n",
      "\n",
      "\n",
      "Test set: Average loss: 0.1034, Accuracy: 9683/10000 (97%)\n",
      "\n",
      "\n",
      "Starting the run with lambda= 0.03290344562312668\n"
     ]
    },
    {
     "data": {
      "application/vnd.jupyter.widget-view+json": {
       "model_id": "e37fb08fb9fd4575841835f71bc9b63f",
       "version_major": 2,
       "version_minor": 0
      },
      "text/plain": [
       "HBox(children=(HTML(value=''), FloatProgress(value=0.0, max=5001.0), HTML(value='')))"
      ]
     },
     "metadata": {},
     "output_type": "display_data"
    },
    {
     "name": "stdout",
     "output_type": "stream",
     "text": [
      "\n",
      "Test set: Average loss: 0.0885, Accuracy: 976/1000 (98%)\n",
      "\n",
      "\n",
      "Test set: Average loss: 0.1000, Accuracy: 9688/10000 (97%)\n",
      "\n",
      "\n",
      "Starting the run with lambda= 0.05298316906283707\n"
     ]
    },
    {
     "data": {
      "application/vnd.jupyter.widget-view+json": {
       "model_id": "6c0f969394074f4cb7854825fa912eba",
       "version_major": 2,
       "version_minor": 0
      },
      "text/plain": [
       "HBox(children=(HTML(value=''), FloatProgress(value=0.0, max=5001.0), HTML(value='')))"
      ]
     },
     "metadata": {},
     "output_type": "display_data"
    },
    {
     "name": "stdout",
     "output_type": "stream",
     "text": [
      "\n",
      "Test set: Average loss: 0.1332, Accuracy: 962/1000 (96%)\n",
      "\n",
      "\n",
      "Test set: Average loss: 0.1290, Accuracy: 9601/10000 (96%)\n",
      "\n",
      "\n",
      "Starting the run with lambda= 0.08531678524172806\n"
     ]
    },
    {
     "data": {
      "application/vnd.jupyter.widget-view+json": {
       "model_id": "e00b8920161f4cf0a119d4ee007bb802",
       "version_major": 2,
       "version_minor": 0
      },
      "text/plain": [
       "HBox(children=(HTML(value=''), FloatProgress(value=0.0, max=5001.0), HTML(value='')))"
      ]
     },
     "metadata": {},
     "output_type": "display_data"
    },
    {
     "name": "stdout",
     "output_type": "stream",
     "text": [
      "\n",
      "Test set: Average loss: 0.1374, Accuracy: 955/1000 (96%)\n",
      "\n",
      "\n",
      "Test set: Average loss: 0.1431, Accuracy: 9573/10000 (96%)\n",
      "\n",
      "\n",
      "Starting the run with lambda= 0.1373823795883264\n"
     ]
    },
    {
     "data": {
      "application/vnd.jupyter.widget-view+json": {
       "model_id": "8684f39510f6454ab694c43a05779a33",
       "version_major": 2,
       "version_minor": 0
      },
      "text/plain": [
       "HBox(children=(HTML(value=''), FloatProgress(value=0.0, max=5001.0), HTML(value='')))"
      ]
     },
     "metadata": {},
     "output_type": "display_data"
    },
    {
     "name": "stdout",
     "output_type": "stream",
     "text": [
      "\n",
      "Test set: Average loss: 0.1721, Accuracy: 953/1000 (95%)\n",
      "\n",
      "\n",
      "Test set: Average loss: 0.1691, Accuracy: 9490/10000 (95%)\n",
      "\n",
      "\n",
      "Starting the run with lambda= 0.22122162910704501\n"
     ]
    },
    {
     "data": {
      "application/vnd.jupyter.widget-view+json": {
       "model_id": "10a7e431daa049b1b60ed375207c0b60",
       "version_major": 2,
       "version_minor": 0
      },
      "text/plain": [
       "HBox(children=(HTML(value=''), FloatProgress(value=0.0, max=5001.0), HTML(value='')))"
      ]
     },
     "metadata": {},
     "output_type": "display_data"
    },
    {
     "name": "stdout",
     "output_type": "stream",
     "text": [
      "\n",
      "Test set: Average loss: 0.1760, Accuracy: 962/1000 (96%)\n",
      "\n",
      "\n",
      "Test set: Average loss: 0.1856, Accuracy: 9441/10000 (94%)\n",
      "\n",
      "\n",
      "Starting the run with lambda= 0.35622478902624444\n"
     ]
    },
    {
     "data": {
      "application/vnd.jupyter.widget-view+json": {
       "model_id": "30266110238047cebfabd9ec610fd712",
       "version_major": 2,
       "version_minor": 0
      },
      "text/plain": [
       "HBox(children=(HTML(value=''), FloatProgress(value=0.0, max=5001.0), HTML(value='')))"
      ]
     },
     "metadata": {},
     "output_type": "display_data"
    },
    {
     "name": "stdout",
     "output_type": "stream",
     "text": [
      "\n",
      "Test set: Average loss: 0.1830, Accuracy: 938/1000 (94%)\n",
      "\n",
      "\n",
      "Test set: Average loss: 0.2096, Accuracy: 9363/10000 (94%)\n",
      "\n",
      "\n",
      "Starting the run with lambda= 0.5736152510448681\n"
     ]
    },
    {
     "data": {
      "application/vnd.jupyter.widget-view+json": {
       "model_id": "ede0242853784a07b0584a28896c24d5",
       "version_major": 2,
       "version_minor": 0
      },
      "text/plain": [
       "HBox(children=(HTML(value=''), FloatProgress(value=0.0, max=5001.0), HTML(value='')))"
      ]
     },
     "metadata": {},
     "output_type": "display_data"
    },
    {
     "name": "stdout",
     "output_type": "stream",
     "text": [
      "\n",
      "Test set: Average loss: 0.2567, Accuracy: 921/1000 (92%)\n",
      "\n",
      "\n",
      "Test set: Average loss: 0.2373, Accuracy: 9302/10000 (93%)\n",
      "\n",
      "\n",
      "Starting the run with lambda= 0.9236708571873865\n"
     ]
    },
    {
     "data": {
      "application/vnd.jupyter.widget-view+json": {
       "model_id": "4398818adc5e41ec9b202f8077554376",
       "version_major": 2,
       "version_minor": 0
      },
      "text/plain": [
       "HBox(children=(HTML(value=''), FloatProgress(value=0.0, max=5001.0), HTML(value='')))"
      ]
     },
     "metadata": {},
     "output_type": "display_data"
    },
    {
     "name": "stdout",
     "output_type": "stream",
     "text": [
      "\n",
      "Test set: Average loss: 0.2856, Accuracy: 917/1000 (92%)\n",
      "\n",
      "\n",
      "Test set: Average loss: 0.2849, Accuracy: 9166/10000 (92%)\n",
      "\n",
      "\n",
      "Starting the run with lambda= 1.4873521072935119\n"
     ]
    },
    {
     "data": {
      "application/vnd.jupyter.widget-view+json": {
       "model_id": "cf56012d2f014d48be8fe0692ff400da",
       "version_major": 2,
       "version_minor": 0
      },
      "text/plain": [
       "HBox(children=(HTML(value=''), FloatProgress(value=0.0, max=5001.0), HTML(value='')))"
      ]
     },
     "metadata": {},
     "output_type": "display_data"
    },
    {
     "name": "stdout",
     "output_type": "stream",
     "text": [
      "\n",
      "Test set: Average loss: 0.3171, Accuracy: 915/1000 (92%)\n",
      "\n",
      "\n",
      "Test set: Average loss: 0.2843, Accuracy: 9190/10000 (92%)\n",
      "\n",
      "\n",
      "Starting the run with lambda= 2.395026619987486\n"
     ]
    },
    {
     "data": {
      "application/vnd.jupyter.widget-view+json": {
       "model_id": "4a208d00d08847bdbc509a54cfa4164b",
       "version_major": 2,
       "version_minor": 0
      },
      "text/plain": [
       "HBox(children=(HTML(value=''), FloatProgress(value=0.0, max=5001.0), HTML(value='')))"
      ]
     },
     "metadata": {},
     "output_type": "display_data"
    },
    {
     "name": "stdout",
     "output_type": "stream",
     "text": [
      "\n",
      "Test set: Average loss: 0.4056, Accuracy: 896/1000 (90%)\n",
      "\n",
      "\n",
      "Test set: Average loss: 0.3792, Accuracy: 8980/10000 (90%)\n",
      "\n",
      "\n",
      "Starting the run with lambda= 3.856620421163472\n"
     ]
    },
    {
     "data": {
      "application/vnd.jupyter.widget-view+json": {
       "model_id": "e5f2ca8b39b34b4e8c0fdb46f4afec8e",
       "version_major": 2,
       "version_minor": 0
      },
      "text/plain": [
       "HBox(children=(HTML(value=''), FloatProgress(value=0.0, max=5001.0), HTML(value='')))"
      ]
     },
     "metadata": {},
     "output_type": "display_data"
    },
    {
     "name": "stdout",
     "output_type": "stream",
     "text": [
      "\n",
      "Test set: Average loss: 0.4724, Accuracy: 886/1000 (89%)\n",
      "\n",
      "\n",
      "Test set: Average loss: 0.4589, Accuracy: 8883/10000 (89%)\n",
      "\n",
      "\n",
      "Starting the run with lambda= 6.2101694189156165\n"
     ]
    },
    {
     "data": {
      "application/vnd.jupyter.widget-view+json": {
       "model_id": "8debed381b174a70a3e52172c9b559af",
       "version_major": 2,
       "version_minor": 0
      },
      "text/plain": [
       "HBox(children=(HTML(value=''), FloatProgress(value=0.0, max=5001.0), HTML(value='')))"
      ]
     },
     "metadata": {},
     "output_type": "display_data"
    },
    {
     "name": "stdout",
     "output_type": "stream",
     "text": [
      "\n",
      "Test set: Average loss: 0.5282, Accuracy: 863/1000 (86%)\n",
      "\n",
      "\n",
      "Test set: Average loss: 0.5101, Accuracy: 8709/10000 (87%)\n",
      "\n",
      "\n",
      "Starting the run with lambda= 10.0\n"
     ]
    },
    {
     "data": {
      "application/vnd.jupyter.widget-view+json": {
       "model_id": "278ee55518834c3eaec76475619fa0a0",
       "version_major": 2,
       "version_minor": 0
      },
      "text/plain": [
       "HBox(children=(HTML(value=''), FloatProgress(value=0.0, max=5001.0), HTML(value='')))"
      ]
     },
     "metadata": {},
     "output_type": "display_data"
    },
    {
     "name": "stdout",
     "output_type": "stream",
     "text": [
      "\n",
      "Test set: Average loss: 1.9846, Accuracy: 670/1000 (67%)\n",
      "\n",
      "\n",
      "Test set: Average loss: 1.9728, Accuracy: 6799/10000 (68%)\n",
      "\n",
      "\n",
      "\n"
     ]
    }
   ],
   "source": [
    "results = []\n",
    "for lambd in tqdm(lambdas):\n",
    "    print(\"Starting the run with lambda=\",lambd)\n",
    "    subresults = run_experiment(60, 5000, lambd, True)\n",
    "    train_loss = list(zip(*subresults))[0][-1]\n",
    "    train_accuracy = list(zip(*subresults))[1][-1]\n",
    "    test_loss = list(zip(*subresults))[2][-1]\n",
    "    test_accuracy = list(zip(*subresults))[3][-1]\n",
    "    results.append((train_loss,train_accuracy,test_loss,test_accuracy))"
   ]
  },
  {
   "cell_type": "code",
   "execution_count": 21,
   "metadata": {},
   "outputs": [],
   "source": [
    "train_losses = list(zip(*results))[0]\n",
    "train_accuracies = list(zip(*results))[1]\n",
    "test_losses = list(zip(*results))[2]\n",
    "test_accuracies = list(zip(*results))[3]"
   ]
  },
  {
   "cell_type": "code",
   "execution_count": 22,
   "metadata": {},
   "outputs": [
    {
     "name": "stdout",
     "output_type": "stream",
     "text": [
      "The first accuracy is 0.9473\n",
      "The best accuracy is 0.9702 , achieved by lambda= 0.004893900918477494\n"
     ]
    },
    {
     "data": {
      "image/png": "[encoded data removed]",
      "text/plain": [
       "<Figure size 432x288 with 1 Axes>"
      ]
     },
     "metadata": {
      "image/png": {
       "height": 278,
       "width": 391
      },
      "needs_background": "light"
     },
     "output_type": "display_data"
    },
    {
     "data": {
      "image/png": "[encoded data removed]",
      "text/plain": [
       "<Figure size 432x288 with 1 Axes>"
      ]
     },
     "metadata": {
      "image/png": {
       "height": 278,
       "width": 391
      },
      "needs_background": "light"
     },
     "output_type": "display_data"
    }
   ],
   "source": [
    "# 50 learners learning with ADAM and L2 norm for 5000 steps. The end state for a single learner.\n",
    "\n",
    "plt.figure()\n",
    "plt.plot(lambdas,train_losses, label=\"Training set\")\n",
    "plt.plot(lambdas,test_losses, label=\"Test set\")\n",
    "plt.legend()\n",
    "plt.xscale('log')\n",
    "plt.title(\"Loss of a single learner\")\n",
    "plt.ylabel(\"Loss\")\n",
    "plt.xlabel(r\"$\\lambda$\")\n",
    "plt.figure()\n",
    "plt.plot(lambdas,train_accuracies, label=\"Training set\")\n",
    "plt.plot(lambdas,test_accuracies, label=\"Test set\")\n",
    "plt.legend()\n",
    "plt.xscale('log')\n",
    "plt.title(\"Accuracy of a single learner\")\n",
    "plt.ylabel(\"Accuracy\")\n",
    "plt.xlabel(r\"$\\lambda$\");\n",
    "print(\"The first accuracy is\",test_accuracies[0])\n",
    "print(\"The best accuracy is\",np.max(test_accuracies),\", achieved by lambda=\",lambdas[np.argmax(test_accuracies)])"
   ]
  },
  {
   "cell_type": "markdown",
   "metadata": {},
   "source": [
    "# Keep lambda constant, vary the connection probability"
   ]
  },
  {
   "cell_type": "code",
   "execution_count": 12,
   "metadata": {
    "scrolled": true
   },
   "outputs": [
    {
     "data": {
      "application/vnd.jupyter.widget-view+json": {
       "model_id": "54b9c719aafc4fa3b97ad3e035a7d7c3",
       "version_major": 2,
       "version_minor": 0
      },
      "text/plain": [
       "HBox(children=(HTML(value=''), FloatProgress(value=0.0, max=25.0), HTML(value='')))"
      ]
     },
     "metadata": {},
     "output_type": "display_data"
    },
    {
     "name": "stdout",
     "output_type": "stream",
     "text": [
      "Starting the run with p= 0.0\n"
     ]
    },
    {
     "data": {
      "application/vnd.jupyter.widget-view+json": {
       "model_id": "6920f3139bdd4d5b86e41ae22fd64121",
       "version_major": 2,
       "version_minor": 0
      },
      "text/plain": [
       "HBox(children=(HTML(value=''), FloatProgress(value=0.0, max=10001.0), HTML(value='')))"
      ]
     },
     "metadata": {},
     "output_type": "display_data"
    },
    {
     "name": "stdout",
     "output_type": "stream",
     "text": [
      "\n",
      "Test set: Average loss: 0.0007, Accuracy: 1000/1000 (100%)\n",
      "\n",
      "\n",
      "Test set: Average loss: 0.2545, Accuracy: 9457/10000 (95%)\n",
      "\n",
      "\n",
      "Starting the run with p= 0.041666666666666664\n"
     ]
    },
    {
     "data": {
      "application/vnd.jupyter.widget-view+json": {
       "model_id": "94689959b826444f912312f9a699784c",
       "version_major": 2,
       "version_minor": 0
      },
      "text/plain": [
       "HBox(children=(HTML(value=''), FloatProgress(value=0.0, max=10001.0), HTML(value='')))"
      ]
     },
     "metadata": {},
     "output_type": "display_data"
    },
    {
     "name": "stdout",
     "output_type": "stream",
     "text": [
      "\n",
      "Test set: Average loss: 0.0018, Accuracy: 1000/1000 (100%)\n",
      "\n",
      "\n",
      "Test set: Average loss: 0.1234, Accuracy: 9678/10000 (97%)\n",
      "\n",
      "\n",
      "Starting the run with p= 0.08333333333333333\n"
     ]
    },
    {
     "data": {
      "application/vnd.jupyter.widget-view+json": {
       "model_id": "bdfe0e0aada8445eabff314771177dfb",
       "version_major": 2,
       "version_minor": 0
      },
      "text/plain": [
       "HBox(children=(HTML(value=''), FloatProgress(value=0.0, max=10001.0), HTML(value='')))"
      ]
     },
     "metadata": {},
     "output_type": "display_data"
    },
    {
     "name": "stdout",
     "output_type": "stream",
     "text": [
      "\n",
      "Test set: Average loss: 0.0151, Accuracy: 996/1000 (100%)\n",
      "\n",
      "\n",
      "Test set: Average loss: 0.0547, Accuracy: 9833/10000 (98%)\n",
      "\n",
      "\n",
      "Starting the run with p= 0.125\n"
     ]
    },
    {
     "data": {
      "application/vnd.jupyter.widget-view+json": {
       "model_id": "af3be01b27b64b94b8b9d4ed60f235b2",
       "version_major": 2,
       "version_minor": 0
      },
      "text/plain": [
       "HBox(children=(HTML(value=''), FloatProgress(value=0.0, max=10001.0), HTML(value='')))"
      ]
     },
     "metadata": {},
     "output_type": "display_data"
    },
    {
     "name": "stdout",
     "output_type": "stream",
     "text": [
      "\n",
      "Test set: Average loss: 0.0116, Accuracy: 997/1000 (100%)\n",
      "\n",
      "\n",
      "Test set: Average loss: 0.0690, Accuracy: 9786/10000 (98%)\n",
      "\n",
      "\n",
      "Starting the run with p= 0.16666666666666666\n"
     ]
    },
    {
     "data": {
      "application/vnd.jupyter.widget-view+json": {
       "model_id": "df257ddaa1fa4971a2491f20f88764e1",
       "version_major": 2,
       "version_minor": 0
      },
      "text/plain": [
       "HBox(children=(HTML(value=''), FloatProgress(value=0.0, max=10001.0), HTML(value='')))"
      ]
     },
     "metadata": {},
     "output_type": "display_data"
    },
    {
     "name": "stdout",
     "output_type": "stream",
     "text": [
      "\n",
      "Test set: Average loss: 0.0209, Accuracy: 990/1000 (99%)\n",
      "\n",
      "\n",
      "Test set: Average loss: 0.0568, Accuracy: 9822/10000 (98%)\n",
      "\n",
      "\n",
      "Starting the run with p= 0.20833333333333331\n"
     ]
    },
    {
     "data": {
      "application/vnd.jupyter.widget-view+json": {
       "model_id": "9ac8349135e74ee086afad12ee055532",
       "version_major": 2,
       "version_minor": 0
      },
      "text/plain": [
       "HBox(children=(HTML(value=''), FloatProgress(value=0.0, max=10001.0), HTML(value='')))"
      ]
     },
     "metadata": {},
     "output_type": "display_data"
    },
    {
     "name": "stdout",
     "output_type": "stream",
     "text": [
      "\n",
      "Test set: Average loss: 0.0168, Accuracy: 995/1000 (100%)\n",
      "\n",
      "\n",
      "Test set: Average loss: 0.0560, Accuracy: 9808/10000 (98%)\n",
      "\n",
      "\n",
      "Starting the run with p= 0.25\n"
     ]
    },
    {
     "data": {
      "application/vnd.jupyter.widget-view+json": {
       "model_id": "9a04312ece474d63a1265663730df2ed",
       "version_major": 2,
       "version_minor": 0
      },
      "text/plain": [
       "HBox(children=(HTML(value=''), FloatProgress(value=0.0, max=10001.0), HTML(value='')))"
      ]
     },
     "metadata": {},
     "output_type": "display_data"
    },
    {
     "name": "stdout",
     "output_type": "stream",
     "text": [
      "\n",
      "Test set: Average loss: 0.0158, Accuracy: 999/1000 (100%)\n",
      "\n",
      "\n",
      "Test set: Average loss: 0.0538, Accuracy: 9830/10000 (98%)\n",
      "\n",
      "\n",
      "Starting the run with p= 0.29166666666666663\n"
     ]
    },
    {
     "data": {
      "application/vnd.jupyter.widget-view+json": {
       "model_id": "f25002421431441c8409711a8952a41a",
       "version_major": 2,
       "version_minor": 0
      },
      "text/plain": [
       "HBox(children=(HTML(value=''), FloatProgress(value=0.0, max=10001.0), HTML(value='')))"
      ]
     },
     "metadata": {},
     "output_type": "display_data"
    },
    {
     "name": "stdout",
     "output_type": "stream",
     "text": [
      "\n",
      "Test set: Average loss: 0.0258, Accuracy: 995/1000 (100%)\n",
      "\n",
      "\n",
      "Test set: Average loss: 0.0590, Accuracy: 9803/10000 (98%)\n",
      "\n",
      "\n",
      "Starting the run with p= 0.3333333333333333\n"
     ]
    },
    {
     "data": {
      "application/vnd.jupyter.widget-view+json": {
       "model_id": "5e4524b6ff7943708843f68b5ebab23d",
       "version_major": 2,
       "version_minor": 0
      },
      "text/plain": [
       "HBox(children=(HTML(value=''), FloatProgress(value=0.0, max=10001.0), HTML(value='')))"
      ]
     },
     "metadata": {},
     "output_type": "display_data"
    },
    {
     "name": "stdout",
     "output_type": "stream",
     "text": [
      "\n",
      "Test set: Average loss: 0.0233, Accuracy: 992/1000 (99%)\n",
      "\n",
      "\n",
      "Test set: Average loss: 0.0603, Accuracy: 9804/10000 (98%)\n",
      "\n",
      "\n",
      "Starting the run with p= 0.375\n"
     ]
    },
    {
     "data": {
      "application/vnd.jupyter.widget-view+json": {
       "model_id": "f6a9533744594907874576ff3b8bdded",
       "version_major": 2,
       "version_minor": 0
      },
      "text/plain": [
       "HBox(children=(HTML(value=''), FloatProgress(value=0.0, max=10001.0), HTML(value='')))"
      ]
     },
     "metadata": {},
     "output_type": "display_data"
    },
    {
     "name": "stdout",
     "output_type": "stream",
     "text": [
      "\n",
      "Test set: Average loss: 0.0283, Accuracy: 995/1000 (100%)\n",
      "\n",
      "\n",
      "Test set: Average loss: 0.0568, Accuracy: 9809/10000 (98%)\n",
      "\n",
      "\n",
      "Starting the run with p= 0.41666666666666663\n"
     ]
    },
    {
     "data": {
      "application/vnd.jupyter.widget-view+json": {
       "model_id": "b9cd6a06464444838b7ddb3a142d8635",
       "version_major": 2,
       "version_minor": 0
      },
      "text/plain": [
       "HBox(children=(HTML(value=''), FloatProgress(value=0.0, max=10001.0), HTML(value='')))"
      ]
     },
     "metadata": {},
     "output_type": "display_data"
    },
    {
     "name": "stdout",
     "output_type": "stream",
     "text": [
      "\n",
      "Test set: Average loss: 0.0337, Accuracy: 988/1000 (99%)\n",
      "\n",
      "\n",
      "Test set: Average loss: 0.0583, Accuracy: 9806/10000 (98%)\n",
      "\n",
      "\n",
      "Starting the run with p= 0.4583333333333333\n"
     ]
    },
    {
     "data": {
      "application/vnd.jupyter.widget-view+json": {
       "model_id": "8528f584727244dda25edb194ae3f750",
       "version_major": 2,
       "version_minor": 0
      },
      "text/plain": [
       "HBox(children=(HTML(value=''), FloatProgress(value=0.0, max=10001.0), HTML(value='')))"
      ]
     },
     "metadata": {},
     "output_type": "display_data"
    },
    {
     "name": "stdout",
     "output_type": "stream",
     "text": [
      "\n",
      "Test set: Average loss: 0.0230, Accuracy: 992/1000 (99%)\n",
      "\n",
      "\n",
      "Test set: Average loss: 0.0556, Accuracy: 9806/10000 (98%)\n",
      "\n",
      "\n",
      "Starting the run with p= 0.5\n"
     ]
    },
    {
     "data": {
      "application/vnd.jupyter.widget-view+json": {
       "model_id": "9b1ff4a2f51f4d4aa7b5b77a97749af3",
       "version_major": 2,
       "version_minor": 0
      },
      "text/plain": [
       "HBox(children=(HTML(value=''), FloatProgress(value=0.0, max=10001.0), HTML(value='')))"
      ]
     },
     "metadata": {},
     "output_type": "display_data"
    },
    {
     "name": "stdout",
     "output_type": "stream",
     "text": [
      "\n",
      "Test set: Average loss: 0.0299, Accuracy: 994/1000 (99%)\n",
      "\n",
      "\n",
      "Test set: Average loss: 0.0567, Accuracy: 9817/10000 (98%)\n",
      "\n",
      "\n",
      "Starting the run with p= 0.5416666666666666\n"
     ]
    },
    {
     "data": {
      "application/vnd.jupyter.widget-view+json": {
       "model_id": "35690e3ac1974d74ba19277041906435",
       "version_major": 2,
       "version_minor": 0
      },
      "text/plain": [
       "HBox(children=(HTML(value=''), FloatProgress(value=0.0, max=10001.0), HTML(value='')))"
      ]
     },
     "metadata": {},
     "output_type": "display_data"
    },
    {
     "name": "stdout",
     "output_type": "stream",
     "text": [
      "\n",
      "Test set: Average loss: 0.0521, Accuracy: 985/1000 (98%)\n",
      "\n",
      "\n",
      "Test set: Average loss: 0.0534, Accuracy: 9833/10000 (98%)\n",
      "\n",
      "\n",
      "Starting the run with p= 0.5833333333333333\n"
     ]
    },
    {
     "data": {
      "application/vnd.jupyter.widget-view+json": {
       "model_id": "fb3ec89ad318467e8a8353e744b390a9",
       "version_major": 2,
       "version_minor": 0
      },
      "text/plain": [
       "HBox(children=(HTML(value=''), FloatProgress(value=0.0, max=10001.0), HTML(value='')))"
      ]
     },
     "metadata": {},
     "output_type": "display_data"
    },
    {
     "name": "stdout",
     "output_type": "stream",
     "text": [
      "\n",
      "Test set: Average loss: 0.0317, Accuracy: 992/1000 (99%)\n",
      "\n",
      "\n",
      "Test set: Average loss: 0.0538, Accuracy: 9812/10000 (98%)\n",
      "\n",
      "\n",
      "Starting the run with p= 0.625\n"
     ]
    },
    {
     "data": {
      "application/vnd.jupyter.widget-view+json": {
       "model_id": "4223dc886d494f2db515b3bb817deabc",
       "version_major": 2,
       "version_minor": 0
      },
      "text/plain": [
       "HBox(children=(HTML(value=''), FloatProgress(value=0.0, max=10001.0), HTML(value='')))"
      ]
     },
     "metadata": {},
     "output_type": "display_data"
    },
    {
     "name": "stdout",
     "output_type": "stream",
     "text": [
      "\n",
      "Test set: Average loss: 0.0261, Accuracy: 992/1000 (99%)\n",
      "\n",
      "\n",
      "Test set: Average loss: 0.0571, Accuracy: 9822/10000 (98%)\n",
      "\n",
      "\n",
      "Starting the run with p= 0.6666666666666666\n"
     ]
    },
    {
     "data": {
      "application/vnd.jupyter.widget-view+json": {
       "model_id": "4eae5b73731c47648de70ed3bc49917f",
       "version_major": 2,
       "version_minor": 0
      },
      "text/plain": [
       "HBox(children=(HTML(value=''), FloatProgress(value=0.0, max=10001.0), HTML(value='')))"
      ]
     },
     "metadata": {},
     "output_type": "display_data"
    },
    {
     "name": "stdout",
     "output_type": "stream",
     "text": [
      "\n",
      "Test set: Average loss: 0.0431, Accuracy: 988/1000 (99%)\n",
      "\n",
      "\n",
      "Test set: Average loss: 0.0553, Accuracy: 9825/10000 (98%)\n",
      "\n",
      "\n",
      "Starting the run with p= 0.7083333333333333\n"
     ]
    },
    {
     "data": {
      "application/vnd.jupyter.widget-view+json": {
       "model_id": "667fe4d397c2421790bc06a2068b9f2a",
       "version_major": 2,
       "version_minor": 0
      },
      "text/plain": [
       "HBox(children=(HTML(value=''), FloatProgress(value=0.0, max=10001.0), HTML(value='')))"
      ]
     },
     "metadata": {},
     "output_type": "display_data"
    },
    {
     "name": "stdout",
     "output_type": "stream",
     "text": [
      "\n",
      "Test set: Average loss: 0.0269, Accuracy: 994/1000 (99%)\n",
      "\n",
      "\n",
      "Test set: Average loss: 0.0529, Accuracy: 9825/10000 (98%)\n",
      "\n",
      "\n",
      "Starting the run with p= 0.75\n"
     ]
    },
    {
     "data": {
      "application/vnd.jupyter.widget-view+json": {
       "model_id": "1cc7c543bae04b6f8320db997a050b64",
       "version_major": 2,
       "version_minor": 0
      },
      "text/plain": [
       "HBox(children=(HTML(value=''), FloatProgress(value=0.0, max=10001.0), HTML(value='')))"
      ]
     },
     "metadata": {},
     "output_type": "display_data"
    },
    {
     "name": "stdout",
     "output_type": "stream",
     "text": [
      "\n",
      "Test set: Average loss: 0.0264, Accuracy: 995/1000 (100%)\n",
      "\n",
      "\n",
      "Test set: Average loss: 0.0499, Accuracy: 9835/10000 (98%)\n",
      "\n",
      "\n",
      "Starting the run with p= 0.7916666666666666\n"
     ]
    },
    {
     "data": {
      "application/vnd.jupyter.widget-view+json": {
       "model_id": "ac9e7d108b084526bc63f4cf62442180",
       "version_major": 2,
       "version_minor": 0
      },
      "text/plain": [
       "HBox(children=(HTML(value=''), FloatProgress(value=0.0, max=10001.0), HTML(value='')))"
      ]
     },
     "metadata": {},
     "output_type": "display_data"
    },
    {
     "name": "stdout",
     "output_type": "stream",
     "text": [
      "\n",
      "Test set: Average loss: 0.0298, Accuracy: 990/1000 (99%)\n",
      "\n",
      "\n",
      "Test set: Average loss: 0.0579, Accuracy: 9816/10000 (98%)\n",
      "\n",
      "\n",
      "Starting the run with p= 0.8333333333333333\n"
     ]
    },
    {
     "data": {
      "application/vnd.jupyter.widget-view+json": {
       "model_id": "df32aec8f62544f984002c4454945e7d",
       "version_major": 2,
       "version_minor": 0
      },
      "text/plain": [
       "HBox(children=(HTML(value=''), FloatProgress(value=0.0, max=10001.0), HTML(value='')))"
      ]
     },
     "metadata": {},
     "output_type": "display_data"
    },
    {
     "name": "stdout",
     "output_type": "stream",
     "text": [
      "\n",
      "Test set: Average loss: 0.0306, Accuracy: 992/1000 (99%)\n",
      "\n",
      "\n",
      "Test set: Average loss: 0.0565, Accuracy: 9816/10000 (98%)\n",
      "\n",
      "\n",
      "Starting the run with p= 0.875\n"
     ]
    },
    {
     "data": {
      "application/vnd.jupyter.widget-view+json": {
       "model_id": "237a98c5a33c4423b49b85d585fbea11",
       "version_major": 2,
       "version_minor": 0
      },
      "text/plain": [
       "HBox(children=(HTML(value=''), FloatProgress(value=0.0, max=10001.0), HTML(value='')))"
      ]
     },
     "metadata": {},
     "output_type": "display_data"
    },
    {
     "name": "stdout",
     "output_type": "stream",
     "text": [
      "\n",
      "Test set: Average loss: 0.0287, Accuracy: 992/1000 (99%)\n",
      "\n",
      "\n",
      "Test set: Average loss: 0.0537, Accuracy: 9826/10000 (98%)\n",
      "\n",
      "\n",
      "Starting the run with p= 0.9166666666666666\n"
     ]
    },
    {
     "data": {
      "application/vnd.jupyter.widget-view+json": {
       "model_id": "d1c645c598dc4dca933d794c1977e3ee",
       "version_major": 2,
       "version_minor": 0
      },
      "text/plain": [
       "HBox(children=(HTML(value=''), FloatProgress(value=0.0, max=10001.0), HTML(value='')))"
      ]
     },
     "metadata": {},
     "output_type": "display_data"
    },
    {
     "name": "stdout",
     "output_type": "stream",
     "text": [
      "\n",
      "Test set: Average loss: 0.0276, Accuracy: 996/1000 (100%)\n",
      "\n",
      "\n",
      "Test set: Average loss: 0.0543, Accuracy: 9803/10000 (98%)\n",
      "\n",
      "\n",
      "Starting the run with p= 0.9583333333333333\n"
     ]
    },
    {
     "data": {
      "application/vnd.jupyter.widget-view+json": {
       "model_id": "e2f9caf56630428c879629682be262aa",
       "version_major": 2,
       "version_minor": 0
      },
      "text/plain": [
       "HBox(children=(HTML(value=''), FloatProgress(value=0.0, max=10001.0), HTML(value='')))"
      ]
     },
     "metadata": {},
     "output_type": "display_data"
    },
    {
     "name": "stdout",
     "output_type": "stream",
     "text": [
      "\n",
      "Test set: Average loss: 0.0532, Accuracy: 989/1000 (99%)\n",
      "\n",
      "\n",
      "Test set: Average loss: 0.0586, Accuracy: 9806/10000 (98%)\n",
      "\n",
      "\n",
      "Starting the run with p= 1.0\n"
     ]
    },
    {
     "data": {
      "application/vnd.jupyter.widget-view+json": {
       "model_id": "a220b34f604b4b15b65f8c58d120aafd",
       "version_major": 2,
       "version_minor": 0
      },
      "text/plain": [
       "HBox(children=(HTML(value=''), FloatProgress(value=0.0, max=10001.0), HTML(value='')))"
      ]
     },
     "metadata": {},
     "output_type": "display_data"
    },
    {
     "name": "stdout",
     "output_type": "stream",
     "text": [
      "\n",
      "Test set: Average loss: 0.0434, Accuracy: 989/1000 (99%)\n",
      "\n",
      "\n",
      "Test set: Average loss: 0.0606, Accuracy: 9793/10000 (98%)\n",
      "\n",
      "\n",
      "\n"
     ]
    }
   ],
   "source": [
    "lambd = 0.01\n",
    "results = []\n",
    "ps = np.linspace(0,1,25)\n",
    "for p in tqdm(ps):\n",
    "    print(\"Starting the run with p=\",p)\n",
    "    subresults = run_experiment(60, 10000, lambd, last_only=True, compute_L_flag=False, verbose=False, p=p)\n",
    "    train_loss = list(zip(*subresults))[0][-1]\n",
    "    train_accuracy = list(zip(*subresults))[1][-1]\n",
    "    test_loss = list(zip(*subresults))[2][-1]\n",
    "    test_accuracy = list(zip(*subresults))[3][-1]\n",
    "    results.append((train_loss,train_accuracy,test_loss,test_accuracy))"
   ]
  },
  {
   "cell_type": "code",
   "execution_count": 13,
   "metadata": {},
   "outputs": [],
   "source": [
    "train_losses = list(zip(*results))[0]\n",
    "train_accuracies = list(zip(*results))[1]\n",
    "test_losses = list(zip(*results))[2]\n",
    "test_accuracies = list(zip(*results))[3]"
   ]
  },
  {
   "cell_type": "code",
   "execution_count": 18,
   "metadata": {
    "scrolled": false
   },
   "outputs": [
    {
     "ename": "ValueError",
     "evalue": "x and y must have same first dimension, but have shapes (25,) and (4,)",
     "output_type": "error",
     "traceback": [
      "\u001b[1;31m---------------------------------------------------------------------------\u001b[0m",
      "\u001b[1;31mValueError\u001b[0m                                Traceback (most recent call last)",
      "\u001b[1;32m<ipython-input-18-433594b80eca>\u001b[0m in \u001b[0;36m<module>\u001b[1;34m\u001b[0m\n\u001b[0;32m      1\u001b[0m \u001b[0mplt\u001b[0m\u001b[1;33m.\u001b[0m\u001b[0mfigure\u001b[0m\u001b[1;33m(\u001b[0m\u001b[1;33m)\u001b[0m\u001b[1;33m\u001b[0m\u001b[1;33m\u001b[0m\u001b[0m\n\u001b[1;32m----> 2\u001b[1;33m \u001b[0mplt\u001b[0m\u001b[1;33m.\u001b[0m\u001b[0mplot\u001b[0m\u001b[1;33m(\u001b[0m\u001b[0mps\u001b[0m\u001b[1;33m,\u001b[0m\u001b[0mtrain_losses\u001b[0m\u001b[1;33m,\u001b[0m \u001b[0mlabel\u001b[0m\u001b[1;33m=\u001b[0m\u001b[1;34m\"Training set\"\u001b[0m\u001b[1;33m)\u001b[0m\u001b[1;33m\u001b[0m\u001b[1;33m\u001b[0m\u001b[0m\n\u001b[0m\u001b[0;32m      3\u001b[0m \u001b[0mplt\u001b[0m\u001b[1;33m.\u001b[0m\u001b[0mplot\u001b[0m\u001b[1;33m(\u001b[0m\u001b[0mps\u001b[0m\u001b[1;33m,\u001b[0m\u001b[0mtest_losses\u001b[0m\u001b[1;33m,\u001b[0m \u001b[0mlabel\u001b[0m\u001b[1;33m=\u001b[0m\u001b[1;34m\"Test set\"\u001b[0m\u001b[1;33m)\u001b[0m\u001b[1;33m\u001b[0m\u001b[1;33m\u001b[0m\u001b[0m\n\u001b[0;32m      4\u001b[0m \u001b[0mplt\u001b[0m\u001b[1;33m.\u001b[0m\u001b[0mlegend\u001b[0m\u001b[1;33m(\u001b[0m\u001b[1;33m)\u001b[0m\u001b[1;33m\u001b[0m\u001b[1;33m\u001b[0m\u001b[0m\n\u001b[0;32m      5\u001b[0m \u001b[0mplt\u001b[0m\u001b[1;33m.\u001b[0m\u001b[0mtitle\u001b[0m\u001b[1;33m(\u001b[0m\u001b[1;34mr\"Loss of a single learner with $\\lambda=0.01$\"\u001b[0m\u001b[1;33m)\u001b[0m\u001b[1;33m\u001b[0m\u001b[1;33m\u001b[0m\u001b[0m\n",
      "\u001b[1;32m~\\anaconda3\\lib\\site-packages\\matplotlib\\pyplot.py\u001b[0m in \u001b[0;36mplot\u001b[1;34m(scalex, scaley, data, *args, **kwargs)\u001b[0m\n\u001b[0;32m   2821\u001b[0m \u001b[1;33m@\u001b[0m\u001b[0m_copy_docstring_and_deprecators\u001b[0m\u001b[1;33m(\u001b[0m\u001b[0mAxes\u001b[0m\u001b[1;33m.\u001b[0m\u001b[0mplot\u001b[0m\u001b[1;33m)\u001b[0m\u001b[1;33m\u001b[0m\u001b[1;33m\u001b[0m\u001b[0m\n\u001b[0;32m   2822\u001b[0m \u001b[1;32mdef\u001b[0m \u001b[0mplot\u001b[0m\u001b[1;33m(\u001b[0m\u001b[1;33m*\u001b[0m\u001b[0margs\u001b[0m\u001b[1;33m,\u001b[0m \u001b[0mscalex\u001b[0m\u001b[1;33m=\u001b[0m\u001b[1;32mTrue\u001b[0m\u001b[1;33m,\u001b[0m \u001b[0mscaley\u001b[0m\u001b[1;33m=\u001b[0m\u001b[1;32mTrue\u001b[0m\u001b[1;33m,\u001b[0m \u001b[0mdata\u001b[0m\u001b[1;33m=\u001b[0m\u001b[1;32mNone\u001b[0m\u001b[1;33m,\u001b[0m \u001b[1;33m**\u001b[0m\u001b[0mkwargs\u001b[0m\u001b[1;33m)\u001b[0m\u001b[1;33m:\u001b[0m\u001b[1;33m\u001b[0m\u001b[1;33m\u001b[0m\u001b[0m\n\u001b[1;32m-> 2823\u001b[1;33m     return gca().plot(\n\u001b[0m\u001b[0;32m   2824\u001b[0m         \u001b[1;33m*\u001b[0m\u001b[0margs\u001b[0m\u001b[1;33m,\u001b[0m \u001b[0mscalex\u001b[0m\u001b[1;33m=\u001b[0m\u001b[0mscalex\u001b[0m\u001b[1;33m,\u001b[0m \u001b[0mscaley\u001b[0m\u001b[1;33m=\u001b[0m\u001b[0mscaley\u001b[0m\u001b[1;33m,\u001b[0m\u001b[1;33m\u001b[0m\u001b[1;33m\u001b[0m\u001b[0m\n\u001b[0;32m   2825\u001b[0m         **({\"data\": data} if data is not None else {}), **kwargs)\n",
      "\u001b[1;32m~\\anaconda3\\lib\\site-packages\\matplotlib\\axes\\_axes.py\u001b[0m in \u001b[0;36mplot\u001b[1;34m(self, scalex, scaley, data, *args, **kwargs)\u001b[0m\n\u001b[0;32m   1741\u001b[0m         \"\"\"\n\u001b[0;32m   1742\u001b[0m         \u001b[0mkwargs\u001b[0m \u001b[1;33m=\u001b[0m \u001b[0mcbook\u001b[0m\u001b[1;33m.\u001b[0m\u001b[0mnormalize_kwargs\u001b[0m\u001b[1;33m(\u001b[0m\u001b[0mkwargs\u001b[0m\u001b[1;33m,\u001b[0m \u001b[0mmlines\u001b[0m\u001b[1;33m.\u001b[0m\u001b[0mLine2D\u001b[0m\u001b[1;33m)\u001b[0m\u001b[1;33m\u001b[0m\u001b[1;33m\u001b[0m\u001b[0m\n\u001b[1;32m-> 1743\u001b[1;33m         \u001b[0mlines\u001b[0m \u001b[1;33m=\u001b[0m \u001b[1;33m[\u001b[0m\u001b[1;33m*\u001b[0m\u001b[0mself\u001b[0m\u001b[1;33m.\u001b[0m\u001b[0m_get_lines\u001b[0m\u001b[1;33m(\u001b[0m\u001b[1;33m*\u001b[0m\u001b[0margs\u001b[0m\u001b[1;33m,\u001b[0m \u001b[0mdata\u001b[0m\u001b[1;33m=\u001b[0m\u001b[0mdata\u001b[0m\u001b[1;33m,\u001b[0m \u001b[1;33m**\u001b[0m\u001b[0mkwargs\u001b[0m\u001b[1;33m)\u001b[0m\u001b[1;33m]\u001b[0m\u001b[1;33m\u001b[0m\u001b[1;33m\u001b[0m\u001b[0m\n\u001b[0m\u001b[0;32m   1744\u001b[0m         \u001b[1;32mfor\u001b[0m \u001b[0mline\u001b[0m \u001b[1;32min\u001b[0m \u001b[0mlines\u001b[0m\u001b[1;33m:\u001b[0m\u001b[1;33m\u001b[0m\u001b[1;33m\u001b[0m\u001b[0m\n\u001b[0;32m   1745\u001b[0m             \u001b[0mself\u001b[0m\u001b[1;33m.\u001b[0m\u001b[0madd_line\u001b[0m\u001b[1;33m(\u001b[0m\u001b[0mline\u001b[0m\u001b[1;33m)\u001b[0m\u001b[1;33m\u001b[0m\u001b[1;33m\u001b[0m\u001b[0m\n",
      "\u001b[1;32m~\\anaconda3\\lib\\site-packages\\matplotlib\\axes\\_base.py\u001b[0m in \u001b[0;36m__call__\u001b[1;34m(self, data, *args, **kwargs)\u001b[0m\n\u001b[0;32m    271\u001b[0m                 \u001b[0mthis\u001b[0m \u001b[1;33m+=\u001b[0m \u001b[0margs\u001b[0m\u001b[1;33m[\u001b[0m\u001b[1;36m0\u001b[0m\u001b[1;33m]\u001b[0m\u001b[1;33m,\u001b[0m\u001b[1;33m\u001b[0m\u001b[1;33m\u001b[0m\u001b[0m\n\u001b[0;32m    272\u001b[0m                 \u001b[0margs\u001b[0m \u001b[1;33m=\u001b[0m \u001b[0margs\u001b[0m\u001b[1;33m[\u001b[0m\u001b[1;36m1\u001b[0m\u001b[1;33m:\u001b[0m\u001b[1;33m]\u001b[0m\u001b[1;33m\u001b[0m\u001b[1;33m\u001b[0m\u001b[0m\n\u001b[1;32m--> 273\u001b[1;33m             \u001b[1;32myield\u001b[0m \u001b[1;32mfrom\u001b[0m \u001b[0mself\u001b[0m\u001b[1;33m.\u001b[0m\u001b[0m_plot_args\u001b[0m\u001b[1;33m(\u001b[0m\u001b[0mthis\u001b[0m\u001b[1;33m,\u001b[0m \u001b[0mkwargs\u001b[0m\u001b[1;33m)\u001b[0m\u001b[1;33m\u001b[0m\u001b[1;33m\u001b[0m\u001b[0m\n\u001b[0m\u001b[0;32m    274\u001b[0m \u001b[1;33m\u001b[0m\u001b[0m\n\u001b[0;32m    275\u001b[0m     \u001b[1;32mdef\u001b[0m \u001b[0mget_next_color\u001b[0m\u001b[1;33m(\u001b[0m\u001b[0mself\u001b[0m\u001b[1;33m)\u001b[0m\u001b[1;33m:\u001b[0m\u001b[1;33m\u001b[0m\u001b[1;33m\u001b[0m\u001b[0m\n",
      "\u001b[1;32m~\\anaconda3\\lib\\site-packages\\matplotlib\\axes\\_base.py\u001b[0m in \u001b[0;36m_plot_args\u001b[1;34m(self, tup, kwargs)\u001b[0m\n\u001b[0;32m    397\u001b[0m \u001b[1;33m\u001b[0m\u001b[0m\n\u001b[0;32m    398\u001b[0m         \u001b[1;32mif\u001b[0m \u001b[0mx\u001b[0m\u001b[1;33m.\u001b[0m\u001b[0mshape\u001b[0m\u001b[1;33m[\u001b[0m\u001b[1;36m0\u001b[0m\u001b[1;33m]\u001b[0m \u001b[1;33m!=\u001b[0m \u001b[0my\u001b[0m\u001b[1;33m.\u001b[0m\u001b[0mshape\u001b[0m\u001b[1;33m[\u001b[0m\u001b[1;36m0\u001b[0m\u001b[1;33m]\u001b[0m\u001b[1;33m:\u001b[0m\u001b[1;33m\u001b[0m\u001b[1;33m\u001b[0m\u001b[0m\n\u001b[1;32m--> 399\u001b[1;33m             raise ValueError(f\"x and y must have same first dimension, but \"\n\u001b[0m\u001b[0;32m    400\u001b[0m                              f\"have shapes {x.shape} and {y.shape}\")\n\u001b[0;32m    401\u001b[0m         \u001b[1;32mif\u001b[0m \u001b[0mx\u001b[0m\u001b[1;33m.\u001b[0m\u001b[0mndim\u001b[0m \u001b[1;33m>\u001b[0m \u001b[1;36m2\u001b[0m \u001b[1;32mor\u001b[0m \u001b[0my\u001b[0m\u001b[1;33m.\u001b[0m\u001b[0mndim\u001b[0m \u001b[1;33m>\u001b[0m \u001b[1;36m2\u001b[0m\u001b[1;33m:\u001b[0m\u001b[1;33m\u001b[0m\u001b[1;33m\u001b[0m\u001b[0m\n",
      "\u001b[1;31mValueError\u001b[0m: x and y must have same first dimension, but have shapes (25,) and (4,)"
     ]
    },
    {
     "data": {
      "image/png": "[encoded data removed]",
      "text/plain": [
       "<Figure size 432x288 with 1 Axes>"
      ]
     },
     "metadata": {
      "image/png": {
       "height": 252,
       "width": 380
      },
      "needs_background": "light"
     },
     "output_type": "display_data"
    }
   ],
   "source": [
    "plt.figure()\n",
    "plt.plot(ps,train_losses, label=\"Training set\")\n",
    "plt.plot(ps,test_losses, label=\"Test set\")\n",
    "plt.legend()\n",
    "plt.title(r\"Loss of a single learner with $\\lambda=0.01$\")\n",
    "plt.ylabel(\"Loss\")\n",
    "plt.xlabel(r\"Edge probability $p$\")\n",
    "plt.figure()\n",
    "plt.plot(ps,train_accuracies, label=\"Training set\")\n",
    "plt.plot(ps,test_accuracies, label=\"Test set\")\n",
    "plt.legend()\n",
    "plt.title(r\"Accuracy of a single learner with $\\lambda=0.01$\")\n",
    "plt.ylabel(\"Accuracy\")\n",
    "plt.xlabel(r\"Edge probability $p$\");"
   ]
  },
  {
   "cell_type": "code",
   "execution_count": 218,
   "metadata": {},
   "outputs": [],
   "source": [
    "dataloaders, testloader, models = initialize_learners(100)\n",
    "# Create optimizers to hold the state of one model\n",
    "optimizers = [torch.optim.Adam(models[i].parameters()) for i in range(100)]\n",
    "\n",
    "# Load batches infinitely in the same cycle (could update to resample a new loader after one epoch, but this is ok.)\n",
    "dataiters = [cycle(dataloader) for dataloader in dataloaders]"
   ]
  },
  {
   "cell_type": "code",
   "execution_count": 261,
   "metadata": {},
   "outputs": [
    {
     "data": {
      "text/plain": [
       "0.06774333119392395"
      ]
     },
     "execution_count": 261,
     "metadata": {},
     "output_type": "execute_result"
    }
   ],
   "source": [
    "# Kokeile rakennetuilla matriiseilla A\n",
    "# Kokeile vain kahdella learnerillä\n",
    "# Vertaa keskiarvooppijaan"
   ]
  },
  {
   "cell_type": "code",
   "execution_count": 44,
   "metadata": {},
   "outputs": [
    {
     "data": {
      "text/plain": [
       "array([[0., 0., 0., ..., 0., 0., 0.],\n",
       "       [0., 0., 0., ..., 0., 0., 0.],\n",
       "       [0., 0., 0., ..., 0., 0., 0.],\n",
       "       ...,\n",
       "       [0., 0., 0., ..., 0., 1., 0.],\n",
       "       [0., 0., 0., ..., 1., 0., 0.],\n",
       "       [0., 0., 0., ..., 0., 0., 0.]])"
      ]
     },
     "execution_count": 44,
     "metadata": {},
     "output_type": "execute_result"
    }
   ],
   "source": [
    "getAfromSBM(60,0.1,1)"
   ]
  },
  {
   "cell_type": "code",
   "execution_count": 109,
   "metadata": {},
   "outputs": [
    {
     "data": {
      "image/png": "[encoded data removed]",
      "text/plain": [
       "<Figure size 432x288 with 1 Axes>"
      ]
     },
     "metadata": {},
     "output_type": "display_data"
    }
   ],
   "source": [
    "def get2AfromSBM(n1=10, n2=10, p_in=0.8\n",
    "                 , p_out=0, mu_in=1, mu_out=1):\n",
    "    n = [n1,n2]\n",
    "    p = [[p_in, p_out], [p_out, p_in]]\n",
    "    wt = [[np.random.normal,np.random.normal], [np.random.normal, np.random.normal]]\n",
    "    wtargs = [[dict(loc=mu_in, scale=0), dict(loc=mu_out, scale=0)],\n",
    "              [dict(loc=mu_out,scale=0), dict(loc=mu_in,  scale=0)]]\n",
    "    A = sbm(n=n, p=p, wt=wt, wtargs=wtargs)\n",
    "    return A\n",
    "\n",
    "import networkx as nx\n",
    "G = nx.from_numpy_matrix(get2AfromSBM(5,5,0.75,0.1,1))\n",
    "\n",
    "fixedpos = {1:(0,0), 6:(4,4)}\n",
    "pos = nx.spring_layout(G, fixed = fixedpos.keys(), pos = fixedpos)\n",
    "\n",
    "nx.draw_networkx(G, pos=pos)"
   ]
  },
  {
   "cell_type": "code",
   "execution_count": 104,
   "metadata": {},
   "outputs": [],
   "source": [
    "import numpy as np\n",
    "from graspologic.simulations import sbm"
   ]
  },
  {
   "cell_type": "code",
   "execution_count": null,
   "metadata": {},
   "outputs": [],
   "source": []
  }
 ],
 "metadata": {
  "kernelspec": {
   "display_name": "Python 3",
   "language": "python",
   "name": "python3"
  },
  "language_info": {
   "codemirror_mode": {
    "name": "ipython",
    "version": 3
   },
   "file_extension": ".py",
   "mimetype": "text/x-python",
   "name": "python",
   "nbconvert_exporter": "python",
   "pygments_lexer": "ipython3",
   "version": "3.8.5"
  }
 },
 "nbformat": 4,
 "nbformat_minor": 4
}
