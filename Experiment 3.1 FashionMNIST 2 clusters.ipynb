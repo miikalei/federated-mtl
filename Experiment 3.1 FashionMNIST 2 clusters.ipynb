{
 "cells": [
  {
   "cell_type": "code",
   "execution_count": 1,
   "metadata": {},
   "outputs": [],
   "source": [
    "import torch\n",
    "import torch.nn as nn\n",
    "import torch.nn.functional as F\n",
    "import torch.optim as optim\n",
    "import torchvision\n",
    "import matplotlib.pyplot as plt\n",
    "import numpy as np\n",
    "from itertools import cycle\n",
    "import random\n",
    "%config InlineBackend.figure_format = 'retina'\n",
    "DEVICE = \"cuda\" # or \"cpu\"\n",
    "from tqdm.notebook import tqdm"
   ]
  },
  {
   "cell_type": "markdown",
   "metadata": {},
   "source": [
    "# Load and normalize the FashionMNIST data"
   ]
  },
  {
   "cell_type": "code",
   "execution_count": 2,
   "metadata": {},
   "outputs": [
    {
     "name": "stdout",
     "output_type": "stream",
     "text": [
      "Mean pixel is 0.2860405743122101  and std is 0.3530242443084717\n"
     ]
    }
   ],
   "source": [
    "#Download the datasets\n",
    "dataset_train = torchvision.datasets.FashionMNIST('../data', train=True, download=True,transform=torchvision.transforms.ToTensor())\n",
    "dataset_test = torchvision.datasets.FashionMNIST('../data', train=False, download=True,transform=torchvision.transforms.ToTensor())\n",
    "# For normalization, get mean and std of the training dataset\n",
    "train_loader = torch.utils.data.DataLoader(dataset_train, batch_size=len(dataset_train))\n",
    "data = next(iter(train_loader))[0]\n",
    "mean, std = data.mean().item(), data.std().item()\n",
    "print(\"Mean pixel is\",mean,\" and std is\",std)\n",
    "\n",
    "# Now we can load the dataset with normalizing transformation\n",
    "transform = torchvision.transforms.Compose([\n",
    "    torchvision.transforms.ToTensor(),\n",
    "    torchvision.transforms.Normalize((mean,),(std,))\n",
    "])\n",
    "dataset_train.transform = transform\n",
    "dataset_test.transform = transform"
   ]
  },
  {
   "cell_type": "code",
   "execution_count": 11,
   "metadata": {},
   "outputs": [
    {
     "data": {
      "image/png": "[encoded data removed]",
      "text/plain": [
       "<Figure size 432x288 with 1 Axes>"
      ]
     },
     "metadata": {
      "image/png": {
       "height": 248,
       "width": 251
      },
      "needs_background": "light"
     },
     "output_type": "display_data"
    }
   ],
   "source": [
    "def showimg(tensor):\n",
    "    plt.imshow(tensor.reshape(28,28))\n",
    "showimg(dataset_train[13131][0]); # plt.imshow does a min-max normalization, so it always looks the same"
   ]
  },
  {
   "cell_type": "markdown",
   "metadata": {},
   "source": [
    "# Generate the empirical graph with 2 clusters using the stochastic graph model"
   ]
  },
  {
   "cell_type": "code",
   "execution_count": 12,
   "metadata": {},
   "outputs": [
    {
     "name": "stdout",
     "output_type": "stream",
     "text": [
      "[[0. 3. 0. 1. 0. 0.]\n",
      " [3. 0. 3. 0. 1. 1.]\n",
      " [0. 3. 0. 0. 1. 0.]\n",
      " [1. 0. 0. 0. 3. 0.]\n",
      " [0. 1. 1. 3. 0. 0.]\n",
      " [0. 1. 0. 0. 0. 0.]]\n"
     ]
    }
   ],
   "source": [
    "from graspologic.simulations import sbm\n",
    "\n",
    "# Return the adjacency matrix (as numpy.ndarray), where elements are the link strengths\n",
    "def getAfromSBM(n1=5, n2=5, p_in=0.5, p_out=0.1, mu_in=8, mu_out=2):\n",
    "    n = [n1,n2]\n",
    "    p = [[p_in, p_out], [p_out, p_in]]\n",
    "    wt = [[np.random.normal,np.random.normal], [np.random.normal, np.random.normal]]\n",
    "    wtargs = [[dict(loc=mu_in, scale=0), dict(loc=mu_out, scale=0)],\n",
    "              [dict(loc=mu_out,scale=0), dict(loc=mu_in,  scale=0)]]\n",
    "    A = sbm(n=n, p=p, wt=wt, wtargs=wtargs)\n",
    "    return A\n",
    "\n",
    "# For example\n",
    "print(getAfromSBM(3,3,0.5,0.3,3,1))\n",
    "# Note: A is always symmetric, has no self-loops"
   ]
  },
  {
   "cell_type": "markdown",
   "metadata": {},
   "source": [
    "# Define the model and divide + transform the MNIST data"
   ]
  },
  {
   "cell_type": "code",
   "execution_count": 13,
   "metadata": {},
   "outputs": [],
   "source": [
    "class Net(nn.Module):\n",
    "    def __init__(self):\n",
    "        super(Net, self).__init__()\n",
    "        self.conv1 = nn.Conv2d(1, 32, 3, 1)\n",
    "        self.conv2 = nn.Conv2d(32, 64, 3, 1)\n",
    "        self.dropout1 = nn.Dropout(0.25)\n",
    "        self.dropout2 = nn.Dropout(0.5)\n",
    "        self.fc1 = nn.Linear(9216, 128)\n",
    "        self.fc2 = nn.Linear(128, 10)\n",
    "\n",
    "    def forward(self, x):\n",
    "        x = self.conv1(x)\n",
    "        x = F.relu(x)\n",
    "        x = self.conv2(x)\n",
    "        x = F.relu(x)\n",
    "        x = F.max_pool2d(x, 2)\n",
    "        x = self.dropout1(x)\n",
    "        x = torch.flatten(x, 1)\n",
    "        x = self.fc1(x)\n",
    "        x = F.relu(x)\n",
    "        x = self.dropout2(x)\n",
    "        x = self.fc2(x)\n",
    "        output = F.log_softmax(x, dim=1)\n",
    "        return output"
   ]
  },
  {
   "cell_type": "code",
   "execution_count": 14,
   "metadata": {},
   "outputs": [],
   "source": [
    "# Custom class to apply the transformation only to the other half\n",
    "class MapDataset(torch.utils.data.Dataset):\n",
    "    \"\"\"\n",
    "    Given a dataset, creates a dataset which applies a mapping function\n",
    "    to its items (lazily, only when an item is called).\n",
    "    \n",
    "    Note that the data is not cloned/copied from the initial dataset\"\"\"\n",
    "    def __init__(self, dataset, map_fn):\n",
    "        self.dataset = dataset\n",
    "        self.map = map_fn\n",
    "    \n",
    "    def __getitem__(self, index):\n",
    "        # Apply the given function (self.map) only to the feature, not the label\n",
    "        return (self.map(self.dataset[index][0]), self.dataset[index][1])\n",
    "    \n",
    "    def __len__(self):\n",
    "        return len(self.dataset)\n",
    "    \n",
    "def sizes(num,div):\n",
    "    return [num // div + (1 if x < num % div else 0) for x in range(div)]\n",
    "\n",
    "def rotation_transform(img):\n",
    "    return torch.rot90(img,1,[-1,-2])\n",
    "\n",
    "def initialize_learners(n_learners=10,n_training_data=60000):\n",
    "    #n_learners = 10 # learners in the first cluster are 0,1,2,3,4; in the second cluster 5,6,7,8,9\n",
    "    n1 = n_learners // 2\n",
    "    n2 = n_learners - n1\n",
    "    n1_list = range(n1)\n",
    "    n2_list = range(n1,n2)\n",
    "    # divide the data evenly to n_learners, apply rotation_transform to the second half of datasets\n",
    "    dataset_sizes = sizes(n_training_data, n_learners) + [60000 - n_training_data]\n",
    "    datasets = torch.utils.data.random_split(dataset_train,dataset_sizes)[:-1] # drop the last one, holding the unused data\n",
    "    datasets = [dataset if n in n1_list else MapDataset(dataset, rotation_transform) for (n,dataset) in enumerate(datasets)]\n",
    "    dataloaders = [torch.utils.data.DataLoader(datasets[i], batch_size = 256) for i in range(n_learners)]\n",
    "    testloader = torch.utils.data.DataLoader(dataset_test, batch_size = 256)\n",
    "\n",
    "    # Initialize the models\n",
    "    models = [Net().to(DEVICE) for i in range(n_learners)]\n",
    "    # Copy the initialization from model 0 to all others\n",
    "    for i in range(1,n_learners):\n",
    "        models[i].load_state_dict(models[0].state_dict())\n",
    "    return dataloaders, testloader, models\n",
    "\n",
    "def L2(local, neighbor):\n",
    "    return torch.norm(local - neighbor)\n",
    "\n",
    "def L2_squared(local, neighbor):\n",
    "    #return torch.norm(local - neighbor).pow(2)\n",
    "    return (local - neighbor).pow(2).sum()\n",
    "\n",
    "def pi_1(tensor):\n",
    "    mask = torch.cat([torch.ones(18816,device=DEVICE),torch.zeros(1181066,device=DEVICE)])\n",
    "    return tensor * mask\n",
    "\n",
    "def pi_2(tensor):\n",
    "    mask = torch.cat([torch.zeros(18816,device=DEVICE),torch.ones(1181066,device=DEVICE)])\n",
    "    return tensor * mask\n",
    "\n",
    "def L2_early(local,neighbor):\n",
    "    return torch.norm(pi_1(local)-pi_1(neighbor))\n",
    "\n",
    "def L2_early_squared(local,neighbor):\n",
    "    return torch.norm(pi_1(local)-pi_1(neighbor)).pow(2)"
   ]
  },
  {
   "cell_type": "markdown",
   "metadata": {},
   "source": [
    "# Define the local learning step and testing procedure"
   ]
  },
  {
   "cell_type": "code",
   "execution_count": 15,
   "metadata": {},
   "outputs": [],
   "source": [
    "# Takes a single optimizer step. Note that the optimizer state is updated.\n",
    "def train_single_step(model, dataiter, optimizer, neighbor_thetas, neighbor_weights, lambd=0, g=L2_squared):\n",
    "    model.train() # Change into training mode (matters for dropout, at least)\n",
    "    data, target = next(dataiter)\n",
    "    data, target = data.to(DEVICE), target.to(DEVICE)\n",
    "    optimizer.zero_grad()\n",
    "    # First, compute the local loss\n",
    "    output = model(data)\n",
    "    loss = F.nll_loss(output, target)\n",
    "    # Then add the parameter differences\n",
    "    local_theta = torch.nn.utils.parameters_to_vector(model.parameters())\n",
    "    for i in range(len(neighbor_thetas)):\n",
    "        loss += lambd * neighbor_weights[i] * g(local_theta, neighbor_thetas[i])\n",
    "    loss.backward()\n",
    "    optimizer.step()\n",
    "    return loss.item()"
   ]
  },
  {
   "cell_type": "code",
   "execution_count": 16,
   "metadata": {},
   "outputs": [],
   "source": [
    "def test(model, testloader, verbose=True):\n",
    "    model.eval() #Change to evalution mode\n",
    "    test_loss = 0\n",
    "    correct = 0\n",
    "    with torch.no_grad():\n",
    "        for data, target in testloader:\n",
    "            data, target = data.to(DEVICE), target.to(DEVICE)\n",
    "            output=model(data)\n",
    "            test_loss += F.nll_loss(output, target, reduction='sum').item() # sum of the batch loss\n",
    "            pred = output.argmax(dim=1, keepdim=True)\n",
    "            correct += pred.eq(target.view_as(pred)).sum().item() # Number of correct guesses\n",
    "    test_loss /= len(testloader.dataset) # Mean loss (divided by the size of the whole test set)\n",
    "    \n",
    "    if verbose: print('\\nTest set: Average loss: {:.4f}, Accuracy: {}/{} ({:.0f}%)\\n'.format(\n",
    "        test_loss, correct, len(testloader.dataset), 100. * correct / len(testloader.dataset)))\n",
    "    # Return both loss value and test accuracy\n",
    "    return test_loss, correct / len(testloader.dataset)"
   ]
  },
  {
   "cell_type": "code",
   "execution_count": 17,
   "metadata": {},
   "outputs": [],
   "source": [
    "def compute_L(models, dataloaders, A, lambd=0, g=L2_squared):\n",
    "    L_loss = 0\n",
    "    L_reg = 0\n",
    "    with torch.no_grad():\n",
    "        for i in range(len(models)):\n",
    "            models[i].eval()\n",
    "            loss, _ = test(models[i], dataloaders[i], verbose=False)\n",
    "            L_loss += loss\n",
    "            neighbor_indices = np.nonzero(A[i])[0]\n",
    "            local_theta = torch.nn.utils.parameters_to_vector(models[i].parameters())\n",
    "            for index in neighbor_indices:\n",
    "                neighbor_theta = torch.nn.utils.parameters_to_vector(models[index].parameters()).detach()\n",
    "                L_reg += 0.5 * lambd * A[i][index] * g(local_theta, neighbor_theta).item()\n",
    "                # 0.5 because each edge is counted twice this way\n",
    "    return L_loss, L_reg\n",
    "\n",
    "def print_memory():\n",
    "    print(\"Total:\",torch.cuda.get_device_properties(0).total_memory)\n",
    "    print(\"Allocated:\",torch.cuda.memory_allocated(0))\n",
    "    print(\"Reserved:\",torch.cuda.memory_allocated(0))"
   ]
  },
  {
   "cell_type": "markdown",
   "metadata": {},
   "source": [
    "# Define the optimization algorithm"
   ]
  },
  {
   "cell_type": "code",
   "execution_count": 18,
   "metadata": {
    "scrolled": true
   },
   "outputs": [],
   "source": [
    "def run_experiment(n_learners=10, n_iterations=10000, lambd=0.1, last_only=False, compute_L_flag=False,\n",
    "                   p_in=1, p_out=1, verbose=False, g=L2_squared, n_training_data=60000):\n",
    "    n1 = n_learners // 2\n",
    "    n2 = n_learners - n1\n",
    "    # Create a 2-cluster graph with all edges having weight 1\n",
    "    A = getAfromSBM(n1, n2, p_in=p_in, p_out=p_out, mu_in=1, mu_out=1)\n",
    "    \n",
    "    dataloaders, testloader, models = initialize_learners(n_learners, n_training_data)\n",
    "    \n",
    "    # Create optimizers to hold the state of one model\n",
    "    optimizers = [torch.optim.Adam(models[i].parameters()) for i in range(n_learners)]\n",
    "    \n",
    "    # Load batches infinitely in the same cycle (could update to resample a new loader after one epoch, but this is ok.)\n",
    "    dataiters = [cycle(dataloader) for dataloader in dataloaders]\n",
    "    \n",
    "    results = []\n",
    "    for i in tqdm(range(n_iterations)):\n",
    "        # Choose a random learner (single one for now)\n",
    "        k = random.randrange(n_learners)\n",
    "        # Work out all the neighbors and the model states of the neighbors\n",
    "        neighbor_indices = np.nonzero(A[k])[0]\n",
    "        neighbor_weights = A[k][neighbor_indices]\n",
    "        neighbor_thetas = []\n",
    "        for index in neighbor_indices:\n",
    "            neighbor_thetas.append(torch.nn.utils.parameters_to_vector(models[index].parameters()).detach())\n",
    "\n",
    "        # Take the local step (except the first time)\n",
    "        if i!= 0: train_single_step(models[k], dataiters[k], optimizers[k], neighbor_thetas, neighbor_weights, lambd,g=g)\n",
    "\n",
    "        # At some timepoints, calculate losses and accuracies and add to results\n",
    "        # If last_only is True, then only do this at the last timestep.\n",
    "        if ((not last_only) and i % 100 == 0) or (last_only and i == n_iterations-1):\n",
    "            if verbose: print(\"Iteration\",i,\":\")\n",
    "            train_loss, train_accuracy = test(models[0], dataloaders[0])\n",
    "            # We measure the effectieness usin the first model, since it has learned to read images normally.\n",
    "            test_loss, test_accuracy = test(models[0], testloader)\n",
    "            if compute_L_flag:\n",
    "                L_loss, L_reg = compute_L(models, dataloaders, A, lambd, g=g)\n",
    "            else:\n",
    "                L_loss, L_reg = 0, 0\n",
    "            results.append((train_loss, train_accuracy, test_loss, test_accuracy,L_loss, L_reg))\n",
    "    return results"
   ]
  },
  {
   "cell_type": "markdown",
   "metadata": {},
   "source": [
    "# Run the experiment n=2 with lambda=1"
   ]
  },
  {
   "cell_type": "code",
   "execution_count": 11,
   "metadata": {
    "scrolled": true
   },
   "outputs": [
    {
     "data": {
      "application/vnd.jupyter.widget-view+json": {
       "model_id": "2d876950ec874b82abce3ab96f29bf93",
       "version_major": 2,
       "version_minor": 0
      },
      "text/plain": [
       "HBox(children=(HTML(value=''), FloatProgress(value=0.0, max=5000.0), HTML(value='')))"
      ]
     },
     "metadata": {},
     "output_type": "display_data"
    },
    {
     "name": "stdout",
     "output_type": "stream",
     "text": [
      "\n",
      "Test set: Average loss: 2.2983, Accuracy: 3167/30000 (11%)\n",
      "\n",
      "\n",
      "Test set: Average loss: 2.2985, Accuracy: 1034/10000 (10%)\n",
      "\n",
      "\n",
      "Test set: Average loss: 0.6184, Accuracy: 23342/30000 (78%)\n",
      "\n",
      "\n",
      "Test set: Average loss: 0.6393, Accuracy: 7685/10000 (77%)\n",
      "\n",
      "\n",
      "Test set: Average loss: 0.4692, Accuracy: 24816/30000 (83%)\n",
      "\n",
      "\n",
      "Test set: Average loss: 0.4985, Accuracy: 8131/10000 (81%)\n",
      "\n",
      "\n",
      "Test set: Average loss: 0.4084, Accuracy: 25566/30000 (85%)\n",
      "\n",
      "\n",
      "Test set: Average loss: 0.4416, Accuracy: 8401/10000 (84%)\n",
      "\n",
      "\n",
      "Test set: Average loss: 0.3692, Accuracy: 26072/30000 (87%)\n",
      "\n",
      "\n",
      "Test set: Average loss: 0.4084, Accuracy: 8534/10000 (85%)\n",
      "\n",
      "\n",
      "Test set: Average loss: 0.3585, Accuracy: 26174/30000 (87%)\n",
      "\n",
      "\n",
      "Test set: Average loss: 0.3995, Accuracy: 8583/10000 (86%)\n",
      "\n",
      "\n",
      "Test set: Average loss: 0.3398, Accuracy: 26274/30000 (88%)\n",
      "\n",
      "\n",
      "Test set: Average loss: 0.3815, Accuracy: 8615/10000 (86%)\n",
      "\n",
      "\n",
      "Test set: Average loss: 0.3255, Accuracy: 26475/30000 (88%)\n",
      "\n",
      "\n",
      "Test set: Average loss: 0.3684, Accuracy: 8680/10000 (87%)\n",
      "\n",
      "\n",
      "Test set: Average loss: 0.3231, Accuracy: 26544/30000 (88%)\n",
      "\n",
      "\n",
      "Test set: Average loss: 0.3706, Accuracy: 8678/10000 (87%)\n",
      "\n",
      "\n",
      "Test set: Average loss: 0.3073, Accuracy: 26667/30000 (89%)\n",
      "\n",
      "\n",
      "Test set: Average loss: 0.3584, Accuracy: 8728/10000 (87%)\n",
      "\n",
      "\n",
      "Test set: Average loss: 0.2947, Accuracy: 26819/30000 (89%)\n",
      "\n",
      "\n",
      "Test set: Average loss: 0.3480, Accuracy: 8752/10000 (88%)\n",
      "\n",
      "\n",
      "Test set: Average loss: 0.2987, Accuracy: 26616/30000 (89%)\n",
      "\n",
      "\n",
      "Test set: Average loss: 0.3523, Accuracy: 8704/10000 (87%)\n",
      "\n",
      "\n",
      "Test set: Average loss: 0.2887, Accuracy: 26822/30000 (89%)\n",
      "\n",
      "\n",
      "Test set: Average loss: 0.3437, Accuracy: 8761/10000 (88%)\n",
      "\n",
      "\n",
      "Test set: Average loss: 0.2718, Accuracy: 27021/30000 (90%)\n",
      "\n",
      "\n",
      "Test set: Average loss: 0.3316, Accuracy: 8785/10000 (88%)\n",
      "\n",
      "\n",
      "Test set: Average loss: 0.2788, Accuracy: 27005/30000 (90%)\n",
      "\n",
      "\n",
      "Test set: Average loss: 0.3344, Accuracy: 8794/10000 (88%)\n",
      "\n",
      "\n",
      "Test set: Average loss: 0.2596, Accuracy: 27128/30000 (90%)\n",
      "\n",
      "\n",
      "Test set: Average loss: 0.3219, Accuracy: 8854/10000 (89%)\n",
      "\n",
      "\n",
      "Test set: Average loss: 0.2526, Accuracy: 27207/30000 (91%)\n",
      "\n",
      "\n",
      "Test set: Average loss: 0.3133, Accuracy: 8857/10000 (89%)\n",
      "\n",
      "\n",
      "Test set: Average loss: 0.2513, Accuracy: 27332/30000 (91%)\n",
      "\n",
      "\n",
      "Test set: Average loss: 0.3095, Accuracy: 8883/10000 (89%)\n",
      "\n",
      "\n",
      "Test set: Average loss: 0.2363, Accuracy: 27461/30000 (92%)\n",
      "\n",
      "\n",
      "Test set: Average loss: 0.3013, Accuracy: 8925/10000 (89%)\n",
      "\n",
      "\n",
      "Test set: Average loss: 0.2317, Accuracy: 27467/30000 (92%)\n",
      "\n",
      "\n",
      "Test set: Average loss: 0.2991, Accuracy: 8915/10000 (89%)\n",
      "\n",
      "\n",
      "Test set: Average loss: 0.2364, Accuracy: 27408/30000 (91%)\n",
      "\n",
      "\n",
      "Test set: Average loss: 0.3022, Accuracy: 8888/10000 (89%)\n",
      "\n",
      "\n",
      "Test set: Average loss: 0.2183, Accuracy: 27637/30000 (92%)\n",
      "\n",
      "\n",
      "Test set: Average loss: 0.2864, Accuracy: 8987/10000 (90%)\n",
      "\n",
      "\n",
      "Test set: Average loss: 0.2195, Accuracy: 27578/30000 (92%)\n",
      "\n",
      "\n",
      "Test set: Average loss: 0.2936, Accuracy: 8943/10000 (89%)\n",
      "\n",
      "\n",
      "Test set: Average loss: 0.2121, Accuracy: 27665/30000 (92%)\n",
      "\n",
      "\n",
      "Test set: Average loss: 0.2869, Accuracy: 8967/10000 (90%)\n",
      "\n",
      "\n",
      "Test set: Average loss: 0.2091, Accuracy: 27681/30000 (92%)\n",
      "\n",
      "\n",
      "Test set: Average loss: 0.2852, Accuracy: 8954/10000 (90%)\n",
      "\n",
      "\n",
      "Test set: Average loss: 0.2038, Accuracy: 27768/30000 (93%)\n",
      "\n",
      "\n",
      "Test set: Average loss: 0.2823, Accuracy: 8997/10000 (90%)\n",
      "\n",
      "\n",
      "Test set: Average loss: 0.1995, Accuracy: 27820/30000 (93%)\n",
      "\n",
      "\n",
      "Test set: Average loss: 0.2796, Accuracy: 8972/10000 (90%)\n",
      "\n",
      "\n",
      "Test set: Average loss: 0.1979, Accuracy: 27850/30000 (93%)\n",
      "\n",
      "\n",
      "Test set: Average loss: 0.2813, Accuracy: 8982/10000 (90%)\n",
      "\n",
      "\n",
      "Test set: Average loss: 0.1916, Accuracy: 27934/30000 (93%)\n",
      "\n",
      "\n",
      "Test set: Average loss: 0.2761, Accuracy: 9007/10000 (90%)\n",
      "\n",
      "\n",
      "Test set: Average loss: 0.1901, Accuracy: 27933/30000 (93%)\n",
      "\n",
      "\n",
      "Test set: Average loss: 0.2767, Accuracy: 8977/10000 (90%)\n",
      "\n",
      "\n",
      "Test set: Average loss: 0.1920, Accuracy: 27875/30000 (93%)\n",
      "\n",
      "\n",
      "Test set: Average loss: 0.2851, Accuracy: 8985/10000 (90%)\n",
      "\n",
      "\n",
      "Test set: Average loss: 0.1775, Accuracy: 28101/30000 (94%)\n",
      "\n",
      "\n",
      "Test set: Average loss: 0.2716, Accuracy: 9029/10000 (90%)\n",
      "\n",
      "\n",
      "Test set: Average loss: 0.1764, Accuracy: 28098/30000 (94%)\n",
      "\n",
      "\n",
      "Test set: Average loss: 0.2668, Accuracy: 9062/10000 (91%)\n",
      "\n",
      "\n",
      "Test set: Average loss: 0.1838, Accuracy: 27998/30000 (93%)\n",
      "\n",
      "\n",
      "Test set: Average loss: 0.2774, Accuracy: 8997/10000 (90%)\n",
      "\n",
      "\n",
      "Test set: Average loss: 0.1735, Accuracy: 28144/30000 (94%)\n",
      "\n",
      "\n",
      "Test set: Average loss: 0.2695, Accuracy: 9025/10000 (90%)\n",
      "\n",
      "\n",
      "Test set: Average loss: 0.1736, Accuracy: 28086/30000 (94%)\n",
      "\n",
      "\n",
      "Test set: Average loss: 0.2732, Accuracy: 8999/10000 (90%)\n",
      "\n",
      "\n",
      "Test set: Average loss: 0.1622, Accuracy: 28255/30000 (94%)\n",
      "\n",
      "\n",
      "Test set: Average loss: 0.2646, Accuracy: 9057/10000 (91%)\n",
      "\n",
      "\n",
      "Test set: Average loss: 0.1602, Accuracy: 28272/30000 (94%)\n",
      "\n",
      "\n",
      "Test set: Average loss: 0.2710, Accuracy: 9020/10000 (90%)\n",
      "\n",
      "\n",
      "Test set: Average loss: 0.1644, Accuracy: 28207/30000 (94%)\n",
      "\n",
      "\n",
      "Test set: Average loss: 0.2715, Accuracy: 9036/10000 (90%)\n",
      "\n",
      "\n",
      "Test set: Average loss: 0.1684, Accuracy: 28193/30000 (94%)\n",
      "\n",
      "\n",
      "Test set: Average loss: 0.2762, Accuracy: 9033/10000 (90%)\n",
      "\n",
      "\n",
      "Test set: Average loss: 0.1626, Accuracy: 28295/30000 (94%)\n",
      "\n",
      "\n",
      "Test set: Average loss: 0.2670, Accuracy: 9056/10000 (91%)\n",
      "\n",
      "\n",
      "Test set: Average loss: 0.1537, Accuracy: 28363/30000 (95%)\n",
      "\n",
      "\n",
      "Test set: Average loss: 0.2640, Accuracy: 9045/10000 (90%)\n",
      "\n",
      "\n",
      "Test set: Average loss: 0.1507, Accuracy: 28383/30000 (95%)\n",
      "\n",
      "\n",
      "Test set: Average loss: 0.2619, Accuracy: 9049/10000 (90%)\n",
      "\n",
      "\n",
      "Test set: Average loss: 0.1475, Accuracy: 28445/30000 (95%)\n",
      "\n",
      "\n",
      "Test set: Average loss: 0.2614, Accuracy: 9054/10000 (91%)\n",
      "\n",
      "\n",
      "Test set: Average loss: 0.1484, Accuracy: 28446/30000 (95%)\n",
      "\n",
      "\n",
      "Test set: Average loss: 0.2599, Accuracy: 9074/10000 (91%)\n",
      "\n",
      "\n",
      "Test set: Average loss: 0.1441, Accuracy: 28466/30000 (95%)\n",
      "\n",
      "\n",
      "Test set: Average loss: 0.2624, Accuracy: 9062/10000 (91%)\n",
      "\n",
      "\n",
      "Test set: Average loss: 0.1419, Accuracy: 28497/30000 (95%)\n",
      "\n",
      "\n",
      "Test set: Average loss: 0.2629, Accuracy: 9077/10000 (91%)\n",
      "\n",
      "\n",
      "Test set: Average loss: 0.1433, Accuracy: 28513/30000 (95%)\n",
      "\n",
      "\n",
      "Test set: Average loss: 0.2559, Accuracy: 9086/10000 (91%)\n",
      "\n",
      "\n",
      "Test set: Average loss: 0.1334, Accuracy: 28609/30000 (95%)\n",
      "\n",
      "\n",
      "Test set: Average loss: 0.2659, Accuracy: 9088/10000 (91%)\n",
      "\n",
      "\n",
      "Test set: Average loss: 0.1363, Accuracy: 28568/30000 (95%)\n",
      "\n",
      "\n",
      "Test set: Average loss: 0.2575, Accuracy: 9087/10000 (91%)\n",
      "\n",
      "\n"
     ]
    }
   ],
   "source": [
    "results = run_experiment(2,5000,1, compute_L_flag=True)\n",
    "train_losses = list(zip(*results))[0]\n",
    "train_accuracies = list(zip(*results))[1]\n",
    "test_losses = list(zip(*results))[2]\n",
    "test_accuracies = list(zip(*results))[3]\n",
    "L_losses = list(zip(*results))[4]\n",
    "L_regs = list(zip(*results))[5]"
   ]
  },
  {
   "cell_type": "code",
   "execution_count": 12,
   "metadata": {},
   "outputs": [
    {
     "data": {
      "text/plain": [
       "<matplotlib.legend.Legend at 0x27c13a9e070>"
      ]
     },
     "execution_count": 12,
     "metadata": {},
     "output_type": "execute_result"
    },
    {
     "data": {
      "image/png": "[encoded data removed]",
      "text/plain": [
       "<Figure size 432x288 with 1 Axes>"
      ]
     },
     "metadata": {
      "image/png": {
       "height": 277,
       "width": 389
      },
      "needs_background": "light"
     },
     "output_type": "display_data"
    },
    {
     "data": {
      "image/png": "[encoded data removed]",
      "text/plain": [
       "<Figure size 432x288 with 1 Axes>"
      ]
     },
     "metadata": {
      "image/png": {
       "height": 277,
       "width": 389
      },
      "needs_background": "light"
     },
     "output_type": "display_data"
    },
    {
     "name": "stderr",
     "output_type": "stream",
     "text": [
      "Substituting symbol L from STIXNonUnicode\n",
      "Substituting symbol L from STIXNonUnicode\n"
     ]
    },
    {
     "data": {
      "image/png": "[encoded data removed]",
      "text/plain": [
       "<Figure size 432x288 with 1 Axes>"
      ]
     },
     "metadata": {
      "image/png": {
       "height": 277,
       "width": 380
      },
      "needs_background": "light"
     },
     "output_type": "display_data"
    }
   ],
   "source": [
    "plt.figure()\n",
    "plt.plot(range(0,100*len(train_losses),100),train_losses,label=\"Train set\")\n",
    "plt.plot(range(0,100*len(train_losses),100),test_losses,label=\"Test set\")\n",
    "plt.title(\"Single learner performance during training\")\n",
    "plt.xlabel(\"Iteration number\")\n",
    "plt.ylabel(\"Loss\")\n",
    "plt.legend()\n",
    "\n",
    "plt.figure()\n",
    "plt.plot(range(0,100*len(train_losses),100),train_accuracies,label=\"Train set\")\n",
    "plt.plot(range(0,100*len(train_losses),100),test_accuracies,label=\"Test set\")\n",
    "plt.title(\"Single learner performance during training\")\n",
    "plt.xlabel(\"Iteration number\")\n",
    "plt.ylabel(\"Accuracy\")\n",
    "plt.legend()\n",
    "\n",
    "plt.figure()\n",
    "plt.stackplot(range(0,100*len(train_losses),100), L_losses, L_regs, labels=[\"Local losses\", \"Edge regularization\"])\n",
    "plt.title(\"Global loss during training\")\n",
    "plt.ylabel(r\"Global loss $\\mathcal{L}(\\theta)$\")\n",
    "plt.xlabel(\"Iteration number\")\n",
    "plt.legend()"
   ]
  },
  {
   "cell_type": "markdown",
   "metadata": {
    "scrolled": true
   },
   "source": [
    "# Run the experiment with varying lambda"
   ]
  },
  {
   "cell_type": "code",
   "execution_count": 13,
   "metadata": {
    "scrolled": true
   },
   "outputs": [
    {
     "data": {
      "application/vnd.jupyter.widget-view+json": {
       "model_id": "cd763802c2da4eb3badee4b059aa772b",
       "version_major": 2,
       "version_minor": 0
      },
      "text/plain": [
       "HBox(children=(HTML(value=''), FloatProgress(value=0.0, max=30.0), HTML(value='')))"
      ]
     },
     "metadata": {},
     "output_type": "display_data"
    },
    {
     "data": {
      "application/vnd.jupyter.widget-view+json": {
       "model_id": "55551d3dffdf4985abd783c58e1fca36",
       "version_major": 2,
       "version_minor": 0
      },
      "text/plain": [
       "HBox(children=(HTML(value=''), FloatProgress(value=0.0, max=10000.0), HTML(value='')))"
      ]
     },
     "metadata": {},
     "output_type": "display_data"
    },
    {
     "name": "stdout",
     "output_type": "stream",
     "text": [
      "\n",
      "Test set: Average loss: 0.0162, Accuracy: 29870/30000 (100%)\n",
      "\n",
      "\n",
      "Test set: Average loss: 0.3343, Accuracy: 9176/10000 (92%)\n",
      "\n",
      "\n"
     ]
    },
    {
     "data": {
      "application/vnd.jupyter.widget-view+json": {
       "model_id": "940e1cb264cf4d98891215791f6a3e38",
       "version_major": 2,
       "version_minor": 0
      },
      "text/plain": [
       "HBox(children=(HTML(value=''), FloatProgress(value=0.0, max=10000.0), HTML(value='')))"
      ]
     },
     "metadata": {},
     "output_type": "display_data"
    },
    {
     "name": "stdout",
     "output_type": "stream",
     "text": [
      "\n",
      "Test set: Average loss: 0.0295, Accuracy: 29755/30000 (99%)\n",
      "\n",
      "\n",
      "Test set: Average loss: 0.3374, Accuracy: 9122/10000 (91%)\n",
      "\n",
      "\n"
     ]
    },
    {
     "data": {
      "application/vnd.jupyter.widget-view+json": {
       "model_id": "49f55afb1c3349cbb7b80f2685fb79e5",
       "version_major": 2,
       "version_minor": 0
      },
      "text/plain": [
       "HBox(children=(HTML(value=''), FloatProgress(value=0.0, max=10000.0), HTML(value='')))"
      ]
     },
     "metadata": {},
     "output_type": "display_data"
    },
    {
     "name": "stdout",
     "output_type": "stream",
     "text": [
      "\n",
      "Test set: Average loss: 0.0252, Accuracy: 29782/30000 (99%)\n",
      "\n",
      "\n",
      "Test set: Average loss: 0.3216, Accuracy: 9177/10000 (92%)\n",
      "\n",
      "\n"
     ]
    },
    {
     "data": {
      "application/vnd.jupyter.widget-view+json": {
       "model_id": "aa3b08b9f0254b638ada69f29792b470",
       "version_major": 2,
       "version_minor": 0
      },
      "text/plain": [
       "HBox(children=(HTML(value=''), FloatProgress(value=0.0, max=10000.0), HTML(value='')))"
      ]
     },
     "metadata": {},
     "output_type": "display_data"
    },
    {
     "name": "stdout",
     "output_type": "stream",
     "text": [
      "\n",
      "Test set: Average loss: 0.0241, Accuracy: 29787/30000 (99%)\n",
      "\n",
      "\n",
      "Test set: Average loss: 0.3218, Accuracy: 9172/10000 (92%)\n",
      "\n",
      "\n"
     ]
    },
    {
     "data": {
      "application/vnd.jupyter.widget-view+json": {
       "model_id": "8c311af07c9c4cb1b30cca314cb74fbd",
       "version_major": 2,
       "version_minor": 0
      },
      "text/plain": [
       "HBox(children=(HTML(value=''), FloatProgress(value=0.0, max=10000.0), HTML(value='')))"
      ]
     },
     "metadata": {},
     "output_type": "display_data"
    },
    {
     "name": "stdout",
     "output_type": "stream",
     "text": [
      "\n",
      "Test set: Average loss: 0.0234, Accuracy: 29831/30000 (99%)\n",
      "\n",
      "\n",
      "Test set: Average loss: 0.3041, Accuracy: 9198/10000 (92%)\n",
      "\n",
      "\n"
     ]
    },
    {
     "data": {
      "application/vnd.jupyter.widget-view+json": {
       "model_id": "3cef574c22d64c2d8a5d689a0cfc93e7",
       "version_major": 2,
       "version_minor": 0
      },
      "text/plain": [
       "HBox(children=(HTML(value=''), FloatProgress(value=0.0, max=10000.0), HTML(value='')))"
      ]
     },
     "metadata": {},
     "output_type": "display_data"
    },
    {
     "name": "stdout",
     "output_type": "stream",
     "text": [
      "\n",
      "Test set: Average loss: 0.0271, Accuracy: 29824/30000 (99%)\n",
      "\n",
      "\n",
      "Test set: Average loss: 0.2953, Accuracy: 9181/10000 (92%)\n",
      "\n",
      "\n"
     ]
    },
    {
     "data": {
      "application/vnd.jupyter.widget-view+json": {
       "model_id": "74935a63bcb24f2ba1b74fbf835a2765",
       "version_major": 2,
       "version_minor": 0
      },
      "text/plain": [
       "HBox(children=(HTML(value=''), FloatProgress(value=0.0, max=10000.0), HTML(value='')))"
      ]
     },
     "metadata": {},
     "output_type": "display_data"
    },
    {
     "name": "stdout",
     "output_type": "stream",
     "text": [
      "\n",
      "Test set: Average loss: 0.0256, Accuracy: 29791/30000 (99%)\n",
      "\n",
      "\n",
      "Test set: Average loss: 0.3230, Accuracy: 9165/10000 (92%)\n",
      "\n",
      "\n"
     ]
    },
    {
     "data": {
      "application/vnd.jupyter.widget-view+json": {
       "model_id": "00eff9ccd538496b8c79548585168ce3",
       "version_major": 2,
       "version_minor": 0
      },
      "text/plain": [
       "HBox(children=(HTML(value=''), FloatProgress(value=0.0, max=10000.0), HTML(value='')))"
      ]
     },
     "metadata": {},
     "output_type": "display_data"
    },
    {
     "name": "stdout",
     "output_type": "stream",
     "text": [
      "\n",
      "Test set: Average loss: 0.0282, Accuracy: 29738/30000 (99%)\n",
      "\n",
      "\n",
      "Test set: Average loss: 0.3031, Accuracy: 9166/10000 (92%)\n",
      "\n",
      "\n"
     ]
    },
    {
     "data": {
      "application/vnd.jupyter.widget-view+json": {
       "model_id": "3f7170acfa454695bc3c1540384fb416",
       "version_major": 2,
       "version_minor": 0
      },
      "text/plain": [
       "HBox(children=(HTML(value=''), FloatProgress(value=0.0, max=10000.0), HTML(value='')))"
      ]
     },
     "metadata": {},
     "output_type": "display_data"
    },
    {
     "name": "stdout",
     "output_type": "stream",
     "text": [
      "\n",
      "Test set: Average loss: 0.0284, Accuracy: 29796/30000 (99%)\n",
      "\n",
      "\n",
      "Test set: Average loss: 0.2876, Accuracy: 9188/10000 (92%)\n",
      "\n",
      "\n"
     ]
    },
    {
     "data": {
      "application/vnd.jupyter.widget-view+json": {
       "model_id": "cfab8f33a0cd429c9ff2c62fac97938d",
       "version_major": 2,
       "version_minor": 0
      },
      "text/plain": [
       "HBox(children=(HTML(value=''), FloatProgress(value=0.0, max=10000.0), HTML(value='')))"
      ]
     },
     "metadata": {},
     "output_type": "display_data"
    },
    {
     "name": "stdout",
     "output_type": "stream",
     "text": [
      "\n",
      "Test set: Average loss: 0.0363, Accuracy: 29682/30000 (99%)\n",
      "\n",
      "\n",
      "Test set: Average loss: 0.2896, Accuracy: 9162/10000 (92%)\n",
      "\n",
      "\n"
     ]
    },
    {
     "data": {
      "application/vnd.jupyter.widget-view+json": {
       "model_id": "b7569c4308be4bd093bc64db562998b4",
       "version_major": 2,
       "version_minor": 0
      },
      "text/plain": [
       "HBox(children=(HTML(value=''), FloatProgress(value=0.0, max=10000.0), HTML(value='')))"
      ]
     },
     "metadata": {},
     "output_type": "display_data"
    },
    {
     "name": "stdout",
     "output_type": "stream",
     "text": [
      "\n",
      "Test set: Average loss: 0.0425, Accuracy: 29610/30000 (99%)\n",
      "\n",
      "\n",
      "Test set: Average loss: 0.2997, Accuracy: 9107/10000 (91%)\n",
      "\n",
      "\n"
     ]
    },
    {
     "data": {
      "application/vnd.jupyter.widget-view+json": {
       "model_id": "d943a2284356460180c3bbd0c5686c00",
       "version_major": 2,
       "version_minor": 0
      },
      "text/plain": [
       "HBox(children=(HTML(value=''), FloatProgress(value=0.0, max=10000.0), HTML(value='')))"
      ]
     },
     "metadata": {},
     "output_type": "display_data"
    },
    {
     "name": "stdout",
     "output_type": "stream",
     "text": [
      "\n",
      "Test set: Average loss: 0.0551, Accuracy: 29481/30000 (98%)\n",
      "\n",
      "\n",
      "Test set: Average loss: 0.2724, Accuracy: 9164/10000 (92%)\n",
      "\n",
      "\n"
     ]
    },
    {
     "data": {
      "application/vnd.jupyter.widget-view+json": {
       "model_id": "aebc9fbf1d604492a8ef1b5f96c113ac",
       "version_major": 2,
       "version_minor": 0
      },
      "text/plain": [
       "HBox(children=(HTML(value=''), FloatProgress(value=0.0, max=10000.0), HTML(value='')))"
      ]
     },
     "metadata": {},
     "output_type": "display_data"
    },
    {
     "name": "stdout",
     "output_type": "stream",
     "text": [
      "\n",
      "Test set: Average loss: 0.0684, Accuracy: 29356/30000 (98%)\n",
      "\n",
      "\n",
      "Test set: Average loss: 0.2740, Accuracy: 9111/10000 (91%)\n",
      "\n",
      "\n"
     ]
    },
    {
     "data": {
      "application/vnd.jupyter.widget-view+json": {
       "model_id": "429c6ad63c914743b86c4fcd63a23f86",
       "version_major": 2,
       "version_minor": 0
      },
      "text/plain": [
       "HBox(children=(HTML(value=''), FloatProgress(value=0.0, max=10000.0), HTML(value='')))"
      ]
     },
     "metadata": {},
     "output_type": "display_data"
    },
    {
     "name": "stdout",
     "output_type": "stream",
     "text": [
      "\n",
      "Test set: Average loss: 0.0941, Accuracy: 28998/30000 (97%)\n",
      "\n",
      "\n",
      "Test set: Average loss: 0.2647, Accuracy: 9121/10000 (91%)\n",
      "\n",
      "\n"
     ]
    },
    {
     "data": {
      "application/vnd.jupyter.widget-view+json": {
       "model_id": "39d14d763c5844349e79ef26eb306ca9",
       "version_major": 2,
       "version_minor": 0
      },
      "text/plain": [
       "HBox(children=(HTML(value=''), FloatProgress(value=0.0, max=10000.0), HTML(value='')))"
      ]
     },
     "metadata": {},
     "output_type": "display_data"
    },
    {
     "name": "stdout",
     "output_type": "stream",
     "text": [
      "\n",
      "Test set: Average loss: 0.1237, Accuracy: 28638/30000 (95%)\n",
      "\n",
      "\n",
      "Test set: Average loss: 0.2618, Accuracy: 9100/10000 (91%)\n",
      "\n",
      "\n"
     ]
    },
    {
     "data": {
      "application/vnd.jupyter.widget-view+json": {
       "model_id": "c203464cfcb94af59e7e2b5229bf8fc9",
       "version_major": 2,
       "version_minor": 0
      },
      "text/plain": [
       "HBox(children=(HTML(value=''), FloatProgress(value=0.0, max=10000.0), HTML(value='')))"
      ]
     },
     "metadata": {},
     "output_type": "display_data"
    },
    {
     "name": "stdout",
     "output_type": "stream",
     "text": [
      "\n",
      "Test set: Average loss: 0.1505, Accuracy: 28403/30000 (95%)\n",
      "\n",
      "\n",
      "Test set: Average loss: 0.2641, Accuracy: 9044/10000 (90%)\n",
      "\n",
      "\n"
     ]
    },
    {
     "data": {
      "application/vnd.jupyter.widget-view+json": {
       "model_id": "c372c589472a4a8bac171b69e707c415",
       "version_major": 2,
       "version_minor": 0
      },
      "text/plain": [
       "HBox(children=(HTML(value=''), FloatProgress(value=0.0, max=10000.0), HTML(value='')))"
      ]
     },
     "metadata": {},
     "output_type": "display_data"
    },
    {
     "name": "stdout",
     "output_type": "stream",
     "text": [
      "\n",
      "Test set: Average loss: 0.1766, Accuracy: 28055/30000 (94%)\n",
      "\n",
      "\n",
      "Test set: Average loss: 0.2687, Accuracy: 9025/10000 (90%)\n",
      "\n",
      "\n"
     ]
    },
    {
     "data": {
      "application/vnd.jupyter.widget-view+json": {
       "model_id": "a077dada28a44e749fd72f8c9c76934d",
       "version_major": 2,
       "version_minor": 0
      },
      "text/plain": [
       "HBox(children=(HTML(value=''), FloatProgress(value=0.0, max=10000.0), HTML(value='')))"
      ]
     },
     "metadata": {},
     "output_type": "display_data"
    },
    {
     "name": "stdout",
     "output_type": "stream",
     "text": [
      "\n",
      "Test set: Average loss: 0.2120, Accuracy: 27788/30000 (93%)\n",
      "\n",
      "\n",
      "Test set: Average loss: 0.2768, Accuracy: 9003/10000 (90%)\n",
      "\n",
      "\n"
     ]
    },
    {
     "data": {
      "application/vnd.jupyter.widget-view+json": {
       "model_id": "49fb68a2e9864531b0c27f08fd9f3e72",
       "version_major": 2,
       "version_minor": 0
      },
      "text/plain": [
       "HBox(children=(HTML(value=''), FloatProgress(value=0.0, max=10000.0), HTML(value='')))"
      ]
     },
     "metadata": {},
     "output_type": "display_data"
    },
    {
     "name": "stdout",
     "output_type": "stream",
     "text": [
      "\n",
      "Test set: Average loss: 0.2541, Accuracy: 27256/30000 (91%)\n",
      "\n",
      "\n",
      "Test set: Average loss: 0.3083, Accuracy: 8890/10000 (89%)\n",
      "\n",
      "\n"
     ]
    },
    {
     "data": {
      "application/vnd.jupyter.widget-view+json": {
       "model_id": "fd0a7a7bea7d422481635e0b95273216",
       "version_major": 2,
       "version_minor": 0
      },
      "text/plain": [
       "HBox(children=(HTML(value=''), FloatProgress(value=0.0, max=10000.0), HTML(value='')))"
      ]
     },
     "metadata": {},
     "output_type": "display_data"
    },
    {
     "name": "stdout",
     "output_type": "stream",
     "text": [
      "\n",
      "Test set: Average loss: 0.3161, Accuracy: 26547/30000 (88%)\n",
      "\n",
      "\n",
      "Test set: Average loss: 0.3607, Accuracy: 8714/10000 (87%)\n",
      "\n",
      "\n"
     ]
    },
    {
     "data": {
      "application/vnd.jupyter.widget-view+json": {
       "model_id": "310328ce03974cc699d41f17bdd446bb",
       "version_major": 2,
       "version_minor": 0
      },
      "text/plain": [
       "HBox(children=(HTML(value=''), FloatProgress(value=0.0, max=10000.0), HTML(value='')))"
      ]
     },
     "metadata": {},
     "output_type": "display_data"
    },
    {
     "name": "stdout",
     "output_type": "stream",
     "text": [
      "\n",
      "Test set: Average loss: 0.3122, Accuracy: 26540/30000 (88%)\n",
      "\n",
      "\n",
      "Test set: Average loss: 0.3586, Accuracy: 8687/10000 (87%)\n",
      "\n",
      "\n"
     ]
    },
    {
     "data": {
      "application/vnd.jupyter.widget-view+json": {
       "model_id": "6caf753a553a4d12b1f49b3b4c9d1620",
       "version_major": 2,
       "version_minor": 0
      },
      "text/plain": [
       "HBox(children=(HTML(value=''), FloatProgress(value=0.0, max=10000.0), HTML(value='')))"
      ]
     },
     "metadata": {},
     "output_type": "display_data"
    },
    {
     "name": "stdout",
     "output_type": "stream",
     "text": [
      "\n",
      "Test set: Average loss: 0.3887, Accuracy: 25707/30000 (86%)\n",
      "\n",
      "\n",
      "Test set: Average loss: 0.4314, Accuracy: 8444/10000 (84%)\n",
      "\n",
      "\n"
     ]
    },
    {
     "data": {
      "application/vnd.jupyter.widget-view+json": {
       "model_id": "97c704fc5ff0403abd79a0842f862e2e",
       "version_major": 2,
       "version_minor": 0
      },
      "text/plain": [
       "HBox(children=(HTML(value=''), FloatProgress(value=0.0, max=10000.0), HTML(value='')))"
      ]
     },
     "metadata": {},
     "output_type": "display_data"
    },
    {
     "name": "stdout",
     "output_type": "stream",
     "text": [
      "\n",
      "Test set: Average loss: 0.4301, Accuracy: 25471/30000 (85%)\n",
      "\n",
      "\n",
      "Test set: Average loss: 0.4652, Accuracy: 8330/10000 (83%)\n",
      "\n",
      "\n"
     ]
    },
    {
     "data": {
      "application/vnd.jupyter.widget-view+json": {
       "model_id": "d40848cc99c04ac69ca5018b26d22c82",
       "version_major": 2,
       "version_minor": 0
      },
      "text/plain": [
       "HBox(children=(HTML(value=''), FloatProgress(value=0.0, max=10000.0), HTML(value='')))"
      ]
     },
     "metadata": {},
     "output_type": "display_data"
    },
    {
     "name": "stdout",
     "output_type": "stream",
     "text": [
      "\n",
      "Test set: Average loss: 0.5551, Accuracy: 23840/30000 (79%)\n",
      "\n",
      "\n",
      "Test set: Average loss: 0.5746, Accuracy: 7905/10000 (79%)\n",
      "\n",
      "\n"
     ]
    },
    {
     "data": {
      "application/vnd.jupyter.widget-view+json": {
       "model_id": "1dd1a65b869845b69442a228836d1b2a",
       "version_major": 2,
       "version_minor": 0
      },
      "text/plain": [
       "HBox(children=(HTML(value=''), FloatProgress(value=0.0, max=10000.0), HTML(value='')))"
      ]
     },
     "metadata": {},
     "output_type": "display_data"
    },
    {
     "name": "stdout",
     "output_type": "stream",
     "text": [
      "\n",
      "Test set: Average loss: 0.5376, Accuracy: 23863/30000 (80%)\n",
      "\n",
      "\n",
      "Test set: Average loss: 0.5588, Accuracy: 7905/10000 (79%)\n",
      "\n",
      "\n"
     ]
    },
    {
     "data": {
      "application/vnd.jupyter.widget-view+json": {
       "model_id": "f4e4d2bd883d4844911e8e47931f6b3c",
       "version_major": 2,
       "version_minor": 0
      },
      "text/plain": [
       "HBox(children=(HTML(value=''), FloatProgress(value=0.0, max=10000.0), HTML(value='')))"
      ]
     },
     "metadata": {},
     "output_type": "display_data"
    },
    {
     "name": "stdout",
     "output_type": "stream",
     "text": [
      "\n",
      "Test set: Average loss: 0.5894, Accuracy: 23408/30000 (78%)\n",
      "\n",
      "\n",
      "Test set: Average loss: 0.6128, Accuracy: 7707/10000 (77%)\n",
      "\n",
      "\n"
     ]
    },
    {
     "data": {
      "application/vnd.jupyter.widget-view+json": {
       "model_id": "7fa7ee86ae3c4310b2282eba2fb88fa3",
       "version_major": 2,
       "version_minor": 0
      },
      "text/plain": [
       "HBox(children=(HTML(value=''), FloatProgress(value=0.0, max=10000.0), HTML(value='')))"
      ]
     },
     "metadata": {},
     "output_type": "display_data"
    },
    {
     "name": "stdout",
     "output_type": "stream",
     "text": [
      "\n",
      "Test set: Average loss: 0.8275, Accuracy: 21499/30000 (72%)\n",
      "\n",
      "\n",
      "Test set: Average loss: 0.8396, Accuracy: 7057/10000 (71%)\n",
      "\n",
      "\n"
     ]
    },
    {
     "data": {
      "application/vnd.jupyter.widget-view+json": {
       "model_id": "f37ba98d29dc4402b15d01feae927e93",
       "version_major": 2,
       "version_minor": 0
      },
      "text/plain": [
       "HBox(children=(HTML(value=''), FloatProgress(value=0.0, max=10000.0), HTML(value='')))"
      ]
     },
     "metadata": {},
     "output_type": "display_data"
    },
    {
     "name": "stdout",
     "output_type": "stream",
     "text": [
      "\n",
      "Test set: Average loss: 0.6701, Accuracy: 22494/30000 (75%)\n",
      "\n",
      "\n",
      "Test set: Average loss: 0.6943, Accuracy: 7424/10000 (74%)\n",
      "\n",
      "\n"
     ]
    },
    {
     "data": {
      "application/vnd.jupyter.widget-view+json": {
       "model_id": "aa44ec74f01a474eb3228c951cd08969",
       "version_major": 2,
       "version_minor": 0
      },
      "text/plain": [
       "HBox(children=(HTML(value=''), FloatProgress(value=0.0, max=10000.0), HTML(value='')))"
      ]
     },
     "metadata": {},
     "output_type": "display_data"
    },
    {
     "name": "stdout",
     "output_type": "stream",
     "text": [
      "\n",
      "Test set: Average loss: 0.8196, Accuracy: 21021/30000 (70%)\n",
      "\n",
      "\n",
      "Test set: Average loss: 0.8362, Accuracy: 6918/10000 (69%)\n",
      "\n",
      "\n"
     ]
    },
    {
     "data": {
      "application/vnd.jupyter.widget-view+json": {
       "model_id": "4f0a6beee42742cb97b26792d987bb0f",
       "version_major": 2,
       "version_minor": 0
      },
      "text/plain": [
       "HBox(children=(HTML(value=''), FloatProgress(value=0.0, max=10000.0), HTML(value='')))"
      ]
     },
     "metadata": {},
     "output_type": "display_data"
    },
    {
     "name": "stdout",
     "output_type": "stream",
     "text": [
      "\n",
      "Test set: Average loss: 0.8607, Accuracy: 20885/30000 (70%)\n",
      "\n",
      "\n",
      "Test set: Average loss: 0.8761, Accuracy: 6873/10000 (69%)\n",
      "\n",
      "\n",
      "\n"
     ]
    }
   ],
   "source": [
    "lambdas = np.logspace(-2,3,30) # From 0.001 to 100\n",
    "results = []\n",
    "for lambd in tqdm(lambdas):\n",
    "    subresults = run_experiment(2, 10000, lambd, True)\n",
    "    train_loss = list(zip(*subresults))[0][-1]\n",
    "    train_accuracy = list(zip(*subresults))[1][-1]\n",
    "    test_loss = list(zip(*subresults))[2][-1]\n",
    "    test_accuracy = list(zip(*subresults))[3][-1]\n",
    "    results.append((train_loss,train_accuracy,test_loss,test_accuracy))"
   ]
  },
  {
   "cell_type": "code",
   "execution_count": 14,
   "metadata": {},
   "outputs": [],
   "source": [
    "train_losses = list(zip(*results))[0]\n",
    "train_accuracies = list(zip(*results))[1]\n",
    "test_losses = list(zip(*results))[2]\n",
    "test_accuracies = list(zip(*results))[3]"
   ]
  },
  {
   "cell_type": "code",
   "execution_count": 15,
   "metadata": {},
   "outputs": [
    {
     "name": "stdout",
     "output_type": "stream",
     "text": [
      "The first accuracy is 0.9176\n",
      "The best accuracy is 0.9198 , achieved by lambda= 0.04893900918477494\n"
     ]
    },
    {
     "data": {
      "image/png": "[encoded data removed]",
      "text/plain": [
       "<Figure size 432x288 with 1 Axes>"
      ]
     },
     "metadata": {
      "image/png": {
       "height": 278,
       "width": 385
      },
      "needs_background": "light"
     },
     "output_type": "display_data"
    },
    {
     "data": {
      "image/png": "[encoded data removed]",
      "text/plain": [
       "<Figure size 432x288 with 1 Axes>"
      ]
     },
     "metadata": {
      "image/png": {
       "height": 278,
       "width": 391
      },
      "needs_background": "light"
     },
     "output_type": "display_data"
    }
   ],
   "source": [
    "# 50 learners learning with ADAM and L2 norm for 5000 steps. The end state for a single learner.\n",
    "\n",
    "plt.figure()\n",
    "plt.plot(lambdas,train_losses, label=\"Training set\")\n",
    "plt.plot(lambdas,test_losses, label=\"Test set\")\n",
    "plt.legend()\n",
    "plt.xscale('log')\n",
    "plt.title(\"Loss of a single learner\")\n",
    "plt.ylabel(\"Loss\")\n",
    "plt.xlabel(r\"$\\lambda$\")\n",
    "plt.figure()\n",
    "plt.plot(lambdas,train_accuracies, label=\"Training set\")\n",
    "plt.plot(lambdas,test_accuracies, label=\"Test set\")\n",
    "plt.legend()\n",
    "plt.xscale('log')\n",
    "plt.title(\"Accuracy of a single learner\")\n",
    "plt.ylabel(\"Accuracy\")\n",
    "plt.xlabel(r\"$\\lambda$\");\n",
    "print(\"The first accuracy is\",test_accuracies[0])\n",
    "print(\"The best accuracy is\",np.max(test_accuracies),\", achieved by lambda=\",lambdas[np.argmax(test_accuracies)])"
   ]
  },
  {
   "cell_type": "markdown",
   "metadata": {},
   "source": [
    "# Instead of full average, only share earlier layers"
   ]
  },
  {
   "cell_type": "code",
   "execution_count": 16,
   "metadata": {
    "scrolled": true
   },
   "outputs": [
    {
     "data": {
      "application/vnd.jupyter.widget-view+json": {
       "model_id": "bb939c33c6874f7c93ecb94590fb93dc",
       "version_major": 2,
       "version_minor": 0
      },
      "text/plain": [
       "HBox(children=(HTML(value=''), FloatProgress(value=0.0, max=30.0), HTML(value='')))"
      ]
     },
     "metadata": {},
     "output_type": "display_data"
    },
    {
     "data": {
      "application/vnd.jupyter.widget-view+json": {
       "model_id": "b43f6c3819f245c29ed183546bf83d39",
       "version_major": 2,
       "version_minor": 0
      },
      "text/plain": [
       "HBox(children=(HTML(value=''), FloatProgress(value=0.0, max=10000.0), HTML(value='')))"
      ]
     },
     "metadata": {},
     "output_type": "display_data"
    },
    {
     "name": "stdout",
     "output_type": "stream",
     "text": [
      "\n",
      "Test set: Average loss: 0.0136, Accuracy: 29892/30000 (100%)\n",
      "\n",
      "\n",
      "Test set: Average loss: 0.3800, Accuracy: 9172/10000 (92%)\n",
      "\n",
      "\n"
     ]
    },
    {
     "data": {
      "application/vnd.jupyter.widget-view+json": {
       "model_id": "e40019330f1b4b07902785dfdb93c866",
       "version_major": 2,
       "version_minor": 0
      },
      "text/plain": [
       "HBox(children=(HTML(value=''), FloatProgress(value=0.0, max=10000.0), HTML(value='')))"
      ]
     },
     "metadata": {},
     "output_type": "display_data"
    },
    {
     "name": "stdout",
     "output_type": "stream",
     "text": [
      "\n",
      "Test set: Average loss: 0.0136, Accuracy: 29906/30000 (100%)\n",
      "\n",
      "\n",
      "Test set: Average loss: 0.3660, Accuracy: 9184/10000 (92%)\n",
      "\n",
      "\n"
     ]
    },
    {
     "data": {
      "application/vnd.jupyter.widget-view+json": {
       "model_id": "a577330ce4fc4df991feb9d2dcd82fd9",
       "version_major": 2,
       "version_minor": 0
      },
      "text/plain": [
       "HBox(children=(HTML(value=''), FloatProgress(value=0.0, max=10000.0), HTML(value='')))"
      ]
     },
     "metadata": {},
     "output_type": "display_data"
    },
    {
     "name": "stdout",
     "output_type": "stream",
     "text": [
      "\n",
      "Test set: Average loss: 0.0104, Accuracy: 29937/30000 (100%)\n",
      "\n",
      "\n",
      "Test set: Average loss: 0.3807, Accuracy: 9172/10000 (92%)\n",
      "\n",
      "\n"
     ]
    },
    {
     "data": {
      "application/vnd.jupyter.widget-view+json": {
       "model_id": "c66e1fcc72c4454d8ae62535797d9971",
       "version_major": 2,
       "version_minor": 0
      },
      "text/plain": [
       "HBox(children=(HTML(value=''), FloatProgress(value=0.0, max=10000.0), HTML(value='')))"
      ]
     },
     "metadata": {},
     "output_type": "display_data"
    },
    {
     "name": "stdout",
     "output_type": "stream",
     "text": [
      "\n",
      "Test set: Average loss: 0.0097, Accuracy: 29946/30000 (100%)\n",
      "\n",
      "\n",
      "Test set: Average loss: 0.3551, Accuracy: 9169/10000 (92%)\n",
      "\n",
      "\n"
     ]
    },
    {
     "data": {
      "application/vnd.jupyter.widget-view+json": {
       "model_id": "eeb4bd4f97e944858afc545c249e3ee5",
       "version_major": 2,
       "version_minor": 0
      },
      "text/plain": [
       "HBox(children=(HTML(value=''), FloatProgress(value=0.0, max=10000.0), HTML(value='')))"
      ]
     },
     "metadata": {},
     "output_type": "display_data"
    },
    {
     "name": "stdout",
     "output_type": "stream",
     "text": [
      "\n",
      "Test set: Average loss: 0.0095, Accuracy: 29950/30000 (100%)\n",
      "\n",
      "\n",
      "Test set: Average loss: 0.3671, Accuracy: 9197/10000 (92%)\n",
      "\n",
      "\n"
     ]
    },
    {
     "data": {
      "application/vnd.jupyter.widget-view+json": {
       "model_id": "e5ff6e57fc3c4aab96944da33cb0aa17",
       "version_major": 2,
       "version_minor": 0
      },
      "text/plain": [
       "HBox(children=(HTML(value=''), FloatProgress(value=0.0, max=10000.0), HTML(value='')))"
      ]
     },
     "metadata": {},
     "output_type": "display_data"
    },
    {
     "name": "stdout",
     "output_type": "stream",
     "text": [
      "\n",
      "Test set: Average loss: 0.0108, Accuracy: 29913/30000 (100%)\n",
      "\n",
      "\n",
      "Test set: Average loss: 0.3639, Accuracy: 9181/10000 (92%)\n",
      "\n",
      "\n"
     ]
    },
    {
     "data": {
      "application/vnd.jupyter.widget-view+json": {
       "model_id": "22fc65b90f364206bde58b477d221f30",
       "version_major": 2,
       "version_minor": 0
      },
      "text/plain": [
       "HBox(children=(HTML(value=''), FloatProgress(value=0.0, max=10000.0), HTML(value='')))"
      ]
     },
     "metadata": {},
     "output_type": "display_data"
    },
    {
     "name": "stdout",
     "output_type": "stream",
     "text": [
      "\n",
      "Test set: Average loss: 0.0116, Accuracy: 29913/30000 (100%)\n",
      "\n",
      "\n",
      "Test set: Average loss: 0.3734, Accuracy: 9196/10000 (92%)\n",
      "\n",
      "\n"
     ]
    },
    {
     "data": {
      "application/vnd.jupyter.widget-view+json": {
       "model_id": "bd0d43acb70144c69c68712f50b0c832",
       "version_major": 2,
       "version_minor": 0
      },
      "text/plain": [
       "HBox(children=(HTML(value=''), FloatProgress(value=0.0, max=10000.0), HTML(value='')))"
      ]
     },
     "metadata": {},
     "output_type": "display_data"
    },
    {
     "name": "stdout",
     "output_type": "stream",
     "text": [
      "\n",
      "Test set: Average loss: 0.0086, Accuracy: 29957/30000 (100%)\n",
      "\n",
      "\n",
      "Test set: Average loss: 0.3841, Accuracy: 9182/10000 (92%)\n",
      "\n",
      "\n"
     ]
    },
    {
     "data": {
      "application/vnd.jupyter.widget-view+json": {
       "model_id": "cbc7a624b10a40b09119fd337c33f9e5",
       "version_major": 2,
       "version_minor": 0
      },
      "text/plain": [
       "HBox(children=(HTML(value=''), FloatProgress(value=0.0, max=10000.0), HTML(value='')))"
      ]
     },
     "metadata": {},
     "output_type": "display_data"
    },
    {
     "name": "stdout",
     "output_type": "stream",
     "text": [
      "\n",
      "Test set: Average loss: 0.0144, Accuracy: 29892/30000 (100%)\n",
      "\n",
      "\n",
      "Test set: Average loss: 0.3531, Accuracy: 9185/10000 (92%)\n",
      "\n",
      "\n"
     ]
    },
    {
     "data": {
      "application/vnd.jupyter.widget-view+json": {
       "model_id": "87b922d76872481e895f7b9cfb8f1d15",
       "version_major": 2,
       "version_minor": 0
      },
      "text/plain": [
       "HBox(children=(HTML(value=''), FloatProgress(value=0.0, max=10000.0), HTML(value='')))"
      ]
     },
     "metadata": {},
     "output_type": "display_data"
    },
    {
     "name": "stdout",
     "output_type": "stream",
     "text": [
      "\n",
      "Test set: Average loss: 0.0157, Accuracy: 29881/30000 (100%)\n",
      "\n",
      "\n",
      "Test set: Average loss: 0.3641, Accuracy: 9145/10000 (91%)\n",
      "\n",
      "\n"
     ]
    },
    {
     "data": {
      "application/vnd.jupyter.widget-view+json": {
       "model_id": "cd3e7a52c6c14504a56ad0686fe1f6ae",
       "version_major": 2,
       "version_minor": 0
      },
      "text/plain": [
       "HBox(children=(HTML(value=''), FloatProgress(value=0.0, max=10000.0), HTML(value='')))"
      ]
     },
     "metadata": {},
     "output_type": "display_data"
    },
    {
     "name": "stdout",
     "output_type": "stream",
     "text": [
      "\n",
      "Test set: Average loss: 0.0155, Accuracy: 29893/30000 (100%)\n",
      "\n",
      "\n",
      "Test set: Average loss: 0.3420, Accuracy: 9172/10000 (92%)\n",
      "\n",
      "\n"
     ]
    },
    {
     "data": {
      "application/vnd.jupyter.widget-view+json": {
       "model_id": "412327280a5a469ab8599ca7a42b09cc",
       "version_major": 2,
       "version_minor": 0
      },
      "text/plain": [
       "HBox(children=(HTML(value=''), FloatProgress(value=0.0, max=10000.0), HTML(value='')))"
      ]
     },
     "metadata": {},
     "output_type": "display_data"
    },
    {
     "name": "stdout",
     "output_type": "stream",
     "text": [
      "\n",
      "Test set: Average loss: 0.0191, Accuracy: 29840/30000 (99%)\n",
      "\n",
      "\n",
      "Test set: Average loss: 0.3459, Accuracy: 9185/10000 (92%)\n",
      "\n",
      "\n"
     ]
    },
    {
     "data": {
      "application/vnd.jupyter.widget-view+json": {
       "model_id": "cbf5e899f59042dc8774ab266e64ad1d",
       "version_major": 2,
       "version_minor": 0
      },
      "text/plain": [
       "HBox(children=(HTML(value=''), FloatProgress(value=0.0, max=10000.0), HTML(value='')))"
      ]
     },
     "metadata": {},
     "output_type": "display_data"
    },
    {
     "name": "stdout",
     "output_type": "stream",
     "text": [
      "\n",
      "Test set: Average loss: 0.0216, Accuracy: 29850/30000 (100%)\n",
      "\n",
      "\n",
      "Test set: Average loss: 0.3239, Accuracy: 9171/10000 (92%)\n",
      "\n",
      "\n"
     ]
    },
    {
     "data": {
      "application/vnd.jupyter.widget-view+json": {
       "model_id": "7437ce6a94884a70b02ea47223165def",
       "version_major": 2,
       "version_minor": 0
      },
      "text/plain": [
       "HBox(children=(HTML(value=''), FloatProgress(value=0.0, max=10000.0), HTML(value='')))"
      ]
     },
     "metadata": {},
     "output_type": "display_data"
    },
    {
     "name": "stdout",
     "output_type": "stream",
     "text": [
      "\n",
      "Test set: Average loss: 0.0248, Accuracy: 29812/30000 (99%)\n",
      "\n",
      "\n",
      "Test set: Average loss: 0.3259, Accuracy: 9163/10000 (92%)\n",
      "\n",
      "\n"
     ]
    },
    {
     "data": {
      "application/vnd.jupyter.widget-view+json": {
       "model_id": "3935fd8cf0b44a4fa9cdf536e642b224",
       "version_major": 2,
       "version_minor": 0
      },
      "text/plain": [
       "HBox(children=(HTML(value=''), FloatProgress(value=0.0, max=10000.0), HTML(value='')))"
      ]
     },
     "metadata": {},
     "output_type": "display_data"
    },
    {
     "name": "stdout",
     "output_type": "stream",
     "text": [
      "\n",
      "Test set: Average loss: 0.0247, Accuracy: 29790/30000 (99%)\n",
      "\n",
      "\n",
      "Test set: Average loss: 0.3360, Accuracy: 9201/10000 (92%)\n",
      "\n",
      "\n"
     ]
    },
    {
     "data": {
      "application/vnd.jupyter.widget-view+json": {
       "model_id": "671dad2b61c34f328a61de441c852562",
       "version_major": 2,
       "version_minor": 0
      },
      "text/plain": [
       "HBox(children=(HTML(value=''), FloatProgress(value=0.0, max=10000.0), HTML(value='')))"
      ]
     },
     "metadata": {},
     "output_type": "display_data"
    },
    {
     "name": "stdout",
     "output_type": "stream",
     "text": [
      "\n",
      "Test set: Average loss: 0.0514, Accuracy: 29480/30000 (98%)\n",
      "\n",
      "\n",
      "Test set: Average loss: 0.3301, Accuracy: 9089/10000 (91%)\n",
      "\n",
      "\n"
     ]
    },
    {
     "data": {
      "application/vnd.jupyter.widget-view+json": {
       "model_id": "e2764caf8256484cb9fda4890f9a421b",
       "version_major": 2,
       "version_minor": 0
      },
      "text/plain": [
       "HBox(children=(HTML(value=''), FloatProgress(value=0.0, max=10000.0), HTML(value='')))"
      ]
     },
     "metadata": {},
     "output_type": "display_data"
    },
    {
     "name": "stdout",
     "output_type": "stream",
     "text": [
      "\n",
      "Test set: Average loss: 0.0476, Accuracy: 29540/30000 (98%)\n",
      "\n",
      "\n",
      "Test set: Average loss: 0.3166, Accuracy: 9118/10000 (91%)\n",
      "\n",
      "\n"
     ]
    },
    {
     "data": {
      "application/vnd.jupyter.widget-view+json": {
       "model_id": "d4e3dbb93ac04bbd9d983e0d9db0018e",
       "version_major": 2,
       "version_minor": 0
      },
      "text/plain": [
       "HBox(children=(HTML(value=''), FloatProgress(value=0.0, max=10000.0), HTML(value='')))"
      ]
     },
     "metadata": {},
     "output_type": "display_data"
    },
    {
     "name": "stdout",
     "output_type": "stream",
     "text": [
      "\n",
      "Test set: Average loss: 0.0443, Accuracy: 29636/30000 (99%)\n",
      "\n",
      "\n",
      "Test set: Average loss: 0.2944, Accuracy: 9158/10000 (92%)\n",
      "\n",
      "\n"
     ]
    },
    {
     "data": {
      "application/vnd.jupyter.widget-view+json": {
       "model_id": "4584dd23fbf14fd6a0922f001911f2ec",
       "version_major": 2,
       "version_minor": 0
      },
      "text/plain": [
       "HBox(children=(HTML(value=''), FloatProgress(value=0.0, max=10000.0), HTML(value='')))"
      ]
     },
     "metadata": {},
     "output_type": "display_data"
    },
    {
     "name": "stdout",
     "output_type": "stream",
     "text": [
      "\n",
      "Test set: Average loss: 0.1999, Accuracy: 27636/30000 (92%)\n",
      "\n",
      "\n",
      "Test set: Average loss: 0.3318, Accuracy: 8889/10000 (89%)\n",
      "\n",
      "\n"
     ]
    },
    {
     "data": {
      "application/vnd.jupyter.widget-view+json": {
       "model_id": "33db8972768149dba322b2d26dadad26",
       "version_major": 2,
       "version_minor": 0
      },
      "text/plain": [
       "HBox(children=(HTML(value=''), FloatProgress(value=0.0, max=10000.0), HTML(value='')))"
      ]
     },
     "metadata": {},
     "output_type": "display_data"
    },
    {
     "name": "stdout",
     "output_type": "stream",
     "text": [
      "\n",
      "Test set: Average loss: 0.1301, Accuracy: 28642/30000 (95%)\n",
      "\n",
      "\n",
      "Test set: Average loss: 0.3001, Accuracy: 8979/10000 (90%)\n",
      "\n",
      "\n"
     ]
    },
    {
     "data": {
      "application/vnd.jupyter.widget-view+json": {
       "model_id": "d7d3fa44ec914ef68fe06ce2ebe14ade",
       "version_major": 2,
       "version_minor": 0
      },
      "text/plain": [
       "HBox(children=(HTML(value=''), FloatProgress(value=0.0, max=10000.0), HTML(value='')))"
      ]
     },
     "metadata": {},
     "output_type": "display_data"
    },
    {
     "name": "stdout",
     "output_type": "stream",
     "text": [
      "\n",
      "Test set: Average loss: 0.1312, Accuracy: 28483/30000 (95%)\n",
      "\n",
      "\n",
      "Test set: Average loss: 0.2983, Accuracy: 9003/10000 (90%)\n",
      "\n",
      "\n"
     ]
    },
    {
     "data": {
      "application/vnd.jupyter.widget-view+json": {
       "model_id": "527cb8c4f9f54b23b77752e3806ec0c2",
       "version_major": 2,
       "version_minor": 0
      },
      "text/plain": [
       "HBox(children=(HTML(value=''), FloatProgress(value=0.0, max=10000.0), HTML(value='')))"
      ]
     },
     "metadata": {},
     "output_type": "display_data"
    },
    {
     "name": "stdout",
     "output_type": "stream",
     "text": [
      "\n",
      "Test set: Average loss: 0.0758, Accuracy: 29235/30000 (97%)\n",
      "\n",
      "\n",
      "Test set: Average loss: 0.2937, Accuracy: 9104/10000 (91%)\n",
      "\n",
      "\n"
     ]
    },
    {
     "data": {
      "application/vnd.jupyter.widget-view+json": {
       "model_id": "1e2c0928364b4ecf91c5136f5c3d18d3",
       "version_major": 2,
       "version_minor": 0
      },
      "text/plain": [
       "HBox(children=(HTML(value=''), FloatProgress(value=0.0, max=10000.0), HTML(value='')))"
      ]
     },
     "metadata": {},
     "output_type": "display_data"
    },
    {
     "name": "stdout",
     "output_type": "stream",
     "text": [
      "\n",
      "Test set: Average loss: 0.1240, Accuracy: 28537/30000 (95%)\n",
      "\n",
      "\n",
      "Test set: Average loss: 0.3097, Accuracy: 8985/10000 (90%)\n",
      "\n",
      "\n"
     ]
    },
    {
     "data": {
      "application/vnd.jupyter.widget-view+json": {
       "model_id": "d68d0174e10744b8bbf378bb425c8c40",
       "version_major": 2,
       "version_minor": 0
      },
      "text/plain": [
       "HBox(children=(HTML(value=''), FloatProgress(value=0.0, max=10000.0), HTML(value='')))"
      ]
     },
     "metadata": {},
     "output_type": "display_data"
    },
    {
     "name": "stdout",
     "output_type": "stream",
     "text": [
      "\n",
      "Test set: Average loss: 0.2628, Accuracy: 26975/30000 (90%)\n",
      "\n",
      "\n",
      "Test set: Average loss: 0.3383, Accuracy: 8802/10000 (88%)\n",
      "\n",
      "\n"
     ]
    },
    {
     "data": {
      "application/vnd.jupyter.widget-view+json": {
       "model_id": "67c9baa340d34b358ac81816d56a3f5e",
       "version_major": 2,
       "version_minor": 0
      },
      "text/plain": [
       "HBox(children=(HTML(value=''), FloatProgress(value=0.0, max=10000.0), HTML(value='')))"
      ]
     },
     "metadata": {},
     "output_type": "display_data"
    },
    {
     "name": "stdout",
     "output_type": "stream",
     "text": [
      "\n",
      "Test set: Average loss: 0.2667, Accuracy: 27056/30000 (90%)\n",
      "\n",
      "\n",
      "Test set: Average loss: 0.3467, Accuracy: 8756/10000 (88%)\n",
      "\n",
      "\n"
     ]
    },
    {
     "data": {
      "application/vnd.jupyter.widget-view+json": {
       "model_id": "5c301c00fc2d4320a1accfff4ca446b4",
       "version_major": 2,
       "version_minor": 0
      },
      "text/plain": [
       "HBox(children=(HTML(value=''), FloatProgress(value=0.0, max=10000.0), HTML(value='')))"
      ]
     },
     "metadata": {},
     "output_type": "display_data"
    },
    {
     "name": "stdout",
     "output_type": "stream",
     "text": [
      "\n",
      "Test set: Average loss: 0.2243, Accuracy: 27466/30000 (92%)\n",
      "\n",
      "\n",
      "Test set: Average loss: 0.3244, Accuracy: 8910/10000 (89%)\n",
      "\n",
      "\n"
     ]
    },
    {
     "data": {
      "application/vnd.jupyter.widget-view+json": {
       "model_id": "37509e4af28c480bb6e92f715f5b7981",
       "version_major": 2,
       "version_minor": 0
      },
      "text/plain": [
       "HBox(children=(HTML(value=''), FloatProgress(value=0.0, max=10000.0), HTML(value='')))"
      ]
     },
     "metadata": {},
     "output_type": "display_data"
    },
    {
     "name": "stdout",
     "output_type": "stream",
     "text": [
      "\n",
      "Test set: Average loss: 0.3408, Accuracy: 26134/30000 (87%)\n",
      "\n",
      "\n",
      "Test set: Average loss: 0.4007, Accuracy: 8526/10000 (85%)\n",
      "\n",
      "\n"
     ]
    },
    {
     "data": {
      "application/vnd.jupyter.widget-view+json": {
       "model_id": "165b9096c91049fd9eddad8e9f6d8d43",
       "version_major": 2,
       "version_minor": 0
      },
      "text/plain": [
       "HBox(children=(HTML(value=''), FloatProgress(value=0.0, max=10000.0), HTML(value='')))"
      ]
     },
     "metadata": {},
     "output_type": "display_data"
    },
    {
     "name": "stdout",
     "output_type": "stream",
     "text": [
      "\n",
      "Test set: Average loss: 0.2236, Accuracy: 27432/30000 (91%)\n",
      "\n",
      "\n",
      "Test set: Average loss: 0.3256, Accuracy: 8846/10000 (88%)\n",
      "\n",
      "\n"
     ]
    },
    {
     "data": {
      "application/vnd.jupyter.widget-view+json": {
       "model_id": "afb8adbd0a9a4a9db9565a4659b79080",
       "version_major": 2,
       "version_minor": 0
      },
      "text/plain": [
       "HBox(children=(HTML(value=''), FloatProgress(value=0.0, max=10000.0), HTML(value='')))"
      ]
     },
     "metadata": {},
     "output_type": "display_data"
    },
    {
     "name": "stdout",
     "output_type": "stream",
     "text": [
      "\n",
      "Test set: Average loss: 0.2696, Accuracy: 26951/30000 (90%)\n",
      "\n",
      "\n",
      "Test set: Average loss: 0.3546, Accuracy: 8728/10000 (87%)\n",
      "\n",
      "\n"
     ]
    },
    {
     "data": {
      "application/vnd.jupyter.widget-view+json": {
       "model_id": "af6bfa46b1b04e6ea41b46811e883d49",
       "version_major": 2,
       "version_minor": 0
      },
      "text/plain": [
       "HBox(children=(HTML(value=''), FloatProgress(value=0.0, max=10000.0), HTML(value='')))"
      ]
     },
     "metadata": {},
     "output_type": "display_data"
    },
    {
     "name": "stdout",
     "output_type": "stream",
     "text": [
      "\n",
      "Test set: Average loss: 0.2022, Accuracy: 27686/30000 (92%)\n",
      "\n",
      "\n",
      "Test set: Average loss: 0.3247, Accuracy: 8875/10000 (89%)\n",
      "\n",
      "\n",
      "\n"
     ]
    }
   ],
   "source": [
    "lambdas = np.logspace(-1,4,30) # From 0.001 to 100\n",
    "results = []\n",
    "for lambd in tqdm(lambdas):\n",
    "    subresults = run_experiment(n_learners=2, n_iterations=10000, lambd=lambd, last_only=True, g=L2_early_squared)\n",
    "    train_loss = list(zip(*subresults))[0][-1]\n",
    "    train_accuracy = list(zip(*subresults))[1][-1]\n",
    "    test_loss = list(zip(*subresults))[2][-1]\n",
    "    test_accuracy = list(zip(*subresults))[3][-1]\n",
    "    results.append((train_loss,train_accuracy,test_loss,test_accuracy))"
   ]
  },
  {
   "cell_type": "code",
   "execution_count": 17,
   "metadata": {},
   "outputs": [],
   "source": [
    "train_losses = list(zip(*results))[0]\n",
    "train_accuracies = list(zip(*results))[1]\n",
    "test_losses = list(zip(*results))[2]\n",
    "test_accuracies = list(zip(*results))[3]"
   ]
  },
  {
   "cell_type": "code",
   "execution_count": 18,
   "metadata": {},
   "outputs": [
    {
     "name": "stdout",
     "output_type": "stream",
     "text": [
      "The first accuracy is 0.9172\n",
      "The best accuracy is 0.9201 , achieved by lambda= 25.92943797404667\n"
     ]
    },
    {
     "data": {
      "image/png": "[encoded data removed]",
      "text/plain": [
       "<Figure size 432x288 with 1 Axes>"
      ]
     },
     "metadata": {
      "image/png": {
       "height": 278,
       "width": 391
      },
      "needs_background": "light"
     },
     "output_type": "display_data"
    },
    {
     "data": {
      "image/png": "[encoded data removed]",
      "text/plain": [
       "<Figure size 432x288 with 1 Axes>"
      ]
     },
     "metadata": {
      "image/png": {
       "height": 278,
       "width": 391
      },
      "needs_background": "light"
     },
     "output_type": "display_data"
    }
   ],
   "source": [
    "# 50 learners learning with ADAM and L2 norm for 5000 steps. The end state for a single learner.\n",
    "\n",
    "plt.figure()\n",
    "plt.plot(lambdas,train_losses, label=\"Training set\")\n",
    "plt.plot(lambdas,test_losses, label=\"Test set\")\n",
    "plt.legend()\n",
    "plt.xscale('log')\n",
    "plt.title(\"Loss of a single learner\")\n",
    "plt.ylabel(\"Loss\")\n",
    "plt.xlabel(r\"$\\lambda$\")\n",
    "plt.figure()\n",
    "plt.plot(lambdas,train_accuracies, label=\"Training set\")\n",
    "plt.plot(lambdas,test_accuracies, label=\"Test set\")\n",
    "plt.legend()\n",
    "plt.xscale('log')\n",
    "plt.title(\"Accuracy of a single learner\")\n",
    "plt.ylabel(\"Accuracy\")\n",
    "plt.xlabel(r\"$\\lambda$\");\n",
    "print(\"The first accuracy is\",test_accuracies[0])\n",
    "print(\"The best accuracy is\",np.max(test_accuracies),\", achieved by lambda=\",lambdas[np.argmax(test_accuracies)])"
   ]
  },
  {
   "cell_type": "markdown",
   "metadata": {},
   "source": [
    "# 2 learners, with less data available and early sharing only"
   ]
  },
  {
   "cell_type": "code",
   "execution_count": 19,
   "metadata": {
    "scrolled": true
   },
   "outputs": [
    {
     "data": {
      "application/vnd.jupyter.widget-view+json": {
       "model_id": "f4ac0eb1d7384f108d5573453c870c6e",
       "version_major": 2,
       "version_minor": 0
      },
      "text/plain": [
       "HBox(children=(HTML(value=''), FloatProgress(value=0.0, max=30.0), HTML(value='')))"
      ]
     },
     "metadata": {},
     "output_type": "display_data"
    },
    {
     "data": {
      "application/vnd.jupyter.widget-view+json": {
       "model_id": "4d2c140e8bc141889f2cca7d2f63c452",
       "version_major": 2,
       "version_minor": 0
      },
      "text/plain": [
       "HBox(children=(HTML(value=''), FloatProgress(value=0.0, max=10000.0), HTML(value='')))"
      ]
     },
     "metadata": {},
     "output_type": "display_data"
    },
    {
     "name": "stdout",
     "output_type": "stream",
     "text": [
      "\n",
      "Test set: Average loss: 0.0000, Accuracy: 1000/1000 (100%)\n",
      "\n",
      "\n",
      "Test set: Average loss: 2.0681, Accuracy: 8324/10000 (83%)\n",
      "\n",
      "\n"
     ]
    },
    {
     "data": {
      "application/vnd.jupyter.widget-view+json": {
       "model_id": "2ced9577bc1342f6911bfed6f7b729b1",
       "version_major": 2,
       "version_minor": 0
      },
      "text/plain": [
       "HBox(children=(HTML(value=''), FloatProgress(value=0.0, max=10000.0), HTML(value='')))"
      ]
     },
     "metadata": {},
     "output_type": "display_data"
    },
    {
     "name": "stdout",
     "output_type": "stream",
     "text": [
      "\n",
      "Test set: Average loss: 0.0000, Accuracy: 1000/1000 (100%)\n",
      "\n",
      "\n",
      "Test set: Average loss: 2.1020, Accuracy: 8377/10000 (84%)\n",
      "\n",
      "\n"
     ]
    },
    {
     "data": {
      "application/vnd.jupyter.widget-view+json": {
       "model_id": "1ab61119ce324134a6c7ee34103b3e53",
       "version_major": 2,
       "version_minor": 0
      },
      "text/plain": [
       "HBox(children=(HTML(value=''), FloatProgress(value=0.0, max=10000.0), HTML(value='')))"
      ]
     },
     "metadata": {},
     "output_type": "display_data"
    },
    {
     "name": "stdout",
     "output_type": "stream",
     "text": [
      "\n",
      "Test set: Average loss: 0.0000, Accuracy: 1000/1000 (100%)\n",
      "\n",
      "\n",
      "Test set: Average loss: 2.0233, Accuracy: 8363/10000 (84%)\n",
      "\n",
      "\n"
     ]
    },
    {
     "data": {
      "application/vnd.jupyter.widget-view+json": {
       "model_id": "795d12c09a59463e82844b9db3a017bf",
       "version_major": 2,
       "version_minor": 0
      },
      "text/plain": [
       "HBox(children=(HTML(value=''), FloatProgress(value=0.0, max=10000.0), HTML(value='')))"
      ]
     },
     "metadata": {},
     "output_type": "display_data"
    },
    {
     "name": "stdout",
     "output_type": "stream",
     "text": [
      "\n",
      "Test set: Average loss: 0.0000, Accuracy: 1000/1000 (100%)\n",
      "\n",
      "\n",
      "Test set: Average loss: 1.9722, Accuracy: 8300/10000 (83%)\n",
      "\n",
      "\n"
     ]
    },
    {
     "data": {
      "application/vnd.jupyter.widget-view+json": {
       "model_id": "cc0fbb3b1dbd41a2a75050c10250f0e6",
       "version_major": 2,
       "version_minor": 0
      },
      "text/plain": [
       "HBox(children=(HTML(value=''), FloatProgress(value=0.0, max=10000.0), HTML(value='')))"
      ]
     },
     "metadata": {},
     "output_type": "display_data"
    },
    {
     "name": "stdout",
     "output_type": "stream",
     "text": [
      "\n",
      "Test set: Average loss: 0.0004, Accuracy: 1000/1000 (100%)\n",
      "\n",
      "\n",
      "Test set: Average loss: 1.9528, Accuracy: 8288/10000 (83%)\n",
      "\n",
      "\n"
     ]
    },
    {
     "data": {
      "application/vnd.jupyter.widget-view+json": {
       "model_id": "a7da425f4c3e452c87dbae834d63f203",
       "version_major": 2,
       "version_minor": 0
      },
      "text/plain": [
       "HBox(children=(HTML(value=''), FloatProgress(value=0.0, max=10000.0), HTML(value='')))"
      ]
     },
     "metadata": {},
     "output_type": "display_data"
    },
    {
     "name": "stdout",
     "output_type": "stream",
     "text": [
      "\n",
      "Test set: Average loss: 0.0000, Accuracy: 1000/1000 (100%)\n",
      "\n",
      "\n",
      "Test set: Average loss: 1.8452, Accuracy: 8399/10000 (84%)\n",
      "\n",
      "\n"
     ]
    },
    {
     "data": {
      "application/vnd.jupyter.widget-view+json": {
       "model_id": "6eae070cab924cec82ac7d13ec469a05",
       "version_major": 2,
       "version_minor": 0
      },
      "text/plain": [
       "HBox(children=(HTML(value=''), FloatProgress(value=0.0, max=10000.0), HTML(value='')))"
      ]
     },
     "metadata": {},
     "output_type": "display_data"
    },
    {
     "name": "stdout",
     "output_type": "stream",
     "text": [
      "\n",
      "Test set: Average loss: 0.0000, Accuracy: 1000/1000 (100%)\n",
      "\n",
      "\n",
      "Test set: Average loss: 1.9864, Accuracy: 8284/10000 (83%)\n",
      "\n",
      "\n"
     ]
    },
    {
     "data": {
      "application/vnd.jupyter.widget-view+json": {
       "model_id": "86aaac6a0e304ac19051c4532ff32d9d",
       "version_major": 2,
       "version_minor": 0
      },
      "text/plain": [
       "HBox(children=(HTML(value=''), FloatProgress(value=0.0, max=10000.0), HTML(value='')))"
      ]
     },
     "metadata": {},
     "output_type": "display_data"
    },
    {
     "name": "stdout",
     "output_type": "stream",
     "text": [
      "\n",
      "Test set: Average loss: 0.0000, Accuracy: 1000/1000 (100%)\n",
      "\n",
      "\n",
      "Test set: Average loss: 1.8785, Accuracy: 8389/10000 (84%)\n",
      "\n",
      "\n"
     ]
    },
    {
     "data": {
      "application/vnd.jupyter.widget-view+json": {
       "model_id": "7aa68aadad034a30b9290858fa001482",
       "version_major": 2,
       "version_minor": 0
      },
      "text/plain": [
       "HBox(children=(HTML(value=''), FloatProgress(value=0.0, max=10000.0), HTML(value='')))"
      ]
     },
     "metadata": {},
     "output_type": "display_data"
    },
    {
     "name": "stdout",
     "output_type": "stream",
     "text": [
      "\n",
      "Test set: Average loss: 0.0000, Accuracy: 1000/1000 (100%)\n",
      "\n",
      "\n",
      "Test set: Average loss: 2.2941, Accuracy: 8302/10000 (83%)\n",
      "\n",
      "\n"
     ]
    },
    {
     "data": {
      "application/vnd.jupyter.widget-view+json": {
       "model_id": "961058af68bf4e5889b8ef1507e6f0c5",
       "version_major": 2,
       "version_minor": 0
      },
      "text/plain": [
       "HBox(children=(HTML(value=''), FloatProgress(value=0.0, max=10000.0), HTML(value='')))"
      ]
     },
     "metadata": {},
     "output_type": "display_data"
    },
    {
     "name": "stdout",
     "output_type": "stream",
     "text": [
      "\n",
      "Test set: Average loss: 0.0000, Accuracy: 1000/1000 (100%)\n",
      "\n",
      "\n",
      "Test set: Average loss: 1.8640, Accuracy: 8338/10000 (83%)\n",
      "\n",
      "\n"
     ]
    },
    {
     "data": {
      "application/vnd.jupyter.widget-view+json": {
       "model_id": "e7197c843b514a40bb8590f273b3b4da",
       "version_major": 2,
       "version_minor": 0
      },
      "text/plain": [
       "HBox(children=(HTML(value=''), FloatProgress(value=0.0, max=10000.0), HTML(value='')))"
      ]
     },
     "metadata": {},
     "output_type": "display_data"
    },
    {
     "name": "stdout",
     "output_type": "stream",
     "text": [
      "\n",
      "Test set: Average loss: 0.0000, Accuracy: 1000/1000 (100%)\n",
      "\n",
      "\n",
      "Test set: Average loss: 1.8162, Accuracy: 8221/10000 (82%)\n",
      "\n",
      "\n"
     ]
    },
    {
     "data": {
      "application/vnd.jupyter.widget-view+json": {
       "model_id": "459d348a1a354609971aa6a1664623cc",
       "version_major": 2,
       "version_minor": 0
      },
      "text/plain": [
       "HBox(children=(HTML(value=''), FloatProgress(value=0.0, max=10000.0), HTML(value='')))"
      ]
     },
     "metadata": {},
     "output_type": "display_data"
    },
    {
     "name": "stdout",
     "output_type": "stream",
     "text": [
      "\n",
      "Test set: Average loss: 0.0000, Accuracy: 1000/1000 (100%)\n",
      "\n",
      "\n",
      "Test set: Average loss: 1.9800, Accuracy: 8236/10000 (82%)\n",
      "\n",
      "\n"
     ]
    },
    {
     "data": {
      "application/vnd.jupyter.widget-view+json": {
       "model_id": "02ffe20c743f4ded82c5b30523ec0448",
       "version_major": 2,
       "version_minor": 0
      },
      "text/plain": [
       "HBox(children=(HTML(value=''), FloatProgress(value=0.0, max=10000.0), HTML(value='')))"
      ]
     },
     "metadata": {},
     "output_type": "display_data"
    },
    {
     "name": "stdout",
     "output_type": "stream",
     "text": [
      "\n",
      "Test set: Average loss: 0.0000, Accuracy: 1000/1000 (100%)\n",
      "\n",
      "\n",
      "Test set: Average loss: 2.2265, Accuracy: 8299/10000 (83%)\n",
      "\n",
      "\n"
     ]
    },
    {
     "data": {
      "application/vnd.jupyter.widget-view+json": {
       "model_id": "5d35e027297b4e11961ffd7894b0382c",
       "version_major": 2,
       "version_minor": 0
      },
      "text/plain": [
       "HBox(children=(HTML(value=''), FloatProgress(value=0.0, max=10000.0), HTML(value='')))"
      ]
     },
     "metadata": {},
     "output_type": "display_data"
    },
    {
     "name": "stdout",
     "output_type": "stream",
     "text": [
      "\n",
      "Test set: Average loss: 0.0000, Accuracy: 1000/1000 (100%)\n",
      "\n",
      "\n",
      "Test set: Average loss: 2.0125, Accuracy: 8261/10000 (83%)\n",
      "\n",
      "\n"
     ]
    },
    {
     "data": {
      "application/vnd.jupyter.widget-view+json": {
       "model_id": "712074c35234425f99d96fb322e93c91",
       "version_major": 2,
       "version_minor": 0
      },
      "text/plain": [
       "HBox(children=(HTML(value=''), FloatProgress(value=0.0, max=10000.0), HTML(value='')))"
      ]
     },
     "metadata": {},
     "output_type": "display_data"
    },
    {
     "name": "stdout",
     "output_type": "stream",
     "text": [
      "\n",
      "Test set: Average loss: 0.0000, Accuracy: 1000/1000 (100%)\n",
      "\n",
      "\n",
      "Test set: Average loss: 2.1821, Accuracy: 8248/10000 (82%)\n",
      "\n",
      "\n"
     ]
    },
    {
     "data": {
      "application/vnd.jupyter.widget-view+json": {
       "model_id": "792d58be14cf41ecb3b9208cb49d0539",
       "version_major": 2,
       "version_minor": 0
      },
      "text/plain": [
       "HBox(children=(HTML(value=''), FloatProgress(value=0.0, max=10000.0), HTML(value='')))"
      ]
     },
     "metadata": {},
     "output_type": "display_data"
    },
    {
     "name": "stdout",
     "output_type": "stream",
     "text": [
      "\n",
      "Test set: Average loss: 0.0000, Accuracy: 1000/1000 (100%)\n",
      "\n",
      "\n",
      "Test set: Average loss: 2.3696, Accuracy: 8247/10000 (82%)\n",
      "\n",
      "\n"
     ]
    },
    {
     "data": {
      "application/vnd.jupyter.widget-view+json": {
       "model_id": "69ac0ac716ba4be7b4c9300cf7f122a1",
       "version_major": 2,
       "version_minor": 0
      },
      "text/plain": [
       "HBox(children=(HTML(value=''), FloatProgress(value=0.0, max=10000.0), HTML(value='')))"
      ]
     },
     "metadata": {},
     "output_type": "display_data"
    },
    {
     "name": "stdout",
     "output_type": "stream",
     "text": [
      "\n",
      "Test set: Average loss: 0.0000, Accuracy: 1000/1000 (100%)\n",
      "\n",
      "\n",
      "Test set: Average loss: 1.9818, Accuracy: 8232/10000 (82%)\n",
      "\n",
      "\n"
     ]
    },
    {
     "data": {
      "application/vnd.jupyter.widget-view+json": {
       "model_id": "3eb0db1df9e34334b4a6d121db767134",
       "version_major": 2,
       "version_minor": 0
      },
      "text/plain": [
       "HBox(children=(HTML(value=''), FloatProgress(value=0.0, max=10000.0), HTML(value='')))"
      ]
     },
     "metadata": {},
     "output_type": "display_data"
    },
    {
     "name": "stdout",
     "output_type": "stream",
     "text": [
      "\n",
      "Test set: Average loss: 0.0000, Accuracy: 1000/1000 (100%)\n",
      "\n",
      "\n",
      "Test set: Average loss: 1.8473, Accuracy: 8328/10000 (83%)\n",
      "\n",
      "\n"
     ]
    },
    {
     "data": {
      "application/vnd.jupyter.widget-view+json": {
       "model_id": "79d45767463b45ae838c85ef40c7da0d",
       "version_major": 2,
       "version_minor": 0
      },
      "text/plain": [
       "HBox(children=(HTML(value=''), FloatProgress(value=0.0, max=10000.0), HTML(value='')))"
      ]
     },
     "metadata": {},
     "output_type": "display_data"
    },
    {
     "name": "stdout",
     "output_type": "stream",
     "text": [
      "\n",
      "Test set: Average loss: 0.0000, Accuracy: 1000/1000 (100%)\n",
      "\n",
      "\n",
      "Test set: Average loss: 1.9037, Accuracy: 8219/10000 (82%)\n",
      "\n",
      "\n"
     ]
    },
    {
     "data": {
      "application/vnd.jupyter.widget-view+json": {
       "model_id": "990dd7af416c4823afd031a12c52a81b",
       "version_major": 2,
       "version_minor": 0
      },
      "text/plain": [
       "HBox(children=(HTML(value=''), FloatProgress(value=0.0, max=10000.0), HTML(value='')))"
      ]
     },
     "metadata": {},
     "output_type": "display_data"
    },
    {
     "name": "stdout",
     "output_type": "stream",
     "text": [
      "\n",
      "Test set: Average loss: 0.0000, Accuracy: 1000/1000 (100%)\n",
      "\n",
      "\n",
      "Test set: Average loss: 1.7947, Accuracy: 8278/10000 (83%)\n",
      "\n",
      "\n"
     ]
    },
    {
     "data": {
      "application/vnd.jupyter.widget-view+json": {
       "model_id": "14efd44a0e844b1e91dce74deb3b5005",
       "version_major": 2,
       "version_minor": 0
      },
      "text/plain": [
       "HBox(children=(HTML(value=''), FloatProgress(value=0.0, max=10000.0), HTML(value='')))"
      ]
     },
     "metadata": {},
     "output_type": "display_data"
    },
    {
     "name": "stdout",
     "output_type": "stream",
     "text": [
      "\n",
      "Test set: Average loss: 0.0000, Accuracy: 1000/1000 (100%)\n",
      "\n",
      "\n",
      "Test set: Average loss: 1.9350, Accuracy: 8314/10000 (83%)\n",
      "\n",
      "\n"
     ]
    },
    {
     "data": {
      "application/vnd.jupyter.widget-view+json": {
       "model_id": "263f713152e645938541f7ddc7646623",
       "version_major": 2,
       "version_minor": 0
      },
      "text/plain": [
       "HBox(children=(HTML(value=''), FloatProgress(value=0.0, max=10000.0), HTML(value='')))"
      ]
     },
     "metadata": {},
     "output_type": "display_data"
    },
    {
     "name": "stdout",
     "output_type": "stream",
     "text": [
      "\n",
      "Test set: Average loss: 0.0000, Accuracy: 1000/1000 (100%)\n",
      "\n",
      "\n",
      "Test set: Average loss: 1.7725, Accuracy: 8203/10000 (82%)\n",
      "\n",
      "\n"
     ]
    },
    {
     "data": {
      "application/vnd.jupyter.widget-view+json": {
       "model_id": "f1808bc913f24a18952d936763b8315e",
       "version_major": 2,
       "version_minor": 0
      },
      "text/plain": [
       "HBox(children=(HTML(value=''), FloatProgress(value=0.0, max=10000.0), HTML(value='')))"
      ]
     },
     "metadata": {},
     "output_type": "display_data"
    },
    {
     "name": "stdout",
     "output_type": "stream",
     "text": [
      "\n",
      "Test set: Average loss: 0.0000, Accuracy: 1000/1000 (100%)\n",
      "\n",
      "\n",
      "Test set: Average loss: 1.8118, Accuracy: 8232/10000 (82%)\n",
      "\n",
      "\n"
     ]
    },
    {
     "data": {
      "application/vnd.jupyter.widget-view+json": {
       "model_id": "d9d7f23c577d44f4b55ed5c5a5d778cd",
       "version_major": 2,
       "version_minor": 0
      },
      "text/plain": [
       "HBox(children=(HTML(value=''), FloatProgress(value=0.0, max=10000.0), HTML(value='')))"
      ]
     },
     "metadata": {},
     "output_type": "display_data"
    },
    {
     "name": "stdout",
     "output_type": "stream",
     "text": [
      "\n",
      "Test set: Average loss: 0.0009, Accuracy: 1000/1000 (100%)\n",
      "\n",
      "\n",
      "Test set: Average loss: 1.8365, Accuracy: 8168/10000 (82%)\n",
      "\n",
      "\n"
     ]
    },
    {
     "data": {
      "application/vnd.jupyter.widget-view+json": {
       "model_id": "ba0ff13fe9744cdfaba3fd7b74c0dd07",
       "version_major": 2,
       "version_minor": 0
      },
      "text/plain": [
       "HBox(children=(HTML(value=''), FloatProgress(value=0.0, max=10000.0), HTML(value='')))"
      ]
     },
     "metadata": {},
     "output_type": "display_data"
    },
    {
     "name": "stdout",
     "output_type": "stream",
     "text": [
      "\n",
      "Test set: Average loss: 0.0004, Accuracy: 1000/1000 (100%)\n",
      "\n",
      "\n",
      "Test set: Average loss: 1.6738, Accuracy: 8245/10000 (82%)\n",
      "\n",
      "\n"
     ]
    },
    {
     "data": {
      "application/vnd.jupyter.widget-view+json": {
       "model_id": "1819a30207074d0390ab57b4ebaab168",
       "version_major": 2,
       "version_minor": 0
      },
      "text/plain": [
       "HBox(children=(HTML(value=''), FloatProgress(value=0.0, max=10000.0), HTML(value='')))"
      ]
     },
     "metadata": {},
     "output_type": "display_data"
    },
    {
     "name": "stdout",
     "output_type": "stream",
     "text": [
      "\n",
      "Test set: Average loss: 0.0014, Accuracy: 1000/1000 (100%)\n",
      "\n",
      "\n",
      "Test set: Average loss: 1.4540, Accuracy: 8206/10000 (82%)\n",
      "\n",
      "\n"
     ]
    },
    {
     "data": {
      "application/vnd.jupyter.widget-view+json": {
       "model_id": "8beaef05e93443b89e75dfdce79301d0",
       "version_major": 2,
       "version_minor": 0
      },
      "text/plain": [
       "HBox(children=(HTML(value=''), FloatProgress(value=0.0, max=10000.0), HTML(value='')))"
      ]
     },
     "metadata": {},
     "output_type": "display_data"
    },
    {
     "name": "stdout",
     "output_type": "stream",
     "text": [
      "\n",
      "Test set: Average loss: 0.0059, Accuracy: 1000/1000 (100%)\n",
      "\n",
      "\n",
      "Test set: Average loss: 1.1615, Accuracy: 8211/10000 (82%)\n",
      "\n",
      "\n"
     ]
    },
    {
     "data": {
      "application/vnd.jupyter.widget-view+json": {
       "model_id": "e77ff95fd04d4055a210a60261555671",
       "version_major": 2,
       "version_minor": 0
      },
      "text/plain": [
       "HBox(children=(HTML(value=''), FloatProgress(value=0.0, max=10000.0), HTML(value='')))"
      ]
     },
     "metadata": {},
     "output_type": "display_data"
    },
    {
     "name": "stdout",
     "output_type": "stream",
     "text": [
      "\n",
      "Test set: Average loss: 0.0041, Accuracy: 1000/1000 (100%)\n",
      "\n",
      "\n",
      "Test set: Average loss: 1.2766, Accuracy: 8189/10000 (82%)\n",
      "\n",
      "\n"
     ]
    },
    {
     "data": {
      "application/vnd.jupyter.widget-view+json": {
       "model_id": "4c42f93d0eac40589286cb9d4cd2ca2a",
       "version_major": 2,
       "version_minor": 0
      },
      "text/plain": [
       "HBox(children=(HTML(value=''), FloatProgress(value=0.0, max=10000.0), HTML(value='')))"
      ]
     },
     "metadata": {},
     "output_type": "display_data"
    },
    {
     "name": "stdout",
     "output_type": "stream",
     "text": [
      "\n",
      "Test set: Average loss: 0.0006, Accuracy: 1000/1000 (100%)\n",
      "\n",
      "\n",
      "Test set: Average loss: 1.5024, Accuracy: 8256/10000 (83%)\n",
      "\n",
      "\n"
     ]
    },
    {
     "data": {
      "application/vnd.jupyter.widget-view+json": {
       "model_id": "2c839f6fbd9944fc802c6312368c9281",
       "version_major": 2,
       "version_minor": 0
      },
      "text/plain": [
       "HBox(children=(HTML(value=''), FloatProgress(value=0.0, max=10000.0), HTML(value='')))"
      ]
     },
     "metadata": {},
     "output_type": "display_data"
    },
    {
     "name": "stdout",
     "output_type": "stream",
     "text": [
      "\n",
      "Test set: Average loss: 0.0676, Accuracy: 978/1000 (98%)\n",
      "\n",
      "\n",
      "Test set: Average loss: 0.9870, Accuracy: 7893/10000 (79%)\n",
      "\n",
      "\n",
      "\n"
     ]
    }
   ],
   "source": [
    "lambdas = np.logspace(-2,4,30) # From 0.001 to 100\n",
    "results = []\n",
    "for lambd in tqdm(lambdas):\n",
    "    subresults = run_experiment(n_learners=2, n_iterations=10000, lambd=lambd, last_only=True, g=L2_early_squared, n_training_data=2000)\n",
    "    train_loss = list(zip(*subresults))[0][-1]\n",
    "    train_accuracy = list(zip(*subresults))[1][-1]\n",
    "    test_loss = list(zip(*subresults))[2][-1]\n",
    "    test_accuracy = list(zip(*subresults))[3][-1]\n",
    "    results.append((train_loss,train_accuracy,test_loss,test_accuracy))"
   ]
  },
  {
   "cell_type": "code",
   "execution_count": 20,
   "metadata": {},
   "outputs": [],
   "source": [
    "train_losses = list(zip(*results))[0]\n",
    "train_accuracies = list(zip(*results))[1]\n",
    "test_losses = list(zip(*results))[2]\n",
    "test_accuracies = list(zip(*results))[3]"
   ]
  },
  {
   "cell_type": "code",
   "execution_count": 21,
   "metadata": {},
   "outputs": [
    {
     "name": "stdout",
     "output_type": "stream",
     "text": [
      "The first accuracy is 0.8324\n",
      "The best accuracy is 0.8399 , achieved by lambda= 0.10826367338740546\n"
     ]
    },
    {
     "data": {
      "image/png": "[encoded data removed]",
      "text/plain": [
       "<Figure size 432x288 with 1 Axes>"
      ]
     },
     "metadata": {
      "image/png": {
       "height": 278,
       "width": 385
      },
      "needs_background": "light"
     },
     "output_type": "display_data"
    },
    {
     "data": {
      "image/png": "[encoded data removed]",
      "text/plain": [
       "<Figure size 432x288 with 1 Axes>"
      ]
     },
     "metadata": {
      "image/png": {
       "height": 278,
       "width": 391
      },
      "needs_background": "light"
     },
     "output_type": "display_data"
    }
   ],
   "source": [
    "# 2 learners learning with ADAM and L2 norm for 10000 steps. The data in use is 1000 images for both.\n",
    "\n",
    "plt.figure()\n",
    "plt.plot(lambdas,train_losses, label=\"Training set\")\n",
    "plt.plot(lambdas,test_losses, label=\"Test set\")\n",
    "plt.legend()\n",
    "plt.xscale('log')\n",
    "plt.title(\"Loss of a single learner\")\n",
    "plt.ylabel(\"Loss\")\n",
    "plt.xlabel(r\"$\\lambda$\")\n",
    "plt.figure()\n",
    "plt.plot(lambdas,train_accuracies, label=\"Training set\")\n",
    "plt.plot(lambdas,test_accuracies, label=\"Test set\")\n",
    "plt.legend()\n",
    "plt.xscale('log')\n",
    "plt.title(\"Accuracy of a single learner\")\n",
    "plt.ylabel(\"Accuracy\")\n",
    "plt.xlabel(r\"$\\lambda$\");\n",
    "print(\"The first accuracy is\",test_accuracies[0])\n",
    "print(\"The best accuracy is\",np.max(test_accuracies),\", achieved by lambda=\",lambdas[np.argmax(test_accuracies)])"
   ]
  },
  {
   "cell_type": "markdown",
   "metadata": {},
   "source": [
    "# Sharing of all but the last layer, less data"
   ]
  },
  {
   "cell_type": "code",
   "execution_count": 23,
   "metadata": {},
   "outputs": [],
   "source": [
    "def pi_3(tensor):\n",
    "    mask = torch.cat([torch.ones(1198592,device=DEVICE),torch.zeros(1290,device=DEVICE)])\n",
    "    return tensor * mask\n",
    "\n",
    "# Squared euclidian distance of all but the last layer\n",
    "def L2_semiearly_squared(local,neighbor):\n",
    "    return torch.norm(pi_3(local)-pi_3(neighbor)).pow(2)"
   ]
  },
  {
   "cell_type": "code",
   "execution_count": 24,
   "metadata": {},
   "outputs": [
    {
     "data": {
      "application/vnd.jupyter.widget-view+json": {
       "model_id": "53ecfc0c1d5642419582cdb8a9bc76de",
       "version_major": 2,
       "version_minor": 0
      },
      "text/plain": [
       "HBox(children=(HTML(value=''), FloatProgress(value=0.0, max=30.0), HTML(value='')))"
      ]
     },
     "metadata": {},
     "output_type": "display_data"
    },
    {
     "data": {
      "application/vnd.jupyter.widget-view+json": {
       "model_id": "c64d2a17242c4178bd7ce1e839d8cb37",
       "version_major": 2,
       "version_minor": 0
      },
      "text/plain": [
       "HBox(children=(HTML(value=''), FloatProgress(value=0.0, max=3000.0), HTML(value='')))"
      ]
     },
     "metadata": {},
     "output_type": "display_data"
    },
    {
     "name": "stdout",
     "output_type": "stream",
     "text": [
      "\n",
      "Test set: Average loss: 0.0000, Accuracy: 1000/1000 (100%)\n",
      "\n",
      "\n",
      "Test set: Average loss: 1.3166, Accuracy: 8288/10000 (83%)\n",
      "\n",
      "\n"
     ]
    },
    {
     "data": {
      "application/vnd.jupyter.widget-view+json": {
       "model_id": "ed9f8fcfdc0e48a699488b4d24beef58",
       "version_major": 2,
       "version_minor": 0
      },
      "text/plain": [
       "HBox(children=(HTML(value=''), FloatProgress(value=0.0, max=3000.0), HTML(value='')))"
      ]
     },
     "metadata": {},
     "output_type": "display_data"
    },
    {
     "name": "stdout",
     "output_type": "stream",
     "text": [
      "\n",
      "Test set: Average loss: 0.0000, Accuracy: 1000/1000 (100%)\n",
      "\n",
      "\n",
      "Test set: Average loss: 1.4994, Accuracy: 8219/10000 (82%)\n",
      "\n",
      "\n"
     ]
    },
    {
     "data": {
      "application/vnd.jupyter.widget-view+json": {
       "model_id": "e8310d349ce3451796290f3ed193fa98",
       "version_major": 2,
       "version_minor": 0
      },
      "text/plain": [
       "HBox(children=(HTML(value=''), FloatProgress(value=0.0, max=3000.0), HTML(value='')))"
      ]
     },
     "metadata": {},
     "output_type": "display_data"
    },
    {
     "name": "stdout",
     "output_type": "stream",
     "text": [
      "\n",
      "Test set: Average loss: 0.0000, Accuracy: 1000/1000 (100%)\n",
      "\n",
      "\n",
      "Test set: Average loss: 1.3346, Accuracy: 8249/10000 (82%)\n",
      "\n",
      "\n"
     ]
    },
    {
     "data": {
      "application/vnd.jupyter.widget-view+json": {
       "model_id": "e0776eee8fee40b387e458ff791b2138",
       "version_major": 2,
       "version_minor": 0
      },
      "text/plain": [
       "HBox(children=(HTML(value=''), FloatProgress(value=0.0, max=3000.0), HTML(value='')))"
      ]
     },
     "metadata": {},
     "output_type": "display_data"
    },
    {
     "name": "stdout",
     "output_type": "stream",
     "text": [
      "\n",
      "Test set: Average loss: 0.0000, Accuracy: 1000/1000 (100%)\n",
      "\n",
      "\n",
      "Test set: Average loss: 1.3789, Accuracy: 8373/10000 (84%)\n",
      "\n",
      "\n"
     ]
    },
    {
     "data": {
      "application/vnd.jupyter.widget-view+json": {
       "model_id": "0a294d3e6aae430bbb252d1dc46264db",
       "version_major": 2,
       "version_minor": 0
      },
      "text/plain": [
       "HBox(children=(HTML(value=''), FloatProgress(value=0.0, max=3000.0), HTML(value='')))"
      ]
     },
     "metadata": {},
     "output_type": "display_data"
    },
    {
     "name": "stdout",
     "output_type": "stream",
     "text": [
      "\n",
      "Test set: Average loss: 0.0001, Accuracy: 1000/1000 (100%)\n",
      "\n",
      "\n",
      "Test set: Average loss: 1.4425, Accuracy: 8258/10000 (83%)\n",
      "\n",
      "\n"
     ]
    },
    {
     "data": {
      "application/vnd.jupyter.widget-view+json": {
       "model_id": "a676c53c44a848d1a93616f8a9fe63fd",
       "version_major": 2,
       "version_minor": 0
      },
      "text/plain": [
       "HBox(children=(HTML(value=''), FloatProgress(value=0.0, max=3000.0), HTML(value='')))"
      ]
     },
     "metadata": {},
     "output_type": "display_data"
    },
    {
     "name": "stdout",
     "output_type": "stream",
     "text": [
      "\n",
      "Test set: Average loss: 0.0001, Accuracy: 1000/1000 (100%)\n",
      "\n",
      "\n",
      "Test set: Average loss: 1.3347, Accuracy: 8171/10000 (82%)\n",
      "\n",
      "\n"
     ]
    },
    {
     "data": {
      "application/vnd.jupyter.widget-view+json": {
       "model_id": "316a99a00ea841e38c7faf4d0e7f8786",
       "version_major": 2,
       "version_minor": 0
      },
      "text/plain": [
       "HBox(children=(HTML(value=''), FloatProgress(value=0.0, max=3000.0), HTML(value='')))"
      ]
     },
     "metadata": {},
     "output_type": "display_data"
    },
    {
     "name": "stdout",
     "output_type": "stream",
     "text": [
      "\n",
      "Test set: Average loss: 0.0003, Accuracy: 1000/1000 (100%)\n",
      "\n",
      "\n",
      "Test set: Average loss: 1.3870, Accuracy: 8211/10000 (82%)\n",
      "\n",
      "\n"
     ]
    },
    {
     "data": {
      "application/vnd.jupyter.widget-view+json": {
       "model_id": "aed189130d734ad3a3463301822d5a55",
       "version_major": 2,
       "version_minor": 0
      },
      "text/plain": [
       "HBox(children=(HTML(value=''), FloatProgress(value=0.0, max=3000.0), HTML(value='')))"
      ]
     },
     "metadata": {},
     "output_type": "display_data"
    },
    {
     "name": "stdout",
     "output_type": "stream",
     "text": [
      "\n",
      "Test set: Average loss: 0.0002, Accuracy: 1000/1000 (100%)\n",
      "\n",
      "\n",
      "Test set: Average loss: 1.2555, Accuracy: 8298/10000 (83%)\n",
      "\n",
      "\n"
     ]
    },
    {
     "data": {
      "application/vnd.jupyter.widget-view+json": {
       "model_id": "bc1ba5c77db9419ba981730b5ede71af",
       "version_major": 2,
       "version_minor": 0
      },
      "text/plain": [
       "HBox(children=(HTML(value=''), FloatProgress(value=0.0, max=3000.0), HTML(value='')))"
      ]
     },
     "metadata": {},
     "output_type": "display_data"
    },
    {
     "name": "stdout",
     "output_type": "stream",
     "text": [
      "\n",
      "Test set: Average loss: 0.0002, Accuracy: 1000/1000 (100%)\n",
      "\n",
      "\n",
      "Test set: Average loss: 1.2266, Accuracy: 8274/10000 (83%)\n",
      "\n",
      "\n"
     ]
    },
    {
     "data": {
      "application/vnd.jupyter.widget-view+json": {
       "model_id": "3b7956a5fb614dbd9492aee2506267bd",
       "version_major": 2,
       "version_minor": 0
      },
      "text/plain": [
       "HBox(children=(HTML(value=''), FloatProgress(value=0.0, max=3000.0), HTML(value='')))"
      ]
     },
     "metadata": {},
     "output_type": "display_data"
    },
    {
     "name": "stdout",
     "output_type": "stream",
     "text": [
      "\n",
      "Test set: Average loss: 0.0003, Accuracy: 1000/1000 (100%)\n",
      "\n",
      "\n",
      "Test set: Average loss: 1.1918, Accuracy: 8336/10000 (83%)\n",
      "\n",
      "\n"
     ]
    },
    {
     "data": {
      "application/vnd.jupyter.widget-view+json": {
       "model_id": "960dc0931c994ca7b002197f35a9acba",
       "version_major": 2,
       "version_minor": 0
      },
      "text/plain": [
       "HBox(children=(HTML(value=''), FloatProgress(value=0.0, max=3000.0), HTML(value='')))"
      ]
     },
     "metadata": {},
     "output_type": "display_data"
    },
    {
     "name": "stdout",
     "output_type": "stream",
     "text": [
      "\n",
      "Test set: Average loss: 0.0002, Accuracy: 1000/1000 (100%)\n",
      "\n",
      "\n",
      "Test set: Average loss: 1.2974, Accuracy: 8267/10000 (83%)\n",
      "\n",
      "\n"
     ]
    },
    {
     "data": {
      "application/vnd.jupyter.widget-view+json": {
       "model_id": "479d04524e84453e8a29992b54b17985",
       "version_major": 2,
       "version_minor": 0
      },
      "text/plain": [
       "HBox(children=(HTML(value=''), FloatProgress(value=0.0, max=3000.0), HTML(value='')))"
      ]
     },
     "metadata": {},
     "output_type": "display_data"
    },
    {
     "name": "stdout",
     "output_type": "stream",
     "text": [
      "\n",
      "Test set: Average loss: 0.0007, Accuracy: 1000/1000 (100%)\n",
      "\n",
      "\n",
      "Test set: Average loss: 1.2192, Accuracy: 8316/10000 (83%)\n",
      "\n",
      "\n"
     ]
    },
    {
     "data": {
      "application/vnd.jupyter.widget-view+json": {
       "model_id": "08c16ed2bb7b42b4b688642a563903b4",
       "version_major": 2,
       "version_minor": 0
      },
      "text/plain": [
       "HBox(children=(HTML(value=''), FloatProgress(value=0.0, max=3000.0), HTML(value='')))"
      ]
     },
     "metadata": {},
     "output_type": "display_data"
    },
    {
     "name": "stdout",
     "output_type": "stream",
     "text": [
      "\n",
      "Test set: Average loss: 0.0013, Accuracy: 1000/1000 (100%)\n",
      "\n",
      "\n",
      "Test set: Average loss: 1.0261, Accuracy: 8358/10000 (84%)\n",
      "\n",
      "\n"
     ]
    },
    {
     "data": {
      "application/vnd.jupyter.widget-view+json": {
       "model_id": "d4ec5844c3e74ac2a233337bca203563",
       "version_major": 2,
       "version_minor": 0
      },
      "text/plain": [
       "HBox(children=(HTML(value=''), FloatProgress(value=0.0, max=3000.0), HTML(value='')))"
      ]
     },
     "metadata": {},
     "output_type": "display_data"
    },
    {
     "name": "stdout",
     "output_type": "stream",
     "text": [
      "\n",
      "Test set: Average loss: 0.0107, Accuracy: 998/1000 (100%)\n",
      "\n",
      "\n",
      "Test set: Average loss: 1.0106, Accuracy: 8211/10000 (82%)\n",
      "\n",
      "\n"
     ]
    },
    {
     "data": {
      "application/vnd.jupyter.widget-view+json": {
       "model_id": "cd2edb14192e40a9a6f79dccc7acb5ed",
       "version_major": 2,
       "version_minor": 0
      },
      "text/plain": [
       "HBox(children=(HTML(value=''), FloatProgress(value=0.0, max=3000.0), HTML(value='')))"
      ]
     },
     "metadata": {},
     "output_type": "display_data"
    },
    {
     "name": "stdout",
     "output_type": "stream",
     "text": [
      "\n",
      "Test set: Average loss: 0.0152, Accuracy: 996/1000 (100%)\n",
      "\n",
      "\n",
      "Test set: Average loss: 0.9770, Accuracy: 8209/10000 (82%)\n",
      "\n",
      "\n"
     ]
    },
    {
     "data": {
      "application/vnd.jupyter.widget-view+json": {
       "model_id": "aa170033a68f4d8e80966dffb3c538e9",
       "version_major": 2,
       "version_minor": 0
      },
      "text/plain": [
       "HBox(children=(HTML(value=''), FloatProgress(value=0.0, max=3000.0), HTML(value='')))"
      ]
     },
     "metadata": {},
     "output_type": "display_data"
    },
    {
     "name": "stdout",
     "output_type": "stream",
     "text": [
      "\n",
      "Test set: Average loss: 0.0205, Accuracy: 998/1000 (100%)\n",
      "\n",
      "\n",
      "Test set: Average loss: 0.7048, Accuracy: 8303/10000 (83%)\n",
      "\n",
      "\n"
     ]
    },
    {
     "data": {
      "application/vnd.jupyter.widget-view+json": {
       "model_id": "b95d3e3f6a574bce89bd26ff10136bec",
       "version_major": 2,
       "version_minor": 0
      },
      "text/plain": [
       "HBox(children=(HTML(value=''), FloatProgress(value=0.0, max=3000.0), HTML(value='')))"
      ]
     },
     "metadata": {},
     "output_type": "display_data"
    },
    {
     "name": "stdout",
     "output_type": "stream",
     "text": [
      "\n",
      "Test set: Average loss: 0.1097, Accuracy: 966/1000 (97%)\n",
      "\n",
      "\n",
      "Test set: Average loss: 0.6081, Accuracy: 8092/10000 (81%)\n",
      "\n",
      "\n"
     ]
    },
    {
     "data": {
      "application/vnd.jupyter.widget-view+json": {
       "model_id": "0e0c979a66974e159cdf52e713433e48",
       "version_major": 2,
       "version_minor": 0
      },
      "text/plain": [
       "HBox(children=(HTML(value=''), FloatProgress(value=0.0, max=3000.0), HTML(value='')))"
      ]
     },
     "metadata": {},
     "output_type": "display_data"
    },
    {
     "name": "stdout",
     "output_type": "stream",
     "text": [
      "\n",
      "Test set: Average loss: 0.0914, Accuracy: 977/1000 (98%)\n",
      "\n",
      "\n",
      "Test set: Average loss: 0.6368, Accuracy: 8171/10000 (82%)\n",
      "\n",
      "\n"
     ]
    },
    {
     "data": {
      "application/vnd.jupyter.widget-view+json": {
       "model_id": "a98fdba824f742eb8f318128dff2a8fa",
       "version_major": 2,
       "version_minor": 0
      },
      "text/plain": [
       "HBox(children=(HTML(value=''), FloatProgress(value=0.0, max=3000.0), HTML(value='')))"
      ]
     },
     "metadata": {},
     "output_type": "display_data"
    },
    {
     "name": "stdout",
     "output_type": "stream",
     "text": [
      "\n",
      "Test set: Average loss: 0.2346, Accuracy: 922/1000 (92%)\n",
      "\n",
      "\n",
      "Test set: Average loss: 0.6530, Accuracy: 7922/10000 (79%)\n",
      "\n",
      "\n"
     ]
    },
    {
     "data": {
      "application/vnd.jupyter.widget-view+json": {
       "model_id": "5042657673e94766b47cc0f2cb537d22",
       "version_major": 2,
       "version_minor": 0
      },
      "text/plain": [
       "HBox(children=(HTML(value=''), FloatProgress(value=0.0, max=3000.0), HTML(value='')))"
      ]
     },
     "metadata": {},
     "output_type": "display_data"
    },
    {
     "name": "stdout",
     "output_type": "stream",
     "text": [
      "\n",
      "Test set: Average loss: 0.3001, Accuracy: 884/1000 (88%)\n",
      "\n",
      "\n",
      "Test set: Average loss: 0.5814, Accuracy: 7953/10000 (80%)\n",
      "\n",
      "\n"
     ]
    },
    {
     "data": {
      "application/vnd.jupyter.widget-view+json": {
       "model_id": "db760180606244d9a9b6043094c227ca",
       "version_major": 2,
       "version_minor": 0
      },
      "text/plain": [
       "HBox(children=(HTML(value=''), FloatProgress(value=0.0, max=3000.0), HTML(value='')))"
      ]
     },
     "metadata": {},
     "output_type": "display_data"
    },
    {
     "name": "stdout",
     "output_type": "stream",
     "text": [
      "\n",
      "Test set: Average loss: 0.3781, Accuracy: 847/1000 (85%)\n",
      "\n",
      "\n",
      "Test set: Average loss: 0.5879, Accuracy: 7776/10000 (78%)\n",
      "\n",
      "\n"
     ]
    },
    {
     "data": {
      "application/vnd.jupyter.widget-view+json": {
       "model_id": "eb6a497524f0451993c94edb3a435f86",
       "version_major": 2,
       "version_minor": 0
      },
      "text/plain": [
       "HBox(children=(HTML(value=''), FloatProgress(value=0.0, max=3000.0), HTML(value='')))"
      ]
     },
     "metadata": {},
     "output_type": "display_data"
    },
    {
     "name": "stdout",
     "output_type": "stream",
     "text": [
      "\n",
      "Test set: Average loss: 0.6387, Accuracy: 751/1000 (75%)\n",
      "\n",
      "\n",
      "Test set: Average loss: 0.7799, Accuracy: 7397/10000 (74%)\n",
      "\n",
      "\n"
     ]
    },
    {
     "data": {
      "application/vnd.jupyter.widget-view+json": {
       "model_id": "9b1a3478e31f45f2afb3ebf7f09aebee",
       "version_major": 2,
       "version_minor": 0
      },
      "text/plain": [
       "HBox(children=(HTML(value=''), FloatProgress(value=0.0, max=3000.0), HTML(value='')))"
      ]
     },
     "metadata": {},
     "output_type": "display_data"
    },
    {
     "name": "stdout",
     "output_type": "stream",
     "text": [
      "\n",
      "Test set: Average loss: 0.5243, Accuracy: 817/1000 (82%)\n",
      "\n",
      "\n",
      "Test set: Average loss: 0.6560, Accuracy: 7644/10000 (76%)\n",
      "\n",
      "\n"
     ]
    },
    {
     "data": {
      "application/vnd.jupyter.widget-view+json": {
       "model_id": "19e03102940e4c00b21da54af2a2dc13",
       "version_major": 2,
       "version_minor": 0
      },
      "text/plain": [
       "HBox(children=(HTML(value=''), FloatProgress(value=0.0, max=3000.0), HTML(value='')))"
      ]
     },
     "metadata": {},
     "output_type": "display_data"
    },
    {
     "name": "stdout",
     "output_type": "stream",
     "text": [
      "\n",
      "Test set: Average loss: 0.9337, Accuracy: 659/1000 (66%)\n",
      "\n",
      "\n",
      "Test set: Average loss: 0.9522, Accuracy: 6611/10000 (66%)\n",
      "\n",
      "\n"
     ]
    },
    {
     "data": {
      "application/vnd.jupyter.widget-view+json": {
       "model_id": "bd7578a6988347eba516a40e3843e790",
       "version_major": 2,
       "version_minor": 0
      },
      "text/plain": [
       "HBox(children=(HTML(value=''), FloatProgress(value=0.0, max=3000.0), HTML(value='')))"
      ]
     },
     "metadata": {},
     "output_type": "display_data"
    },
    {
     "name": "stdout",
     "output_type": "stream",
     "text": [
      "\n",
      "Test set: Average loss: 0.8135, Accuracy: 696/1000 (70%)\n",
      "\n",
      "\n",
      "Test set: Average loss: 0.8956, Accuracy: 6768/10000 (68%)\n",
      "\n",
      "\n"
     ]
    },
    {
     "data": {
      "application/vnd.jupyter.widget-view+json": {
       "model_id": "fb0fdf0253a643c0a7374a3ad3742d40",
       "version_major": 2,
       "version_minor": 0
      },
      "text/plain": [
       "HBox(children=(HTML(value=''), FloatProgress(value=0.0, max=3000.0), HTML(value='')))"
      ]
     },
     "metadata": {},
     "output_type": "display_data"
    },
    {
     "name": "stdout",
     "output_type": "stream",
     "text": [
      "\n",
      "Test set: Average loss: 0.8878, Accuracy: 699/1000 (70%)\n",
      "\n",
      "\n",
      "Test set: Average loss: 0.8991, Accuracy: 6771/10000 (68%)\n",
      "\n",
      "\n"
     ]
    },
    {
     "data": {
      "application/vnd.jupyter.widget-view+json": {
       "model_id": "95d743661fcf4ff38209adb2deaf1d30",
       "version_major": 2,
       "version_minor": 0
      },
      "text/plain": [
       "HBox(children=(HTML(value=''), FloatProgress(value=0.0, max=3000.0), HTML(value='')))"
      ]
     },
     "metadata": {},
     "output_type": "display_data"
    },
    {
     "name": "stdout",
     "output_type": "stream",
     "text": [
      "\n",
      "Test set: Average loss: 0.8429, Accuracy: 698/1000 (70%)\n",
      "\n",
      "\n",
      "Test set: Average loss: 0.9206, Accuracy: 6675/10000 (67%)\n",
      "\n",
      "\n"
     ]
    },
    {
     "data": {
      "application/vnd.jupyter.widget-view+json": {
       "model_id": "00d363b5f1254cf09d0871675cef7460",
       "version_major": 2,
       "version_minor": 0
      },
      "text/plain": [
       "HBox(children=(HTML(value=''), FloatProgress(value=0.0, max=3000.0), HTML(value='')))"
      ]
     },
     "metadata": {},
     "output_type": "display_data"
    },
    {
     "name": "stdout",
     "output_type": "stream",
     "text": [
      "\n",
      "Test set: Average loss: 0.8577, Accuracy: 707/1000 (71%)\n",
      "\n",
      "\n",
      "Test set: Average loss: 0.8986, Accuracy: 6748/10000 (67%)\n",
      "\n",
      "\n"
     ]
    },
    {
     "data": {
      "application/vnd.jupyter.widget-view+json": {
       "model_id": "76661fb3d33042a39cf0f48293bece54",
       "version_major": 2,
       "version_minor": 0
      },
      "text/plain": [
       "HBox(children=(HTML(value=''), FloatProgress(value=0.0, max=3000.0), HTML(value='')))"
      ]
     },
     "metadata": {},
     "output_type": "display_data"
    },
    {
     "name": "stdout",
     "output_type": "stream",
     "text": [
      "\n",
      "Test set: Average loss: 1.0439, Accuracy: 659/1000 (66%)\n",
      "\n",
      "\n",
      "Test set: Average loss: 1.0576, Accuracy: 6568/10000 (66%)\n",
      "\n",
      "\n"
     ]
    },
    {
     "data": {
      "application/vnd.jupyter.widget-view+json": {
       "model_id": "4283087e7f554098890b5a08766a3644",
       "version_major": 2,
       "version_minor": 0
      },
      "text/plain": [
       "HBox(children=(HTML(value=''), FloatProgress(value=0.0, max=3000.0), HTML(value='')))"
      ]
     },
     "metadata": {},
     "output_type": "display_data"
    },
    {
     "name": "stdout",
     "output_type": "stream",
     "text": [
      "\n",
      "Test set: Average loss: 1.0780, Accuracy: 669/1000 (67%)\n",
      "\n",
      "\n",
      "Test set: Average loss: 1.1008, Accuracy: 6517/10000 (65%)\n",
      "\n",
      "\n",
      "\n"
     ]
    }
   ],
   "source": [
    "lambdas = np.logspace(-2,4,30) # From 0.001 to 100\n",
    "results = []\n",
    "for lambd in tqdm(lambdas):\n",
    "    subresults = run_experiment(n_learners=2, n_iterations=3000, lambd=lambd, last_only=True, g=L2_semiearly_squared, n_training_data=2000)\n",
    "    train_loss = list(zip(*subresults))[0][-1]\n",
    "    train_accuracy = list(zip(*subresults))[1][-1]\n",
    "    test_loss = list(zip(*subresults))[2][-1]\n",
    "    test_accuracy = list(zip(*subresults))[3][-1]\n",
    "    results.append((train_loss,train_accuracy,test_loss,test_accuracy))"
   ]
  },
  {
   "cell_type": "code",
   "execution_count": 25,
   "metadata": {},
   "outputs": [],
   "source": [
    "train_losses = list(zip(*results))[0]\n",
    "train_accuracies = list(zip(*results))[1]\n",
    "test_losses = list(zip(*results))[2]\n",
    "test_accuracies = list(zip(*results))[3]"
   ]
  },
  {
   "cell_type": "code",
   "execution_count": 26,
   "metadata": {},
   "outputs": [
    {
     "name": "stdout",
     "output_type": "stream",
     "text": [
      "The first accuracy is 0.8288\n",
      "The best accuracy is 0.8373 , achieved by lambda= 0.041753189365604\n"
     ]
    },
    {
     "data": {
      "image/png": "[encoded data removed]",
      "text/plain": [
       "<Figure size 432x288 with 1 Axes>"
      ]
     },
     "metadata": {
      "image/png": {
       "height": 278,
       "width": 385
      },
      "needs_background": "light"
     },
     "output_type": "display_data"
    },
    {
     "data": {
      "image/png": "[encoded data removed]",
      "text/plain": [
       "<Figure size 432x288 with 1 Axes>"
      ]
     },
     "metadata": {
      "image/png": {
       "height": 278,
       "width": 391
      },
      "needs_background": "light"
     },
     "output_type": "display_data"
    }
   ],
   "source": [
    "# 2 learners learning with ADAM and L2_squared_semiearly norm for 3000 steps. The data in use is 1000 images for both.\n",
    "\n",
    "plt.figure()\n",
    "plt.plot(lambdas,train_losses, label=\"Training set\")\n",
    "plt.plot(lambdas,test_losses, label=\"Test set\")\n",
    "plt.legend()\n",
    "plt.xscale('log')\n",
    "plt.title(\"Loss of a single learner\")\n",
    "plt.ylabel(\"Loss\")\n",
    "plt.xlabel(r\"$\\lambda$\")\n",
    "plt.figure()\n",
    "plt.plot(lambdas,train_accuracies, label=\"Training set\")\n",
    "plt.plot(lambdas,test_accuracies, label=\"Test set\")\n",
    "plt.legend()\n",
    "plt.xscale('log')\n",
    "plt.title(\"Accuracy of a single learner\")\n",
    "plt.ylabel(\"Accuracy\")\n",
    "plt.xlabel(r\"$\\lambda$\");\n",
    "print(\"The first accuracy is\",test_accuracies[0])\n",
    "print(\"The best accuracy is\",np.max(test_accuracies),\", achieved by lambda=\",lambdas[np.argmax(test_accuracies)])"
   ]
  },
  {
   "cell_type": "markdown",
   "metadata": {},
   "source": [
    "# Run the same thing with 2 clusters"
   ]
  },
  {
   "cell_type": "code",
   "execution_count": 26,
   "metadata": {},
   "outputs": [
    {
     "data": {
      "application/vnd.jupyter.widget-view+json": {
       "model_id": "709a1b48249c42b683e2a4177658b734",
       "version_major": 2,
       "version_minor": 0
      },
      "text/plain": [
       "HBox(children=(HTML(value=''), FloatProgress(value=0.0, max=30.0), HTML(value='')))"
      ]
     },
     "metadata": {},
     "output_type": "display_data"
    },
    {
     "data": {
      "application/vnd.jupyter.widget-view+json": {
       "model_id": "87679a7593df43288077df0c17849524",
       "version_major": 2,
       "version_minor": 0
      },
      "text/plain": [
       "HBox(children=(HTML(value=''), FloatProgress(value=0.0, max=10000.0), HTML(value='')))"
      ]
     },
     "metadata": {},
     "output_type": "display_data"
    },
    {
     "name": "stdout",
     "output_type": "stream",
     "text": [
      "\n",
      "\n"
     ]
    },
    {
     "ename": "RuntimeError",
     "evalue": "CUDA out of memory. Tried to allocate 20.00 MiB (GPU 0; 4.00 GiB total capacity; 1.37 GiB already allocated; 16.73 MiB free; 1.49 GiB reserved in total by PyTorch)",
     "output_type": "error",
     "traceback": [
      "\u001b[1;31m---------------------------------------------------------------------------\u001b[0m",
      "\u001b[1;31mRuntimeError\u001b[0m                              Traceback (most recent call last)",
      "\u001b[1;32m<ipython-input-26-59fe9cad4077>\u001b[0m in \u001b[0;36m<module>\u001b[1;34m\u001b[0m\n\u001b[0;32m      2\u001b[0m \u001b[0mresults\u001b[0m \u001b[1;33m=\u001b[0m \u001b[1;33m[\u001b[0m\u001b[1;33m]\u001b[0m\u001b[1;33m\u001b[0m\u001b[1;33m\u001b[0m\u001b[0m\n\u001b[0;32m      3\u001b[0m \u001b[1;32mfor\u001b[0m \u001b[0mlambd\u001b[0m \u001b[1;32min\u001b[0m \u001b[0mtqdm\u001b[0m\u001b[1;33m(\u001b[0m\u001b[0mlambdas\u001b[0m\u001b[1;33m)\u001b[0m\u001b[1;33m:\u001b[0m\u001b[1;33m\u001b[0m\u001b[1;33m\u001b[0m\u001b[0m\n\u001b[1;32m----> 4\u001b[1;33m     \u001b[0msubresults\u001b[0m \u001b[1;33m=\u001b[0m \u001b[0mrun_experiment\u001b[0m\u001b[1;33m(\u001b[0m\u001b[0mn_learners\u001b[0m\u001b[1;33m=\u001b[0m\u001b[1;36m60\u001b[0m\u001b[1;33m,\u001b[0m \u001b[0mn_iterations\u001b[0m\u001b[1;33m=\u001b[0m\u001b[1;36m10000\u001b[0m\u001b[1;33m,\u001b[0m \u001b[0mlambd\u001b[0m\u001b[1;33m=\u001b[0m\u001b[0mlambd\u001b[0m\u001b[1;33m,\u001b[0m \u001b[0mlast_only\u001b[0m\u001b[1;33m=\u001b[0m\u001b[1;32mTrue\u001b[0m\u001b[1;33m,\u001b[0m \u001b[0mg\u001b[0m\u001b[1;33m=\u001b[0m\u001b[0mL2_early\u001b[0m\u001b[1;33m,\u001b[0m \u001b[0mp_in\u001b[0m\u001b[1;33m=\u001b[0m\u001b[1;36m0.5\u001b[0m\u001b[1;33m,\u001b[0m \u001b[0mp_out\u001b[0m\u001b[1;33m=\u001b[0m\u001b[1;36m0.1\u001b[0m\u001b[1;33m)\u001b[0m\u001b[1;33m\u001b[0m\u001b[1;33m\u001b[0m\u001b[0m\n\u001b[0m\u001b[0;32m      5\u001b[0m     \u001b[0mtrain_loss\u001b[0m \u001b[1;33m=\u001b[0m \u001b[0mlist\u001b[0m\u001b[1;33m(\u001b[0m\u001b[0mzip\u001b[0m\u001b[1;33m(\u001b[0m\u001b[1;33m*\u001b[0m\u001b[0msubresults\u001b[0m\u001b[1;33m)\u001b[0m\u001b[1;33m)\u001b[0m\u001b[1;33m[\u001b[0m\u001b[1;36m0\u001b[0m\u001b[1;33m]\u001b[0m\u001b[1;33m[\u001b[0m\u001b[1;33m-\u001b[0m\u001b[1;36m1\u001b[0m\u001b[1;33m]\u001b[0m\u001b[1;33m\u001b[0m\u001b[1;33m\u001b[0m\u001b[0m\n\u001b[0;32m      6\u001b[0m     \u001b[0mtrain_accuracy\u001b[0m \u001b[1;33m=\u001b[0m \u001b[0mlist\u001b[0m\u001b[1;33m(\u001b[0m\u001b[0mzip\u001b[0m\u001b[1;33m(\u001b[0m\u001b[1;33m*\u001b[0m\u001b[0msubresults\u001b[0m\u001b[1;33m)\u001b[0m\u001b[1;33m)\u001b[0m\u001b[1;33m[\u001b[0m\u001b[1;36m1\u001b[0m\u001b[1;33m]\u001b[0m\u001b[1;33m[\u001b[0m\u001b[1;33m-\u001b[0m\u001b[1;36m1\u001b[0m\u001b[1;33m]\u001b[0m\u001b[1;33m\u001b[0m\u001b[1;33m\u001b[0m\u001b[0m\n",
      "\u001b[1;32m<ipython-input-10-ab2ebe85f3ce>\u001b[0m in \u001b[0;36mrun_experiment\u001b[1;34m(n_learners, n_iterations, lambd, last_only, compute_L_flag, p_in, p_out, verbose, g, n_training_data)\u001b[0m\n\u001b[0;32m     26\u001b[0m \u001b[1;33m\u001b[0m\u001b[0m\n\u001b[0;32m     27\u001b[0m         \u001b[1;31m# Take the local step (except the first time)\u001b[0m\u001b[1;33m\u001b[0m\u001b[1;33m\u001b[0m\u001b[1;33m\u001b[0m\u001b[0m\n\u001b[1;32m---> 28\u001b[1;33m         \u001b[1;32mif\u001b[0m \u001b[0mi\u001b[0m\u001b[1;33m!=\u001b[0m \u001b[1;36m0\u001b[0m\u001b[1;33m:\u001b[0m \u001b[0mtrain_single_step\u001b[0m\u001b[1;33m(\u001b[0m\u001b[0mmodels\u001b[0m\u001b[1;33m[\u001b[0m\u001b[0mk\u001b[0m\u001b[1;33m]\u001b[0m\u001b[1;33m,\u001b[0m \u001b[0mdataiters\u001b[0m\u001b[1;33m[\u001b[0m\u001b[0mk\u001b[0m\u001b[1;33m]\u001b[0m\u001b[1;33m,\u001b[0m \u001b[0moptimizers\u001b[0m\u001b[1;33m[\u001b[0m\u001b[0mk\u001b[0m\u001b[1;33m]\u001b[0m\u001b[1;33m,\u001b[0m \u001b[0mneighbor_thetas\u001b[0m\u001b[1;33m,\u001b[0m \u001b[0mneighbor_weights\u001b[0m\u001b[1;33m,\u001b[0m \u001b[0mlambd\u001b[0m\u001b[1;33m,\u001b[0m\u001b[0mg\u001b[0m\u001b[1;33m=\u001b[0m\u001b[0mg\u001b[0m\u001b[1;33m)\u001b[0m\u001b[1;33m\u001b[0m\u001b[1;33m\u001b[0m\u001b[0m\n\u001b[0m\u001b[0;32m     29\u001b[0m \u001b[1;33m\u001b[0m\u001b[0m\n\u001b[0;32m     30\u001b[0m         \u001b[1;31m# At some timepoints, calculate losses and accuracies and add to results\u001b[0m\u001b[1;33m\u001b[0m\u001b[1;33m\u001b[0m\u001b[1;33m\u001b[0m\u001b[0m\n",
      "\u001b[1;32m<ipython-input-7-73fc8230c088>\u001b[0m in \u001b[0;36mtrain_single_step\u001b[1;34m(model, dataiter, optimizer, neighbor_thetas, neighbor_weights, lambd, g)\u001b[0m\n\u001b[0;32m     11\u001b[0m     \u001b[0mlocal_theta\u001b[0m \u001b[1;33m=\u001b[0m \u001b[0mtorch\u001b[0m\u001b[1;33m.\u001b[0m\u001b[0mnn\u001b[0m\u001b[1;33m.\u001b[0m\u001b[0mutils\u001b[0m\u001b[1;33m.\u001b[0m\u001b[0mparameters_to_vector\u001b[0m\u001b[1;33m(\u001b[0m\u001b[0mmodel\u001b[0m\u001b[1;33m.\u001b[0m\u001b[0mparameters\u001b[0m\u001b[1;33m(\u001b[0m\u001b[1;33m)\u001b[0m\u001b[1;33m)\u001b[0m\u001b[1;33m\u001b[0m\u001b[1;33m\u001b[0m\u001b[0m\n\u001b[0;32m     12\u001b[0m     \u001b[1;32mfor\u001b[0m \u001b[0mi\u001b[0m \u001b[1;32min\u001b[0m \u001b[0mrange\u001b[0m\u001b[1;33m(\u001b[0m\u001b[0mlen\u001b[0m\u001b[1;33m(\u001b[0m\u001b[0mneighbor_thetas\u001b[0m\u001b[1;33m)\u001b[0m\u001b[1;33m)\u001b[0m\u001b[1;33m:\u001b[0m\u001b[1;33m\u001b[0m\u001b[1;33m\u001b[0m\u001b[0m\n\u001b[1;32m---> 13\u001b[1;33m         \u001b[0mloss\u001b[0m \u001b[1;33m+=\u001b[0m \u001b[0mlambd\u001b[0m \u001b[1;33m*\u001b[0m \u001b[0mneighbor_weights\u001b[0m\u001b[1;33m[\u001b[0m\u001b[0mi\u001b[0m\u001b[1;33m]\u001b[0m \u001b[1;33m*\u001b[0m \u001b[0mg\u001b[0m\u001b[1;33m(\u001b[0m\u001b[0mlocal_theta\u001b[0m\u001b[1;33m,\u001b[0m \u001b[0mneighbor_thetas\u001b[0m\u001b[1;33m[\u001b[0m\u001b[0mi\u001b[0m\u001b[1;33m]\u001b[0m\u001b[1;33m)\u001b[0m\u001b[1;33m\u001b[0m\u001b[1;33m\u001b[0m\u001b[0m\n\u001b[0m\u001b[0;32m     14\u001b[0m     \u001b[0mloss\u001b[0m\u001b[1;33m.\u001b[0m\u001b[0mbackward\u001b[0m\u001b[1;33m(\u001b[0m\u001b[1;33m)\u001b[0m\u001b[1;33m\u001b[0m\u001b[1;33m\u001b[0m\u001b[0m\n\u001b[0;32m     15\u001b[0m     \u001b[0moptimizer\u001b[0m\u001b[1;33m.\u001b[0m\u001b[0mstep\u001b[0m\u001b[1;33m(\u001b[0m\u001b[1;33m)\u001b[0m\u001b[1;33m\u001b[0m\u001b[1;33m\u001b[0m\u001b[0m\n",
      "\u001b[1;32m<ipython-input-6-58ef1d9ff4c3>\u001b[0m in \u001b[0;36mL2_early\u001b[1;34m(local, neighbor)\u001b[0m\n\u001b[0;32m     59\u001b[0m \u001b[1;33m\u001b[0m\u001b[0m\n\u001b[0;32m     60\u001b[0m \u001b[1;32mdef\u001b[0m \u001b[0mL2_early\u001b[0m\u001b[1;33m(\u001b[0m\u001b[0mlocal\u001b[0m\u001b[1;33m,\u001b[0m\u001b[0mneighbor\u001b[0m\u001b[1;33m)\u001b[0m\u001b[1;33m:\u001b[0m\u001b[1;33m\u001b[0m\u001b[1;33m\u001b[0m\u001b[0m\n\u001b[1;32m---> 61\u001b[1;33m     \u001b[1;32mreturn\u001b[0m \u001b[0mtorch\u001b[0m\u001b[1;33m.\u001b[0m\u001b[0mnorm\u001b[0m\u001b[1;33m(\u001b[0m\u001b[0mpi_1\u001b[0m\u001b[1;33m(\u001b[0m\u001b[0mlocal\u001b[0m\u001b[1;33m)\u001b[0m\u001b[1;33m-\u001b[0m\u001b[0mpi_1\u001b[0m\u001b[1;33m(\u001b[0m\u001b[0mneighbor\u001b[0m\u001b[1;33m)\u001b[0m\u001b[1;33m)\u001b[0m\u001b[1;33m\u001b[0m\u001b[1;33m\u001b[0m\u001b[0m\n\u001b[0m\u001b[0;32m     62\u001b[0m \u001b[1;33m\u001b[0m\u001b[0m\n\u001b[0;32m     63\u001b[0m \u001b[1;32mdef\u001b[0m \u001b[0mL2_early_squared\u001b[0m\u001b[1;33m(\u001b[0m\u001b[0mlocal\u001b[0m\u001b[1;33m,\u001b[0m\u001b[0mneighbor\u001b[0m\u001b[1;33m)\u001b[0m\u001b[1;33m:\u001b[0m\u001b[1;33m\u001b[0m\u001b[1;33m\u001b[0m\u001b[0m\n",
      "\u001b[1;32m<ipython-input-6-58ef1d9ff4c3>\u001b[0m in \u001b[0;36mpi_1\u001b[1;34m(tensor)\u001b[0m\n\u001b[0;32m     52\u001b[0m \u001b[1;32mdef\u001b[0m \u001b[0mpi_1\u001b[0m\u001b[1;33m(\u001b[0m\u001b[0mtensor\u001b[0m\u001b[1;33m)\u001b[0m\u001b[1;33m:\u001b[0m\u001b[1;33m\u001b[0m\u001b[1;33m\u001b[0m\u001b[0m\n\u001b[0;32m     53\u001b[0m     \u001b[0mmask\u001b[0m \u001b[1;33m=\u001b[0m \u001b[0mtorch\u001b[0m\u001b[1;33m.\u001b[0m\u001b[0mcat\u001b[0m\u001b[1;33m(\u001b[0m\u001b[1;33m[\u001b[0m\u001b[0mtorch\u001b[0m\u001b[1;33m.\u001b[0m\u001b[0mones\u001b[0m\u001b[1;33m(\u001b[0m\u001b[1;36m18816\u001b[0m\u001b[1;33m,\u001b[0m\u001b[0mdevice\u001b[0m\u001b[1;33m=\u001b[0m\u001b[0mDEVICE\u001b[0m\u001b[1;33m)\u001b[0m\u001b[1;33m,\u001b[0m\u001b[0mtorch\u001b[0m\u001b[1;33m.\u001b[0m\u001b[0mzeros\u001b[0m\u001b[1;33m(\u001b[0m\u001b[1;36m1181066\u001b[0m\u001b[1;33m,\u001b[0m\u001b[0mdevice\u001b[0m\u001b[1;33m=\u001b[0m\u001b[0mDEVICE\u001b[0m\u001b[1;33m)\u001b[0m\u001b[1;33m]\u001b[0m\u001b[1;33m)\u001b[0m\u001b[1;33m\u001b[0m\u001b[1;33m\u001b[0m\u001b[0m\n\u001b[1;32m---> 54\u001b[1;33m     \u001b[1;32mreturn\u001b[0m \u001b[0mtensor\u001b[0m \u001b[1;33m*\u001b[0m \u001b[0mmask\u001b[0m\u001b[1;33m\u001b[0m\u001b[1;33m\u001b[0m\u001b[0m\n\u001b[0m\u001b[0;32m     55\u001b[0m \u001b[1;33m\u001b[0m\u001b[0m\n\u001b[0;32m     56\u001b[0m \u001b[1;32mdef\u001b[0m \u001b[0mpi_2\u001b[0m\u001b[1;33m(\u001b[0m\u001b[0mtensor\u001b[0m\u001b[1;33m)\u001b[0m\u001b[1;33m:\u001b[0m\u001b[1;33m\u001b[0m\u001b[1;33m\u001b[0m\u001b[0m\n",
      "\u001b[1;31mRuntimeError\u001b[0m: CUDA out of memory. Tried to allocate 20.00 MiB (GPU 0; 4.00 GiB total capacity; 1.37 GiB already allocated; 16.73 MiB free; 1.49 GiB reserved in total by PyTorch)"
     ]
    }
   ],
   "source": [
    "lambdas = np.logspace(-3,3,30) # From 0.001 to 100\n",
    "results = []\n",
    "for lambd in tqdm(lambdas):\n",
    "    subresults = run_experiment(n_learners=60, n_iterations=10000, lambd=lambd, last_only=True, g=L2_early, p_in=0.5, p_out=0.1)\n",
    "    train_loss = list(zip(*subresults))[0][-1]\n",
    "    train_accuracy = list(zip(*subresults))[1][-1]\n",
    "    test_loss = list(zip(*subresults))[2][-1]\n",
    "    test_accuracy = list(zip(*subresults))[3][-1]\n",
    "    results.append((train_loss,train_accuracy,test_loss,test_accuracy))"
   ]
  },
  {
   "cell_type": "code",
   "execution_count": 15,
   "metadata": {},
   "outputs": [],
   "source": [
    "train_losses = list(zip(*results))[0]\n",
    "train_accuracies = list(zip(*results))[1]\n",
    "test_losses = list(zip(*results))[2]\n",
    "test_accuracies = list(zip(*results))[3]"
   ]
  },
  {
   "cell_type": "code",
   "execution_count": 16,
   "metadata": {},
   "outputs": [
    {
     "name": "stdout",
     "output_type": "stream",
     "text": [
      "The first accuracy is 0.9504\n",
      "The best accuracy is 0.9504 , achieved by lambda= 0.001\n"
     ]
    },
    {
     "data": {
      "image/png": "[encoded data removed]",
      "text/plain": [
       "<Figure size 432x288 with 1 Axes>"
      ]
     },
     "metadata": {
      "image/png": {
       "height": 278,
       "width": 391
      },
      "needs_background": "light"
     },
     "output_type": "display_data"
    },
    {
     "data": {
      "image/png": "[encoded data removed]",
      "text/plain": [
       "<Figure size 432x288 with 1 Axes>"
      ]
     },
     "metadata": {
      "image/png": {
       "height": 278,
       "width": 391
      },
      "needs_background": "light"
     },
     "output_type": "display_data"
    }
   ],
   "source": [
    "# 2 learners learning with ADAM and L2 norm for 10000 steps. The data in use is 1000 images for both.\n",
    "\n",
    "plt.figure()\n",
    "plt.plot(lambdas,train_losses, label=\"Training set\")\n",
    "plt.plot(lambdas,test_losses, label=\"Test set\")\n",
    "plt.legend()\n",
    "plt.xscale('log')\n",
    "plt.title(\"Loss of a single learner\")\n",
    "plt.ylabel(\"Loss\")\n",
    "plt.xlabel(r\"$\\lambda$\")\n",
    "plt.figure()\n",
    "plt.plot(lambdas,train_accuracies, label=\"Training set\")\n",
    "plt.plot(lambdas,test_accuracies, label=\"Test set\")\n",
    "plt.legend()\n",
    "plt.xscale('log')\n",
    "plt.title(\"Accuracy of a single learner\")\n",
    "plt.ylabel(\"Accuracy\")\n",
    "plt.xlabel(r\"$\\lambda$\");\n",
    "print(\"The first accuracy is\",test_accuracies[0])\n",
    "print(\"The best accuracy is\",np.max(test_accuracies),\", achieved by lambda=\",lambdas[np.argmax(test_accuracies)])"
   ]
  },
  {
   "cell_type": "code",
   "execution_count": null,
   "metadata": {},
   "outputs": [],
   "source": []
  }
 ],
 "metadata": {
  "kernelspec": {
   "display_name": "Python 3",
   "language": "python",
   "name": "python3"
  },
  "language_info": {
   "codemirror_mode": {
    "name": "ipython",
    "version": 3
   },
   "file_extension": ".py",
   "mimetype": "text/x-python",
   "name": "python",
   "nbconvert_exporter": "python",
   "pygments_lexer": "ipython3",
   "version": "3.8.5"
  }
 },
 "nbformat": 4,
 "nbformat_minor": 4
}
